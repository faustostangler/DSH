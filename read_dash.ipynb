{
 "cells": [
  {
   "cell_type": "code",
   "execution_count": 2,
   "metadata": {},
   "outputs": [],
   "source": [
    "import assets.helper as b3\n",
    "import assets.functions as run\n"
   ]
  },
  {
   "cell_type": "code",
   "execution_count": 3,
   "metadata": {},
   "outputs": [],
   "source": [
    "import pandas as pd\n",
    "import numpy as np\n",
    "import os\n",
    "\n",
    "import assets.graphs as g\n",
    "import random\n",
    "import requests\n",
    "\n",
    "import matplotlib.pyplot as plt\n",
    "import seaborn as sns\n",
    "from plotly.subplots import make_subplots\n",
    "import plotly.graph_objs as go\n",
    "import plotly.express as px\n"
   ]
  },
  {
   "cell_type": "markdown",
   "metadata": {},
   "source": [
    "### QUOTES PRICES"
   ]
  },
  {
   "cell_type": "code",
   "execution_count": null,
   "metadata": {},
   "outputs": [],
   "source": [
    "fund = run.sys_load_pkl(f'{b3.app_folder}/fund')\n",
    "quotes = run.sys_load_pkl(f'{b3.app_folder}/quotes')\n"
   ]
  },
  {
   "cell_type": "code",
   "execution_count": null,
   "metadata": {},
   "outputs": [],
   "source": [
    "fund.keys(), fund['BENS INDUSTRIAIS'].columns"
   ]
  },
  {
   "cell_type": "code",
   "execution_count": null,
   "metadata": {},
   "outputs": [],
   "source": [
    "quotes.keys(), quotes['AERIS'].keys()"
   ]
  },
  {
   "cell_type": "code",
   "execution_count": null,
   "metadata": {},
   "outputs": [],
   "source": []
  },
  {
   "cell_type": "code",
   "execution_count": null,
   "metadata": {},
   "outputs": [],
   "source": []
  },
  {
   "cell_type": "code",
   "execution_count": null,
   "metadata": {},
   "outputs": [],
   "source": [
    "df_preplot = {}\n",
    "start_time = run.time.time()\n",
    "\n",
    "for i, (setor, df_fund) in enumerate(fund.items()):\n",
    "    df_fund = preprocess_data(df_fund)\n",
    "    df_cd_conta = pivot_data(df_fund)\n",
    "\n",
    "    df_unique = df_fund.drop_duplicates(subset=['DT_REFER', 'PREGAO']).drop(['CD_CONTA', 'DS_CONTA', 'VL_CONTA'], axis=1)\n",
    "    df_premerged = pd.merge(df_unique, df_cd_conta, on=['DT_REFER', 'PREGAO'])\n",
    "    df_resampled = resample_data(df_premerged)\n",
    "    \n",
    "    df_merged = merge_with_bigdata(df_resampled, bigdata)\n",
    "    df_merged = df_merged.set_index('Date', drop=True)\n",
    "    df_merged = df_merged.groupby('PREGAO', group_keys=False).apply(add_metrics)\n",
    "\n",
    "    # Clean up the dataframe using the cleanup_dataframe function\n",
    "    df_merged = cleanup_dataframe(df_merged)\n",
    "\n",
    "    df_merged = add_metrics(df_merged)\n",
    "\n",
    "    df_preplot[setor] = df_merged\n",
    "\n",
    "    print(setor, run.sys_remaining_time(start_time, len(fund), i))\n"
   ]
  },
  {
   "cell_type": "code",
   "execution_count": null,
   "metadata": {},
   "outputs": [],
   "source": [
    "# Define the path to the folder\n",
    "company_folder = 'company'\n",
    "folder_path = os.path.join(b3.app_folder, company_folder)\n",
    "\n",
    "# Check if the folder does not exist\n",
    "if not os.path.exists(folder_path):\n",
    "    # Create the folder\n",
    "    os.makedirs(folder_path)\n"
   ]
  },
  {
   "cell_type": "code",
   "execution_count": null,
   "metadata": {},
   "outputs": [],
   "source": [
    "start_time = run.time.time()\n",
    "for i, (setor, df) in enumerate(df_preplot.items()):\n",
    "    companies = df['PREGAO'].unique()\n",
    "    for i2, company in enumerate(companies):\n",
    "        mask = df['PREGAO'] == company\n",
    "        df_temp = df[mask]\n",
    "        try:\n",
    "            df_temp = run.sys_save_pkl(df_temp, f'{b3.app_folder}/{company_folder}/{company}')\n",
    "        except Exception as e:\n",
    "            pass\n",
    "    print(setor, run.sys_remaining_time(start_time, len(df_preplot), i))\n"
   ]
  },
  {
   "cell_type": "code",
   "execution_count": null,
   "metadata": {},
   "outputs": [],
   "source": [
    "mask = df_preplot['BENS INDUSTRIAIS']['TICKER'] == 'AERI3'\n",
    "df_preplot['BENS INDUSTRIAIS'][mask]"
   ]
  },
  {
   "cell_type": "code",
   "execution_count": null,
   "metadata": {},
   "outputs": [],
   "source": []
  },
  {
   "cell_type": "markdown",
   "metadata": {},
   "source": [
    "### DASH"
   ]
  },
  {
   "cell_type": "code",
   "execution_count": null,
   "metadata": {},
   "outputs": [],
   "source": [
    "company = 'AZEVEDO'\n",
    "df = run.sys_load_pkl(f'{b3.app_folder}/{b3.company_folder}/{company}')\n",
    "tickers = df['TICKER'].unique()\n",
    "# df.columns.to_list()"
   ]
  },
  {
   "cell_type": "code",
   "execution_count": null,
   "metadata": {},
   "outputs": [],
   "source": [
    "df['03.11 - Lucro Líquido']\n",
    "df['14.04.01 - ROE (Resultado por Patrimônio)']\n",
    "df['03.01 - Receita Bruta']\n",
    "df['06.01 - Caixa das Operações']\n",
    "\n",
    "\n",
    "\n"
   ]
  },
  {
   "cell_type": "code",
   "execution_count": null,
   "metadata": {},
   "outputs": [],
   "source": [
    "graphs = g.construct_graphs(df)\n",
    "graphs.keys()"
   ]
  },
  {
   "cell_type": "code",
   "execution_count": null,
   "metadata": {},
   "outputs": [],
   "source": [
    "import assets.lines\n",
    "lines = assets.lines.report\n",
    "groups = set(entry['title'][:2] for entry in lines)\n",
    "groups"
   ]
  },
  {
   "cell_type": "code",
   "execution_count": null,
   "metadata": {},
   "outputs": [],
   "source": [
    "for g, (group_key, group) in enumerate(graphs.items()):\n",
    "    status = True if g == 0 else False\n",
    "    plots = []\n",
    "    for l, (line_key, line) in enumerate(group.items()):\n",
    "        for p, (plot_key, plot_info) in enumerate(line.items()):\n",
    "            for ticker in df['TICKER'].unique():\n",
    "                df_ticker = df[df['TICKER'] == ticker]\n",
    "                if not df.empty:\n",
    "                    print(group[0][0]['info']['title'])\n",
    "                    print(line[0]['info']['title'])\n",
    "                    print(plot_info['info']['title'])\n",
    "                    run.plot_tweak(plot_info, df_ticker).show();"
   ]
  },
  {
   "cell_type": "code",
   "execution_count": null,
   "metadata": {},
   "outputs": [],
   "source": [
    "for ticker in tickers:\n",
    "    df = df[df['TICKER'] == ticker]\n",
    "    print(ticker, len(df))\n",
    "\n",
    "    if not df.empty:\n",
    "        for g, (group_key, group) in enumerate(merged_entries.items()):\n",
    "            status = True if g == 0 else False\n",
    "            plots = []\n",
    "            for l, (line_key, line) in enumerate(group.items()):\n",
    "                for p, (plot_key, plot_info) in enumerate(line.items()):\n",
    "                    print(ticker)\n",
    "                    run.plot_tweak(plot_info, df).show();"
   ]
  },
  {
   "cell_type": "code",
   "execution_count": null,
   "metadata": {},
   "outputs": [],
   "source": []
  },
  {
   "cell_type": "code",
   "execution_count": null,
   "metadata": {},
   "outputs": [],
   "source": []
  },
  {
   "cell_type": "code",
   "execution_count": null,
   "metadata": {},
   "outputs": [],
   "source": [
    "fund = run.load_database()\n"
   ]
  },
  {
   "cell_type": "code",
   "execution_count": null,
   "metadata": {},
   "outputs": [],
   "source": [
    "setores = []\n",
    "for setor, df in fund.items():\n",
    "    columns=['SETOR', 'SUBSETOR', 'SEGMENTO', 'PREGAO']\n",
    "    setores.append(df[columns].drop_duplicates())\n",
    "    print(setor)\n",
    "sss = pd.concat(setores)\n",
    "sss = sss.applymap(run.clean_text)\n",
    "\n",
    "sss = run.sys_save_pkl(sss, f'{b3.app_folder}/sss')"
   ]
  },
  {
   "cell_type": "code",
   "execution_count": null,
   "metadata": {},
   "outputs": [],
   "source": [
    "sss"
   ]
  },
  {
   "cell_type": "code",
   "execution_count": null,
   "metadata": {},
   "outputs": [],
   "source": [
    "mask = sss['SUBSETOR'] == 'MATERIAL DE TRANSPORTE'\n",
    "sss[mask]"
   ]
  },
  {
   "cell_type": "markdown",
   "metadata": {},
   "source": [
    "#### Playground\n"
   ]
  },
  {
   "cell_type": "code",
   "execution_count": null,
   "metadata": {},
   "outputs": [],
   "source": [
    "company_list = run.sys_load_pkl('company_list')\n",
    "company_list"
   ]
  },
  {
   "cell_type": "code",
   "execution_count": null,
   "metadata": {},
   "outputs": [],
   "source": [
    "listagem_siglas = ['NM', 'N1', 'N2', 'MA', 'M2', 'MB', 'DR1', 'DR2', 'DR3', 'DRE', 'DRN']\n",
    "listagem_extenso = ['Novo Mercado', 'Nível 1 de Governança Corporativa', 'Nível 2 de Governança Corporativa', 'Bovespa Mais', 'Bovespa Mais Nível 2', 'Organização Tradicional OTC', 'BDR Nível 1', 'BDR Nível 2', 'BDR Nível 3', 'BDR ETF', 'BDR Não Patrocinado']\n",
    "list_dict = dict(zip(listagem_siglas, listagem_extenso))\n",
    "list_dict"
   ]
  },
  {
   "cell_type": "code",
   "execution_count": null,
   "metadata": {},
   "outputs": [],
   "source": []
  },
  {
   "cell_type": "markdown",
   "metadata": {},
   "source": [
    "#### Merge and update\n"
   ]
  },
  {
   "cell_type": "code",
   "execution_count": null,
   "metadata": {},
   "outputs": [],
   "source": [
    "driver, wait = run.sys_load_browser()\n",
    "url = 'https://sistemaswebb3-listados.b3.com.br/listedCompaniesPage/search?language=pt-br' \n",
    "\n"
   ]
  },
  {
   "cell_type": "code",
   "execution_count": null,
   "metadata": {},
   "outputs": [],
   "source": [
    "b3_cols = b3.cols_b3_companies + b3.col_b3_companies_extra_columns\n",
    "companies__local = run.sys_read_or_create_dataframe('company', b3_cols).fillna('')\n",
    "b3_companies_tickers = run.sys_load_pkl('b3_companies_tickers')\n",
    "\n",
    "b3_companies_tickers = run.get_b3_tickers(driver, wait, url)\n",
    "for col in b3_cols:\n",
    "    if col not in b3_companies_tickers.columns:\n",
    "        b3_companies_tickers[col] = ''\n",
    "b3_companies_tickers = b3_companies_tickers[b3_cols]\n",
    "# b3_companies_tickers = sys_save_pkl(b3_companies_tickers, 'b3_companies_tickers')\n",
    "\n",
    "key_columns = ['ticker', 'company_name']\n",
    "len(b3_companies_tickers), len(companies__local)"
   ]
  },
  {
   "cell_type": "code",
   "execution_count": null,
   "metadata": {},
   "outputs": [],
   "source": [
    "merged = pd.merge(companies__local, b3_companies_tickers[:], how='outer', on=key_columns, indicator=True)\n",
    "\n",
    "update_strict = merged[merged['_merge'] == 'right_only'][key_columns] # only companies new in web\n",
    "update_broad = merged[merged['_merge'] != 'left_only'][key_columns] # all companies from web\n",
    "updated = update_strict\n",
    "\n",
    "len(update_broad), len(update_strict)"
   ]
  },
  {
   "cell_type": "code",
   "execution_count": null,
   "metadata": {},
   "outputs": [],
   "source": [
    "key_columns = ['company_name', 'ticker']\n",
    "b3_cols = b3.cols_b3_companies + b3.col_b3_companies_extra_columns\n",
    "b3_cols_float = ['Capital Social']\n",
    "b3_str_cols = [col for col in b3_cols if col not in  b3_cols_float]\n",
    "col_types = {col: 'float' if col in b3_cols_float else 'str' for col in b3_cols}\n"
   ]
  },
  {
   "cell_type": "code",
   "execution_count": null,
   "metadata": {},
   "outputs": [],
   "source": [
    "driver.get(b3.url)\n",
    "# time.sleep(1)\n",
    "\n",
    "size = len(updated)\n",
    "# Iterate through the new companies to extract detailed information\n",
    "new_companies = []\n",
    "start_time = run.time.time()\n",
    "for i, (index, row) in enumerate(updated.iterrows()):\n",
    "    driver.get(b3.url)\n",
    "    new_company = run.b3_get_company_info(row, driver, wait)\n",
    "    new_company = pd.DataFrame([new_company], columns=b3_cols).astype(col_types)\n",
    "    new_company['Capital Social'] = new_company['Capital Social'].replace(np.nan, 0.0)\n",
    "    new_company = new_company.replace('nan', '')\n",
    "    new_company['Capital Social'] = pd.to_numeric(new_company['Capital Social'], errors='coerce').astype('float')\n",
    "\n",
    "    try:\n",
    "        if not new_company.empty:\n",
    "            cnpj = new_company['cnpj'][0]\n",
    "            url = f'https://cnpj.biz/{cnpj}'\n",
    "            response = requests.get(url, headers={\"User-Agent\": random.choice(b3.USER_AGENTS)})\n",
    "            extra = run.b3_get_company_extra_cnpj_info(response)\n",
    "            extra = pd.DataFrame([extra], columns=b3_cols).fillna('')\n",
    "            extra = extra.astype(col_types)\n",
    "        else:\n",
    "            extra = pd.DataFrame([], columns=b3_cols)\n",
    "\n",
    "    except Exception as e:\n",
    "        pass\n",
    "    extra = extra.reset_index(drop=True)\n",
    "    new_company = pd.merge(new_company[b3.cols_b3_companies], extra[b3.col_b3_companies_extra_columns], left_on='cnpj', right_on='CNPJ', how='outer').fillna('').reset_index(drop=True)\n",
    "    new_companies.append(new_company)\n",
    "    \n",
    "    print(run.sys_remaining_time(start_time, size, i), row['ticker'], row['company_name'])\n",
    "\n",
    "    if (size-i-1) % (b3.bin_size/10) == 0:\n",
    "        temp = pd.concat(new_companies).reset_index(drop=True)\n",
    "        temp['Capital Social'] = pd.to_numeric(temp['Capital Social'], errors='coerce').astype('float')\n",
    "        temp['Capital Social'] = temp['Capital Social'].replace(np.nan, 0.0)\n",
    "        temp = pd.merge(companies__local, temp, on=b3_cols, how='outer', indicator=False).fillna('').drop_duplicates(subset=key_columns, keep='last').reset_index(drop=True)\n",
    "        temp = sys_save_and_pickle(temp, 'company')\n"
   ]
  },
  {
   "cell_type": "code",
   "execution_count": null,
   "metadata": {},
   "outputs": [],
   "source": [
    "temp"
   ]
  },
  {
   "cell_type": "code",
   "execution_count": null,
   "metadata": {},
   "outputs": [],
   "source": []
  },
  {
   "cell_type": "code",
   "execution_count": null,
   "metadata": {},
   "outputs": [],
   "source": []
  },
  {
   "cell_type": "code",
   "execution_count": null,
   "metadata": {},
   "outputs": [],
   "source": []
  },
  {
   "cell_type": "code",
   "execution_count": null,
   "metadata": {},
   "outputs": [],
   "source": []
  },
  {
   "cell_type": "code",
   "execution_count": null,
   "metadata": {},
   "outputs": [],
   "source": [
    "for col in b3_cols:\n",
    "    d1 = new_company[col].dtype\n",
    "    d2 = extra[col].dtype\n",
    "    print(col, d1, d2)\n",
    "    if d1 != d2:\n",
    "        print(col, d1, d2)\n",
    "    "
   ]
  },
  {
   "cell_type": "code",
   "execution_count": null,
   "metadata": {},
   "outputs": [],
   "source": [
    "b3_cols"
   ]
  },
  {
   "cell_type": "code",
   "execution_count": null,
   "metadata": {},
   "outputs": [],
   "source": []
  },
  {
   "cell_type": "markdown",
   "metadata": {},
   "source": [
    "##### CVM GET CODE"
   ]
  },
  {
   "cell_type": "code",
   "execution_count": null,
   "metadata": {},
   "outputs": [],
   "source": [
    "for i in range(0,1000+1):\n",
    "    url = f'https://sistemaswebb3-listados.b3.com.br/listedCompaniesPage/main/{i}/ABCD/overview?language=pt-br'\n",
    "    print(url)"
   ]
  },
  {
   "cell_type": "markdown",
   "metadata": {},
   "source": [
    "##### Final Company Get"
   ]
  },
  {
   "cell_type": "code",
   "execution_count": null,
   "metadata": {},
   "outputs": [],
   "source": [
    "companies__local = run.sys_read_or_create_dataframe('company', b3_cols)\n"
   ]
  },
  {
   "cell_type": "code",
   "execution_count": null,
   "metadata": {},
   "outputs": [],
   "source": [
    "companies__local.columns"
   ]
  },
  {
   "cell_type": "code",
   "execution_count": null,
   "metadata": {},
   "outputs": [],
   "source": [
    "mask = companies__local['Estado'] == ''\n",
    "# mask &= companies__local['cnpj'] != ''\n",
    "companies__local = companies__local[~mask]"
   ]
  },
  {
   "cell_type": "code",
   "execution_count": null,
   "metadata": {},
   "outputs": [],
   "source": [
    "companies__local = run.sys_save_and_pickle(companies__local, 'companies__local')"
   ]
  },
  {
   "cell_type": "markdown",
   "metadata": {},
   "source": [
    "### Playground"
   ]
  },
  {
   "cell_type": "code",
   "execution_count": 219,
   "metadata": {},
   "outputs": [
    {
     "data": {
      "text/plain": [
       "['CNPJ_CIA', 'AGRUPAMENTO', 'CD_CONTA', 'DS_CONTA', 'COLUNA_DF']"
      ]
     },
     "execution_count": 219,
     "metadata": {},
     "output_type": "execute_result"
    }
   ],
   "source": [
    "year = 2019\n",
    "df = run.sys_load_pkl(f'{b3.app_folder}/temp_' + f'cvm_web_clean_{year}')\n",
    "b3.unique_sheet_cols\n"
   ]
  },
  {
   "cell_type": "code",
   "execution_count": 218,
   "metadata": {},
   "outputs": [],
   "source": [
    "df = df.drop_duplicates(subset=['CNPJ_CIA', 'AGRUPAMENTO', 'CD_CONTA', 'DT_REFER', 'COLUNA_DF'], keep='first')\n"
   ]
  },
  {
   "cell_type": "code",
   "execution_count": 14,
   "metadata": {},
   "outputs": [],
   "source": [
    "df.to_csv('temp_cvm_web_clean_2019.csv', index=False)"
   ]
  },
  {
   "cell_type": "code",
   "execution_count": 220,
   "metadata": {},
   "outputs": [],
   "source": [
    "datetime_columns = ['DT_REFER', 'DT_FIM_EXERC', 'DT_INI_EXERC', ]\n",
    "for col in datetime_columns:\n",
    "    try:\n",
    "        df[col] = pd.to_datetime(df[col])\n",
    "    except Exception as e:\n",
    "        pass\n"
   ]
  },
  {
   "cell_type": "code",
   "execution_count": 223,
   "metadata": {},
   "outputs": [],
   "source": [
    "# mask = df['DT_REFER'].dt.quarter.isin([2, 3])\n",
    "mask = df['CNPJ_CIA'] == '00.001.180/0001-26'\n",
    "mask &= df['AGRUPAMENTO'] == 'con'\n",
    "mask &= df['CD_CONTA'] == '3.01'\n",
    "# mask &= df['CD_CONTA'] == '5.01'\n",
    "# mask &= df['DT_REFER'].dt.quarter == 3\n",
    "mask &= df['COLUNA_DF'].isna()\n",
    "# mask &= df['COLUNA_DF'] == 'Capital Social Integralizado'\n",
    "# mask &= df['DT_INI_EXERC'] != '2019-01-01'\n",
    "# mask &= df['DT_INI_EXERC'] != '2019-04-01'\n",
    "# mask &= df['DT_INI_EXERC'] != '2019-07-01'"
   ]
  },
  {
   "cell_type": "code",
   "execution_count": 224,
   "metadata": {},
   "outputs": [
    {
     "data": {
      "text/html": [
       "<div>\n",
       "<style scoped>\n",
       "    .dataframe tbody tr th:only-of-type {\n",
       "        vertical-align: middle;\n",
       "    }\n",
       "\n",
       "    .dataframe tbody tr th {\n",
       "        vertical-align: top;\n",
       "    }\n",
       "\n",
       "    .dataframe thead th {\n",
       "        text-align: right;\n",
       "    }\n",
       "</style>\n",
       "<table border=\"1\" class=\"dataframe\">\n",
       "  <thead>\n",
       "    <tr style=\"text-align: right;\">\n",
       "      <th></th>\n",
       "      <th>FILENAME</th>\n",
       "      <th>DEMONSTRATIVO</th>\n",
       "      <th>BALANCE_SHEET</th>\n",
       "      <th>ANO</th>\n",
       "      <th>AGRUPAMENTO</th>\n",
       "      <th>CNPJ_CIA</th>\n",
       "      <th>DT_REFER</th>\n",
       "      <th>VERSAO</th>\n",
       "      <th>DENOM_CIA</th>\n",
       "      <th>CD_CVM</th>\n",
       "      <th>GRUPO_DFP</th>\n",
       "      <th>MOEDA</th>\n",
       "      <th>ESCALA_MOEDA</th>\n",
       "      <th>DT_FIM_EXERC</th>\n",
       "      <th>CD_CONTA</th>\n",
       "      <th>DS_CONTA</th>\n",
       "      <th>VL_CONTA</th>\n",
       "      <th>ST_CONTA_FIXA</th>\n",
       "      <th>DT_INI_EXERC</th>\n",
       "      <th>COLUNA_DF</th>\n",
       "    </tr>\n",
       "  </thead>\n",
       "  <tbody>\n",
       "    <tr>\n",
       "      <th>2288647</th>\n",
       "      <td>itr_cia_aberta_DRE_con_2019.csv</td>\n",
       "      <td>itr</td>\n",
       "      <td>DRE</td>\n",
       "      <td>2019</td>\n",
       "      <td>con</td>\n",
       "      <td>00.001.180/0001-26</td>\n",
       "      <td>2019-03-31</td>\n",
       "      <td>1</td>\n",
       "      <td>CENTRAIS ELET BRAS SA ELETROBRAS</td>\n",
       "      <td>2437</td>\n",
       "      <td>DF Consolidado - Demonstração do Resultado</td>\n",
       "      <td>REAL</td>\n",
       "      <td>UNIDADE</td>\n",
       "      <td>2019-03-31</td>\n",
       "      <td>3.01</td>\n",
       "      <td>Receita de Venda de Bens e/ou Serviços</td>\n",
       "      <td>6.451762e+09</td>\n",
       "      <td>S</td>\n",
       "      <td>2019-01-01</td>\n",
       "      <td>NaN</td>\n",
       "    </tr>\n",
       "    <tr>\n",
       "      <th>2288742</th>\n",
       "      <td>itr_cia_aberta_DRE_con_2019.csv</td>\n",
       "      <td>itr</td>\n",
       "      <td>DRE</td>\n",
       "      <td>2019</td>\n",
       "      <td>con</td>\n",
       "      <td>00.001.180/0001-26</td>\n",
       "      <td>2019-06-30</td>\n",
       "      <td>1</td>\n",
       "      <td>CENTRAIS ELET BRAS SA ELETROBRAS</td>\n",
       "      <td>2437</td>\n",
       "      <td>DF Consolidado - Demonstração do Resultado</td>\n",
       "      <td>REAL</td>\n",
       "      <td>UNIDADE</td>\n",
       "      <td>2019-06-30</td>\n",
       "      <td>3.01</td>\n",
       "      <td>Receita de Venda de Bens e/ou Serviços</td>\n",
       "      <td>1.309517e+10</td>\n",
       "      <td>S</td>\n",
       "      <td>2019-01-01</td>\n",
       "      <td>NaN</td>\n",
       "    </tr>\n",
       "    <tr>\n",
       "      <th>2288946</th>\n",
       "      <td>itr_cia_aberta_DRE_con_2019.csv</td>\n",
       "      <td>itr</td>\n",
       "      <td>DRE</td>\n",
       "      <td>2019</td>\n",
       "      <td>con</td>\n",
       "      <td>00.001.180/0001-26</td>\n",
       "      <td>2019-09-30</td>\n",
       "      <td>2</td>\n",
       "      <td>CENTRAIS ELET BRAS SA ELETROBRAS</td>\n",
       "      <td>2437</td>\n",
       "      <td>DF Consolidado - Demonstração do Resultado</td>\n",
       "      <td>REAL</td>\n",
       "      <td>UNIDADE</td>\n",
       "      <td>2019-09-30</td>\n",
       "      <td>3.01</td>\n",
       "      <td>Receita de Venda de Bens e/ou Serviços</td>\n",
       "      <td>2.038650e+10</td>\n",
       "      <td>S</td>\n",
       "      <td>2019-01-01</td>\n",
       "      <td>NaN</td>\n",
       "    </tr>\n",
       "    <tr>\n",
       "      <th>3712609</th>\n",
       "      <td>dfp_cia_aberta_DRE_con_2019.csv</td>\n",
       "      <td>dfp</td>\n",
       "      <td>DRE</td>\n",
       "      <td>2019</td>\n",
       "      <td>con</td>\n",
       "      <td>00.001.180/0001-26</td>\n",
       "      <td>2019-12-31</td>\n",
       "      <td>1</td>\n",
       "      <td>CENTRAIS ELET BRAS SA ELETROBRAS</td>\n",
       "      <td>2437</td>\n",
       "      <td>DF Consolidado - Demonstração do Resultado</td>\n",
       "      <td>REAL</td>\n",
       "      <td>UNIDADE</td>\n",
       "      <td>2019-12-31</td>\n",
       "      <td>3.01</td>\n",
       "      <td>Receita de Venda de Bens e/ou Serviços</td>\n",
       "      <td>2.772553e+10</td>\n",
       "      <td>S</td>\n",
       "      <td>2019-01-01</td>\n",
       "      <td>NaN</td>\n",
       "    </tr>\n",
       "  </tbody>\n",
       "</table>\n",
       "</div>"
      ],
      "text/plain": [
       "                                FILENAME DEMONSTRATIVO BALANCE_SHEET   ANO  \\\n",
       "2288647  itr_cia_aberta_DRE_con_2019.csv           itr           DRE  2019   \n",
       "2288742  itr_cia_aberta_DRE_con_2019.csv           itr           DRE  2019   \n",
       "2288946  itr_cia_aberta_DRE_con_2019.csv           itr           DRE  2019   \n",
       "3712609  dfp_cia_aberta_DRE_con_2019.csv           dfp           DRE  2019   \n",
       "\n",
       "        AGRUPAMENTO            CNPJ_CIA   DT_REFER VERSAO  \\\n",
       "2288647         con  00.001.180/0001-26 2019-03-31      1   \n",
       "2288742         con  00.001.180/0001-26 2019-06-30      1   \n",
       "2288946         con  00.001.180/0001-26 2019-09-30      2   \n",
       "3712609         con  00.001.180/0001-26 2019-12-31      1   \n",
       "\n",
       "                                DENOM_CIA CD_CVM  \\\n",
       "2288647  CENTRAIS ELET BRAS SA ELETROBRAS   2437   \n",
       "2288742  CENTRAIS ELET BRAS SA ELETROBRAS   2437   \n",
       "2288946  CENTRAIS ELET BRAS SA ELETROBRAS   2437   \n",
       "3712609  CENTRAIS ELET BRAS SA ELETROBRAS   2437   \n",
       "\n",
       "                                          GRUPO_DFP MOEDA ESCALA_MOEDA  \\\n",
       "2288647  DF Consolidado - Demonstração do Resultado  REAL      UNIDADE   \n",
       "2288742  DF Consolidado - Demonstração do Resultado  REAL      UNIDADE   \n",
       "2288946  DF Consolidado - Demonstração do Resultado  REAL      UNIDADE   \n",
       "3712609  DF Consolidado - Demonstração do Resultado  REAL      UNIDADE   \n",
       "\n",
       "        DT_FIM_EXERC CD_CONTA                                DS_CONTA  \\\n",
       "2288647   2019-03-31     3.01  Receita de Venda de Bens e/ou Serviços   \n",
       "2288742   2019-06-30     3.01  Receita de Venda de Bens e/ou Serviços   \n",
       "2288946   2019-09-30     3.01  Receita de Venda de Bens e/ou Serviços   \n",
       "3712609   2019-12-31     3.01  Receita de Venda de Bens e/ou Serviços   \n",
       "\n",
       "             VL_CONTA ST_CONTA_FIXA DT_INI_EXERC COLUNA_DF  \n",
       "2288647  6.451762e+09             S   2019-01-01       NaN  \n",
       "2288742  1.309517e+10             S   2019-01-01       NaN  \n",
       "2288946  2.038650e+10             S   2019-01-01       NaN  \n",
       "3712609  2.772553e+10             S   2019-01-01       NaN  "
      ]
     },
     "execution_count": 224,
     "metadata": {},
     "output_type": "execute_result"
    }
   ],
   "source": [
    "df[mask]"
   ]
  },
  {
   "cell_type": "code",
   "execution_count": 156,
   "metadata": {},
   "outputs": [],
   "source": [
    "mask = df['CD_CONTA'].str[0].isin(b3.last_quarters)\n",
    "mask &= (df['DT_REFER'].dt.quarter == 2) | (df['DT_REFER'].dt.quarter == 3)\n"
   ]
  },
  {
   "cell_type": "code",
   "execution_count": 205,
   "metadata": {},
   "outputs": [],
   "source": [
    "df2 = df.drop_duplicates(subset=['CNPJ_CIA', 'AGRUPAMENTO', 'CD_CONTA', 'DT_REFER', 'COLUNA_DF'], keep='first')\n"
   ]
  },
  {
   "cell_type": "code",
   "execution_count": 213,
   "metadata": {},
   "outputs": [],
   "source": [
    "mask = df2['CNPJ_CIA'] == '00.001.180/0001-26'\n",
    "mask &= df2['AGRUPAMENTO'] == 'con'\n",
    "mask &= df2['CD_CONTA'] == '6.01'\n",
    "# mask &= df2['CD_CONTA'] == '5.01'\n",
    "# mask &= df2['DT_REFER'].dt.quarter == 3\n",
    "mask &= df2['COLUNA_DF'].isna()\n",
    "# mask &= df2['COLUNA_DF'] == 'Reservas de Lucro'\n"
   ]
  },
  {
   "cell_type": "code",
   "execution_count": 214,
   "metadata": {},
   "outputs": [
    {
     "data": {
      "text/html": [
       "<div>\n",
       "<style scoped>\n",
       "    .dataframe tbody tr th:only-of-type {\n",
       "        vertical-align: middle;\n",
       "    }\n",
       "\n",
       "    .dataframe tbody tr th {\n",
       "        vertical-align: top;\n",
       "    }\n",
       "\n",
       "    .dataframe thead th {\n",
       "        text-align: right;\n",
       "    }\n",
       "</style>\n",
       "<table border=\"1\" class=\"dataframe\">\n",
       "  <thead>\n",
       "    <tr style=\"text-align: right;\">\n",
       "      <th></th>\n",
       "      <th>FILENAME</th>\n",
       "      <th>DEMONSTRATIVO</th>\n",
       "      <th>BALANCE_SHEET</th>\n",
       "      <th>ANO</th>\n",
       "      <th>AGRUPAMENTO</th>\n",
       "      <th>CNPJ_CIA</th>\n",
       "      <th>DT_REFER</th>\n",
       "      <th>VERSAO</th>\n",
       "      <th>DENOM_CIA</th>\n",
       "      <th>CD_CVM</th>\n",
       "      <th>GRUPO_DFP</th>\n",
       "      <th>MOEDA</th>\n",
       "      <th>ESCALA_MOEDA</th>\n",
       "      <th>DT_FIM_EXERC</th>\n",
       "      <th>CD_CONTA</th>\n",
       "      <th>DS_CONTA</th>\n",
       "      <th>VL_CONTA</th>\n",
       "      <th>ST_CONTA_FIXA</th>\n",
       "      <th>DT_INI_EXERC</th>\n",
       "      <th>COLUNA_DF</th>\n",
       "    </tr>\n",
       "  </thead>\n",
       "  <tbody>\n",
       "    <tr>\n",
       "      <th>968182</th>\n",
       "      <td>itr_cia_aberta_DFC_MI_con_2019.csv</td>\n",
       "      <td>itr</td>\n",
       "      <td>DFC_MI</td>\n",
       "      <td>2019</td>\n",
       "      <td>con</td>\n",
       "      <td>00.001.180/0001-26</td>\n",
       "      <td>2019-03-31</td>\n",
       "      <td>1</td>\n",
       "      <td>CENTRAIS ELET BRAS SA ELETROBRAS</td>\n",
       "      <td>2437</td>\n",
       "      <td>DF Consolidado - Demonstração do Fluxo de Caix...</td>\n",
       "      <td>REAL</td>\n",
       "      <td>UNIDADE</td>\n",
       "      <td>2019-03-31</td>\n",
       "      <td>6.01</td>\n",
       "      <td>Caixa Líquido Atividades Operacionais</td>\n",
       "      <td>-3.619800e+08</td>\n",
       "      <td>S</td>\n",
       "      <td>2019-01-01</td>\n",
       "      <td>NaN</td>\n",
       "    </tr>\n",
       "    <tr>\n",
       "      <th>968332</th>\n",
       "      <td>itr_cia_aberta_DFC_MI_con_2019.csv</td>\n",
       "      <td>itr</td>\n",
       "      <td>DFC_MI</td>\n",
       "      <td>2019</td>\n",
       "      <td>con</td>\n",
       "      <td>00.001.180/0001-26</td>\n",
       "      <td>2019-06-30</td>\n",
       "      <td>1</td>\n",
       "      <td>CENTRAIS ELET BRAS SA ELETROBRAS</td>\n",
       "      <td>2437</td>\n",
       "      <td>DF Consolidado - Demonstração do Fluxo de Caix...</td>\n",
       "      <td>REAL</td>\n",
       "      <td>UNIDADE</td>\n",
       "      <td>2019-06-30</td>\n",
       "      <td>6.01</td>\n",
       "      <td>Caixa Líquido Atividades Operacionais</td>\n",
       "      <td>-1.176219e+09</td>\n",
       "      <td>S</td>\n",
       "      <td>2019-01-01</td>\n",
       "      <td>NaN</td>\n",
       "    </tr>\n",
       "    <tr>\n",
       "      <th>968474</th>\n",
       "      <td>itr_cia_aberta_DFC_MI_con_2019.csv</td>\n",
       "      <td>itr</td>\n",
       "      <td>DFC_MI</td>\n",
       "      <td>2019</td>\n",
       "      <td>con</td>\n",
       "      <td>00.001.180/0001-26</td>\n",
       "      <td>2019-09-30</td>\n",
       "      <td>2</td>\n",
       "      <td>CENTRAIS ELET BRAS SA ELETROBRAS</td>\n",
       "      <td>2437</td>\n",
       "      <td>DF Consolidado - Demonstração do Fluxo de Caix...</td>\n",
       "      <td>REAL</td>\n",
       "      <td>UNIDADE</td>\n",
       "      <td>2019-09-30</td>\n",
       "      <td>6.01</td>\n",
       "      <td>Caixa Líquido Atividades Operacionais</td>\n",
       "      <td>2.376147e+09</td>\n",
       "      <td>S</td>\n",
       "      <td>2019-01-01</td>\n",
       "      <td>NaN</td>\n",
       "    </tr>\n",
       "    <tr>\n",
       "      <th>3195200</th>\n",
       "      <td>dfp_cia_aberta_DFC_MI_con_2019.csv</td>\n",
       "      <td>dfp</td>\n",
       "      <td>DFC_MI</td>\n",
       "      <td>2019</td>\n",
       "      <td>con</td>\n",
       "      <td>00.001.180/0001-26</td>\n",
       "      <td>2019-12-31</td>\n",
       "      <td>1</td>\n",
       "      <td>CENTRAIS ELET BRAS SA ELETROBRAS</td>\n",
       "      <td>2437</td>\n",
       "      <td>DF Consolidado - Demonstração do Fluxo de Caix...</td>\n",
       "      <td>REAL</td>\n",
       "      <td>UNIDADE</td>\n",
       "      <td>2019-12-31</td>\n",
       "      <td>6.01</td>\n",
       "      <td>Caixa Líquido Atividades Operacionais</td>\n",
       "      <td>-8.632900e+07</td>\n",
       "      <td>S</td>\n",
       "      <td>2019-01-01</td>\n",
       "      <td>NaN</td>\n",
       "    </tr>\n",
       "  </tbody>\n",
       "</table>\n",
       "</div>"
      ],
      "text/plain": [
       "                                   FILENAME DEMONSTRATIVO BALANCE_SHEET   ANO  \\\n",
       "968182   itr_cia_aberta_DFC_MI_con_2019.csv           itr        DFC_MI  2019   \n",
       "968332   itr_cia_aberta_DFC_MI_con_2019.csv           itr        DFC_MI  2019   \n",
       "968474   itr_cia_aberta_DFC_MI_con_2019.csv           itr        DFC_MI  2019   \n",
       "3195200  dfp_cia_aberta_DFC_MI_con_2019.csv           dfp        DFC_MI  2019   \n",
       "\n",
       "        AGRUPAMENTO            CNPJ_CIA   DT_REFER VERSAO  \\\n",
       "968182          con  00.001.180/0001-26 2019-03-31      1   \n",
       "968332          con  00.001.180/0001-26 2019-06-30      1   \n",
       "968474          con  00.001.180/0001-26 2019-09-30      2   \n",
       "3195200         con  00.001.180/0001-26 2019-12-31      1   \n",
       "\n",
       "                                DENOM_CIA CD_CVM  \\\n",
       "968182   CENTRAIS ELET BRAS SA ELETROBRAS   2437   \n",
       "968332   CENTRAIS ELET BRAS SA ELETROBRAS   2437   \n",
       "968474   CENTRAIS ELET BRAS SA ELETROBRAS   2437   \n",
       "3195200  CENTRAIS ELET BRAS SA ELETROBRAS   2437   \n",
       "\n",
       "                                                 GRUPO_DFP MOEDA ESCALA_MOEDA  \\\n",
       "968182   DF Consolidado - Demonstração do Fluxo de Caix...  REAL      UNIDADE   \n",
       "968332   DF Consolidado - Demonstração do Fluxo de Caix...  REAL      UNIDADE   \n",
       "968474   DF Consolidado - Demonstração do Fluxo de Caix...  REAL      UNIDADE   \n",
       "3195200  DF Consolidado - Demonstração do Fluxo de Caix...  REAL      UNIDADE   \n",
       "\n",
       "        DT_FIM_EXERC CD_CONTA                               DS_CONTA  \\\n",
       "968182    2019-03-31     6.01  Caixa Líquido Atividades Operacionais   \n",
       "968332    2019-06-30     6.01  Caixa Líquido Atividades Operacionais   \n",
       "968474    2019-09-30     6.01  Caixa Líquido Atividades Operacionais   \n",
       "3195200   2019-12-31     6.01  Caixa Líquido Atividades Operacionais   \n",
       "\n",
       "             VL_CONTA ST_CONTA_FIXA DT_INI_EXERC COLUNA_DF  \n",
       "968182  -3.619800e+08             S   2019-01-01       NaN  \n",
       "968332  -1.176219e+09             S   2019-01-01       NaN  \n",
       "968474   2.376147e+09             S   2019-01-01       NaN  \n",
       "3195200 -8.632900e+07             S   2019-01-01       NaN  "
      ]
     },
     "execution_count": 214,
     "metadata": {},
     "output_type": "execute_result"
    }
   ],
   "source": [
    "df2[mask]"
   ]
  },
  {
   "cell_type": "code",
   "execution_count": null,
   "metadata": {},
   "outputs": [],
   "source": []
  },
  {
   "cell_type": "code",
   "execution_count": null,
   "metadata": {},
   "outputs": [],
   "source": [
    "filename = 'temp_cvm_updated'\n",
    "# filename = 'temp_cvm_web_clean'\n",
    "df_load = run.sys_load_pkl(f'{b3.app_folder}/{filename}')\n",
    "df = df_load\n",
    "# df = df.set_index('DT_REFER', drop=True)"
   ]
  },
  {
   "cell_type": "code",
   "execution_count": 10,
   "metadata": {},
   "outputs": [],
   "source": [
    "year = 2015\n",
    "df = df_load[year]\n",
    "df = df.set_index('DT_REFER', drop=True)"
   ]
  },
  {
   "cell_type": "code",
   "execution_count": 12,
   "metadata": {},
   "outputs": [
    {
     "data": {
      "text/html": [
       "<div>\n",
       "<style scoped>\n",
       "    .dataframe tbody tr th:only-of-type {\n",
       "        vertical-align: middle;\n",
       "    }\n",
       "\n",
       "    .dataframe tbody tr th {\n",
       "        vertical-align: top;\n",
       "    }\n",
       "\n",
       "    .dataframe thead th {\n",
       "        text-align: right;\n",
       "    }\n",
       "</style>\n",
       "<table border=\"1\" class=\"dataframe\">\n",
       "  <thead>\n",
       "    <tr style=\"text-align: right;\">\n",
       "      <th></th>\n",
       "      <th>FILENAME</th>\n",
       "      <th>DEMONSTRATIVO</th>\n",
       "      <th>BALANCE_SHEET</th>\n",
       "      <th>ANO</th>\n",
       "      <th>AGRUPAMENTO</th>\n",
       "      <th>CNPJ_CIA</th>\n",
       "      <th>VERSAO</th>\n",
       "      <th>DENOM_CIA</th>\n",
       "      <th>CD_CVM</th>\n",
       "      <th>GRUPO_DFP</th>\n",
       "      <th>MOEDA</th>\n",
       "      <th>ESCALA_MOEDA</th>\n",
       "      <th>DT_FIM_EXERC</th>\n",
       "      <th>CD_CONTA</th>\n",
       "      <th>DS_CONTA</th>\n",
       "      <th>VL_CONTA</th>\n",
       "      <th>ST_CONTA_FIXA</th>\n",
       "      <th>DT_INI_EXERC</th>\n",
       "      <th>COLUNA_DF</th>\n",
       "    </tr>\n",
       "    <tr>\n",
       "      <th>DT_REFER</th>\n",
       "      <th></th>\n",
       "      <th></th>\n",
       "      <th></th>\n",
       "      <th></th>\n",
       "      <th></th>\n",
       "      <th></th>\n",
       "      <th></th>\n",
       "      <th></th>\n",
       "      <th></th>\n",
       "      <th></th>\n",
       "      <th></th>\n",
       "      <th></th>\n",
       "      <th></th>\n",
       "      <th></th>\n",
       "      <th></th>\n",
       "      <th></th>\n",
       "      <th></th>\n",
       "      <th></th>\n",
       "      <th></th>\n",
       "    </tr>\n",
       "  </thead>\n",
       "  <tbody>\n",
       "    <tr>\n",
       "      <th>2015-03-31</th>\n",
       "      <td>itr_cia_aberta_DRE_con_2015.csv</td>\n",
       "      <td>itr</td>\n",
       "      <td>DRE</td>\n",
       "      <td>2015</td>\n",
       "      <td>con</td>\n",
       "      <td>00.001.180/0001-26</td>\n",
       "      <td>1</td>\n",
       "      <td>CENTRAIS ELET BRAS SA ELETROBRAS</td>\n",
       "      <td>2437</td>\n",
       "      <td>DF Consolidado - Demonstração do Resultado</td>\n",
       "      <td>REAL</td>\n",
       "      <td>UNIDADE</td>\n",
       "      <td>2015-03-31</td>\n",
       "      <td>3.01</td>\n",
       "      <td>Receita de Venda de Bens e/ou Serviços</td>\n",
       "      <td>8598882000.0</td>\n",
       "      <td>S</td>\n",
       "      <td>2015-01-01</td>\n",
       "      <td>NaN</td>\n",
       "    </tr>\n",
       "    <tr>\n",
       "      <th>2015-06-30</th>\n",
       "      <td>itr_cia_aberta_DRE_con_2015.csv</td>\n",
       "      <td>itr</td>\n",
       "      <td>DRE</td>\n",
       "      <td>2015</td>\n",
       "      <td>con</td>\n",
       "      <td>00.001.180/0001-26</td>\n",
       "      <td>1</td>\n",
       "      <td>CENTRAIS ELET BRAS SA ELETROBRAS</td>\n",
       "      <td>2437</td>\n",
       "      <td>DF Consolidado - Demonstração do Resultado</td>\n",
       "      <td>REAL</td>\n",
       "      <td>UNIDADE</td>\n",
       "      <td>2015-06-30</td>\n",
       "      <td>3.01</td>\n",
       "      <td>Receita de Venda de Bens e/ou Serviços</td>\n",
       "      <td>16825743000.0</td>\n",
       "      <td>S</td>\n",
       "      <td>2015-01-01</td>\n",
       "      <td>NaN</td>\n",
       "    </tr>\n",
       "    <tr>\n",
       "      <th>2015-09-30</th>\n",
       "      <td>itr_cia_aberta_DRE_con_2015.csv</td>\n",
       "      <td>itr</td>\n",
       "      <td>DRE</td>\n",
       "      <td>2015</td>\n",
       "      <td>con</td>\n",
       "      <td>00.001.180/0001-26</td>\n",
       "      <td>1</td>\n",
       "      <td>CENTRAIS ELET BRAS SA ELETROBRAS</td>\n",
       "      <td>2437</td>\n",
       "      <td>DF Consolidado - Demonstração do Resultado</td>\n",
       "      <td>REAL</td>\n",
       "      <td>UNIDADE</td>\n",
       "      <td>2015-09-30</td>\n",
       "      <td>3.01</td>\n",
       "      <td>Receita de Venda de Bens e/ou Serviços</td>\n",
       "      <td>24728132000.0</td>\n",
       "      <td>S</td>\n",
       "      <td>2015-01-01</td>\n",
       "      <td>NaN</td>\n",
       "    </tr>\n",
       "    <tr>\n",
       "      <th>2015-12-31</th>\n",
       "      <td>dfp_cia_aberta_DRE_con_2015.csv</td>\n",
       "      <td>dfp</td>\n",
       "      <td>DRE</td>\n",
       "      <td>2015</td>\n",
       "      <td>con</td>\n",
       "      <td>00.001.180/0001-26</td>\n",
       "      <td>2</td>\n",
       "      <td>CENTRAIS ELET BRAS SA ELETROBRAS</td>\n",
       "      <td>2437</td>\n",
       "      <td>DF Consolidado - Demonstração do Resultado</td>\n",
       "      <td>REAL</td>\n",
       "      <td>UNIDADE</td>\n",
       "      <td>2015-12-31</td>\n",
       "      <td>3.01</td>\n",
       "      <td>Receita de Venda de Bens e/ou Serviços</td>\n",
       "      <td>32588838000.0</td>\n",
       "      <td>S</td>\n",
       "      <td>2015-01-01</td>\n",
       "      <td>NaN</td>\n",
       "    </tr>\n",
       "  </tbody>\n",
       "</table>\n",
       "</div>"
      ],
      "text/plain": [
       "                                   FILENAME DEMONSTRATIVO BALANCE_SHEET   ANO  \\\n",
       "DT_REFER                                                                        \n",
       "2015-03-31  itr_cia_aberta_DRE_con_2015.csv           itr           DRE  2015   \n",
       "2015-06-30  itr_cia_aberta_DRE_con_2015.csv           itr           DRE  2015   \n",
       "2015-09-30  itr_cia_aberta_DRE_con_2015.csv           itr           DRE  2015   \n",
       "2015-12-31  dfp_cia_aberta_DRE_con_2015.csv           dfp           DRE  2015   \n",
       "\n",
       "           AGRUPAMENTO            CNPJ_CIA VERSAO  \\\n",
       "DT_REFER                                            \n",
       "2015-03-31         con  00.001.180/0001-26      1   \n",
       "2015-06-30         con  00.001.180/0001-26      1   \n",
       "2015-09-30         con  00.001.180/0001-26      1   \n",
       "2015-12-31         con  00.001.180/0001-26      2   \n",
       "\n",
       "                                   DENOM_CIA CD_CVM  \\\n",
       "DT_REFER                                              \n",
       "2015-03-31  CENTRAIS ELET BRAS SA ELETROBRAS   2437   \n",
       "2015-06-30  CENTRAIS ELET BRAS SA ELETROBRAS   2437   \n",
       "2015-09-30  CENTRAIS ELET BRAS SA ELETROBRAS   2437   \n",
       "2015-12-31  CENTRAIS ELET BRAS SA ELETROBRAS   2437   \n",
       "\n",
       "                                             GRUPO_DFP MOEDA ESCALA_MOEDA  \\\n",
       "DT_REFER                                                                    \n",
       "2015-03-31  DF Consolidado - Demonstração do Resultado  REAL      UNIDADE   \n",
       "2015-06-30  DF Consolidado - Demonstração do Resultado  REAL      UNIDADE   \n",
       "2015-09-30  DF Consolidado - Demonstração do Resultado  REAL      UNIDADE   \n",
       "2015-12-31  DF Consolidado - Demonstração do Resultado  REAL      UNIDADE   \n",
       "\n",
       "           DT_FIM_EXERC CD_CONTA                                DS_CONTA  \\\n",
       "DT_REFER                                                                   \n",
       "2015-03-31   2015-03-31     3.01  Receita de Venda de Bens e/ou Serviços   \n",
       "2015-06-30   2015-06-30     3.01  Receita de Venda de Bens e/ou Serviços   \n",
       "2015-09-30   2015-09-30     3.01  Receita de Venda de Bens e/ou Serviços   \n",
       "2015-12-31   2015-12-31     3.01  Receita de Venda de Bens e/ou Serviços   \n",
       "\n",
       "                 VL_CONTA ST_CONTA_FIXA DT_INI_EXERC COLUNA_DF  \n",
       "DT_REFER                                                        \n",
       "2015-03-31   8598882000.0             S   2015-01-01       NaN  \n",
       "2015-06-30  16825743000.0             S   2015-01-01       NaN  \n",
       "2015-09-30  24728132000.0             S   2015-01-01       NaN  \n",
       "2015-12-31  32588838000.0             S   2015-01-01       NaN  "
      ]
     },
     "execution_count": 12,
     "metadata": {},
     "output_type": "execute_result"
    }
   ],
   "source": [
    "mask = df['CNPJ_CIA'] == '00.001.180/0001-26'\n",
    "mask &= df['AGRUPAMENTO'] == 'con'\n",
    "mask &= df['CD_CONTA'] == '3.01'\n",
    "# mask &= df['COLUNA_DF'] == 'Reservas de Lucro'\n",
    "# mask &= df['COLUNA_DF'].isna()\n",
    "\n",
    "df[mask]"
   ]
  },
  {
   "cell_type": "code",
   "execution_count": 38,
   "metadata": {},
   "outputs": [],
   "source": [
    "import pandas as pd\n",
    "import plotly.express as px\n"
   ]
  },
  {
   "cell_type": "code",
   "execution_count": 96,
   "metadata": {},
   "outputs": [
    {
     "data": {
      "text/plain": [
       "['CNPJ_CIA', 'AGRUPAMENTO', 'CD_CONTA', 'DS_CONTA', 'COLUNA_DF']"
      ]
     },
     "execution_count": 96,
     "metadata": {},
     "output_type": "execute_result"
    }
   ],
   "source": [
    "b3.unique_sheet_cols"
   ]
  },
  {
   "cell_type": "code",
   "execution_count": 4,
   "metadata": {},
   "outputs": [],
   "source": [
    "df = run.sys_load_pkl(f'{b3.app_folder}/temp_math_web_2011')\n",
    "# datetime_columns = ['DT_REFER', 'DT_FIM_EXERC', 'DT_INI_EXERC', ]\n",
    "# for col in datetime_columns:\n",
    "#     try:\n",
    "#         df[col] = pd.to_datetime(df[col])\n",
    "#     except Exception as e:\n",
    "#         pass\n",
    "df = df.set_index('DT_REFER', drop=True)\n",
    "# grouped = df_merged.groupby(['CNPJ_CIA', 'AGRUPAMENTO', 'CD_CONTA', 'DS_CONTA'], group_keys=False)\n",
    "# # calculated_df = grouped.apply(run.cvm_math_calculations_adjustments).reset_index(drop=True)\n"
   ]
  },
  {
   "cell_type": "code",
   "execution_count": 9,
   "metadata": {},
   "outputs": [
    {
     "data": {
      "text/html": [
       "<div>\n",
       "<style scoped>\n",
       "    .dataframe tbody tr th:only-of-type {\n",
       "        vertical-align: middle;\n",
       "    }\n",
       "\n",
       "    .dataframe tbody tr th {\n",
       "        vertical-align: top;\n",
       "    }\n",
       "\n",
       "    .dataframe thead th {\n",
       "        text-align: right;\n",
       "    }\n",
       "</style>\n",
       "<table border=\"1\" class=\"dataframe\">\n",
       "  <thead>\n",
       "    <tr style=\"text-align: right;\">\n",
       "      <th></th>\n",
       "      <th>FILENAME</th>\n",
       "      <th>DEMONSTRATIVO</th>\n",
       "      <th>BALANCE_SHEET</th>\n",
       "      <th>ANO</th>\n",
       "      <th>AGRUPAMENTO</th>\n",
       "      <th>CNPJ_CIA</th>\n",
       "      <th>VERSAO</th>\n",
       "      <th>DENOM_CIA</th>\n",
       "      <th>CD_CVM</th>\n",
       "      <th>GRUPO_DFP</th>\n",
       "      <th>MOEDA</th>\n",
       "      <th>ESCALA_MOEDA</th>\n",
       "      <th>DT_FIM_EXERC</th>\n",
       "      <th>CD_CONTA</th>\n",
       "      <th>DS_CONTA</th>\n",
       "      <th>VL_CONTA</th>\n",
       "      <th>ST_CONTA_FIXA</th>\n",
       "      <th>DT_INI_EXERC</th>\n",
       "      <th>COLUNA_DF</th>\n",
       "    </tr>\n",
       "    <tr>\n",
       "      <th>DT_REFER</th>\n",
       "      <th></th>\n",
       "      <th></th>\n",
       "      <th></th>\n",
       "      <th></th>\n",
       "      <th></th>\n",
       "      <th></th>\n",
       "      <th></th>\n",
       "      <th></th>\n",
       "      <th></th>\n",
       "      <th></th>\n",
       "      <th></th>\n",
       "      <th></th>\n",
       "      <th></th>\n",
       "      <th></th>\n",
       "      <th></th>\n",
       "      <th></th>\n",
       "      <th></th>\n",
       "      <th></th>\n",
       "      <th></th>\n",
       "    </tr>\n",
       "  </thead>\n",
       "  <tbody>\n",
       "    <tr>\n",
       "      <th>2011-03-31</th>\n",
       "      <td>itr_cia_aberta_BPP_con_2011.csv</td>\n",
       "      <td>itr</td>\n",
       "      <td>BPP</td>\n",
       "      <td>2011</td>\n",
       "      <td>con</td>\n",
       "      <td>00.001.180/0001-26</td>\n",
       "      <td>1</td>\n",
       "      <td>CENTRAIS ELET BRAS SA ELETROBRAS</td>\n",
       "      <td>2437</td>\n",
       "      <td>DF Consolidado - Balanço Patrimonial Passivo</td>\n",
       "      <td>REAL</td>\n",
       "      <td>UNIDADE</td>\n",
       "      <td>2011-03-31</td>\n",
       "      <td>2.03</td>\n",
       "      <td>Patrimônio Líquido Consolidado</td>\n",
       "      <td>7.699941e+10</td>\n",
       "      <td>S</td>\n",
       "      <td>NaT</td>\n",
       "      <td>NaN</td>\n",
       "    </tr>\n",
       "    <tr>\n",
       "      <th>2011-06-30</th>\n",
       "      <td>itr_cia_aberta_BPP_con_2011.csv</td>\n",
       "      <td>itr</td>\n",
       "      <td>BPP</td>\n",
       "      <td>2011</td>\n",
       "      <td>con</td>\n",
       "      <td>00.001.180/0001-26</td>\n",
       "      <td>3</td>\n",
       "      <td>CENTRAIS ELET BRAS SA ELETROBRAS</td>\n",
       "      <td>2437</td>\n",
       "      <td>DF Consolidado - Balanço Patrimonial Passivo</td>\n",
       "      <td>REAL</td>\n",
       "      <td>UNIDADE</td>\n",
       "      <td>2011-06-30</td>\n",
       "      <td>2.03</td>\n",
       "      <td>Patrimônio Líquido Consolidado</td>\n",
       "      <td>7.627831e+10</td>\n",
       "      <td>S</td>\n",
       "      <td>NaT</td>\n",
       "      <td>NaN</td>\n",
       "    </tr>\n",
       "    <tr>\n",
       "      <th>2011-09-30</th>\n",
       "      <td>itr_cia_aberta_BPP_con_2011.csv</td>\n",
       "      <td>itr</td>\n",
       "      <td>BPP</td>\n",
       "      <td>2011</td>\n",
       "      <td>con</td>\n",
       "      <td>00.001.180/0001-26</td>\n",
       "      <td>2</td>\n",
       "      <td>CENTRAIS ELET BRAS SA ELETROBRAS</td>\n",
       "      <td>2437</td>\n",
       "      <td>DF Consolidado - Balanço Patrimonial Passivo</td>\n",
       "      <td>REAL</td>\n",
       "      <td>UNIDADE</td>\n",
       "      <td>2011-09-30</td>\n",
       "      <td>2.03</td>\n",
       "      <td>Patrimônio Líquido Consolidado</td>\n",
       "      <td>7.773819e+10</td>\n",
       "      <td>S</td>\n",
       "      <td>NaT</td>\n",
       "      <td>NaN</td>\n",
       "    </tr>\n",
       "    <tr>\n",
       "      <th>2011-12-31</th>\n",
       "      <td>dfp_cia_aberta_BPP_con_2011.csv</td>\n",
       "      <td>dfp</td>\n",
       "      <td>BPP</td>\n",
       "      <td>2011</td>\n",
       "      <td>con</td>\n",
       "      <td>00.001.180/0001-26</td>\n",
       "      <td>1</td>\n",
       "      <td>CENTRAIS ELET BRAS SA ELETROBRAS</td>\n",
       "      <td>2437</td>\n",
       "      <td>DF Consolidado - Balanço Patrimonial Passivo</td>\n",
       "      <td>REAL</td>\n",
       "      <td>UNIDADE</td>\n",
       "      <td>2011-12-31</td>\n",
       "      <td>2.03</td>\n",
       "      <td>Patrimônio Líquido Consolidado</td>\n",
       "      <td>7.720232e+10</td>\n",
       "      <td>S</td>\n",
       "      <td>NaT</td>\n",
       "      <td>NaN</td>\n",
       "    </tr>\n",
       "  </tbody>\n",
       "</table>\n",
       "</div>"
      ],
      "text/plain": [
       "                                   FILENAME DEMONSTRATIVO BALANCE_SHEET   ANO  \\\n",
       "DT_REFER                                                                        \n",
       "2011-03-31  itr_cia_aberta_BPP_con_2011.csv           itr           BPP  2011   \n",
       "2011-06-30  itr_cia_aberta_BPP_con_2011.csv           itr           BPP  2011   \n",
       "2011-09-30  itr_cia_aberta_BPP_con_2011.csv           itr           BPP  2011   \n",
       "2011-12-31  dfp_cia_aberta_BPP_con_2011.csv           dfp           BPP  2011   \n",
       "\n",
       "           AGRUPAMENTO            CNPJ_CIA VERSAO  \\\n",
       "DT_REFER                                            \n",
       "2011-03-31         con  00.001.180/0001-26      1   \n",
       "2011-06-30         con  00.001.180/0001-26      3   \n",
       "2011-09-30         con  00.001.180/0001-26      2   \n",
       "2011-12-31         con  00.001.180/0001-26      1   \n",
       "\n",
       "                                   DENOM_CIA CD_CVM  \\\n",
       "DT_REFER                                              \n",
       "2011-03-31  CENTRAIS ELET BRAS SA ELETROBRAS   2437   \n",
       "2011-06-30  CENTRAIS ELET BRAS SA ELETROBRAS   2437   \n",
       "2011-09-30  CENTRAIS ELET BRAS SA ELETROBRAS   2437   \n",
       "2011-12-31  CENTRAIS ELET BRAS SA ELETROBRAS   2437   \n",
       "\n",
       "                                               GRUPO_DFP MOEDA ESCALA_MOEDA  \\\n",
       "DT_REFER                                                                      \n",
       "2011-03-31  DF Consolidado - Balanço Patrimonial Passivo  REAL      UNIDADE   \n",
       "2011-06-30  DF Consolidado - Balanço Patrimonial Passivo  REAL      UNIDADE   \n",
       "2011-09-30  DF Consolidado - Balanço Patrimonial Passivo  REAL      UNIDADE   \n",
       "2011-12-31  DF Consolidado - Balanço Patrimonial Passivo  REAL      UNIDADE   \n",
       "\n",
       "           DT_FIM_EXERC CD_CONTA                        DS_CONTA  \\\n",
       "DT_REFER                                                           \n",
       "2011-03-31   2011-03-31     2.03  Patrimônio Líquido Consolidado   \n",
       "2011-06-30   2011-06-30     2.03  Patrimônio Líquido Consolidado   \n",
       "2011-09-30   2011-09-30     2.03  Patrimônio Líquido Consolidado   \n",
       "2011-12-31   2011-12-31     2.03  Patrimônio Líquido Consolidado   \n",
       "\n",
       "                VL_CONTA ST_CONTA_FIXA DT_INI_EXERC COLUNA_DF  \n",
       "DT_REFER                                                       \n",
       "2011-03-31  7.699941e+10             S          NaT       NaN  \n",
       "2011-06-30  7.627831e+10             S          NaT       NaN  \n",
       "2011-09-30  7.773819e+10             S          NaT       NaN  \n",
       "2011-12-31  7.720232e+10             S          NaT       NaN  "
      ]
     },
     "execution_count": 9,
     "metadata": {},
     "output_type": "execute_result"
    }
   ],
   "source": [
    "mask = df['CNPJ_CIA'] == '00.001.180/0001-26'\n",
    "mask &= df['AGRUPAMENTO'] == 'con'\n",
    "mask &= df['CD_CONTA'] == '2.03'\n",
    "mask &= df['COLUNA_DF'].isna()\n",
    "# mask &= df['CD_CONTA'] == '5.01'\n",
    "# mask &= df['COLUNA_DF'] == 'Patrimônio Líquido'\n",
    "\n",
    "df[mask]"
   ]
  },
  {
   "cell_type": "code",
   "execution_count": 10,
   "metadata": {},
   "outputs": [
    {
     "data": {
      "text/plain": [
       "<Axes: xlabel='DT_REFER'>"
      ]
     },
     "execution_count": 10,
     "metadata": {},
     "output_type": "execute_result"
    },
    {
     "data": {
      "image/png": "[encoded data removed]",
      "text/plain": [
       "<Figure size 640x480 with 1 Axes>"
      ]
     },
     "metadata": {},
     "output_type": "display_data"
    }
   ],
   "source": [
    "df[mask]['VL_CONTA'].plot()"
   ]
  }
 ],
 "metadata": {
  "kernelspec": {
   "display_name": ".venv",
   "language": "python",
   "name": "python3"
  },
  "language_info": {
   "codemirror_mode": {
    "name": "ipython",
    "version": 3
   },
   "file_extension": ".py",
   "mimetype": "text/x-python",
   "name": "python",
   "nbconvert_exporter": "python",
   "pygments_lexer": "ipython3",
   "version": "3.10.6"
  }
 },
 "nbformat": 4,
 "nbformat_minor": 2
}
