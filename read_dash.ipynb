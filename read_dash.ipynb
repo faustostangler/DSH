{
 "cells": [
  {
   "cell_type": "code",
   "execution_count": 1,
   "metadata": {},
   "outputs": [],
   "source": [
    "import assets.helper as b3\n",
    "import assets.functions as run\n"
   ]
  },
  {
   "cell_type": "code",
   "execution_count": 2,
   "metadata": {},
   "outputs": [],
   "source": [
    "import pandas as pd\n",
    "import numpy as np\n",
    "import os\n",
    "\n",
    "import assets.graphs as g\n",
    "import random\n",
    "import requests"
   ]
  },
  {
   "cell_type": "markdown",
   "metadata": {},
   "source": [
    "### QUOTES PRICES"
   ]
  },
  {
   "cell_type": "code",
   "execution_count": null,
   "metadata": {},
   "outputs": [],
   "source": [
    "fund = run.sys_load_pkl(f'{b3.app_folder}/fund')\n",
    "quotes = run.sys_load_pkl(f'{b3.app_folder}/quotes')\n"
   ]
  },
  {
   "cell_type": "code",
   "execution_count": null,
   "metadata": {},
   "outputs": [],
   "source": [
    "fund.keys(), fund['BENS INDUSTRIAIS'].columns"
   ]
  },
  {
   "cell_type": "code",
   "execution_count": null,
   "metadata": {},
   "outputs": [],
   "source": [
    "quotes.keys(), quotes['AERIS'].keys()"
   ]
  },
  {
   "cell_type": "code",
   "execution_count": null,
   "metadata": {},
   "outputs": [],
   "source": []
  },
  {
   "cell_type": "code",
   "execution_count": null,
   "metadata": {},
   "outputs": [],
   "source": []
  },
  {
   "cell_type": "code",
   "execution_count": null,
   "metadata": {},
   "outputs": [],
   "source": [
    "df_preplot = {}\n",
    "start_time = run.time.time()\n",
    "\n",
    "for i, (setor, df_fund) in enumerate(fund.items()):\n",
    "    df_fund = preprocess_data(df_fund)\n",
    "    df_cd_conta = pivot_data(df_fund)\n",
    "\n",
    "    df_unique = df_fund.drop_duplicates(subset=['DT_REFER', 'PREGAO']).drop(['CD_CONTA', 'DS_CONTA', 'VL_CONTA'], axis=1)\n",
    "    df_premerged = pd.merge(df_unique, df_cd_conta, on=['DT_REFER', 'PREGAO'])\n",
    "    df_resampled = resample_data(df_premerged)\n",
    "    \n",
    "    df_merged = merge_with_bigdata(df_resampled, bigdata)\n",
    "    df_merged = df_merged.set_index('Date', drop=True)\n",
    "    df_merged = df_merged.groupby('PREGAO', group_keys=False).apply(add_metrics)\n",
    "\n",
    "    # Clean up the dataframe using the cleanup_dataframe function\n",
    "    df_merged = cleanup_dataframe(df_merged)\n",
    "\n",
    "    df_merged = add_metrics(df_merged)\n",
    "\n",
    "    df_preplot[setor] = df_merged\n",
    "\n",
    "    print(setor, run.sys_remaining_time(start_time, len(fund), i))\n"
   ]
  },
  {
   "cell_type": "code",
   "execution_count": null,
   "metadata": {},
   "outputs": [],
   "source": [
    "# Define the path to the folder\n",
    "company_folder = 'company'\n",
    "folder_path = os.path.join(b3.app_folder, company_folder)\n",
    "\n",
    "# Check if the folder does not exist\n",
    "if not os.path.exists(folder_path):\n",
    "    # Create the folder\n",
    "    os.makedirs(folder_path)\n"
   ]
  },
  {
   "cell_type": "code",
   "execution_count": null,
   "metadata": {},
   "outputs": [],
   "source": [
    "start_time = run.time.time()\n",
    "for i, (setor, df) in enumerate(df_preplot.items()):\n",
    "    companies = df['PREGAO'].unique()\n",
    "    for i2, company in enumerate(companies):\n",
    "        mask = df['PREGAO'] == company\n",
    "        df_temp = df[mask]\n",
    "        try:\n",
    "            df_temp = run.sys_save_pkl(df_temp, f'{b3.app_folder}/{company_folder}/{company}')\n",
    "        except Exception as e:\n",
    "            pass\n",
    "    print(setor, run.sys_remaining_time(start_time, len(df_preplot), i))\n"
   ]
  },
  {
   "cell_type": "code",
   "execution_count": null,
   "metadata": {},
   "outputs": [],
   "source": [
    "mask = df_preplot['BENS INDUSTRIAIS']['TICKER'] == 'AERI3'\n",
    "df_preplot['BENS INDUSTRIAIS'][mask]"
   ]
  },
  {
   "cell_type": "code",
   "execution_count": null,
   "metadata": {},
   "outputs": [],
   "source": []
  },
  {
   "cell_type": "markdown",
   "metadata": {},
   "source": [
    "### DASH"
   ]
  },
  {
   "cell_type": "code",
   "execution_count": null,
   "metadata": {},
   "outputs": [],
   "source": [
    "company = 'AZEVEDO'\n",
    "df = run.sys_load_pkl(f'{b3.app_folder}/{b3.company_folder}/{company}')\n",
    "tickers = df['TICKER'].unique()\n",
    "# df.columns.to_list()"
   ]
  },
  {
   "cell_type": "code",
   "execution_count": null,
   "metadata": {},
   "outputs": [],
   "source": [
    "df['03.11 - Lucro Líquido']\n",
    "df['14.04.01 - ROE (Resultado por Patrimônio)']\n",
    "df['03.01 - Receita Bruta']\n",
    "df['06.01 - Caixa das Operações']\n",
    "\n",
    "\n",
    "\n"
   ]
  },
  {
   "cell_type": "code",
   "execution_count": null,
   "metadata": {},
   "outputs": [],
   "source": [
    "graphs = g.construct_graphs(df)\n",
    "graphs.keys()"
   ]
  },
  {
   "cell_type": "code",
   "execution_count": null,
   "metadata": {},
   "outputs": [],
   "source": [
    "import assets.lines\n",
    "lines = assets.lines.report\n",
    "groups = set(entry['title'][:2] for entry in lines)\n",
    "groups"
   ]
  },
  {
   "cell_type": "code",
   "execution_count": null,
   "metadata": {},
   "outputs": [],
   "source": [
    "for g, (group_key, group) in enumerate(graphs.items()):\n",
    "    status = True if g == 0 else False\n",
    "    plots = []\n",
    "    for l, (line_key, line) in enumerate(group.items()):\n",
    "        for p, (plot_key, plot_info) in enumerate(line.items()):\n",
    "            for ticker in df['TICKER'].unique():\n",
    "                df_ticker = df[df['TICKER'] == ticker]\n",
    "                if not df.empty:\n",
    "                    print(group[0][0]['info']['title'])\n",
    "                    print(line[0]['info']['title'])\n",
    "                    print(plot_info['info']['title'])\n",
    "                    run.plot_tweak(plot_info, df_ticker).show();"
   ]
  },
  {
   "cell_type": "code",
   "execution_count": null,
   "metadata": {},
   "outputs": [],
   "source": [
    "for ticker in tickers:\n",
    "    df = df[df['TICKER'] == ticker]\n",
    "    print(ticker, len(df))\n",
    "\n",
    "    if not df.empty:\n",
    "        for g, (group_key, group) in enumerate(merged_entries.items()):\n",
    "            status = True if g == 0 else False\n",
    "            plots = []\n",
    "            for l, (line_key, line) in enumerate(group.items()):\n",
    "                for p, (plot_key, plot_info) in enumerate(line.items()):\n",
    "                    print(ticker)\n",
    "                    run.plot_tweak(plot_info, df).show();"
   ]
  },
  {
   "cell_type": "code",
   "execution_count": null,
   "metadata": {},
   "outputs": [],
   "source": []
  },
  {
   "cell_type": "code",
   "execution_count": null,
   "metadata": {},
   "outputs": [],
   "source": []
  },
  {
   "cell_type": "code",
   "execution_count": null,
   "metadata": {},
   "outputs": [],
   "source": [
    "fund = run.load_database()\n"
   ]
  },
  {
   "cell_type": "code",
   "execution_count": null,
   "metadata": {},
   "outputs": [],
   "source": [
    "setores = []\n",
    "for setor, df in fund.items():\n",
    "    columns=['SETOR', 'SUBSETOR', 'SEGMENTO', 'PREGAO']\n",
    "    setores.append(df[columns].drop_duplicates())\n",
    "    print(setor)\n",
    "sss = pd.concat(setores)\n",
    "sss = sss.applymap(run.clean_text)\n",
    "\n",
    "sss = run.sys_save_pkl(sss, f'{b3.app_folder}/sss')"
   ]
  },
  {
   "cell_type": "code",
   "execution_count": null,
   "metadata": {},
   "outputs": [],
   "source": [
    "sss"
   ]
  },
  {
   "cell_type": "code",
   "execution_count": null,
   "metadata": {},
   "outputs": [],
   "source": [
    "mask = sss['SUBSETOR'] == 'MATERIAL DE TRANSPORTE'\n",
    "sss[mask]"
   ]
  },
  {
   "cell_type": "markdown",
   "metadata": {},
   "source": [
    "#### Playground\n"
   ]
  },
  {
   "cell_type": "code",
   "execution_count": null,
   "metadata": {},
   "outputs": [],
   "source": [
    "company_list = run.sys_load_pkl('company_list')\n",
    "company_list"
   ]
  },
  {
   "cell_type": "code",
   "execution_count": null,
   "metadata": {},
   "outputs": [],
   "source": [
    "listagem_siglas = ['NM', 'N1', 'N2', 'MA', 'M2', 'MB', 'DR1', 'DR2', 'DR3', 'DRE', 'DRN']\n",
    "listagem_extenso = ['Novo Mercado', 'Nível 1 de Governança Corporativa', 'Nível 2 de Governança Corporativa', 'Bovespa Mais', 'Bovespa Mais Nível 2', 'Organização Tradicional OTC', 'BDR Nível 1', 'BDR Nível 2', 'BDR Nível 3', 'BDR ETF', 'BDR Não Patrocinado']\n",
    "list_dict = dict(zip(listagem_siglas, listagem_extenso))\n",
    "list_dict"
   ]
  },
  {
   "cell_type": "code",
   "execution_count": null,
   "metadata": {},
   "outputs": [],
   "source": []
  },
  {
   "cell_type": "markdown",
   "metadata": {},
   "source": [
    "#### Merge and update\n"
   ]
  },
  {
   "cell_type": "code",
   "execution_count": null,
   "metadata": {},
   "outputs": [],
   "source": [
    "driver, wait = run.sys_load_browser()\n",
    "url = 'https://sistemaswebb3-listados.b3.com.br/listedCompaniesPage/search?language=pt-br' \n",
    "\n"
   ]
  },
  {
   "cell_type": "code",
   "execution_count": null,
   "metadata": {},
   "outputs": [],
   "source": [
    "b3_cols = b3.cols_b3_companies + b3.col_b3_companies_extra_columns\n",
    "companies__local = run.sys_read_or_create_dataframe('company', b3_cols).fillna('')\n",
    "b3_companies_tickers = run.sys_load_pkl('b3_companies_tickers')\n",
    "\n",
    "b3_companies_tickers = run.get_b3_tickers(driver, wait, url)\n",
    "for col in b3_cols:\n",
    "    if col not in b3_companies_tickers.columns:\n",
    "        b3_companies_tickers[col] = ''\n",
    "b3_companies_tickers = b3_companies_tickers[b3_cols]\n",
    "# b3_companies_tickers = sys_save_pkl(b3_companies_tickers, 'b3_companies_tickers')\n",
    "\n",
    "key_columns = ['ticker', 'company_name']\n",
    "len(b3_companies_tickers), len(companies__local)"
   ]
  },
  {
   "cell_type": "code",
   "execution_count": null,
   "metadata": {},
   "outputs": [],
   "source": [
    "merged = pd.merge(companies__local, b3_companies_tickers[:], how='outer', on=key_columns, indicator=True)\n",
    "\n",
    "update_strict = merged[merged['_merge'] == 'right_only'][key_columns] # only companies new in web\n",
    "update_broad = merged[merged['_merge'] != 'left_only'][key_columns] # all companies from web\n",
    "updated = update_strict\n",
    "\n",
    "len(update_broad), len(update_strict)"
   ]
  },
  {
   "cell_type": "code",
   "execution_count": null,
   "metadata": {},
   "outputs": [],
   "source": [
    "key_columns = ['company_name', 'ticker']\n",
    "b3_cols = b3.cols_b3_companies + b3.col_b3_companies_extra_columns\n",
    "b3_cols_float = ['Capital Social']\n",
    "b3_str_cols = [col for col in b3_cols if col not in  b3_cols_float]\n",
    "col_types = {col: 'float' if col in b3_cols_float else 'str' for col in b3_cols}\n"
   ]
  },
  {
   "cell_type": "code",
   "execution_count": null,
   "metadata": {},
   "outputs": [],
   "source": [
    "driver.get(b3.url)\n",
    "# time.sleep(1)\n",
    "\n",
    "size = len(updated)\n",
    "# Iterate through the new companies to extract detailed information\n",
    "new_companies = []\n",
    "start_time = run.time.time()\n",
    "for i, (index, row) in enumerate(updated.iterrows()):\n",
    "    driver.get(b3.url)\n",
    "    new_company = run.b3_get_company_info(row, driver, wait)\n",
    "    new_company = pd.DataFrame([new_company], columns=b3_cols).astype(col_types)\n",
    "    new_company['Capital Social'] = new_company['Capital Social'].replace(np.nan, 0.0)\n",
    "    new_company = new_company.replace('nan', '')\n",
    "    new_company['Capital Social'] = pd.to_numeric(new_company['Capital Social'], errors='coerce').astype('float')\n",
    "\n",
    "    try:\n",
    "        if not new_company.empty:\n",
    "            cnpj = new_company['cnpj'][0]\n",
    "            url = f'https://cnpj.biz/{cnpj}'\n",
    "            response = requests.get(url, headers={\"User-Agent\": random.choice(b3.USER_AGENTS)})\n",
    "            extra = run.b3_get_company_extra_cnpj_info(response)\n",
    "            extra = pd.DataFrame([extra], columns=b3_cols).fillna('')\n",
    "            extra = extra.astype(col_types)\n",
    "        else:\n",
    "            extra = pd.DataFrame([], columns=b3_cols)\n",
    "\n",
    "    except Exception as e:\n",
    "        pass\n",
    "    extra = extra.reset_index(drop=True)\n",
    "    new_company = pd.merge(new_company[b3.cols_b3_companies], extra[b3.col_b3_companies_extra_columns], left_on='cnpj', right_on='CNPJ', how='outer').fillna('').reset_index(drop=True)\n",
    "    new_companies.append(new_company)\n",
    "    \n",
    "    print(run.sys_remaining_time(start_time, size, i), row['ticker'], row['company_name'])\n",
    "\n",
    "    if (size-i-1) % (b3.bin_size/10) == 0:\n",
    "        temp = pd.concat(new_companies).reset_index(drop=True)\n",
    "        temp['Capital Social'] = pd.to_numeric(temp['Capital Social'], errors='coerce').astype('float')\n",
    "        temp['Capital Social'] = temp['Capital Social'].replace(np.nan, 0.0)\n",
    "        temp = pd.merge(companies__local, temp, on=b3_cols, how='outer', indicator=False).fillna('').drop_duplicates(subset=key_columns, keep='last').reset_index(drop=True)\n",
    "        temp = sys_save_and_pickle(temp, 'company')\n"
   ]
  },
  {
   "cell_type": "code",
   "execution_count": null,
   "metadata": {},
   "outputs": [],
   "source": [
    "temp"
   ]
  },
  {
   "cell_type": "code",
   "execution_count": null,
   "metadata": {},
   "outputs": [],
   "source": []
  },
  {
   "cell_type": "code",
   "execution_count": null,
   "metadata": {},
   "outputs": [],
   "source": []
  },
  {
   "cell_type": "code",
   "execution_count": null,
   "metadata": {},
   "outputs": [],
   "source": []
  },
  {
   "cell_type": "code",
   "execution_count": null,
   "metadata": {},
   "outputs": [],
   "source": []
  },
  {
   "cell_type": "code",
   "execution_count": null,
   "metadata": {},
   "outputs": [],
   "source": [
    "for col in b3_cols:\n",
    "    d1 = new_company[col].dtype\n",
    "    d2 = extra[col].dtype\n",
    "    print(col, d1, d2)\n",
    "    if d1 != d2:\n",
    "        print(col, d1, d2)\n",
    "    "
   ]
  },
  {
   "cell_type": "code",
   "execution_count": null,
   "metadata": {},
   "outputs": [],
   "source": [
    "b3_cols"
   ]
  },
  {
   "cell_type": "code",
   "execution_count": null,
   "metadata": {},
   "outputs": [],
   "source": []
  },
  {
   "cell_type": "markdown",
   "metadata": {},
   "source": [
    "##### CVM GET CODE"
   ]
  },
  {
   "cell_type": "code",
   "execution_count": null,
   "metadata": {},
   "outputs": [],
   "source": [
    "for i in range(0,1000+1):\n",
    "    url = f'https://sistemaswebb3-listados.b3.com.br/listedCompaniesPage/main/{i}/ABCD/overview?language=pt-br'\n",
    "    print(url)"
   ]
  },
  {
   "cell_type": "markdown",
   "metadata": {},
   "source": [
    "##### Final Company Get"
   ]
  },
  {
   "cell_type": "code",
   "execution_count": null,
   "metadata": {},
   "outputs": [],
   "source": [
    "companies__local = run.sys_read_or_create_dataframe('company', b3_cols)\n"
   ]
  },
  {
   "cell_type": "code",
   "execution_count": null,
   "metadata": {},
   "outputs": [],
   "source": [
    "companies__local.columns"
   ]
  },
  {
   "cell_type": "code",
   "execution_count": null,
   "metadata": {},
   "outputs": [],
   "source": [
    "mask = companies__local['Estado'] == ''\n",
    "# mask &= companies__local['cnpj'] != ''\n",
    "companies__local = companies__local[~mask]"
   ]
  },
  {
   "cell_type": "code",
   "execution_count": null,
   "metadata": {},
   "outputs": [],
   "source": [
    "companies__local = run.sys_save_and_pickle(companies__local, 'companies__local')"
   ]
  },
  {
   "cell_type": "markdown",
   "metadata": {},
   "source": [
    "### Playground"
   ]
  },
  {
   "cell_type": "code",
   "execution_count": 11,
   "metadata": {},
   "outputs": [],
   "source": [
    "import winsound\n"
   ]
  },
  {
   "cell_type": "code",
   "execution_count": 56,
   "metadata": {},
   "outputs": [],
   "source": [
    "frequency = 5000  # Set Frequency in Hertz\n",
    "duration = 50   # Set Duration in ms == 1 second\n",
    "winsound.Beep(frequency, duration)\n"
   ]
  },
  {
   "cell_type": "code",
   "execution_count": 8,
   "metadata": {},
   "outputs": [
    {
     "name": "stdout",
     "output_type": "stream",
     "text": [
      "2011 (3946943, 20)\n",
      "2012 (3910461, 20)\n",
      "2013 (3879740, 20)\n",
      "2014 (3861989, 20)\n",
      "2015 (3834838, 20)\n",
      "2016 (3760582, 20)\n",
      "2017 (3793968, 20)\n",
      "2018 (3638809, 20)\n",
      "2019 (3870791, 20)\n",
      "2020 (4323604, 20)\n",
      "2021 (4859724, 20)\n",
      "2022 (4955831, 20)\n",
      "2023 (3093258, 20)\n",
      "2010 (957587, 20)\n"
     ]
    }
   ],
   "source": [
    "cvm_local = run.sys_load_pkl(f'{b3.app_folder}/' + 'cvm')\n",
    "for year, df in cvm_local.items():\n",
    "    print(year, df.shape)"
   ]
  },
  {
   "cell_type": "code",
   "execution_count": 5,
   "metadata": {},
   "outputs": [
    {
     "name": "stdout",
     "output_type": "stream",
     "text": [
      "2011 (3946943, 20)\n",
      "2012 (3910461, 20)\n",
      "2013 (3879740, 20)\n",
      "2014 (3861989, 20)\n",
      "2015 (3834838, 20)\n",
      "2016 (3760582, 20)\n",
      "2017 (3793968, 20)\n",
      "2018 (3638809, 20)\n",
      "2019 (3870791, 20)\n",
      "2020 (4323604, 20)\n",
      "2021 (4859724, 20)\n",
      "2022 (4955831, 20)\n",
      "2023 (3093258, 20)\n",
      "2010 (957587, 20)\n"
     ]
    }
   ],
   "source": [
    "cvm_web = run.sys_load_pkl(f'{b3.app_folder}/temp_' + 'cvm_web_clean')\n",
    "for year, df in cvm_web.items():\n",
    "    print(year, df.shape)"
   ]
  },
  {
   "cell_type": "code",
   "execution_count": 20,
   "metadata": {},
   "outputs": [
    {
     "data": {
      "text/plain": [
       "((2347174, 20), (9456, 20))"
      ]
     },
     "execution_count": 20,
     "metadata": {},
     "output_type": "execute_result"
    }
   ],
   "source": [
    "year = 2021\n",
    "math_local = run.sys_load_pkl(f'{b3.app_folder}/temp_math_local_{year}')\n",
    "math_web = run.sys_load_pkl(f'{b3.app_folder}/temp_math_web_{year}')\n",
    "math_local.shape, math_web.shape"
   ]
  },
  {
   "cell_type": "code",
   "execution_count": 63,
   "metadata": {},
   "outputs": [
    {
     "data": {
      "text/html": [
       "<div>\n",
       "<style scoped>\n",
       "    .dataframe tbody tr th:only-of-type {\n",
       "        vertical-align: middle;\n",
       "    }\n",
       "\n",
       "    .dataframe tbody tr th {\n",
       "        vertical-align: top;\n",
       "    }\n",
       "\n",
       "    .dataframe thead th {\n",
       "        text-align: right;\n",
       "    }\n",
       "</style>\n",
       "<table border=\"1\" class=\"dataframe\">\n",
       "  <thead>\n",
       "    <tr style=\"text-align: right;\">\n",
       "      <th></th>\n",
       "      <th>FILENAME</th>\n",
       "      <th>DEMONSTRATIVO</th>\n",
       "      <th>BALANCE_SHEET</th>\n",
       "      <th>ANO</th>\n",
       "      <th>AGRUPAMENTO</th>\n",
       "      <th>CNPJ_CIA</th>\n",
       "      <th>DT_REFER</th>\n",
       "      <th>VERSAO</th>\n",
       "      <th>DENOM_CIA</th>\n",
       "      <th>CD_CVM</th>\n",
       "      <th>GRUPO_DFP</th>\n",
       "      <th>MOEDA</th>\n",
       "      <th>ESCALA_MOEDA</th>\n",
       "      <th>DT_FIM_EXERC</th>\n",
       "      <th>CD_CONTA</th>\n",
       "      <th>DS_CONTA</th>\n",
       "      <th>VL_CONTA</th>\n",
       "      <th>ST_CONTA_FIXA</th>\n",
       "      <th>DT_INI_EXERC</th>\n",
       "      <th>COLUNA_DF</th>\n",
       "    </tr>\n",
       "  </thead>\n",
       "  <tbody>\n",
       "    <tr>\n",
       "      <th>1494538</th>\n",
       "      <td>dfp_cia_aberta_DMPL_ind_2021.csv</td>\n",
       "      <td>dfp</td>\n",
       "      <td>DMPL</td>\n",
       "      <td>2021</td>\n",
       "      <td>ind</td>\n",
       "      <td>04.821.041/0001-08</td>\n",
       "      <td>2021-12-31</td>\n",
       "      <td>1</td>\n",
       "      <td>METALFRIO SOLUTIONS SA</td>\n",
       "      <td>20613</td>\n",
       "      <td>DF Individual - Demonstração das Mutações do P...</td>\n",
       "      <td>REAL</td>\n",
       "      <td>MIL</td>\n",
       "      <td>2021-12-31</td>\n",
       "      <td>5.01</td>\n",
       "      <td>Saldos Iniciais</td>\n",
       "      <td>244039.0</td>\n",
       "      <td>S</td>\n",
       "      <td>2021-01-01</td>\n",
       "      <td>Capital Social Integralizado</td>\n",
       "    </tr>\n",
       "  </tbody>\n",
       "</table>\n",
       "</div>"
      ],
      "text/plain": [
       "                                 FILENAME DEMONSTRATIVO BALANCE_SHEET   ANO  \\\n",
       "1494538  dfp_cia_aberta_DMPL_ind_2021.csv           dfp          DMPL  2021   \n",
       "\n",
       "        AGRUPAMENTO            CNPJ_CIA   DT_REFER VERSAO  \\\n",
       "1494538         ind  04.821.041/0001-08 2021-12-31      1   \n",
       "\n",
       "                      DENOM_CIA CD_CVM  \\\n",
       "1494538  METALFRIO SOLUTIONS SA  20613   \n",
       "\n",
       "                                                 GRUPO_DFP MOEDA ESCALA_MOEDA  \\\n",
       "1494538  DF Individual - Demonstração das Mutações do P...  REAL          MIL   \n",
       "\n",
       "        DT_FIM_EXERC CD_CONTA         DS_CONTA  VL_CONTA ST_CONTA_FIXA  \\\n",
       "1494538   2021-12-31     5.01  Saldos Iniciais  244039.0             S   \n",
       "\n",
       "        DT_INI_EXERC                     COLUNA_DF  \n",
       "1494538   2021-01-01  Capital Social Integralizado  "
      ]
     },
     "execution_count": 63,
     "metadata": {},
     "output_type": "execute_result"
    }
   ],
   "source": [
    "mask = math_local['CNPJ_CIA'] == '04.821.041/0001-08'\n",
    "mask &= math_local['AGRUPAMENTO'] == 'ind'\n",
    "mask &= math_local['DT_REFER'] == '2021-12-31'\n",
    "mask &= math_local['CD_CONTA'] == '5.01'\n",
    "mask &= math_local['COLUNA_DF'] == 'Capital Social Integralizado'\n",
    "math_local[mask]\n",
    "#  [['AGRUPAMENTO', 'CNPJ_CIA', 'DT_REFER', 'CD_CONTA', 'VL_CONTA']]\n"
   ]
  },
  {
   "cell_type": "code",
   "execution_count": 65,
   "metadata": {},
   "outputs": [
    {
     "data": {
      "text/html": [
       "<div>\n",
       "<style scoped>\n",
       "    .dataframe tbody tr th:only-of-type {\n",
       "        vertical-align: middle;\n",
       "    }\n",
       "\n",
       "    .dataframe tbody tr th {\n",
       "        vertical-align: top;\n",
       "    }\n",
       "\n",
       "    .dataframe thead th {\n",
       "        text-align: right;\n",
       "    }\n",
       "</style>\n",
       "<table border=\"1\" class=\"dataframe\">\n",
       "  <thead>\n",
       "    <tr style=\"text-align: right;\">\n",
       "      <th></th>\n",
       "      <th>FILENAME</th>\n",
       "      <th>DEMONSTRATIVO</th>\n",
       "      <th>BALANCE_SHEET</th>\n",
       "      <th>ANO</th>\n",
       "      <th>AGRUPAMENTO</th>\n",
       "      <th>CNPJ_CIA</th>\n",
       "      <th>DT_REFER</th>\n",
       "      <th>VERSAO</th>\n",
       "      <th>DENOM_CIA</th>\n",
       "      <th>CD_CVM</th>\n",
       "      <th>GRUPO_DFP</th>\n",
       "      <th>MOEDA</th>\n",
       "      <th>ESCALA_MOEDA</th>\n",
       "      <th>DT_FIM_EXERC</th>\n",
       "      <th>CD_CONTA</th>\n",
       "      <th>DS_CONTA</th>\n",
       "      <th>VL_CONTA</th>\n",
       "      <th>ST_CONTA_FIXA</th>\n",
       "      <th>DT_INI_EXERC</th>\n",
       "      <th>COLUNA_DF</th>\n",
       "    </tr>\n",
       "  </thead>\n",
       "  <tbody>\n",
       "    <tr>\n",
       "      <th>4308</th>\n",
       "      <td>dfp_cia_aberta_DMPL_ind_2021.csv</td>\n",
       "      <td>dfp</td>\n",
       "      <td>DMPL</td>\n",
       "      <td>2021</td>\n",
       "      <td>ind</td>\n",
       "      <td>04.821.041/0001-08</td>\n",
       "      <td>2021-12-31</td>\n",
       "      <td>1</td>\n",
       "      <td>METALFRIO SOLUTIONS SA</td>\n",
       "      <td>20613</td>\n",
       "      <td>DF Individual - Demonstração das Mutações do P...</td>\n",
       "      <td>REAL</td>\n",
       "      <td>MIL</td>\n",
       "      <td>2021-12-31</td>\n",
       "      <td>5.01</td>\n",
       "      <td>Saldos Iniciais</td>\n",
       "      <td>244039.0</td>\n",
       "      <td>S</td>\n",
       "      <td>2021-01-01</td>\n",
       "      <td>Capital Social Integralizado</td>\n",
       "    </tr>\n",
       "  </tbody>\n",
       "</table>\n",
       "</div>"
      ],
      "text/plain": [
       "                              FILENAME DEMONSTRATIVO BALANCE_SHEET   ANO  \\\n",
       "4308  dfp_cia_aberta_DMPL_ind_2021.csv           dfp          DMPL  2021   \n",
       "\n",
       "     AGRUPAMENTO            CNPJ_CIA   DT_REFER VERSAO  \\\n",
       "4308         ind  04.821.041/0001-08 2021-12-31      1   \n",
       "\n",
       "                   DENOM_CIA CD_CVM  \\\n",
       "4308  METALFRIO SOLUTIONS SA  20613   \n",
       "\n",
       "                                              GRUPO_DFP MOEDA ESCALA_MOEDA  \\\n",
       "4308  DF Individual - Demonstração das Mutações do P...  REAL          MIL   \n",
       "\n",
       "     DT_FIM_EXERC CD_CONTA         DS_CONTA  VL_CONTA ST_CONTA_FIXA  \\\n",
       "4308   2021-12-31     5.01  Saldos Iniciais  244039.0             S   \n",
       "\n",
       "     DT_INI_EXERC                     COLUNA_DF  \n",
       "4308   2021-01-01  Capital Social Integralizado  "
      ]
     },
     "execution_count": 65,
     "metadata": {},
     "output_type": "execute_result"
    }
   ],
   "source": [
    "mask = math_web['CNPJ_CIA'] == '04.821.041/0001-08'\n",
    "mask &= math_web['DT_REFER'] == '2021-12-31'\n",
    "mask &= math_web['CD_CONTA'] == '5.01'\n",
    "mask &= math_web['AGRUPAMENTO'] == 'ind'\n",
    "mask &= math_web['COLUNA_DF'] == 'Capital Social Integralizado'\n",
    "math_web[mask].drop_duplicates()\n",
    "#  AGRUPAMENTO, CD_CONTA, VL_CONTA"
   ]
  },
  {
   "cell_type": "code",
   "execution_count": null,
   "metadata": {},
   "outputs": [],
   "source": []
  },
  {
   "cell_type": "code",
   "execution_count": null,
   "metadata": {},
   "outputs": [],
   "source": []
  },
  {
   "cell_type": "code",
   "execution_count": null,
   "metadata": {},
   "outputs": [],
   "source": []
  },
  {
   "cell_type": "code",
   "execution_count": 3,
   "metadata": {},
   "outputs": [
    {
     "data": {
      "text/plain": [
       "dict_keys([2019, 2020, 2021, 2022, 2023])"
      ]
     },
     "execution_count": 3,
     "metadata": {},
     "output_type": "execute_result"
    }
   ],
   "source": [
    "cvm_local = run.sys_load_pkl(f'{b3.app_folder}/cvm_web')\n",
    "cvm_local.keys()"
   ]
  },
  {
   "cell_type": "code",
   "execution_count": null,
   "metadata": {},
   "outputs": [],
   "source": [
    "filename = 'acoes'\n",
    "columns = ['Companhia', 'Trimestre', 'Ações ON', 'Ações PN', 'Ações ON em Tesouraria', 'Ações PN em Tesouraria', 'Unidade', 'URL']\n",
    "acoes = run.sys_read_or_create_dataframe(filename, columns)\n",
    "acoes.to_csv('acoes.csv')\n"
   ]
  },
  {
   "cell_type": "code",
   "execution_count": null,
   "metadata": {},
   "outputs": [],
   "source": [
    "filename = 'nsd_links'\n",
    "cols_nsd = ['company', 'dri', 'dri2', 'dre', 'data', 'versao', 'auditor', 'auditor_rt', 'cancelamento', 'protocolo', 'envio', 'url', 'nsd']\n",
    "\n",
    "nsd = run.sys_read_or_create_dataframe(filename, cols_nsd)\n",
    "nsd.to_csv('nsd_links.csv')"
   ]
  },
  {
   "cell_type": "code",
   "execution_count": 3,
   "metadata": {},
   "outputs": [
    {
     "name": "stdout",
     "output_type": "stream",
     "text": [
      "company: total 2581 items\n"
     ]
    }
   ],
   "source": [
    "filename = 'company'\n",
    "columns = ['pregao', 'company_name', 'cvm', 'listagem', 'ticker', 'tickers',\n",
    "       'asin', 'cnpj', 'site', 'setor', 'subsetor', 'segmento', 'atividade',\n",
    "       'escriturador', 'stock_holders', 'url', 'CNPJ', 'Razão Social',\n",
    "       'Nome Fantasia', 'Data da Abertura', 'Porte', 'Natureza Jurídica',\n",
    "       'Opção pelo MEI', 'Opção pelo Simples', 'Capital Social', 'Tipo',\n",
    "       'Situação', 'Logradouro', 'Bairro', 'CEP', 'Município', 'Estado']\n",
    "\n",
    "company = run.sys_read_or_create_dataframe(filename, columns)\n",
    "company.to_csv('company.csv')"
   ]
  },
  {
   "cell_type": "code",
   "execution_count": 10,
   "metadata": {},
   "outputs": [
    {
     "data": {
      "text/html": [
       "<div>\n",
       "<style scoped>\n",
       "    .dataframe tbody tr th:only-of-type {\n",
       "        vertical-align: middle;\n",
       "    }\n",
       "\n",
       "    .dataframe tbody tr th {\n",
       "        vertical-align: top;\n",
       "    }\n",
       "\n",
       "    .dataframe thead th {\n",
       "        text-align: right;\n",
       "    }\n",
       "</style>\n",
       "<table border=\"1\" class=\"dataframe\">\n",
       "  <thead>\n",
       "    <tr style=\"text-align: right;\">\n",
       "      <th></th>\n",
       "      <th>pregao</th>\n",
       "      <th>company_name</th>\n",
       "      <th>cvm</th>\n",
       "      <th>listagem</th>\n",
       "      <th>ticker</th>\n",
       "      <th>tickers</th>\n",
       "      <th>asin</th>\n",
       "      <th>cnpj</th>\n",
       "      <th>site</th>\n",
       "      <th>setor</th>\n",
       "      <th>...</th>\n",
       "      <th>Opção pelo MEI</th>\n",
       "      <th>Opção pelo Simples</th>\n",
       "      <th>Capital Social</th>\n",
       "      <th>Tipo</th>\n",
       "      <th>Situação</th>\n",
       "      <th>Logradouro</th>\n",
       "      <th>Bairro</th>\n",
       "      <th>CEP</th>\n",
       "      <th>Município</th>\n",
       "      <th>Estado</th>\n",
       "    </tr>\n",
       "  </thead>\n",
       "  <tbody>\n",
       "    <tr>\n",
       "      <th>0</th>\n",
       "      <td>1461 INVEST</td>\n",
       "      <td>1461 INVESTIMENTOS SA</td>\n",
       "      <td></td>\n",
       "      <td></td>\n",
       "      <td>UQMU</td>\n",
       "      <td>None</td>\n",
       "      <td></td>\n",
       "      <td></td>\n",
       "      <td></td>\n",
       "      <td>NENHUM</td>\n",
       "      <td>...</td>\n",
       "      <td></td>\n",
       "      <td></td>\n",
       "      <td>0.0</td>\n",
       "      <td></td>\n",
       "      <td></td>\n",
       "      <td></td>\n",
       "      <td></td>\n",
       "      <td></td>\n",
       "      <td></td>\n",
       "      <td></td>\n",
       "    </tr>\n",
       "    <tr>\n",
       "      <th>2</th>\n",
       "      <td>3RPOTIGUAR</td>\n",
       "      <td>3R POTIGUAR SA</td>\n",
       "      <td></td>\n",
       "      <td></td>\n",
       "      <td>PTGU</td>\n",
       "      <td>None</td>\n",
       "      <td></td>\n",
       "      <td></td>\n",
       "      <td></td>\n",
       "      <td>NENHUM</td>\n",
       "      <td>...</td>\n",
       "      <td></td>\n",
       "      <td></td>\n",
       "      <td>0.0</td>\n",
       "      <td></td>\n",
       "      <td></td>\n",
       "      <td></td>\n",
       "      <td></td>\n",
       "      <td></td>\n",
       "      <td></td>\n",
       "      <td></td>\n",
       "    </tr>\n",
       "    <tr>\n",
       "      <th>7</th>\n",
       "      <td>AANGELONI</td>\n",
       "      <td>A ANGELONI CIA LTDA</td>\n",
       "      <td></td>\n",
       "      <td></td>\n",
       "      <td>AACL</td>\n",
       "      <td>None</td>\n",
       "      <td></td>\n",
       "      <td></td>\n",
       "      <td></td>\n",
       "      <td>NENHUM</td>\n",
       "      <td>...</td>\n",
       "      <td></td>\n",
       "      <td></td>\n",
       "      <td>0.0</td>\n",
       "      <td></td>\n",
       "      <td></td>\n",
       "      <td></td>\n",
       "      <td></td>\n",
       "      <td></td>\n",
       "      <td></td>\n",
       "      <td></td>\n",
       "    </tr>\n",
       "    <tr>\n",
       "      <th>11</th>\n",
       "      <td>ABCBRASIL</td>\n",
       "      <td>ABC BRASIL COMERCIALIZADORA DE ENERGIA LTDA</td>\n",
       "      <td></td>\n",
       "      <td></td>\n",
       "      <td>ABCC</td>\n",
       "      <td>None</td>\n",
       "      <td></td>\n",
       "      <td></td>\n",
       "      <td></td>\n",
       "      <td>NENHUM</td>\n",
       "      <td>...</td>\n",
       "      <td></td>\n",
       "      <td></td>\n",
       "      <td>0.0</td>\n",
       "      <td></td>\n",
       "      <td></td>\n",
       "      <td></td>\n",
       "      <td></td>\n",
       "      <td></td>\n",
       "      <td></td>\n",
       "      <td></td>\n",
       "    </tr>\n",
       "    <tr>\n",
       "      <th>13</th>\n",
       "      <td>ABDEN GOLD</td>\n",
       "      <td>ABRDN PHYSICAL GOLD SHARES ETF</td>\n",
       "      <td></td>\n",
       "      <td>BDR DE ETF</td>\n",
       "      <td>ABGD</td>\n",
       "      <td>ABGD39</td>\n",
       "      <td></td>\n",
       "      <td></td>\n",
       "      <td></td>\n",
       "      <td>NENHUM</td>\n",
       "      <td>...</td>\n",
       "      <td></td>\n",
       "      <td></td>\n",
       "      <td>0.0</td>\n",
       "      <td></td>\n",
       "      <td></td>\n",
       "      <td></td>\n",
       "      <td></td>\n",
       "      <td></td>\n",
       "      <td></td>\n",
       "      <td></td>\n",
       "    </tr>\n",
       "    <tr>\n",
       "      <th>...</th>\n",
       "      <td>...</td>\n",
       "      <td>...</td>\n",
       "      <td>...</td>\n",
       "      <td>...</td>\n",
       "      <td>...</td>\n",
       "      <td>...</td>\n",
       "      <td>...</td>\n",
       "      <td>...</td>\n",
       "      <td>...</td>\n",
       "      <td>...</td>\n",
       "      <td>...</td>\n",
       "      <td>...</td>\n",
       "      <td>...</td>\n",
       "      <td>...</td>\n",
       "      <td>...</td>\n",
       "      <td>...</td>\n",
       "      <td>...</td>\n",
       "      <td>...</td>\n",
       "      <td>...</td>\n",
       "      <td>...</td>\n",
       "      <td>...</td>\n",
       "    </tr>\n",
       "    <tr>\n",
       "      <th>2569</th>\n",
       "      <td>VILHENA</td>\n",
       "      <td>VILHENA ENERGIA RENOVAVEL SA</td>\n",
       "      <td></td>\n",
       "      <td></td>\n",
       "      <td>VILH</td>\n",
       "      <td>None</td>\n",
       "      <td></td>\n",
       "      <td></td>\n",
       "      <td></td>\n",
       "      <td>NENHUM</td>\n",
       "      <td>...</td>\n",
       "      <td></td>\n",
       "      <td></td>\n",
       "      <td>0.0</td>\n",
       "      <td></td>\n",
       "      <td></td>\n",
       "      <td></td>\n",
       "      <td></td>\n",
       "      <td></td>\n",
       "      <td></td>\n",
       "      <td></td>\n",
       "    </tr>\n",
       "    <tr>\n",
       "      <th>2570</th>\n",
       "      <td>VINCISOLUCO</td>\n",
       "      <td>VINCI SOLUCOES DE INVESTIMENTOS LTDA</td>\n",
       "      <td></td>\n",
       "      <td></td>\n",
       "      <td>VSOI</td>\n",
       "      <td>None</td>\n",
       "      <td></td>\n",
       "      <td></td>\n",
       "      <td></td>\n",
       "      <td>NENHUM</td>\n",
       "      <td>...</td>\n",
       "      <td></td>\n",
       "      <td></td>\n",
       "      <td>0.0</td>\n",
       "      <td></td>\n",
       "      <td></td>\n",
       "      <td></td>\n",
       "      <td></td>\n",
       "      <td></td>\n",
       "      <td></td>\n",
       "      <td></td>\n",
       "    </tr>\n",
       "    <tr>\n",
       "      <th>2572</th>\n",
       "      <td>VIRYA CAP</td>\n",
       "      <td>VIRYA CAPITAL DEBTCO SA</td>\n",
       "      <td></td>\n",
       "      <td></td>\n",
       "      <td>VIRY</td>\n",
       "      <td>None</td>\n",
       "      <td></td>\n",
       "      <td></td>\n",
       "      <td></td>\n",
       "      <td>NENHUM</td>\n",
       "      <td>...</td>\n",
       "      <td></td>\n",
       "      <td></td>\n",
       "      <td>0.0</td>\n",
       "      <td></td>\n",
       "      <td></td>\n",
       "      <td></td>\n",
       "      <td></td>\n",
       "      <td></td>\n",
       "      <td></td>\n",
       "      <td></td>\n",
       "    </tr>\n",
       "    <tr>\n",
       "      <th>2573</th>\n",
       "      <td>VISIONENGSA</td>\n",
       "      <td>VISION ENGENHARIA E CONSULTORIA SA</td>\n",
       "      <td></td>\n",
       "      <td></td>\n",
       "      <td>VISI</td>\n",
       "      <td>None</td>\n",
       "      <td></td>\n",
       "      <td></td>\n",
       "      <td></td>\n",
       "      <td>NENHUM</td>\n",
       "      <td>...</td>\n",
       "      <td></td>\n",
       "      <td></td>\n",
       "      <td>0.0</td>\n",
       "      <td></td>\n",
       "      <td></td>\n",
       "      <td></td>\n",
       "      <td></td>\n",
       "      <td></td>\n",
       "      <td></td>\n",
       "      <td></td>\n",
       "    </tr>\n",
       "    <tr>\n",
       "      <th>2577</th>\n",
       "      <td>VITAPARTICIP</td>\n",
       "      <td>VITA PARTICIPACOES SA</td>\n",
       "      <td></td>\n",
       "      <td></td>\n",
       "      <td>VITP</td>\n",
       "      <td>None</td>\n",
       "      <td></td>\n",
       "      <td></td>\n",
       "      <td></td>\n",
       "      <td>NENHUM</td>\n",
       "      <td>...</td>\n",
       "      <td></td>\n",
       "      <td></td>\n",
       "      <td>0.0</td>\n",
       "      <td></td>\n",
       "      <td></td>\n",
       "      <td></td>\n",
       "      <td></td>\n",
       "      <td></td>\n",
       "      <td></td>\n",
       "      <td></td>\n",
       "    </tr>\n",
       "  </tbody>\n",
       "</table>\n",
       "<p>753 rows × 32 columns</p>\n",
       "</div>"
      ],
      "text/plain": [
       "            pregao                                 company_name cvm  \\\n",
       "0      1461 INVEST                        1461 INVESTIMENTOS SA       \n",
       "2       3RPOTIGUAR                               3R POTIGUAR SA       \n",
       "7        AANGELONI                          A ANGELONI CIA LTDA       \n",
       "11       ABCBRASIL  ABC BRASIL COMERCIALIZADORA DE ENERGIA LTDA       \n",
       "13      ABDEN GOLD               ABRDN PHYSICAL GOLD SHARES ETF       \n",
       "...            ...                                          ...  ..   \n",
       "2569       VILHENA                 VILHENA ENERGIA RENOVAVEL SA       \n",
       "2570   VINCISOLUCO         VINCI SOLUCOES DE INVESTIMENTOS LTDA       \n",
       "2572     VIRYA CAP                      VIRYA CAPITAL DEBTCO SA       \n",
       "2573   VISIONENGSA           VISION ENGENHARIA E CONSULTORIA SA       \n",
       "2577  VITAPARTICIP                        VITA PARTICIPACOES SA       \n",
       "\n",
       "        listagem ticker tickers asin cnpj site   setor  ... Opção pelo MEI  \\\n",
       "0                  UQMU    None                 NENHUM  ...                  \n",
       "2                  PTGU    None                 NENHUM  ...                  \n",
       "7                  AACL    None                 NENHUM  ...                  \n",
       "11                 ABCC    None                 NENHUM  ...                  \n",
       "13    BDR DE ETF   ABGD  ABGD39                 NENHUM  ...                  \n",
       "...          ...    ...     ...  ...  ...  ...     ...  ...            ...   \n",
       "2569               VILH    None                 NENHUM  ...                  \n",
       "2570               VSOI    None                 NENHUM  ...                  \n",
       "2572               VIRY    None                 NENHUM  ...                  \n",
       "2573               VISI    None                 NENHUM  ...                  \n",
       "2577               VITP    None                 NENHUM  ...                  \n",
       "\n",
       "     Opção pelo Simples Capital Social Tipo Situação Logradouro Bairro CEP  \\\n",
       "0                                  0.0                                       \n",
       "2                                  0.0                                       \n",
       "7                                  0.0                                       \n",
       "11                                 0.0                                       \n",
       "13                                 0.0                                       \n",
       "...                 ...            ...  ...      ...        ...    ...  ..   \n",
       "2569                               0.0                                       \n",
       "2570                               0.0                                       \n",
       "2572                               0.0                                       \n",
       "2573                               0.0                                       \n",
       "2577                               0.0                                       \n",
       "\n",
       "     Município Estado  \n",
       "0                      \n",
       "2                      \n",
       "7                      \n",
       "11                     \n",
       "13                     \n",
       "...        ...    ...  \n",
       "2569                   \n",
       "2570                   \n",
       "2572                   \n",
       "2573                   \n",
       "2577                   \n",
       "\n",
       "[753 rows x 32 columns]"
      ]
     },
     "execution_count": 10,
     "metadata": {},
     "output_type": "execute_result"
    }
   ],
   "source": [
    "mask = company['Situação'] == 'Ativa'\n",
    "mask &= company['setor'] != 'NENHUM'\n",
    "mask &= company['setor'] != 'NAO CLASSIFICADOS'\n",
    "mask &= company['setor'] != 'OUTROS'\n",
    "mask = company['Estado'] == ''\n",
    "company[mask]\n"
   ]
  },
  {
   "cell_type": "code",
   "execution_count": 3,
   "metadata": {},
   "outputs": [],
   "source": [
    "cvm_local = run.sys_load_pkl(f'{b3.app_folder}/cvm')\n",
    "cvm_web = run.sys_load_pkl(f'{b3.app_folder}/temp_'+'cvm_updated')\n"
   ]
  },
  {
   "cell_type": "code",
   "execution_count": 5,
   "metadata": {},
   "outputs": [
    {
     "name": "stdout",
     "output_type": "stream",
     "text": [
      "2010 (1652929, 20)\n",
      "2011 (6621981, 20)\n",
      "2012 (6513483, 20)\n",
      "2013 (6449080, 20)\n",
      "2014 (6422863, 20)\n",
      "2015 (6346065, 20)\n",
      "2016 (6214320, 20)\n",
      "2017 (6257316, 20)\n",
      "2018 (6091886, 20)\n",
      "2019 (12046684, 20)\n",
      "2020 (13643104, 20)\n",
      "2021 (15465540, 20)\n",
      "2022 (15951776, 20)\n",
      "2023 (9967350, 20)\n"
     ]
    }
   ],
   "source": [
    "for year, df in cvm_web.items():\n",
    "    print(year, df.shape)"
   ]
  }
 ],
 "metadata": {
  "kernelspec": {
   "display_name": ".venv",
   "language": "python",
   "name": "python3"
  },
  "language_info": {
   "codemirror_mode": {
    "name": "ipython",
    "version": 3
   },
   "file_extension": ".py",
   "mimetype": "text/x-python",
   "name": "python",
   "nbconvert_exporter": "python",
   "pygments_lexer": "ipython3",
   "version": "3.10.6"
  }
 },
 "nbformat": 4,
 "nbformat_minor": 2
}
