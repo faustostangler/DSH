{
 "cells": [
  {
   "cell_type": "code",
   "execution_count": 2,
   "metadata": {},
   "outputs": [],
   "source": [
    "import assets.helper as b3\n",
    "import assets.functions as run\n"
   ]
  },
  {
   "cell_type": "code",
   "execution_count": 3,
   "metadata": {},
   "outputs": [],
   "source": [
    "import pandas as pd\n",
    "import numpy as np\n",
    "import os\n",
    "\n",
    "import assets.graphs as g\n",
    "import random\n",
    "import requests"
   ]
  },
  {
   "cell_type": "markdown",
   "metadata": {},
   "source": [
    "### QUOTES PRICES"
   ]
  },
  {
   "cell_type": "code",
   "execution_count": null,
   "metadata": {},
   "outputs": [],
   "source": [
    "fund = run.load_pkl(f'{b3.app_folder}/fund')\n",
    "quotes = run.load_pkl(f'{b3.app_folder}/quotes')\n"
   ]
  },
  {
   "cell_type": "code",
   "execution_count": null,
   "metadata": {},
   "outputs": [],
   "source": [
    "fund.keys(), fund['BENS INDUSTRIAIS'].columns"
   ]
  },
  {
   "cell_type": "code",
   "execution_count": null,
   "metadata": {},
   "outputs": [],
   "source": [
    "quotes.keys(), quotes['AERIS'].keys()"
   ]
  },
  {
   "cell_type": "code",
   "execution_count": null,
   "metadata": {},
   "outputs": [],
   "source": []
  },
  {
   "cell_type": "code",
   "execution_count": null,
   "metadata": {},
   "outputs": [],
   "source": []
  },
  {
   "cell_type": "code",
   "execution_count": null,
   "metadata": {},
   "outputs": [],
   "source": [
    "df_preplot = {}\n",
    "start_time = run.time.time()\n",
    "\n",
    "for i, (setor, df_fund) in enumerate(fund.items()):\n",
    "    df_fund = preprocess_data(df_fund)\n",
    "    df_cd_conta = pivot_data(df_fund)\n",
    "\n",
    "    df_unique = df_fund.drop_duplicates(subset=['DT_REFER', 'PREGAO']).drop(['CD_CONTA', 'DS_CONTA', 'VL_CONTA'], axis=1)\n",
    "    df_premerged = pd.merge(df_unique, df_cd_conta, on=['DT_REFER', 'PREGAO'])\n",
    "    df_resampled = resample_data(df_premerged)\n",
    "    \n",
    "    df_merged = merge_with_bigdata(df_resampled, bigdata)\n",
    "    df_merged = df_merged.set_index('Date', drop=True)\n",
    "    df_merged = df_merged.groupby('PREGAO', group_keys=False).apply(add_metrics)\n",
    "\n",
    "    # Clean up the dataframe using the cleanup_dataframe function\n",
    "    df_merged = cleanup_dataframe(df_merged)\n",
    "\n",
    "    df_merged = add_metrics(df_merged)\n",
    "\n",
    "    df_preplot[setor] = df_merged\n",
    "\n",
    "    print(setor, run.remaining_time(start_time, len(fund), i))\n"
   ]
  },
  {
   "cell_type": "code",
   "execution_count": null,
   "metadata": {},
   "outputs": [],
   "source": [
    "# Define the path to the folder\n",
    "company_folder = 'company'\n",
    "folder_path = os.path.join(b3.app_folder, company_folder)\n",
    "\n",
    "# Check if the folder does not exist\n",
    "if not os.path.exists(folder_path):\n",
    "    # Create the folder\n",
    "    os.makedirs(folder_path)\n"
   ]
  },
  {
   "cell_type": "code",
   "execution_count": null,
   "metadata": {},
   "outputs": [],
   "source": [
    "start_time = run.time.time()\n",
    "for i, (setor, df) in enumerate(df_preplot.items()):\n",
    "    companies = df['PREGAO'].unique()\n",
    "    for i2, company in enumerate(companies):\n",
    "        mask = df['PREGAO'] == company\n",
    "        df_temp = df[mask]\n",
    "        try:\n",
    "            df_temp = run.save_pkl(df_temp, f'{b3.app_folder}/{company_folder}/{company}')\n",
    "        except Exception as e:\n",
    "            pass\n",
    "    print(setor, run.remaining_time(start_time, len(df_preplot), i))\n"
   ]
  },
  {
   "cell_type": "code",
   "execution_count": null,
   "metadata": {},
   "outputs": [],
   "source": [
    "mask = df_preplot['BENS INDUSTRIAIS']['TICKER'] == 'AERI3'\n",
    "df_preplot['BENS INDUSTRIAIS'][mask]"
   ]
  },
  {
   "cell_type": "code",
   "execution_count": null,
   "metadata": {},
   "outputs": [],
   "source": []
  },
  {
   "cell_type": "markdown",
   "metadata": {},
   "source": [
    "### DASH"
   ]
  },
  {
   "cell_type": "code",
   "execution_count": null,
   "metadata": {},
   "outputs": [],
   "source": [
    "company = 'AZEVEDO'\n",
    "df = run.load_pkl(f'{b3.app_folder}/{b3.company_folder}/{company}')\n",
    "tickers = df['TICKER'].unique()\n",
    "# df.columns.to_list()"
   ]
  },
  {
   "cell_type": "code",
   "execution_count": null,
   "metadata": {},
   "outputs": [],
   "source": [
    "df['03.11 - Lucro Líquido']\n",
    "df['14.04.01 - ROE (Resultado por Patrimônio)']\n",
    "df['03.01 - Receita Bruta']\n",
    "df['06.01 - Caixa das Operações']\n",
    "\n",
    "\n",
    "\n"
   ]
  },
  {
   "cell_type": "code",
   "execution_count": null,
   "metadata": {},
   "outputs": [],
   "source": [
    "graphs = g.construct_graphs(df)\n",
    "graphs.keys()"
   ]
  },
  {
   "cell_type": "code",
   "execution_count": null,
   "metadata": {},
   "outputs": [],
   "source": [
    "import assets.lines\n",
    "lines = assets.lines.report\n",
    "groups = set(entry['title'][:2] for entry in lines)\n",
    "groups"
   ]
  },
  {
   "cell_type": "code",
   "execution_count": null,
   "metadata": {},
   "outputs": [],
   "source": [
    "for g, (group_key, group) in enumerate(graphs.items()):\n",
    "    status = True if g == 0 else False\n",
    "    plots = []\n",
    "    for l, (line_key, line) in enumerate(group.items()):\n",
    "        for p, (plot_key, plot_info) in enumerate(line.items()):\n",
    "            for ticker in df['TICKER'].unique():\n",
    "                df_ticker = df[df['TICKER'] == ticker]\n",
    "                if not df.empty:\n",
    "                    print(group[0][0]['info']['title'])\n",
    "                    print(line[0]['info']['title'])\n",
    "                    print(plot_info['info']['title'])\n",
    "                    run.plot_tweak(plot_info, df_ticker).show();"
   ]
  },
  {
   "cell_type": "code",
   "execution_count": null,
   "metadata": {},
   "outputs": [],
   "source": [
    "for ticker in tickers:\n",
    "    df = df[df['TICKER'] == ticker]\n",
    "    print(ticker, len(df))\n",
    "\n",
    "    if not df.empty:\n",
    "        for g, (group_key, group) in enumerate(merged_entries.items()):\n",
    "            status = True if g == 0 else False\n",
    "            plots = []\n",
    "            for l, (line_key, line) in enumerate(group.items()):\n",
    "                for p, (plot_key, plot_info) in enumerate(line.items()):\n",
    "                    print(ticker)\n",
    "                    run.plot_tweak(plot_info, df).show();"
   ]
  },
  {
   "cell_type": "code",
   "execution_count": null,
   "metadata": {},
   "outputs": [],
   "source": []
  },
  {
   "cell_type": "code",
   "execution_count": null,
   "metadata": {},
   "outputs": [],
   "source": []
  },
  {
   "cell_type": "code",
   "execution_count": null,
   "metadata": {},
   "outputs": [],
   "source": [
    "fund = run.load_database()\n"
   ]
  },
  {
   "cell_type": "code",
   "execution_count": null,
   "metadata": {},
   "outputs": [],
   "source": [
    "setores = []\n",
    "for setor, df in fund.items():\n",
    "    columns=['SETOR', 'SUBSETOR', 'SEGMENTO', 'PREGAO']\n",
    "    setores.append(df[columns].drop_duplicates())\n",
    "    print(setor)\n",
    "sss = pd.concat(setores)\n",
    "sss = sss.applymap(run.clean_text)\n",
    "\n",
    "sss = run.save_pkl(sss, f'{b3.app_folder}/sss')"
   ]
  },
  {
   "cell_type": "code",
   "execution_count": null,
   "metadata": {},
   "outputs": [],
   "source": [
    "sss"
   ]
  },
  {
   "cell_type": "code",
   "execution_count": null,
   "metadata": {},
   "outputs": [],
   "source": [
    "mask = sss['SUBSETOR'] == 'MATERIAL DE TRANSPORTE'\n",
    "sss[mask]"
   ]
  },
  {
   "cell_type": "markdown",
   "metadata": {},
   "source": [
    "#### Playground\n"
   ]
  },
  {
   "cell_type": "code",
   "execution_count": 4,
   "metadata": {},
   "outputs": [
    {
     "ename": "FileNotFoundError",
     "evalue": "[Errno 2] No such file or directory: 'company_list.pkl'",
     "output_type": "error",
     "traceback": [
      "\u001b[1;31m---------------------------------------------------------------------------\u001b[0m",
      "\u001b[1;31mFileNotFoundError\u001b[0m                         Traceback (most recent call last)",
      "\u001b[1;32md:\\Fausto Stangler\\Documentos\\Python\\DSH\\read_dash.ipynb Cell 28\u001b[0m line \u001b[0;36m1\n\u001b[1;32m----> <a href='vscode-notebook-cell:/d%3A/Fausto%20Stangler/Documentos/Python/DSH/read_dash.ipynb#X36sZmlsZQ%3D%3D?line=0'>1</a>\u001b[0m company_list \u001b[39m=\u001b[39m run\u001b[39m.\u001b[39;49mload_pkl(\u001b[39m'\u001b[39;49m\u001b[39mcompany_list\u001b[39;49m\u001b[39m'\u001b[39;49m)\n\u001b[0;32m      <a href='vscode-notebook-cell:/d%3A/Fausto%20Stangler/Documentos/Python/DSH/read_dash.ipynb#X36sZmlsZQ%3D%3D?line=1'>2</a>\u001b[0m company_list\n",
      "File \u001b[1;32md:\\Fausto Stangler\\Documentos\\Python\\DSH\\assets\\functions.py:2592\u001b[0m, in \u001b[0;36mload_pkl\u001b[1;34m(filename)\u001b[0m\n\u001b[0;32m   2583\u001b[0m \u001b[39mdef\u001b[39;00m \u001b[39mload_pkl\u001b[39m(filename):\n\u001b[0;32m   2584\u001b[0m \u001b[39m    \u001b[39m\u001b[39m\"\"\"Loads data from a pickle file.\u001b[39;00m\n\u001b[0;32m   2585\u001b[0m \n\u001b[0;32m   2586\u001b[0m \u001b[39m    Args:\u001b[39;00m\n\u001b[1;32m   (...)\u001b[0m\n\u001b[0;32m   2590\u001b[0m \u001b[39m        The loaded data.\u001b[39;00m\n\u001b[0;32m   2591\u001b[0m \u001b[39m    \"\"\"\u001b[39;00m\n\u001b[1;32m-> 2592\u001b[0m     \u001b[39mwith\u001b[39;00m \u001b[39mopen\u001b[39;49m(\u001b[39mf\u001b[39;49m\u001b[39m'\u001b[39;49m\u001b[39m{\u001b[39;49;00mfilename\u001b[39m}\u001b[39;49;00m\u001b[39m.pkl\u001b[39;49m\u001b[39m'\u001b[39;49m, \u001b[39m'\u001b[39;49m\u001b[39mrb\u001b[39;49m\u001b[39m'\u001b[39;49m) \u001b[39mas\u001b[39;00m f:\n\u001b[0;32m   2593\u001b[0m         data \u001b[39m=\u001b[39m pickle\u001b[39m.\u001b[39mload(f)\n\u001b[0;32m   2594\u001b[0m     \u001b[39m# with zipfile.ZipFile(f'{filename}.zip', 'r') as zipf:\u001b[39;00m\n\u001b[0;32m   2595\u001b[0m     \u001b[39m#     with zipf.open(f'{filename}.pkl', 'r') as data_file:\u001b[39;00m\n\u001b[0;32m   2596\u001b[0m     \u001b[39m#         data = pickle.load(data_file)\u001b[39;00m\n",
      "\u001b[1;31mFileNotFoundError\u001b[0m: [Errno 2] No such file or directory: 'company_list.pkl'"
     ]
    }
   ],
   "source": [
    "company_list = run.load_pkl('company_list')\n",
    "company_list"
   ]
  },
  {
   "cell_type": "code",
   "execution_count": null,
   "metadata": {},
   "outputs": [],
   "source": [
    "listagem_siglas = ['NM', 'N1', 'N2', 'MA', 'M2', 'MB', 'DR1', 'DR2', 'DR3', 'DRE', 'DRN']\n",
    "listagem_extenso = ['Novo Mercado', 'Nível 1 de Governança Corporativa', 'Nível 2 de Governança Corporativa', 'Bovespa Mais', 'Bovespa Mais Nível 2', 'Organização Tradicional OTC', 'BDR Nível 1', 'BDR Nível 2', 'BDR Nível 3', 'BDR ETF', 'BDR Não Patrocinado']\n",
    "list_dict = dict(zip(listagem_siglas, listagem_extenso))\n",
    "list_dict"
   ]
  },
  {
   "cell_type": "code",
   "execution_count": null,
   "metadata": {},
   "outputs": [],
   "source": []
  },
  {
   "cell_type": "markdown",
   "metadata": {},
   "source": [
    "#### Merge and update\n"
   ]
  },
  {
   "cell_type": "code",
   "execution_count": 5,
   "metadata": {},
   "outputs": [],
   "source": [
    "driver, wait = run.load_browser()\n",
    "url = 'https://sistemaswebb3-listados.b3.com.br/listedCompaniesPage/search?language=pt-br' \n",
    "\n"
   ]
  },
  {
   "cell_type": "code",
   "execution_count": 6,
   "metadata": {},
   "outputs": [
    {
     "name": "stdout",
     "output_type": "stream",
     "text": [
      "company: total 120 items\n",
      "found 2580 companies in 22 pages\n",
      "4.55% 1+21, 0.641801s per item, Remaining: 0h 00m 13s page 1\n",
      "9.09% 2+20, 0.626654s per item, Remaining: 0h 00m 12s page 2\n",
      "13.64% 3+19, 0.621038s per item, Remaining: 0h 00m 11s page 3\n",
      "18.18% 4+18, 0.621680s per item, Remaining: 0h 00m 11s page 4\n",
      "22.73% 5+17, 0.620278s per item, Remaining: 0h 00m 10s page 5\n",
      "27.27% 6+16, 0.619085s per item, Remaining: 0h 00m 09s page 6\n",
      "31.82% 7+15, 0.617822s per item, Remaining: 0h 00m 09s page 7\n",
      "36.36% 8+14, 0.616468s per item, Remaining: 0h 00m 08s page 8\n",
      "40.91% 9+13, 0.617668s per item, Remaining: 0h 00m 08s page 9\n",
      "45.45% 10+12, 0.616546s per item, Remaining: 0h 00m 07s page 10\n",
      "50.00% 11+11, 0.616450s per item, Remaining: 0h 00m 06s page 11\n",
      "54.55% 12+10, 0.615776s per item, Remaining: 0h 00m 06s page 12\n",
      "59.09% 13+9, 0.616622s per item, Remaining: 0h 00m 05s page 13\n",
      "63.64% 14+8, 0.616164s per item, Remaining: 0h 00m 04s page 14\n",
      "68.18% 15+7, 0.616061s per item, Remaining: 0h 00m 04s page 15\n",
      "72.73% 16+6, 0.617010s per item, Remaining: 0h 00m 03s page 16\n",
      "77.27% 17+5, 0.617444s per item, Remaining: 0h 00m 03s page 17\n",
      "81.82% 18+4, 0.616963s per item, Remaining: 0h 00m 02s page 18\n",
      "86.36% 19+3, 0.616661s per item, Remaining: 0h 00m 01s page 19\n",
      "90.91% 20+2, 0.616366s per item, Remaining: 0h 00m 01s page 20\n",
      "95.45% 21+1, 0.616200s per item, Remaining: 0h 00m 00s page 21\n",
      "100.00% 22+0, 0.706790s per item, Remaining: 0h 00m 00s page 22\n"
     ]
    },
    {
     "data": {
      "text/plain": [
       "(2580, 120)"
      ]
     },
     "execution_count": 6,
     "metadata": {},
     "output_type": "execute_result"
    }
   ],
   "source": [
    "b3_cols = b3.cols_b3_companies + b3.col_b3_companies_extra_columns\n",
    "companies_from_file = run.read_or_create_dataframe('company', b3_cols).fillna('')\n",
    "b3_companies_tickers = run.load_pkl('b3_companies_tickers')\n",
    "\n",
    "b3_companies_tickers = run.get_b3_tickers(driver, wait, url)\n",
    "for col in b3_cols:\n",
    "    if col not in b3_companies_tickers.columns:\n",
    "        b3_companies_tickers[col] = ''\n",
    "b3_companies_tickers = b3_companies_tickers[b3_cols]\n",
    "# b3_companies_tickers = save_pkl(b3_companies_tickers, 'b3_companies_tickers')\n",
    "\n",
    "key_columns = ['ticker', 'company_name']\n",
    "len(b3_companies_tickers), len(companies_from_file)"
   ]
  },
  {
   "cell_type": "code",
   "execution_count": 21,
   "metadata": {},
   "outputs": [
    {
     "data": {
      "text/plain": [
       "(2580, 2460)"
      ]
     },
     "execution_count": 21,
     "metadata": {},
     "output_type": "execute_result"
    }
   ],
   "source": [
    "merged = pd.merge(companies_from_file, b3_companies_tickers[:], how='outer', on=key_columns, indicator=True)\n",
    "\n",
    "update_strict = merged[merged['_merge'] == 'right_only'][key_columns] # only companies new in web\n",
    "update_broad = merged[merged['_merge'] != 'left_only'][key_columns] # all companies from web\n",
    "updated = update_strict\n",
    "\n",
    "len(update_broad), len(update_strict)"
   ]
  },
  {
   "cell_type": "code",
   "execution_count": 22,
   "metadata": {},
   "outputs": [],
   "source": [
    "key_columns = ['company_name', 'ticker']\n",
    "b3_cols = b3.cols_b3_companies + b3.col_b3_companies_extra_columns\n",
    "b3_cols_float = ['Capital Social']\n",
    "b3_str_cols = [col for col in b3_cols if col not in  b3_cols_float]\n",
    "col_types = {col: 'float' if col in b3_cols_float else 'str' for col in b3_cols}\n"
   ]
  },
  {
   "cell_type": "code",
   "execution_count": null,
   "metadata": {},
   "outputs": [],
   "source": [
    "driver.get(b3.url)\n",
    "# time.sleep(1)\n",
    "\n",
    "size = len(updated)\n",
    "# Iterate through the new companies to extract detailed information\n",
    "new_companies = []\n",
    "start_time = run.time.time()\n",
    "for i, (index, row) in enumerate(updated.iterrows()):\n",
    "    driver.get(b3.url)\n",
    "    new_company = run.get_full_company_info(row, driver, wait)\n",
    "    new_company = pd.DataFrame([new_company], columns=b3_cols).astype(col_types)\n",
    "    new_company['Capital Social'] = new_company['Capital Social'].replace(np.nan, 0.0)\n",
    "    new_company = new_company.replace('nan', '')\n",
    "    new_company['Capital Social'] = pd.to_numeric(new_company['Capital Social'], errors='coerce').astype('float')\n",
    "\n",
    "    try:\n",
    "        if not new_company.empty:\n",
    "            cnpj = new_company['cnpj'][0]\n",
    "            url = f'https://cnpj.biz/{cnpj}'\n",
    "            response = requests.get(url, headers={\"User-Agent\": random.choice(b3.USER_AGENTS)})\n",
    "            extra = run.get_cnpj_info(response)\n",
    "            extra = pd.DataFrame([extra], columns=b3_cols).fillna('')\n",
    "            extra = extra.astype(col_types)\n",
    "        else:\n",
    "            extra = pd.DataFrame([], columns=b3_cols)\n",
    "\n",
    "    except Exception as e:\n",
    "        pass\n",
    "    extra = extra.reset_index(drop=True)\n",
    "    new_company = pd.merge(new_company[b3.cols_b3_companies], extra[b3.col_b3_companies_extra_columns], left_on='cnpj', right_on='CNPJ', how='outer').fillna('').reset_index(drop=True)\n",
    "    new_companies.append(new_company)\n",
    "    \n",
    "    print(run.remaining_time(start_time, size, i), row['ticker'], row['company_name'])\n",
    "\n",
    "    if (size-i-1) % (b3.bin_size/10) == 0:\n",
    "        temp = pd.concat(new_companies).reset_index(drop=True)\n",
    "        temp['Capital Social'] = pd.to_numeric(temp['Capital Social'], errors='coerce').astype('float')\n",
    "        temp['Capital Social'] = temp['Capital Social'].replace(np.nan, 0.0)\n",
    "        temp = pd.merge(companies_from_file, temp, on=b3_cols, how='outer', indicator=False).fillna('').drop_duplicates(subset=key_columns, keep='last').reset_index(drop=True)\n",
    "        temp = save_and_pickle(temp, 'company')\n"
   ]
  },
  {
   "cell_type": "code",
   "execution_count": 132,
   "metadata": {},
   "outputs": [
    {
     "data": {
      "text/html": [
       "<div>\n",
       "<style scoped>\n",
       "    .dataframe tbody tr th:only-of-type {\n",
       "        vertical-align: middle;\n",
       "    }\n",
       "\n",
       "    .dataframe tbody tr th {\n",
       "        vertical-align: top;\n",
       "    }\n",
       "\n",
       "    .dataframe thead th {\n",
       "        text-align: right;\n",
       "    }\n",
       "</style>\n",
       "<table border=\"1\" class=\"dataframe\">\n",
       "  <thead>\n",
       "    <tr style=\"text-align: right;\">\n",
       "      <th></th>\n",
       "      <th>pregao</th>\n",
       "      <th>company_name</th>\n",
       "      <th>cvm</th>\n",
       "      <th>listagem</th>\n",
       "      <th>ticker</th>\n",
       "      <th>tickers</th>\n",
       "      <th>asin</th>\n",
       "      <th>cnpj</th>\n",
       "      <th>site</th>\n",
       "      <th>setor</th>\n",
       "      <th>...</th>\n",
       "      <th>Opção pelo MEI</th>\n",
       "      <th>Opção pelo Simples</th>\n",
       "      <th>Capital Social</th>\n",
       "      <th>Tipo</th>\n",
       "      <th>Situação</th>\n",
       "      <th>Logradouro</th>\n",
       "      <th>Bairro</th>\n",
       "      <th>CEP</th>\n",
       "      <th>Município</th>\n",
       "      <th>Estado</th>\n",
       "    </tr>\n",
       "  </thead>\n",
       "  <tbody>\n",
       "    <tr>\n",
       "      <th>0</th>\n",
       "      <td></td>\n",
       "      <td>1461 INVESTIMENTOS SA</td>\n",
       "      <td></td>\n",
       "      <td></td>\n",
       "      <td>UQMU</td>\n",
       "      <td></td>\n",
       "      <td></td>\n",
       "      <td></td>\n",
       "      <td></td>\n",
       "      <td>NENHUM</td>\n",
       "      <td>...</td>\n",
       "      <td></td>\n",
       "      <td></td>\n",
       "      <td>0.000000e+00</td>\n",
       "      <td></td>\n",
       "      <td></td>\n",
       "      <td></td>\n",
       "      <td></td>\n",
       "      <td></td>\n",
       "      <td></td>\n",
       "      <td></td>\n",
       "    </tr>\n",
       "    <tr>\n",
       "      <th>1</th>\n",
       "      <td></td>\n",
       "      <td>3R PETROLEUM OLEO E GAS SA</td>\n",
       "      <td></td>\n",
       "      <td></td>\n",
       "      <td>RRRP</td>\n",
       "      <td>RRRP3</td>\n",
       "      <td></td>\n",
       "      <td>12.091.809/0001-55</td>\n",
       "      <td></td>\n",
       "      <td>PETROLEO GAS E BIOCOMBUSTIVEIS</td>\n",
       "      <td>...</td>\n",
       "      <td>Não</td>\n",
       "      <td>Não</td>\n",
       "      <td>5.054406e+09</td>\n",
       "      <td>Matriz</td>\n",
       "      <td>Ativa</td>\n",
       "      <td>Praia Botafogo, 186</td>\n",
       "      <td>Botafogo</td>\n",
       "      <td>22250-145</td>\n",
       "      <td>Rio de Janeiro</td>\n",
       "      <td>Rio de Janeiro</td>\n",
       "    </tr>\n",
       "    <tr>\n",
       "      <th>2</th>\n",
       "      <td></td>\n",
       "      <td>3R POTIGUAR SA</td>\n",
       "      <td></td>\n",
       "      <td></td>\n",
       "      <td>PTGU</td>\n",
       "      <td></td>\n",
       "      <td></td>\n",
       "      <td></td>\n",
       "      <td></td>\n",
       "      <td>NENHUM</td>\n",
       "      <td>...</td>\n",
       "      <td></td>\n",
       "      <td></td>\n",
       "      <td>0.000000e+00</td>\n",
       "      <td></td>\n",
       "      <td></td>\n",
       "      <td></td>\n",
       "      <td></td>\n",
       "      <td></td>\n",
       "      <td></td>\n",
       "      <td></td>\n",
       "    </tr>\n",
       "    <tr>\n",
       "      <th>3</th>\n",
       "      <td></td>\n",
       "      <td>3Z REALTY DESENVOLVIMENTO IMOBILIARIO SA</td>\n",
       "      <td></td>\n",
       "      <td></td>\n",
       "      <td>TZRD</td>\n",
       "      <td></td>\n",
       "      <td></td>\n",
       "      <td>08.145.855/0001-12</td>\n",
       "      <td></td>\n",
       "      <td>NENHUM</td>\n",
       "      <td>...</td>\n",
       "      <td>Não</td>\n",
       "      <td>Não</td>\n",
       "      <td>8.968293e+08</td>\n",
       "      <td>Matriz</td>\n",
       "      <td>Ativa</td>\n",
       "      <td>Avenida Jose de Souza Campos, 753</td>\n",
       "      <td>Cambui</td>\n",
       "      <td>13025-320</td>\n",
       "      <td>Campinas</td>\n",
       "      <td>São Paulo</td>\n",
       "    </tr>\n",
       "    <tr>\n",
       "      <th>4</th>\n",
       "      <td></td>\n",
       "      <td>524 PARTICIPACOES SA</td>\n",
       "      <td></td>\n",
       "      <td></td>\n",
       "      <td>QVQP</td>\n",
       "      <td>QVQP3</td>\n",
       "      <td></td>\n",
       "      <td>01.851.771/0001-55</td>\n",
       "      <td>http://www.524participacoes.com.br/home/index....</td>\n",
       "      <td>OUTROS</td>\n",
       "      <td>...</td>\n",
       "      <td>Não</td>\n",
       "      <td>Não</td>\n",
       "      <td>1.135905e+06</td>\n",
       "      <td>Matriz</td>\n",
       "      <td>Ativa</td>\n",
       "      <td>Avenida Presidente Antonio Carlos, 00051</td>\n",
       "      <td>Centro</td>\n",
       "      <td>20020-010</td>\n",
       "      <td>Rio de Janeiro</td>\n",
       "      <td>Rio de Janeiro</td>\n",
       "    </tr>\n",
       "    <tr>\n",
       "      <th>...</th>\n",
       "      <td>...</td>\n",
       "      <td>...</td>\n",
       "      <td>...</td>\n",
       "      <td>...</td>\n",
       "      <td>...</td>\n",
       "      <td>...</td>\n",
       "      <td>...</td>\n",
       "      <td>...</td>\n",
       "      <td>...</td>\n",
       "      <td>...</td>\n",
       "      <td>...</td>\n",
       "      <td>...</td>\n",
       "      <td>...</td>\n",
       "      <td>...</td>\n",
       "      <td>...</td>\n",
       "      <td>...</td>\n",
       "      <td>...</td>\n",
       "      <td>...</td>\n",
       "      <td>...</td>\n",
       "      <td>...</td>\n",
       "      <td>...</td>\n",
       "    </tr>\n",
       "    <tr>\n",
       "      <th>121</th>\n",
       "      <td></td>\n",
       "      <td>AMPLA ENERGIA E SERVICOS SA</td>\n",
       "      <td></td>\n",
       "      <td></td>\n",
       "      <td>CBEE</td>\n",
       "      <td>CBEE3</td>\n",
       "      <td></td>\n",
       "      <td>33.050.071/0001-58</td>\n",
       "      <td>http://www.eneldistribuicao.com.br/rj</td>\n",
       "      <td>UTILIDADE PUBLICA</td>\n",
       "      <td>...</td>\n",
       "      <td>Não</td>\n",
       "      <td>Não</td>\n",
       "      <td>4.438230e+09</td>\n",
       "      <td>Matriz</td>\n",
       "      <td>Ativa</td>\n",
       "      <td>Avenida Oscar Niemeyer, 02000</td>\n",
       "      <td>Santo Cristo</td>\n",
       "      <td>20220-297</td>\n",
       "      <td>Rio de Janeiro</td>\n",
       "      <td>Rio de Janeiro</td>\n",
       "    </tr>\n",
       "    <tr>\n",
       "      <th>122</th>\n",
       "      <td></td>\n",
       "      <td>ANDALI AS</td>\n",
       "      <td></td>\n",
       "      <td></td>\n",
       "      <td>ANDA</td>\n",
       "      <td>None</td>\n",
       "      <td></td>\n",
       "      <td>02.227.264/0001-08</td>\n",
       "      <td></td>\n",
       "      <td>NENHUM</td>\n",
       "      <td>...</td>\n",
       "      <td></td>\n",
       "      <td></td>\n",
       "      <td>0.000000e+00</td>\n",
       "      <td></td>\n",
       "      <td></td>\n",
       "      <td></td>\n",
       "      <td></td>\n",
       "      <td></td>\n",
       "      <td></td>\n",
       "      <td></td>\n",
       "    </tr>\n",
       "    <tr>\n",
       "      <th>123</th>\n",
       "      <td></td>\n",
       "      <td></td>\n",
       "      <td></td>\n",
       "      <td></td>\n",
       "      <td></td>\n",
       "      <td></td>\n",
       "      <td></td>\n",
       "      <td></td>\n",
       "      <td></td>\n",
       "      <td></td>\n",
       "      <td>...</td>\n",
       "      <td></td>\n",
       "      <td></td>\n",
       "      <td>0.000000e+00</td>\n",
       "      <td></td>\n",
       "      <td></td>\n",
       "      <td></td>\n",
       "      <td></td>\n",
       "      <td></td>\n",
       "      <td></td>\n",
       "      <td></td>\n",
       "    </tr>\n",
       "    <tr>\n",
       "      <th>124</th>\n",
       "      <td></td>\n",
       "      <td>ANDORINHA ENERGIAS RENOVAVEIS SA</td>\n",
       "      <td></td>\n",
       "      <td></td>\n",
       "      <td>ANDH</td>\n",
       "      <td>None</td>\n",
       "      <td></td>\n",
       "      <td>17.613.512/0001-26</td>\n",
       "      <td></td>\n",
       "      <td>NENHUM</td>\n",
       "      <td>...</td>\n",
       "      <td>Não</td>\n",
       "      <td>Não</td>\n",
       "      <td>4.161815e+07</td>\n",
       "      <td>Matriz</td>\n",
       "      <td>Ativa</td>\n",
       "      <td>Avenida Candido de Abreu, 70</td>\n",
       "      <td>Centro Civico</td>\n",
       "      <td>80530-000</td>\n",
       "      <td>Curitiba</td>\n",
       "      <td>Paraná</td>\n",
       "    </tr>\n",
       "    <tr>\n",
       "      <th>125</th>\n",
       "      <td></td>\n",
       "      <td>ANDRADE GUTIERREZ PARTICIPACOES SA</td>\n",
       "      <td></td>\n",
       "      <td></td>\n",
       "      <td>CANT</td>\n",
       "      <td>None</td>\n",
       "      <td></td>\n",
       "      <td>04.031.960/0001-70</td>\n",
       "      <td></td>\n",
       "      <td>NENHUM</td>\n",
       "      <td>...</td>\n",
       "      <td>Não</td>\n",
       "      <td>Não</td>\n",
       "      <td>2.376891e+06</td>\n",
       "      <td>Matriz</td>\n",
       "      <td>Ativa</td>\n",
       "      <td>Avenida Do Contorno, 8123</td>\n",
       "      <td>Cidade Jardim</td>\n",
       "      <td>30110-937</td>\n",
       "      <td>Belo Horizonte</td>\n",
       "      <td>Minas Gerais</td>\n",
       "    </tr>\n",
       "  </tbody>\n",
       "</table>\n",
       "<p>126 rows × 31 columns</p>\n",
       "</div>"
      ],
      "text/plain": [
       "    pregao                              company_name cvm listagem ticker  \\\n",
       "0                              1461 INVESTIMENTOS SA                UQMU   \n",
       "1                         3R PETROLEUM OLEO E GAS SA                RRRP   \n",
       "2                                     3R POTIGUAR SA                PTGU   \n",
       "3           3Z REALTY DESENVOLVIMENTO IMOBILIARIO SA                TZRD   \n",
       "4                               524 PARTICIPACOES SA                QVQP   \n",
       "..     ...                                       ...  ..      ...    ...   \n",
       "121                      AMPLA ENERGIA E SERVICOS SA                CBEE   \n",
       "122                                        ANDALI AS                ANDA   \n",
       "123                                                                        \n",
       "124                 ANDORINHA ENERGIAS RENOVAVEIS SA                ANDH   \n",
       "125               ANDRADE GUTIERREZ PARTICIPACOES SA                CANT   \n",
       "\n",
       "    tickers asin                cnpj  \\\n",
       "0                                      \n",
       "1     RRRP3       12.091.809/0001-55   \n",
       "2                                      \n",
       "3                 08.145.855/0001-12   \n",
       "4     QVQP3       01.851.771/0001-55   \n",
       "..      ...  ...                 ...   \n",
       "121   CBEE3       33.050.071/0001-58   \n",
       "122    None       02.227.264/0001-08   \n",
       "123                                    \n",
       "124    None       17.613.512/0001-26   \n",
       "125    None       04.031.960/0001-70   \n",
       "\n",
       "                                                  site  \\\n",
       "0                                                        \n",
       "1                                                        \n",
       "2                                                        \n",
       "3                                                        \n",
       "4    http://www.524participacoes.com.br/home/index....   \n",
       "..                                                 ...   \n",
       "121              http://www.eneldistribuicao.com.br/rj   \n",
       "122                                                      \n",
       "123                                                      \n",
       "124                                                      \n",
       "125                                                      \n",
       "\n",
       "                              setor  ... Opção pelo MEI Opção pelo Simples  \\\n",
       "0                            NENHUM  ...                                     \n",
       "1    PETROLEO GAS E BIOCOMBUSTIVEIS  ...            Não                Não   \n",
       "2                            NENHUM  ...                                     \n",
       "3                            NENHUM  ...            Não                Não   \n",
       "4                            OUTROS  ...            Não                Não   \n",
       "..                              ...  ...            ...                ...   \n",
       "121               UTILIDADE PUBLICA  ...            Não                Não   \n",
       "122                          NENHUM  ...                                     \n",
       "123                                  ...                                     \n",
       "124                          NENHUM  ...            Não                Não   \n",
       "125                          NENHUM  ...            Não                Não   \n",
       "\n",
       "    Capital Social    Tipo Situação                                Logradouro  \\\n",
       "0     0.000000e+00                                                              \n",
       "1     5.054406e+09  Matriz    Ativa                       Praia Botafogo, 186   \n",
       "2     0.000000e+00                                                              \n",
       "3     8.968293e+08  Matriz    Ativa         Avenida Jose de Souza Campos, 753   \n",
       "4     1.135905e+06  Matriz    Ativa  Avenida Presidente Antonio Carlos, 00051   \n",
       "..             ...     ...      ...                                       ...   \n",
       "121   4.438230e+09  Matriz    Ativa             Avenida Oscar Niemeyer, 02000   \n",
       "122   0.000000e+00                                                              \n",
       "123   0.000000e+00                                                              \n",
       "124   4.161815e+07  Matriz    Ativa              Avenida Candido de Abreu, 70   \n",
       "125   2.376891e+06  Matriz    Ativa                 Avenida Do Contorno, 8123   \n",
       "\n",
       "            Bairro        CEP       Município          Estado  \n",
       "0                                                              \n",
       "1         Botafogo  22250-145  Rio de Janeiro  Rio de Janeiro  \n",
       "2                                                              \n",
       "3           Cambui  13025-320        Campinas       São Paulo  \n",
       "4           Centro  20020-010  Rio de Janeiro  Rio de Janeiro  \n",
       "..             ...        ...             ...             ...  \n",
       "121   Santo Cristo  20220-297  Rio de Janeiro  Rio de Janeiro  \n",
       "122                                                            \n",
       "123                                                            \n",
       "124  Centro Civico  80530-000        Curitiba          Paraná  \n",
       "125  Cidade Jardim  30110-937  Belo Horizonte    Minas Gerais  \n",
       "\n",
       "[126 rows x 31 columns]"
      ]
     },
     "execution_count": 132,
     "metadata": {},
     "output_type": "execute_result"
    }
   ],
   "source": [
    "temp"
   ]
  },
  {
   "cell_type": "code",
   "execution_count": null,
   "metadata": {},
   "outputs": [],
   "source": []
  },
  {
   "cell_type": "code",
   "execution_count": null,
   "metadata": {},
   "outputs": [],
   "source": []
  },
  {
   "cell_type": "code",
   "execution_count": null,
   "metadata": {},
   "outputs": [],
   "source": []
  },
  {
   "cell_type": "code",
   "execution_count": null,
   "metadata": {},
   "outputs": [],
   "source": []
  },
  {
   "cell_type": "code",
   "execution_count": 21,
   "metadata": {},
   "outputs": [
    {
     "name": "stdout",
     "output_type": "stream",
     "text": [
      "pregao object object\n",
      "company_name object object\n",
      "cvm object object\n",
      "listagem object object\n",
      "ticker object object\n",
      "tickers object object\n",
      "asin object object\n",
      "cnpj object object\n",
      "site object object\n",
      "setor object object\n",
      "subsetor object object\n",
      "segmento object object\n",
      "atividade object object\n",
      "escriturador object object\n",
      "url object object\n",
      "CNPJ object object\n",
      "Razão Social object object\n",
      "Nome Fantasia object object\n",
      "Data da Abertura object object\n",
      "Porte object object\n",
      "Natureza Jurídica object object\n",
      "Opção pelo MEI object object\n",
      "Opção pelo Simples object object\n",
      "Capital Social float64 float64\n",
      "Tipo object object\n",
      "Situação object object\n",
      "Logradouro object object\n",
      "Bairro object object\n",
      "CEP object object\n",
      "Município object object\n",
      "Estado object object\n"
     ]
    }
   ],
   "source": [
    "for col in b3_cols:\n",
    "    d1 = new_company[col].dtype\n",
    "    d2 = extra[col].dtype\n",
    "    print(col, d1, d2)\n",
    "    if d1 != d2:\n",
    "        print(col, d1, d2)\n",
    "    "
   ]
  },
  {
   "cell_type": "code",
   "execution_count": 22,
   "metadata": {},
   "outputs": [
    {
     "data": {
      "text/plain": [
       "['pregao',\n",
       " 'company_name',\n",
       " 'cvm',\n",
       " 'listagem',\n",
       " 'ticker',\n",
       " 'tickers',\n",
       " 'asin',\n",
       " 'cnpj',\n",
       " 'site',\n",
       " 'setor',\n",
       " 'subsetor',\n",
       " 'segmento',\n",
       " 'atividade',\n",
       " 'escriturador',\n",
       " 'url',\n",
       " 'CNPJ',\n",
       " 'Razão Social',\n",
       " 'Nome Fantasia',\n",
       " 'Data da Abertura',\n",
       " 'Porte',\n",
       " 'Natureza Jurídica',\n",
       " 'Opção pelo MEI',\n",
       " 'Opção pelo Simples',\n",
       " 'Capital Social',\n",
       " 'Tipo',\n",
       " 'Situação',\n",
       " 'Logradouro',\n",
       " 'Bairro',\n",
       " 'CEP',\n",
       " 'Município',\n",
       " 'Estado']"
      ]
     },
     "execution_count": 22,
     "metadata": {},
     "output_type": "execute_result"
    }
   ],
   "source": [
    "b3_cols"
   ]
  },
  {
   "cell_type": "code",
   "execution_count": 26,
   "metadata": {},
   "outputs": [],
   "source": []
  },
  {
   "cell_type": "markdown",
   "metadata": {},
   "source": [
    "##### CVM GET CODE"
   ]
  },
  {
   "cell_type": "code",
   "execution_count": null,
   "metadata": {},
   "outputs": [],
   "source": [
    "for i in range(0,1000+1):\n",
    "    url = f'https://sistemaswebb3-listados.b3.com.br/listedCompaniesPage/main/{i}/ABCD/overview?language=pt-br'\n",
    "    print(url)"
   ]
  }
 ],
 "metadata": {
  "kernelspec": {
   "display_name": ".venv",
   "language": "python",
   "name": "python3"
  },
  "language_info": {
   "codemirror_mode": {
    "name": "ipython",
    "version": 3
   },
   "file_extension": ".py",
   "mimetype": "text/x-python",
   "name": "python",
   "nbconvert_exporter": "python",
   "pygments_lexer": "ipython3",
   "version": "3.10.6"
  }
 },
 "nbformat": 4,
 "nbformat_minor": 2
}
