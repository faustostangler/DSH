{
 "cells": [
  {
   "cell_type": "code",
   "execution_count": 2,
   "metadata": {},
   "outputs": [],
   "source": [
    "import assets.helper as b3\n",
    "import assets.functions as run\n"
   ]
  },
  {
   "cell_type": "code",
   "execution_count": 3,
   "metadata": {},
   "outputs": [],
   "source": [
    "import pandas as pd\n",
    "import numpy as np\n",
    "import os\n",
    "\n",
    "import assets.graphs as g\n"
   ]
  },
  {
   "cell_type": "markdown",
   "metadata": {},
   "source": [
    "### QUOTES PRICES"
   ]
  },
  {
   "cell_type": "code",
   "execution_count": null,
   "metadata": {},
   "outputs": [],
   "source": [
    "fund = run.load_pkl(f'{b3.app_folder}/fund')\n",
    "quotes = run.load_pkl(f'{b3.app_folder}/quotes')\n"
   ]
  },
  {
   "cell_type": "code",
   "execution_count": null,
   "metadata": {},
   "outputs": [],
   "source": [
    "fund.keys(), fund['BENS INDUSTRIAIS'].columns"
   ]
  },
  {
   "cell_type": "code",
   "execution_count": null,
   "metadata": {},
   "outputs": [],
   "source": [
    "quotes.keys(), quotes['AERIS'].keys()"
   ]
  },
  {
   "cell_type": "code",
   "execution_count": null,
   "metadata": {},
   "outputs": [],
   "source": []
  },
  {
   "cell_type": "code",
   "execution_count": null,
   "metadata": {},
   "outputs": [],
   "source": []
  },
  {
   "cell_type": "code",
   "execution_count": null,
   "metadata": {},
   "outputs": [],
   "source": [
    "df_preplot = {}\n",
    "start_time = run.time.time()\n",
    "\n",
    "for i, (setor, df_fund) in enumerate(fund.items()):\n",
    "    df_fund = preprocess_data(df_fund)\n",
    "    df_cd_conta = pivot_data(df_fund)\n",
    "\n",
    "    df_unique = df_fund.drop_duplicates(subset=['DT_REFER', 'PREGAO']).drop(['CD_CONTA', 'DS_CONTA', 'VL_CONTA'], axis=1)\n",
    "    df_premerged = pd.merge(df_unique, df_cd_conta, on=['DT_REFER', 'PREGAO'])\n",
    "    df_resampled = resample_data(df_premerged)\n",
    "    \n",
    "    df_merged = merge_with_bigdata(df_resampled, bigdata)\n",
    "    df_merged = df_merged.set_index('Date', drop=True)\n",
    "    df_merged = df_merged.groupby('PREGAO', group_keys=False).apply(add_metrics)\n",
    "\n",
    "    # Clean up the dataframe using the cleanup_dataframe function\n",
    "    df_merged = cleanup_dataframe(df_merged)\n",
    "\n",
    "    df_merged = add_metrics(df_merged)\n",
    "\n",
    "    df_preplot[setor] = df_merged\n",
    "\n",
    "    print(setor, run.remaining_time(start_time, len(fund), i))\n"
   ]
  },
  {
   "cell_type": "code",
   "execution_count": null,
   "metadata": {},
   "outputs": [],
   "source": [
    "# Define the path to the folder\n",
    "company_folder = 'company'\n",
    "folder_path = os.path.join(b3.app_folder, company_folder)\n",
    "\n",
    "# Check if the folder does not exist\n",
    "if not os.path.exists(folder_path):\n",
    "    # Create the folder\n",
    "    os.makedirs(folder_path)\n"
   ]
  },
  {
   "cell_type": "code",
   "execution_count": null,
   "metadata": {},
   "outputs": [],
   "source": [
    "start_time = run.time.time()\n",
    "for i, (setor, df) in enumerate(df_preplot.items()):\n",
    "    companies = df['PREGAO'].unique()\n",
    "    for i2, company in enumerate(companies):\n",
    "        mask = df['PREGAO'] == company\n",
    "        df_temp = df[mask]\n",
    "        try:\n",
    "            df_temp = run.save_pkl(df_temp, f'{b3.app_folder}/{company_folder}/{company}')\n",
    "        except Exception as e:\n",
    "            pass\n",
    "    print(setor, run.remaining_time(start_time, len(df_preplot), i))\n"
   ]
  },
  {
   "cell_type": "code",
   "execution_count": null,
   "metadata": {},
   "outputs": [],
   "source": [
    "mask = df_preplot['BENS INDUSTRIAIS']['TICKER'] == 'AERI3'\n",
    "df_preplot['BENS INDUSTRIAIS'][mask]"
   ]
  },
  {
   "cell_type": "code",
   "execution_count": null,
   "metadata": {},
   "outputs": [],
   "source": []
  },
  {
   "cell_type": "markdown",
   "metadata": {},
   "source": [
    "### DASH"
   ]
  },
  {
   "cell_type": "code",
   "execution_count": 3,
   "metadata": {},
   "outputs": [],
   "source": [
    "company = 'AZEVEDO'\n",
    "df = run.load_pkl(f'{b3.app_folder}/{b3.company_folder}/{company}')\n",
    "tickers = df['TICKER'].unique()\n",
    "# df.columns.to_list()"
   ]
  },
  {
   "cell_type": "code",
   "execution_count": null,
   "metadata": {},
   "outputs": [],
   "source": [
    "df['03.11 - Lucro Líquido']\n",
    "df['14.04.01 - ROE (Resultado por Patrimônio)']\n",
    "df['03.01 - Receita Bruta']\n",
    "df['06.01 - Caixa das Operações']\n",
    "\n",
    "\n",
    "\n"
   ]
  },
  {
   "cell_type": "code",
   "execution_count": null,
   "metadata": {},
   "outputs": [],
   "source": [
    "graphs = g.construct_graphs(df)\n",
    "graphs.keys()"
   ]
  },
  {
   "cell_type": "code",
   "execution_count": null,
   "metadata": {},
   "outputs": [],
   "source": [
    "import assets.lines\n",
    "lines = assets.lines.report\n",
    "groups = set(entry['title'][:2] for entry in lines)\n",
    "groups"
   ]
  },
  {
   "cell_type": "code",
   "execution_count": null,
   "metadata": {},
   "outputs": [],
   "source": [
    "for g, (group_key, group) in enumerate(graphs.items()):\n",
    "    status = True if g == 0 else False\n",
    "    plots = []\n",
    "    for l, (line_key, line) in enumerate(group.items()):\n",
    "        for p, (plot_key, plot_info) in enumerate(line.items()):\n",
    "            for ticker in df['TICKER'].unique():\n",
    "                df_ticker = df[df['TICKER'] == ticker]\n",
    "                if not df.empty:\n",
    "                    print(group[0][0]['info']['title'])\n",
    "                    print(line[0]['info']['title'])\n",
    "                    print(plot_info['info']['title'])\n",
    "                    run.plot_tweak(plot_info, df_ticker).show();"
   ]
  },
  {
   "cell_type": "code",
   "execution_count": null,
   "metadata": {},
   "outputs": [],
   "source": [
    "for ticker in tickers:\n",
    "    df = df[df['TICKER'] == ticker]\n",
    "    print(ticker, len(df))\n",
    "\n",
    "    if not df.empty:\n",
    "        for g, (group_key, group) in enumerate(merged_entries.items()):\n",
    "            status = True if g == 0 else False\n",
    "            plots = []\n",
    "            for l, (line_key, line) in enumerate(group.items()):\n",
    "                for p, (plot_key, plot_info) in enumerate(line.items()):\n",
    "                    print(ticker)\n",
    "                    run.plot_tweak(plot_info, df).show();"
   ]
  },
  {
   "cell_type": "code",
   "execution_count": null,
   "metadata": {},
   "outputs": [],
   "source": []
  },
  {
   "cell_type": "code",
   "execution_count": null,
   "metadata": {},
   "outputs": [],
   "source": []
  },
  {
   "cell_type": "code",
   "execution_count": null,
   "metadata": {},
   "outputs": [],
   "source": [
    "fund = run.load_database()\n"
   ]
  },
  {
   "cell_type": "code",
   "execution_count": null,
   "metadata": {},
   "outputs": [],
   "source": [
    "setores = []\n",
    "for setor, df in fund.items():\n",
    "    columns=['SETOR', 'SUBSETOR', 'SEGMENTO', 'PREGAO']\n",
    "    setores.append(df[columns].drop_duplicates())\n",
    "    print(setor)\n",
    "sss = pd.concat(setores)\n",
    "sss = sss.applymap(run.clean_text)\n",
    "\n",
    "sss = run.save_pkl(sss, f'{b3.app_folder}/sss')"
   ]
  },
  {
   "cell_type": "code",
   "execution_count": null,
   "metadata": {},
   "outputs": [],
   "source": [
    "sss"
   ]
  },
  {
   "cell_type": "code",
   "execution_count": null,
   "metadata": {},
   "outputs": [],
   "source": [
    "mask = sss['SUBSETOR'] == 'MATERIAL DE TRANSPORTE'\n",
    "sss[mask]"
   ]
  },
  {
   "cell_type": "markdown",
   "metadata": {},
   "source": [
    "### Playground\n"
   ]
  },
  {
   "cell_type": "code",
   "execution_count": 8,
   "metadata": {},
   "outputs": [
    {
     "data": {
      "text/html": [
       "<div>\n",
       "<style scoped>\n",
       "    .dataframe tbody tr th:only-of-type {\n",
       "        vertical-align: middle;\n",
       "    }\n",
       "\n",
       "    .dataframe tbody tr th {\n",
       "        vertical-align: top;\n",
       "    }\n",
       "\n",
       "    .dataframe thead th {\n",
       "        text-align: right;\n",
       "    }\n",
       "</style>\n",
       "<table border=\"1\" class=\"dataframe\">\n",
       "  <thead>\n",
       "    <tr style=\"text-align: right;\">\n",
       "      <th></th>\n",
       "      <th>COMPANHIA</th>\n",
       "      <th>PREGAO</th>\n",
       "      <th>TICK</th>\n",
       "      <th>LISTAGEM</th>\n",
       "    </tr>\n",
       "  </thead>\n",
       "  <tbody>\n",
       "    <tr>\n",
       "      <th>0</th>\n",
       "      <td>1461 INVESTIMENTOS SA</td>\n",
       "      <td>1461 INVEST</td>\n",
       "      <td>UQMU</td>\n",
       "      <td></td>\n",
       "    </tr>\n",
       "    <tr>\n",
       "      <th>1</th>\n",
       "      <td>3R PETROLEUM OLEO E GAS SA</td>\n",
       "      <td>3R PETROLEUM</td>\n",
       "      <td>RRRP</td>\n",
       "      <td>NM</td>\n",
       "    </tr>\n",
       "    <tr>\n",
       "      <th>2</th>\n",
       "      <td>3R POTIGUAR SA</td>\n",
       "      <td>3RPOTIGUAR</td>\n",
       "      <td>PTGU</td>\n",
       "      <td></td>\n",
       "    </tr>\n",
       "    <tr>\n",
       "      <th>3</th>\n",
       "      <td>3Z REALTY DESENVOLVIMENTO IMOBILIARIO SA</td>\n",
       "      <td>3ZREALTY</td>\n",
       "      <td>TZRD</td>\n",
       "      <td></td>\n",
       "    </tr>\n",
       "    <tr>\n",
       "      <th>4</th>\n",
       "      <td>524 PARTICIPACOES SA</td>\n",
       "      <td>524 PARTICIP</td>\n",
       "      <td>QVQP</td>\n",
       "      <td>MB</td>\n",
       "    </tr>\n",
       "    <tr>\n",
       "      <th>...</th>\n",
       "      <td>...</td>\n",
       "      <td>...</td>\n",
       "      <td>...</td>\n",
       "      <td>...</td>\n",
       "    </tr>\n",
       "    <tr>\n",
       "      <th>2558</th>\n",
       "      <td>YUNY INCORPORADORA SA</td>\n",
       "      <td>YUNY</td>\n",
       "      <td>YUNY</td>\n",
       "      <td></td>\n",
       "    </tr>\n",
       "    <tr>\n",
       "      <th>2559</th>\n",
       "      <td>ZA DIGITAL SP SIST ESTACIONAMENTO ROTARIVO SA</td>\n",
       "      <td>Z.A DIGITAL</td>\n",
       "      <td>ZZDT</td>\n",
       "      <td></td>\n",
       "    </tr>\n",
       "    <tr>\n",
       "      <th>2560</th>\n",
       "      <td>ZAMP SA</td>\n",
       "      <td>ZAMP S.A.</td>\n",
       "      <td>ZAMP</td>\n",
       "      <td>NM</td>\n",
       "    </tr>\n",
       "    <tr>\n",
       "      <th>2561</th>\n",
       "      <td>ZEMA CIA DE PETROLEO</td>\n",
       "      <td>ZEMA</td>\n",
       "      <td>ZMPT</td>\n",
       "      <td></td>\n",
       "    </tr>\n",
       "    <tr>\n",
       "      <th>2562</th>\n",
       "      <td>ZION CAPITAL SA</td>\n",
       "      <td>ZIONCAPITAL</td>\n",
       "      <td>ZION</td>\n",
       "      <td></td>\n",
       "    </tr>\n",
       "  </tbody>\n",
       "</table>\n",
       "<p>2563 rows × 4 columns</p>\n",
       "</div>"
      ],
      "text/plain": [
       "                                          COMPANHIA        PREGAO  TICK  \\\n",
       "0                             1461 INVESTIMENTOS SA   1461 INVEST  UQMU   \n",
       "1                        3R PETROLEUM OLEO E GAS SA  3R PETROLEUM  RRRP   \n",
       "2                                    3R POTIGUAR SA    3RPOTIGUAR  PTGU   \n",
       "3          3Z REALTY DESENVOLVIMENTO IMOBILIARIO SA      3ZREALTY  TZRD   \n",
       "4                              524 PARTICIPACOES SA  524 PARTICIP  QVQP   \n",
       "...                                             ...           ...   ...   \n",
       "2558                          YUNY INCORPORADORA SA          YUNY  YUNY   \n",
       "2559  ZA DIGITAL SP SIST ESTACIONAMENTO ROTARIVO SA   Z.A DIGITAL  ZZDT   \n",
       "2560                                        ZAMP SA     ZAMP S.A.  ZAMP   \n",
       "2561                           ZEMA CIA DE PETROLEO          ZEMA  ZMPT   \n",
       "2562                                ZION CAPITAL SA   ZIONCAPITAL  ZION   \n",
       "\n",
       "     LISTAGEM  \n",
       "0              \n",
       "1          NM  \n",
       "2              \n",
       "3              \n",
       "4          MB  \n",
       "...       ...  \n",
       "2558           \n",
       "2559           \n",
       "2560       NM  \n",
       "2561           \n",
       "2562           \n",
       "\n",
       "[2563 rows x 4 columns]"
      ]
     },
     "execution_count": 8,
     "metadata": {},
     "output_type": "execute_result"
    }
   ],
   "source": [
    "company_list = run.load_pkl('company_list')\n",
    "company_list"
   ]
  },
  {
   "cell_type": "code",
   "execution_count": 6,
   "metadata": {},
   "outputs": [
    {
     "data": {
      "text/plain": [
       "{'NM': 'Novo Mercado',\n",
       " 'N1': 'Nível 1 de Governança Corporativa',\n",
       " 'N2': 'Nível 2 de Governança Corporativa',\n",
       " 'MA': 'Bovespa Mais',\n",
       " 'M2': 'Bovespa Mais Nível 2',\n",
       " 'MB': 'Organização Tradicional OTC',\n",
       " 'DR1': 'BDR Nível 1',\n",
       " 'DR2': 'BDR Nível 2',\n",
       " 'DR3': 'BDR Nível 3',\n",
       " 'DRE': 'BDR ETF',\n",
       " 'DRN': 'BDR Não Patrocinado'}"
      ]
     },
     "execution_count": 6,
     "metadata": {},
     "output_type": "execute_result"
    }
   ],
   "source": [
    "listagem_siglas = ['NM', 'N1', 'N2', 'MA', 'M2', 'MB', 'DR1', 'DR2', 'DR3', 'DRE', 'DRN']\n",
    "listagem_extenso = ['Novo Mercado', 'Nível 1 de Governança Corporativa', 'Nível 2 de Governança Corporativa', 'Bovespa Mais', 'Bovespa Mais Nível 2', 'Organização Tradicional OTC', 'BDR Nível 1', 'BDR Nível 2', 'BDR Nível 3', 'BDR ETF', 'BDR Não Patrocinado']\n",
    "list_dict = dict(zip(listagem_siglas, listagem_extenso))\n",
    "list_dict"
   ]
  }
 ],
 "metadata": {
  "kernelspec": {
   "display_name": ".venv",
   "language": "python",
   "name": "python3"
  },
  "language_info": {
   "codemirror_mode": {
    "name": "ipython",
    "version": 3
   },
   "file_extension": ".py",
   "mimetype": "text/x-python",
   "name": "python",
   "nbconvert_exporter": "python",
   "pygments_lexer": "ipython3",
   "version": "3.10.6"
  }
 },
 "nbformat": 4,
 "nbformat_minor": 2
}
