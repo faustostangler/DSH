{
 "cells": [
  {
   "cell_type": "code",
   "execution_count": 1,
   "metadata": {},
   "outputs": [],
   "source": [
    "import assets.helper as b3\n",
    "import assets.functions as run\n"
   ]
  },
  {
   "cell_type": "code",
   "execution_count": 2,
   "metadata": {},
   "outputs": [],
   "source": [
    "import pandas as pd\n",
    "import numpy as np\n",
    "import os\n",
    "\n",
    "import assets.graphs as g\n"
   ]
  },
  {
   "cell_type": "markdown",
   "metadata": {},
   "source": [
    "### QUOTES PRICES"
   ]
  },
  {
   "cell_type": "code",
   "execution_count": null,
   "metadata": {},
   "outputs": [],
   "source": [
    "fund = run.load_pkl(f'{b3.app_folder}/fund')\n",
    "quotes = run.load_pkl(f'{b3.app_folder}/quotes')\n"
   ]
  },
  {
   "cell_type": "code",
   "execution_count": null,
   "metadata": {},
   "outputs": [],
   "source": [
    "fund.keys(), fund['BENS INDUSTRIAIS'].columns"
   ]
  },
  {
   "cell_type": "code",
   "execution_count": null,
   "metadata": {},
   "outputs": [],
   "source": [
    "quotes.keys(), quotes['AERIS'].keys()"
   ]
  },
  {
   "cell_type": "code",
   "execution_count": null,
   "metadata": {},
   "outputs": [],
   "source": []
  },
  {
   "cell_type": "code",
   "execution_count": null,
   "metadata": {},
   "outputs": [],
   "source": []
  },
  {
   "cell_type": "code",
   "execution_count": null,
   "metadata": {},
   "outputs": [],
   "source": [
    "df_preplot = {}\n",
    "start_time = run.time.time()\n",
    "\n",
    "for i, (setor, df_fund) in enumerate(fund.items()):\n",
    "    df_fund = preprocess_data(df_fund)\n",
    "    df_cd_conta = pivot_data(df_fund)\n",
    "\n",
    "    df_unique = df_fund.drop_duplicates(subset=['DT_REFER', 'PREGAO']).drop(['CD_CONTA', 'DS_CONTA', 'VL_CONTA'], axis=1)\n",
    "    df_premerged = pd.merge(df_unique, df_cd_conta, on=['DT_REFER', 'PREGAO'])\n",
    "    df_resampled = resample_data(df_premerged)\n",
    "    \n",
    "    df_merged = merge_with_bigdata(df_resampled, bigdata)\n",
    "    df_merged = df_merged.set_index('Date', drop=True)\n",
    "    df_merged = df_merged.groupby('PREGAO', group_keys=False).apply(add_metrics)\n",
    "\n",
    "    # Clean up the dataframe using the cleanup_dataframe function\n",
    "    df_merged = cleanup_dataframe(df_merged)\n",
    "\n",
    "    df_merged = add_metrics(df_merged)\n",
    "\n",
    "    df_preplot[setor] = df_merged\n",
    "\n",
    "    print(setor, run.remaining_time(start_time, len(fund), i))\n"
   ]
  },
  {
   "cell_type": "code",
   "execution_count": null,
   "metadata": {},
   "outputs": [],
   "source": [
    "# Define the path to the folder\n",
    "company_folder = 'company'\n",
    "folder_path = os.path.join(b3.app_folder, company_folder)\n",
    "\n",
    "# Check if the folder does not exist\n",
    "if not os.path.exists(folder_path):\n",
    "    # Create the folder\n",
    "    os.makedirs(folder_path)\n"
   ]
  },
  {
   "cell_type": "code",
   "execution_count": null,
   "metadata": {},
   "outputs": [],
   "source": [
    "start_time = run.time.time()\n",
    "for i, (setor, df) in enumerate(df_preplot.items()):\n",
    "    companies = df['PREGAO'].unique()\n",
    "    for i2, company in enumerate(companies):\n",
    "        mask = df['PREGAO'] == company\n",
    "        df_temp = df[mask]\n",
    "        try:\n",
    "            df_temp = run.save_pkl(df_temp, f'{b3.app_folder}/{company_folder}/{company}')\n",
    "        except Exception as e:\n",
    "            pass\n",
    "    print(setor, run.remaining_time(start_time, len(df_preplot), i))\n"
   ]
  },
  {
   "cell_type": "code",
   "execution_count": null,
   "metadata": {},
   "outputs": [],
   "source": [
    "mask = df_preplot['BENS INDUSTRIAIS']['TICKER'] == 'AERI3'\n",
    "df_preplot['BENS INDUSTRIAIS'][mask]"
   ]
  },
  {
   "cell_type": "code",
   "execution_count": null,
   "metadata": {},
   "outputs": [],
   "source": []
  },
  {
   "cell_type": "markdown",
   "metadata": {},
   "source": [
    "### DASH"
   ]
  },
  {
   "cell_type": "code",
   "execution_count": 3,
   "metadata": {},
   "outputs": [],
   "source": [
    "company = 'AZEVEDO'\n",
    "df = run.load_pkl(f'{b3.app_folder}/{b3.company_folder}/{company}')\n",
    "tickers = df['TICKER'].unique()\n",
    "# df.columns.to_list()"
   ]
  },
  {
   "cell_type": "code",
   "execution_count": null,
   "metadata": {},
   "outputs": [],
   "source": [
    "df['03.11 - Lucro Líquido']\n",
    "df['14.04.01 - ROE (Resultado por Patrimônio)']\n",
    "df['03.01 - Receita Bruta']\n",
    "df['06.01 - Caixa das Operações']\n",
    "\n",
    "\n",
    "\n"
   ]
  },
  {
   "cell_type": "code",
   "execution_count": null,
   "metadata": {},
   "outputs": [],
   "source": [
    "graphs = g.construct_graphs(df)\n",
    "graphs.keys()"
   ]
  },
  {
   "cell_type": "code",
   "execution_count": null,
   "metadata": {},
   "outputs": [],
   "source": [
    "import assets.lines\n",
    "lines = assets.lines.report\n",
    "groups = set(entry['title'][:2] for entry in lines)\n",
    "groups"
   ]
  },
  {
   "cell_type": "code",
   "execution_count": null,
   "metadata": {},
   "outputs": [],
   "source": [
    "for g, (group_key, group) in enumerate(graphs.items()):\n",
    "    status = True if g == 0 else False\n",
    "    plots = []\n",
    "    for l, (line_key, line) in enumerate(group.items()):\n",
    "        for p, (plot_key, plot_info) in enumerate(line.items()):\n",
    "            for ticker in df['TICKER'].unique():\n",
    "                df_ticker = df[df['TICKER'] == ticker]\n",
    "                if not df.empty:\n",
    "                    print(group[0][0]['info']['title'])\n",
    "                    print(line[0]['info']['title'])\n",
    "                    print(plot_info['info']['title'])\n",
    "                    run.plot_tweak(plot_info, df_ticker).show();"
   ]
  },
  {
   "cell_type": "code",
   "execution_count": null,
   "metadata": {},
   "outputs": [],
   "source": [
    "for ticker in tickers:\n",
    "    df = df[df['TICKER'] == ticker]\n",
    "    print(ticker, len(df))\n",
    "\n",
    "    if not df.empty:\n",
    "        for g, (group_key, group) in enumerate(merged_entries.items()):\n",
    "            status = True if g == 0 else False\n",
    "            plots = []\n",
    "            for l, (line_key, line) in enumerate(group.items()):\n",
    "                for p, (plot_key, plot_info) in enumerate(line.items()):\n",
    "                    print(ticker)\n",
    "                    run.plot_tweak(plot_info, df).show();"
   ]
  },
  {
   "cell_type": "code",
   "execution_count": null,
   "metadata": {},
   "outputs": [],
   "source": []
  },
  {
   "cell_type": "code",
   "execution_count": null,
   "metadata": {},
   "outputs": [],
   "source": []
  },
  {
   "cell_type": "code",
   "execution_count": null,
   "metadata": {},
   "outputs": [],
   "source": [
    "fund = run.load_database()\n"
   ]
  },
  {
   "cell_type": "code",
   "execution_count": null,
   "metadata": {},
   "outputs": [],
   "source": [
    "setores = []\n",
    "for setor, df in fund.items():\n",
    "    columns=['SETOR', 'SUBSETOR', 'SEGMENTO', 'PREGAO']\n",
    "    setores.append(df[columns].drop_duplicates())\n",
    "    print(setor)\n",
    "sss = pd.concat(setores)\n",
    "sss = sss.applymap(run.clean_text)\n",
    "\n",
    "sss = run.save_pkl(sss, f'{b3.app_folder}/sss')"
   ]
  },
  {
   "cell_type": "code",
   "execution_count": null,
   "metadata": {},
   "outputs": [],
   "source": [
    "sss"
   ]
  },
  {
   "cell_type": "code",
   "execution_count": null,
   "metadata": {},
   "outputs": [],
   "source": [
    "mask = sss['SUBSETOR'] == 'MATERIAL DE TRANSPORTE'\n",
    "sss[mask]"
   ]
  }
 ],
 "metadata": {
  "kernelspec": {
   "display_name": ".venv",
   "language": "python",
   "name": "python3"
  },
  "language_info": {
   "codemirror_mode": {
    "name": "ipython",
    "version": 3
   },
   "file_extension": ".py",
   "mimetype": "text/x-python",
   "name": "python",
   "nbconvert_exporter": "python",
   "pygments_lexer": "ipython3",
   "version": "3.10.6"
  }
 },
 "nbformat": 4,
 "nbformat_minor": 2
}
