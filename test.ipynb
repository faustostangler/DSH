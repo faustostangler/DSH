{
 "cells": [
  {
   "cell_type": "code",
   "execution_count": null,
   "metadata": {},
   "outputs": [],
   "source": [
    "import pandas as pd\n",
    "import os\n",
    "import assets.helper as b3\n"
   ]
  },
  {
   "cell_type": "code",
   "execution_count": null,
   "metadata": {},
   "outputs": [],
   "source": [
    "file_path = 'datasets/b3_companies.zip'"
   ]
  },
  {
   "cell_type": "code",
   "execution_count": null,
   "metadata": {},
   "outputs": [],
   "source": [
    "df = pd.read_pickle(file_path)  # Try to read the file as a pickle.\n"
   ]
  },
  {
   "cell_type": "code",
   "execution_count": null,
   "metadata": {},
   "outputs": [],
   "source": [
    "b3_companies = df"
   ]
  },
  {
   "cell_type": "code",
   "execution_count": null,
   "metadata": {},
   "outputs": [],
   "source": [
    "b3_companies.fillna('', inplace=True)\n"
   ]
  },
  {
   "cell_type": "code",
   "execution_count": null,
   "metadata": {},
   "outputs": [],
   "source": [
    "b3_companies.reset_index(drop=True, inplace=True)\n"
   ]
  },
  {
   "cell_type": "code",
   "execution_count": null,
   "metadata": {},
   "outputs": [],
   "source": [
    "b3_companies.drop_duplicates(inplace=True)\n"
   ]
  },
  {
   "cell_type": "code",
   "execution_count": null,
   "metadata": {},
   "outputs": [],
   "source": [
    "b3_companies"
   ]
  },
  {
   "attachments": {},
   "cell_type": "markdown",
   "metadata": {},
   "source": [
    "## PDF Download"
   ]
  },
  {
   "cell_type": "code",
   "execution_count": 1,
   "metadata": {},
   "outputs": [
    {
     "name": "stdout",
     "output_type": "stream",
     "text": [
      "1043146\n",
      "1043147\n"
     ]
    }
   ],
   "source": [
    "import assets.helper as b3\n",
    "import requests\n",
    "import json\n",
    "import base64\n",
    "from google.cloud import storage\n",
    "from io import BytesIO\n",
    "\n",
    "# Set the required properties\n",
    "codigoInstituicao = 2\n",
    "numeroProtocolo = 1043145\n",
    "token = '6LdVyiwaAAAAABobBnLknCD5VGGkmH9snlJBxCyr'\n",
    "versaoCaptcha = 'V3'\n",
    "\n",
    "\n",
    "# Send the request\n",
    "base_url = 'https://www.rad.cvm.gov.br/ENET/'\n",
    "url = base_url + \"frmExibirArquivoIPEExterno.aspx/ExibirPDF\"\n",
    "headers = {\"Content-Type\": \"application/json; charset=utf-8\"}\n",
    "\n",
    "for numeroProtocolo in range (1043146, 1043146+2):\n",
    "    # # Define the JSON payload\n",
    "    # data = {\n",
    "    #     \"codigoInstituicao\": codigoInstituicao,\n",
    "    #     \"numeroProtocolo\": numeroProtocolo,\n",
    "    #     \"token\": token,\n",
    "    #     \"versaoCaptcha\": versaoCaptcha, \n",
    "    # }\n",
    "    # response = requests.post(url, headers=headers, data=json.dumps(data))\n",
    "    # # Get the base64-encoded PDF data from the response\n",
    "    # pdf_data = response.json()['d']\n",
    "\n",
    "    # # Decode base64-encoded PDF data\n",
    "    # pdf_bytes = base64.b64decode(pdf_data)\n",
    "\n",
    "    # # Save PDF data to file\n",
    "    # with open(f\"{numeroProtocolo}.pdf\", \"wb\") as f:\n",
    "    #     f.write(pdf_bytes)\n",
    "\n",
    "    \n",
    "    url = f\"https://www.rad.cvm.gov.br/ENET/frmDownloadDocumento.aspx?Tela=ext&numSequencia=567876&numVersao=1&numProtocolo={numeroProtocolo}&descTipo=IPE&CodigoInstituicao=1\"\n",
    "    response = requests.get(url)\n",
    "\n",
    "    # Save PDF file to Google Cloud Service\n",
    "    # GCS configuration\n",
    "    destination_blob_name = f'{numeroProtocolo}.pdf'\n",
    "\n",
    "    # Initialize GCS client\n",
    "    client = storage.Client.from_service_account_json(b3.json_key_file)\n",
    "    bucket = client.get_bucket(b3.bucket_name)\n",
    "\n",
    "    # Upload the PDF file to GCS\n",
    "    blob = bucket.blob(destination_blob_name)\n",
    "    blob.upload_from_string(response.content, content_type='application/pdf')\n",
    "    # blob.upload_from_string(pdf_bytes, content_type='application/pdf')\n",
    "\n",
    "\n",
    "    print(numeroProtocolo)\n",
    "\n"
   ]
  }
 ],
 "metadata": {
  "kernelspec": {
   "display_name": ".venv",
   "language": "python",
   "name": "python3"
  },
  "language_info": {
   "codemirror_mode": {
    "name": "ipython",
    "version": 3
   },
   "file_extension": ".py",
   "mimetype": "text/x-python",
   "name": "python",
   "nbconvert_exporter": "python",
   "pygments_lexer": "ipython3",
   "version": "3.10.6"
  },
  "orig_nbformat": 4
 },
 "nbformat": 4,
 "nbformat_minor": 2
}
