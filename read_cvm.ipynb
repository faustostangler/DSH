{
 "cells": [
  {
   "cell_type": "markdown",
   "metadata": {},
   "source": [
    "## Imports and Defs"
   ]
  },
  {
   "cell_type": "code",
   "execution_count": 1,
   "metadata": {},
   "outputs": [],
   "source": [
    "import assets.helper as b3\n",
    "import assets.functions as run\n",
    "\n",
    "from typing import Dict, Union, List, Optional, Any\n",
    "\n",
    "import pandas as pd\n",
    "import numpy as np\n",
    "import plotly.express as px\n",
    "import os\n",
    "import plotly.io as pio\n",
    "import plotly.graph_objects as go\n",
    "import plotly.graph_objects as go\n",
    "from plotly.graph_objs import Figure\n",
    "from plotly.subplots import make_subplots\n",
    "\n",
    "import math\n"
   ]
  },
  {
   "cell_type": "markdown",
   "metadata": {},
   "source": [
    "## Content"
   ]
  },
  {
   "cell_type": "markdown",
   "metadata": {},
   "source": [
    "#### Merge Mix and Match all"
   ]
  },
  {
   "cell_type": "code",
   "execution_count": null,
   "metadata": {},
   "outputs": [],
   "source": [
    "try:\n",
    "    math = run.load_pkl(f'{b3.app_folder}math')\n",
    "except Exception as e:\n",
    "    math = run.get_math()\n",
    "    math = run.save_pkl(math, f'{b3.app_folder}math')\n"
   ]
  },
  {
   "cell_type": "code",
   "execution_count": null,
   "metadata": {},
   "outputs": [],
   "source": [
    "\n",
    "try:\n",
    "    setorial = run.load_pkl(f'{b3.app_folder}setorial')\n",
    "except Exception as e:\n",
    "    setorial = run.get_classificacao_setorial(setorial='')\n",
    "    setorial = run.save_pkl(setorial, f'{b3.app_folder}setorial')\n",
    "# setorial.head(3)"
   ]
  },
  {
   "cell_type": "code",
   "execution_count": null,
   "metadata": {},
   "outputs": [],
   "source": [
    "\n",
    "try:\n",
    "    b3_cvm = run.load_pkl(f'{b3.app_folder}b3_cvm')\n",
    "except Exception as e:\n",
    "    b3_cvm = run.b3_grab(b3.search_url)\n",
    "    b3_cvm = run.save_pkl(b3_cvm, f'{b3.app_folder}b3_cvm')\n"
   ]
  },
  {
   "cell_type": "code",
   "execution_count": null,
   "metadata": {},
   "outputs": [],
   "source": [
    "# SETOR: O setor econômico mais amplo ao qual a empresa pertence.\n",
    "# SUBSETOR: Uma categorização mais específica dentro do setor mais amplo.\n",
    "# SEGMENTO: Uma classificação ainda mais granular do negócio da empresa.\n",
    "# DENOM_CIA: Esta é a denominação ou nome da empresa.\n",
    "# COMPANHIA: Nome ou denominação oficial da empresa listada.\n",
    "# PREGAO: Refere-se ao nome pelo qual a empresa é conhecida no pregão da bolsa de valores.\n",
    "# LISTAGEM: Categoria ou segmento de listagem da empresa na bolsa de valores, que pode indicar o nível de governança corporativa ou outros critérios.\n",
    "# TICK: Abreviação ou símbolo da empresa usada no mercado de ações.\n",
    "# TICKERS: Símbolos de negociação da empresa em diferentes mercados ou plataformas.\n",
    "# CD_CVM: Este poderia ser um código ou identificador único relacionado à empresa, possivelmente relacionado à Comissão de Valores Mobiliários do Brasil (CVM).\n",
    "# CVM: Código ou identificador relacionado à empresa na Comissão de Valores Mobiliários, o órgão regulador do mercado de capitais no Brasil.\n",
    "# ISIN: Número de Identificação Internacional de Valores Mobiliários – um identificador único para valores mobiliários.\n",
    "# CNPJ_CIA: Este é o número do Cadastro Nacional da Pessoa Jurídica (CNPJ) da empresa, um identificador único para empresas no Brasil.\n",
    "# CNPJ: Cadastro Nacional da Pessoa Jurídica – é o número de identificação das empresas brasileiras.\n",
    "# SITE: Site oficial ou página relevante da empresa.\n",
    "# ATIVIDADE: Descreve a principal atividade de negócios da empresa.\n",
    "\n",
    "# ANO: Este é o ano ao qual os dados se referem.\n",
    "# DT_REFER: Esta é a data de referência para a entrada de dados.\n",
    "# DT_FIM_EXERC: Esta é a data final para o exercício ou período de relato financeiro.\n",
    "# DT_INI_EXERC: Esta poderia ser a data inicial para o exercício ou período de relato financeiro.\n",
    "\n",
    "# AGRUPAMENTO: Isso descreve o nível de agregação dos dados. Por exemplo, 'con' pode indicar dados consolidados.\n",
    "# BALANCE_SHEET: Isso indica a seção específica da demonstração financeira, como Balanço Patrimonial ('BPA').\n",
    "# GRUPO_DFP: Isso representa o tipo de grupo de demonstração financeira. Por exemplo, 'DF Consolidado - Balanço Patrimonial Ativo' sugere que é um balanço patrimonial consolidado focado em ativos.\n",
    "# CD_CONTA: Este poderia ser um código ou identificador único relacionado a uma conta específica ou item de linha na demonstração financeira.\n",
    "# DS_CONTA: Descreve a conta específica ou item de linha na demonstração financeira, como 'Ativo Total'.\n",
    "\n",
    "# VL_CONTA: Representa o valor associado à conta específica ou item de linha.\n",
    "# MOEDA: Isso indica a moeda na qual os valores são representados. 'REAL' sugere Real Brasileiro.\n",
    "# ESCALA_MOEDA: Isso fornece a escala ou unidade para os valores monetários. 'MIL' pode indicar que os valores estão em milhares.\n",
    "\n",
    "# ST_CONTA_FIXA: Pode indicar o status ou tipo de conta. O significado de valores como 'S' dependeria do contexto dos dados.\n",
    "# COLUNA_DF: O propósito desta coluna não é imediatamente claro a partir da amostra. Pode representar algum tipo de classificação ou categorização relacionada aos dados financeiros.\n",
    "\n",
    "# ESCRITURADOR: Entidade ou empresa responsável por registrar ou gerenciar os valores mobiliários da empresa.\n",
    "# ACIONISTAS: Informações ou identificadores relacionados aos acionistas da empresa.\n",
    "\n",
    "# FILENAME: Este é o arquivo de onde os dados são originados. Ele fornece o nome do arquivo que contém a respectiva entrada de dados.\n",
    "# DEMONSTRATIVO: Este representa o tipo de demonstração financeira. Pode indicar se os dados são de um relatório intermediário (como 'itr') ou de outro tipo de relatório financeiro.\n",
    "# VERSAO: Isso pode representar a versão ou iteração dos dados/relatórios financeiros.\n",
    "\n",
    "columns = [\n",
    "    'SETOR_x',\n",
    "    'SUBSETOR_x',\n",
    "    'SEGMENTO_x',\n",
    "    'DENOM_CIA',\n",
    "        # 'COMPANHIA',\n",
    "    'PREGAO',\n",
    "    'LISTAGEM',\n",
    "    'TICK',\n",
    "    'TICKERS',\n",
    "    'CD_CVM',\n",
    "        # 'CVM',\n",
    "        # 'ISIN',\n",
    "    'CNPJ_CIA',\n",
    "        # 'CNPJ',\n",
    "    'SITE',\n",
    "    'ATIVIDADE',\n",
    "        # 'ANO',\n",
    "    'DT_REFER',\n",
    "        # 'DT_FIM_EXERC',\n",
    "        # 'DT_INI_EXERC',\n",
    "    'AGRUPAMENTO',\n",
    "    'BALANCE_SHEET',\n",
    "    # 'GRUPO_DFP',\n",
    "    'CD_CONTA',\n",
    "    'DS_CONTA',\n",
    "    'VL_CONTA',\n",
    "    # 'MOEDA',\n",
    "    # 'ESCALA_MOEDA',\n",
    "    # 'ST_CONTA_FIXA',\n",
    "    # 'COLUNA_DF',\n",
    "    'ESCRITURADOR',\n",
    "    'ACIONISTAS', \n",
    "    # 'FILENAME', \n",
    "    # 'DEMONSTRATIVO', \n",
    "    # 'VERSAO',\n",
    "]\n"
   ]
  },
  {
   "cell_type": "code",
   "execution_count": null,
   "metadata": {},
   "outputs": [],
   "source": [
    "b3_cvm.keys()"
   ]
  },
  {
   "cell_type": "code",
   "execution_count": null,
   "metadata": {},
   "outputs": [],
   "source": [
    "columns = ['FILENAME', 'DEMONSTRATIVO', 'BALANCE_SHEET', 'ANO', 'AGRUPAMENTO',\n",
    "       'CNPJ_CIA', 'DT_REFER', 'VERSAO', 'DENOM_CIA', 'CD_CVM', 'GRUPO_DFP',\n",
    "       'MOEDA', 'ESCALA_MOEDA', 'DT_FIM_EXERC', 'CD_CONTA', 'DS_CONTA',\n",
    "       'VL_CONTA', 'ST_CONTA_FIXA', 'DT_INI_EXERC', 'COLUNA_DF', 'COMPANHIA',\n",
    "       'PREGAO', 'TICK', 'LISTAGEM', 'TICKERS', 'ISIN', \n",
    "       'ATIVIDADE', 'SETOR', 'SUBSETOR', 'SEGMENTO', 'SITE', 'ESCRITURADOR',]\n",
    "df = b3_cvm['CONSUMO CICLICO'][columns].set_index('DT_REFER')\n",
    "df = convert_columns(df)\n",
    "df['DENOM_CIA'].unique()"
   ]
  },
  {
   "cell_type": "markdown",
   "metadata": {},
   "source": [
    "#### Acoes\n"
   ]
  },
  {
   "cell_type": "code",
   "execution_count": null,
   "metadata": {},
   "outputs": [],
   "source": [
    "acoes = run.load_pkl(f'{b3.app_folder}acoes')\n",
    "# Process the data and return the result\n",
    "acoes['Trimestre'] = pd.to_datetime(acoes['Trimestre'], errors='coerce', dayfirst=True)\n",
    "acoes['BALANCE_SHEET'] = 'STK'\n",
    "column_mapping = {\n",
    "    'Ações ON': '00.01.01',\n",
    "    'Ações PN': '00.02.01',\n",
    "    'Ações ON em Tesouraria': '00.01.02',\n",
    "    'Ações PN em Tesouraria': '00.02.02'\n",
    "}\n",
    "acoes = acoes.rename(columns={\"Companhia\": \"DENOM_CIA\", \"Trimestre\": \"DT_REFER\"})\n",
    "\n",
    "acoes = acoes.melt(id_vars=['DENOM_CIA', 'DT_REFER', 'BALANCE_SHEET'], \n",
    "                        value_vars=['Ações ON', 'Ações PN', 'Ações ON em Tesouraria', 'Ações PN em Tesouraria'],\n",
    "                        var_name='DS_CONTA', value_name='VL_CONTA').sort_values(by=['DENOM_CIA', 'DT_REFER', 'DS_CONTA'])\n",
    "\n",
    "acoes['CD_CONTA'] = acoes['DS_CONTA'].map(column_mapping)\n"
   ]
  },
  {
   "cell_type": "code",
   "execution_count": null,
   "metadata": {},
   "outputs": [],
   "source": [
    "intel_b3 = run.load_pkl(f'{b3.app_folder}intel_b3')\n",
    "df = intel_b3['BENS INDUSTRIAIS']\n"
   ]
  },
  {
   "cell_type": "code",
   "execution_count": null,
   "metadata": {},
   "outputs": [],
   "source": []
  },
  {
   "cell_type": "code",
   "execution_count": null,
   "metadata": {},
   "outputs": [],
   "source": [
    "company = 'ARMAC LOCACAO LOGISTICA E SERVICOS SA'\n",
    "quarter = '2019-12-31'\n",
    "mc = acoes['DENOM_CIA'] == company\n",
    "mc &= acoes['DT_REFER'] == quarter\n",
    "acoesc = acoes[mc]\n",
    "\n",
    "mc = df['DENOM_CIA'] == company\n",
    "mc &= df['DT_REFER'] == quarter\n",
    "dfc = df[mc]\n",
    "\n",
    "df_ffill = pd.concat([dfc, acoesc], ignore_index=True).ffill()"
   ]
  },
  {
   "cell_type": "code",
   "execution_count": null,
   "metadata": {},
   "outputs": [],
   "source": [
    "def process_stock_data(group):\n",
    "    company, quarter = group.name\n",
    "    \n",
    "    # Filter acoes based on company and quarter\n",
    "    mc = acoes['DENOM_CIA'] == company\n",
    "    mc &= acoes['DT_REFER'] == quarter\n",
    "    acoesc = acoes[mc]\n",
    "\n",
    "    # Concatenate and ffill\n",
    "    return pd.concat([group, acoesc], ignore_index=True).ffill()\n",
    "\n",
    "result_df\n"
   ]
  },
  {
   "cell_type": "code",
   "execution_count": null,
   "metadata": {},
   "outputs": [],
   "source": []
  },
  {
   "cell_type": "code",
   "execution_count": null,
   "metadata": {},
   "outputs": [],
   "source": [
    "\n",
    "df_ffill"
   ]
  },
  {
   "cell_type": "code",
   "execution_count": null,
   "metadata": {},
   "outputs": [],
   "source": [
    "intelacoes = {}\n",
    "for setor, df in intel_b3.items():\n",
    "    print(setor)\n",
    "    df_concat = pd.concat([df.set_index(['DENOM_CIA', 'DT_REFER']), acoes.set_index(['DENOM_CIA', 'DT_REFER'])], axis=0, sort=False).reset_index()\n",
    "    filled_df = df_concat.groupby(['DENOM_CIA', 'DT_REFER'], group_keys=False).apply(lambda group: group.ffill().bfill()).reset_index()\n",
    "    intelacoes[setor] = filled_df\n"
   ]
  },
  {
   "cell_type": "code",
   "execution_count": null,
   "metadata": {},
   "outputs": [],
   "source": [
    "# Concatenate them vertically\n",
    "df_concat = pd.concat([df.set_index(['DENOM_CIA', 'DT_REFER']), acoes.set_index(['DENOM_CIA', 'DT_REFER'])], axis=0, sort=False).reset_index()"
   ]
  },
  {
   "cell_type": "code",
   "execution_count": null,
   "metadata": {},
   "outputs": [],
   "source": [
    "filled_df = df_concat.groupby(['DENOM_CIA', 'DT_REFER'], group_keys=False).apply(lambda group: group.ffill().bfill()).reset_index()\n"
   ]
  },
  {
   "cell_type": "code",
   "execution_count": null,
   "metadata": {},
   "outputs": [],
   "source": [
    "m = filled_df['DENOM_CIA'] == 'ARMAC LOCACAO LOGISTICA E SERVICOS SA'\n",
    "m &= filled_df['DT_REFER'] == '2019-12-31'\n",
    "m &= filled_df['BALANCE_SHEET'] == 'STK'\n",
    "\n",
    "filled_df[m][cols]"
   ]
  },
  {
   "cell_type": "code",
   "execution_count": null,
   "metadata": {},
   "outputs": [],
   "source": []
  },
  {
   "cell_type": "code",
   "execution_count": null,
   "metadata": {},
   "outputs": [],
   "source": []
  },
  {
   "cell_type": "code",
   "execution_count": null,
   "metadata": {},
   "outputs": [],
   "source": []
  },
  {
   "cell_type": "code",
   "execution_count": null,
   "metadata": {},
   "outputs": [],
   "source": []
  },
  {
   "cell_type": "markdown",
   "metadata": {},
   "source": [
    "#### Intel\n"
   ]
  },
  {
   "cell_type": "code",
   "execution_count": null,
   "metadata": {},
   "outputs": [],
   "source": []
  },
  {
   "cell_type": "code",
   "execution_count": null,
   "metadata": {},
   "outputs": [],
   "source": [
    "b3_cvm = run.load_pkl(f'{b3.app_folder}b3_cvm')\n"
   ]
  },
  {
   "cell_type": "code",
   "execution_count": null,
   "metadata": {},
   "outputs": [],
   "source": [
    "column_types = {'index': 'int',\n",
    " 'FILENAME': 'category',\n",
    " 'DEMONSTRATIVO': 'category',\n",
    " 'BALANCE_SHEET': 'category',\n",
    " 'ANO': 'category',\n",
    " 'AGRUPAMENTO': 'category',\n",
    " 'CNPJ_CIA': 'category',\n",
    " 'DT_REFER': 'object',\n",
    " 'VERSAO': 'category',\n",
    " 'DENOM_CIA': 'category',\n",
    " 'CD_CVM': 'category',\n",
    " 'GRUPO_DFP': 'category',\n",
    " 'MOEDA': 'category',\n",
    " 'ESCALA_MOEDA': 'category',\n",
    " 'DT_FIM_EXERC': 'object',\n",
    " 'CD_CONTA': 'category',\n",
    " 'DS_CONTA': 'category',\n",
    " 'VL_CONTA': 'float',\n",
    " 'ST_CONTA_FIXA': 'category',\n",
    " 'DT_INI_EXERC': 'object',\n",
    " 'COLUNA_DF': 'category',\n",
    " 'COMPANHIA': 'category',\n",
    " 'PREGAO': 'category',\n",
    " 'TICK': 'category',\n",
    " 'LISTAGEM': 'category',\n",
    " 'CVM': 'category',\n",
    " 'TICKERS': 'category',\n",
    " 'ISIN': 'category',\n",
    " 'CNPJ': 'category',\n",
    " 'ATIVIDADE': 'category',\n",
    " 'SETOR': 'category',\n",
    " 'SUBSETOR': 'category',\n",
    " 'SEGMENTO': 'category',\n",
    " 'SITE': 'category',\n",
    " 'ESCRITURADOR': 'category',\n",
    " 'CD_CONTA_original': 'category',\n",
    " 'DS_CONTA_original': 'category'}\n",
    "date_columns = ['DT_REFER', 'DT_FIM_EXERC', 'DT_INI_EXERC']\n"
   ]
  },
  {
   "cell_type": "code",
   "execution_count": null,
   "metadata": {},
   "outputs": [],
   "source": [
    "df = pd.read_csv('BENS INDUSTRIAIS_intel.csv', dtype=column_types, index_col='Unnamed: 0', parse_dates=True)\n",
    "# df = pd.read_csv('COMUNICACOES_df.csv')\n",
    "# df_typed = pd.read_csv(f)\n"
   ]
  },
  {
   "cell_type": "code",
   "execution_count": null,
   "metadata": {},
   "outputs": [],
   "source": [
    "# Criando um dicionário onde as chaves são os nomes das colunas e os valores são os valores únicos para cada coluna\n",
    "col_dict = {col: df[col].unique().tolist() for col in df.columns}\n",
    "df.columns"
   ]
  },
  {
   "cell_type": "code",
   "execution_count": null,
   "metadata": {},
   "outputs": [],
   "source": [
    "col_dict['BALANCE_SHEET']"
   ]
  },
  {
   "cell_type": "code",
   "execution_count": null,
   "metadata": {},
   "outputs": [],
   "source": [
    "df = df[['CNPJ_CIA', 'DENOM_CIA', 'DT_REFER', 'CD_CONTA', 'DS_CONTA', 'VL_CONTA', 'SETOR', 'SUBSETOR', 'SEGMENTO', 'DT_INI_EXERC', 'ATIVIDADE', 'SITE', 'ESCRITURADOR', 'FILENAME', 'DEMONSTRATIVO', 'BALANCE_SHEET', 'ANO', 'AGRUPAMENTO', 'VERSAO', 'GRUPO_DFP', 'MOEDA', 'ESCALA_MOEDA', 'ST_CONTA_FIXA', 'COLUNA_DF', 'COMPANHIA', 'TICKERS', 'CVM', 'ISIN', 'DT_FIM_EXERC', ]]\n",
    "# 'PREGAO', 'TICK', 'CD_CVM', 'LISTAGEM', # 'CD_CONTA_original', 'DS_CONTA_original', \n",
    "df"
   ]
  },
  {
   "cell_type": "code",
   "execution_count": null,
   "metadata": {},
   "outputs": [],
   "source": [
    "formulas_old = [\n",
    "    # Relações Entre Ativos e Passivos\n",
    "    ('_020302_reservas_de_capital', '_020303_reservas_de_reavaliacao', '_020304_reservas_de_lucros'),\n",
    "    # Dívida\n",
    "    ('_0201040101_emprestimos_e_financiamentos_em_moeda_nacional', '_0201040102_emprestimos_e_financiamentos_em_moeda_estrangeira', '_02010402_debentures', '_02010403_arrendamentos', '_02010409_outros_emprestimos_financiamentos_e_debentures'),\n",
    "    ('_0202010101_emprestimos_e_financiamentos_em_moeda_nacional', '_0202010102_emprestimos_e_financiamentos_em_moeda_estrangeira', '_02020102_debentures', '_02020103_arrendamentos', '_02020209_outros_emprestimos_financiamentos_e_debentures'),\n",
    "    ('_0201040102_emprestimos_e_financiamentos_em_moeda_estrangeira', '_0202010102_emprestimos_e_financiamentos_em_moeda_estrangeira'),\n",
    "    ('_010101_caixa_e_disponibilidades_de_caixa',),\n",
    "    ('_010202_investimentos_nao_capex', '_010203_imobilizados', '_010204_intangivel'),\n",
    "    ('_0305_lajir_ebit_resultado_antes_do_resultado_financeiro_e_dos_tributos', '_070401_depreciacao_e_amortizacao'),\n",
    "    # Resultados Fundamentalistas\n",
    "    ('_0203_patrimonio_liquido',),\n",
    "    ('_010101_caixa_e_disponibilidades_de_caixa',),\n",
    "    ('_070803_remuneracao_de_capital_de_terceiros', '_070804_remuneracao_de_capital_proprio'),\n",
    "    # Análise do Fluxo de Caixa\n",
    "    ('_0601_caixa_das_operacoes', '_0602_caixa_de_investimentos_capex'),\n",
    "    ('_0603_caixa_de_financiamento',),\n",
    "    ('_060201_investimentos', '_060202_imobilizado_e_intangivel'),\n",
    "]\n",
    "\n",
    "def de_transform_corrected(key):\n",
    "    # Strip the leading underscore and split at the first underscore\n",
    "    parts = key[1:].split('_', 1)\n",
    "\n",
    "    # Adjust code by inserting periods every two characters\n",
    "    code = '.'.join([parts[0][i:i+2] for i in range(0, len(parts[0]), 2)])\n",
    "    \n",
    "    # Adjust description capitalization\n",
    "    description = ' '.join([word.capitalize() if word not in ['e', 'de', 'do', 'dos', 'da', 'das', 'em'] else word.lower() for word in parts[1].split('_')])\n",
    "    \n",
    "    return code, description\n",
    "\n",
    "# De-transform the formulas using the corrected function\n",
    "formulas = []\n",
    "for group in formulas_old:\n",
    "    new_group = []\n",
    "    for key in group:\n",
    "        new_group.append(de_transform_corrected(key))\n",
    "    formulas.append(tuple(new_group))\n",
    "\n",
    "formulas\n"
   ]
  },
  {
   "cell_type": "code",
   "execution_count": null,
   "metadata": {},
   "outputs": [],
   "source": [
    "balance_sheet = df.groupby(['CNPJ_CIA', 'DT_REFER'], group_keys=True)\n",
    "balance_sheet.groups.keys()\n",
    "df_ = balance_sheet.get_group(('00.242.184/0001-04', '2019-12-31'))\n"
   ]
  },
  {
   "cell_type": "code",
   "execution_count": null,
   "metadata": {},
   "outputs": [],
   "source": [
    "# (, 'Emprestimos e Financiamentos em Moeda Estrangeira'),\n",
    "m = df['CD_CONTA'] == '07.08.04'\n",
    "df[m]"
   ]
  },
  {
   "cell_type": "code",
   "execution_count": null,
   "metadata": {},
   "outputs": [],
   "source": []
  },
  {
   "cell_type": "code",
   "execution_count": null,
   "metadata": {},
   "outputs": [],
   "source": []
  },
  {
   "cell_type": "code",
   "execution_count": null,
   "metadata": {},
   "outputs": [],
   "source": []
  },
  {
   "cell_type": "code",
   "execution_count": null,
   "metadata": {},
   "outputs": [],
   "source": []
  },
  {
   "cell_type": "markdown",
   "metadata": {},
   "source": [
    "##### Dados Abertos"
   ]
  },
  {
   "cell_type": "code",
   "execution_count": null,
   "metadata": {},
   "outputs": [],
   "source": []
  },
  {
   "cell_type": "code",
   "execution_count": null,
   "metadata": {},
   "outputs": [],
   "source": [
    "def read(file):\n",
    "    path = \"C:\\\\Users\\\\faust\\\\OneDrive\\\\Área de Trabalho\\\\dados abertos\\\\\"\n",
    "    df = pd.read_csv(path+file+\".csv\", sep=';', encoding='latin1')\n",
    "    return df.head(25)\n",
    "\n"
   ]
  },
  {
   "cell_type": "code",
   "execution_count": null,
   "metadata": {},
   "outputs": [],
   "source": [
    "file = \"fca_cia_aberta_2010\"\n",
    "fca_cia_aberta_2010 = read(file)\n",
    "# link para o NSD do formulário cadastral\n",
    "fca_cia_aberta_2010"
   ]
  },
  {
   "cell_type": "code",
   "execution_count": null,
   "metadata": {},
   "outputs": [],
   "source": [
    "file = \"fca_cia_aberta_auditor_2010\"\n",
    "fca_cia_aberta_auditor_2010 = read(file)\n",
    "# informações dos auditores CNPJ e CPF, datas dos auditores CPF\n",
    "fca_cia_aberta_auditor_2010"
   ]
  },
  {
   "cell_type": "code",
   "execution_count": null,
   "metadata": {},
   "outputs": [],
   "source": [
    "file = \"fca_cia_aberta_canal_divulgacao_2010\"\n",
    "fca_cia_aberta_canal_divulgacao_2010 = read(file)\n",
    "# Onde as DRE são divulgadas\n",
    "fca_cia_aberta_canal_divulgacao_2010"
   ]
  },
  {
   "cell_type": "code",
   "execution_count": null,
   "metadata": {},
   "outputs": [],
   "source": [
    "file = \"fca_cia_aberta_departamento_acionistas_2010\"\n",
    "fca_cia_aberta_departamento_acionistas_2010 = read(file)\n",
    "# Endereços dos DRI\n",
    "fca_cia_aberta_departamento_acionistas_2010"
   ]
  },
  {
   "cell_type": "code",
   "execution_count": null,
   "metadata": {},
   "outputs": [],
   "source": [
    "file = \"fca_cia_aberta_dri_2010\"\n",
    "fca_cia_aberta_dri_2010 = read(file)\n",
    "# NOMES e endereços dos DRI\n",
    "fca_cia_aberta_dri_2010"
   ]
  },
  {
   "cell_type": "code",
   "execution_count": null,
   "metadata": {},
   "outputs": [],
   "source": [
    "file = \"fca_cia_aberta_endereco_2010\"\n",
    "fca_cia_aberta_endereco_2010 = read(file)\n",
    "# Endereço completo do DRI\n",
    "fca_cia_aberta_endereco_2010"
   ]
  },
  {
   "cell_type": "code",
   "execution_count": null,
   "metadata": {},
   "outputs": [],
   "source": [
    "file = \"fca_cia_aberta_geral_2010\"\n",
    "fca_cia_aberta_geral_2010 = read(file)\n",
    "# Cadastro CVM, Atividade, Descrição e Controle Acionário\n",
    "fca_cia_aberta_geral_2010"
   ]
  },
  {
   "cell_type": "code",
   "execution_count": null,
   "metadata": {},
   "outputs": [],
   "source": [
    "file = \"fca_cia_aberta_pais_estrangeiro_negociacao_2010\"\n",
    "fca_cia_aberta_pais_estrangeiro_negociacao_2010 = read(file)\n",
    "# País estrangeiro... ?\n",
    "fca_cia_aberta_pais_estrangeiro_negociacao_2010"
   ]
  },
  {
   "cell_type": "code",
   "execution_count": null,
   "metadata": {},
   "outputs": [],
   "source": [
    "file = \"fca_cia_aberta_valor_mobiliario_2010\"\n",
    "fca_cia_aberta_valor_mobiliario_2010 = read(file)\n",
    "# Valor mobiliário, Mercado e Segmento\n",
    "fca_cia_aberta_valor_mobiliario_2010"
   ]
  },
  {
   "cell_type": "code",
   "execution_count": null,
   "metadata": {},
   "outputs": [],
   "source": [
    "file = \"fre_cia_aberta_2023\"\n",
    "fre_cia_aberta_2023 = read(file)\n",
    "# Link do Documento\n",
    "fre_cia_aberta_2023"
   ]
  },
  {
   "cell_type": "code",
   "execution_count": null,
   "metadata": {},
   "outputs": [],
   "source": [
    "file = \"fre_cia_aberta_acao_entregue_2023\"\n",
    "fre_cia_aberta_acao_entregue_2023 = read(file)\n",
    "# Remuneração da Diretoria\n",
    "fre_cia_aberta_acao_entregue_2023"
   ]
  },
  {
   "cell_type": "code",
   "execution_count": null,
   "metadata": {},
   "outputs": [],
   "source": [
    "file = \"fre_cia_aberta_administrador_declaracao_genero_2023\"\n",
    "fre_cia_aberta_administrador_declaracao_genero_2023 = read(file)\n",
    "# Gênero dos administradores\n",
    "fre_cia_aberta_administrador_declaracao_genero_2023"
   ]
  },
  {
   "cell_type": "code",
   "execution_count": null,
   "metadata": {},
   "outputs": [],
   "source": [
    "file = \"fre_cia_aberta_administrador_declaracao_raca_2023\"\n",
    "fre_cia_aberta_administrador_declaracao_raca_2023 = read(file)\n",
    "# Raça dos administradores\n",
    "fre_cia_aberta_administrador_declaracao_raca_2023"
   ]
  },
  {
   "cell_type": "code",
   "execution_count": null,
   "metadata": {},
   "outputs": [],
   "source": [
    "file = \"fre_cia_aberta_administrador_membro_conselho_fiscal_2023\"\n",
    "fre_cia_aberta_administrador_membro_conselho_fiscal_2023 = read(file)\n",
    "# Membros do Conselho Fiscal\n",
    "fre_cia_aberta_administrador_membro_conselho_fiscal_2023"
   ]
  },
  {
   "cell_type": "code",
   "execution_count": null,
   "metadata": {},
   "outputs": [],
   "source": [
    "file = \"fre_cia_aberta_ativo_imobilizado_2023\"\n",
    "fre_cia_aberta_ativo_imobilizado_2023 = read(file)\n",
    "# Ativos e Propriedades por empresa\n",
    "fre_cia_aberta_ativo_imobilizado_2023"
   ]
  },
  {
   "cell_type": "code",
   "execution_count": null,
   "metadata": {},
   "outputs": [],
   "source": [
    "file = \"fre_cia_aberta_ativo_intangivel_2023\"\n",
    "fre_cia_aberta_ativo_intangivel_2023 = read(file)\n",
    "# Ativos e Propriedades por empresa\n",
    "fre_cia_aberta_ativo_intangivel_2023"
   ]
  },
  {
   "cell_type": "code",
   "execution_count": null,
   "metadata": {},
   "outputs": [],
   "source": [
    "file = \"fre_cia_aberta_auditor_2023\"\n",
    "fre_cia_aberta_auditor_2023 = read(file)\n",
    "# Remuneração por auditor\n",
    "fre_cia_aberta_auditor_2023"
   ]
  },
  {
   "cell_type": "code",
   "execution_count": null,
   "metadata": {},
   "outputs": [],
   "source": [
    "file = \"fre_cia_aberta_auditor_responsavel_2023\"\n",
    "fre_cia_aberta_auditor_responsavel_2023 = read(file)\n",
    "# Endereço do Auditor\n",
    "fre_cia_aberta_auditor_responsavel_2023"
   ]
  },
  {
   "cell_type": "code",
   "execution_count": null,
   "metadata": {},
   "outputs": [],
   "source": [
    "file = \"fre_cia_aberta_capital_social_2023\"\n",
    "fre_cia_aberta_capital_social_2023 = read(file)\n",
    "# Modificações no Capital Social e Ações\n",
    "fre_cia_aberta_capital_social_2023"
   ]
  },
  {
   "cell_type": "code",
   "execution_count": null,
   "metadata": {},
   "outputs": [],
   "source": [
    "file = \"fre_cia_aberta_capital_social_aumento_2023\"\n",
    "fre_cia_aberta_capital_social_aumento_2023 = read(file)\n",
    "# Idem\n",
    "fre_cia_aberta_capital_social_aumento_2023"
   ]
  },
  {
   "cell_type": "code",
   "execution_count": null,
   "metadata": {},
   "outputs": [],
   "source": [
    "file = \"fre_cia_aberta_capital_social_aumento_classe_acao_2023\"\n",
    "fre_cia_aberta_capital_social_aumento_classe_acao_2023 = read(file)\n",
    "# Em branco\n",
    "fre_cia_aberta_capital_social_aumento_classe_acao_2023"
   ]
  },
  {
   "cell_type": "code",
   "execution_count": null,
   "metadata": {},
   "outputs": [],
   "source": [
    "file = \"fre_cia_aberta_capital_social_classe_acao_2023\"\n",
    "fre_cia_aberta_capital_social_classe_acao_2023 = read(file)\n",
    "# Preferencial Classe A, B e C\n",
    "fre_cia_aberta_capital_social_classe_acao_2023"
   ]
  },
  {
   "cell_type": "code",
   "execution_count": null,
   "metadata": {},
   "outputs": [],
   "source": [
    "file = \"fre_cia_aberta_capital_social_desdobramento_2023\"\n",
    "fre_cia_aberta_capital_social_desdobramento_2023 = read(file)\n",
    "# Desdobramentos de Ações\n",
    "fre_cia_aberta_capital_social_desdobramento_2023"
   ]
  },
  {
   "cell_type": "code",
   "execution_count": null,
   "metadata": {},
   "outputs": [],
   "source": [
    "file = \"fre_cia_aberta_capital_social_desdobramento_classe_acao_2023\"\n",
    "fre_cia_aberta_capital_social_desdobramento_classe_acao_2023 = read(file)\n",
    "# em branco\n",
    "fre_cia_aberta_capital_social_desdobramento_classe_acao_2023"
   ]
  },
  {
   "cell_type": "code",
   "execution_count": null,
   "metadata": {},
   "outputs": [],
   "source": [
    "file = \"fre_cia_aberta_capital_social_reducao_2023\"\n",
    "fre_cia_aberta_capital_social_reducao_2023 = read(file)\n",
    "# Redução de capital\n",
    "fre_cia_aberta_capital_social_reducao_2023"
   ]
  },
  {
   "cell_type": "code",
   "execution_count": null,
   "metadata": {},
   "outputs": [],
   "source": [
    "file = \"fre_cia_aberta_capital_social_titulo_conversivel_2023\"\n",
    "fre_cia_aberta_capital_social_titulo_conversivel_2023 = read(file)\n",
    "# Redução de capital\n",
    "fre_cia_aberta_capital_social_titulo_conversivel_2023"
   ]
  },
  {
   "cell_type": "code",
   "execution_count": null,
   "metadata": {},
   "outputs": [],
   "source": [
    "file = \"fre_cia_aberta_direito_acao_2023\"\n",
    "fre_cia_aberta_direito_acao_2023 = read(file)\n",
    "# ?\n",
    "fre_cia_aberta_direito_acao_2023"
   ]
  },
  {
   "cell_type": "code",
   "execution_count": null,
   "metadata": {},
   "outputs": [],
   "source": [
    "file = \"fre_cia_aberta_historico_emissor_2023\"\n",
    "fre_cia_aberta_historico_emissor_2023 = read(file)\n",
    "# Constituição do emissor e local\n",
    "fre_cia_aberta_historico_emissor_2023"
   ]
  },
  {
   "cell_type": "code",
   "execution_count": null,
   "metadata": {},
   "outputs": [],
   "source": [
    "file = \"fre_cia_aberta_informacao_financeira_2023\"\n",
    "fre_cia_aberta_informacao_financeira_2023 = read(file)\n",
    "# DRE Resumido\n",
    "fre_cia_aberta_informacao_financeira_2023"
   ]
  },
  {
   "cell_type": "code",
   "execution_count": null,
   "metadata": {},
   "outputs": [],
   "source": [
    "file = \"fre_cia_aberta_membro_comite_2023\"\n",
    "fre_cia_aberta_membro_comite_2023 = read(file)\n",
    "# CPF e Remuneração\n",
    "fre_cia_aberta_membro_comite_2023"
   ]
  },
  {
   "cell_type": "code",
   "execution_count": null,
   "metadata": {},
   "outputs": [],
   "source": [
    "file = \"fre_cia_aberta_obrigacao_2023\"\n",
    "fre_cia_aberta_obrigacao_2023 = read(file)\n",
    "# Obrigações e Dívidas\n",
    "fre_cia_aberta_obrigacao_2023"
   ]
  },
  {
   "cell_type": "code",
   "execution_count": null,
   "metadata": {},
   "outputs": [],
   "source": [
    "file = \"fre_cia_aberta_outro_valor_mobiliario_2023\"\n",
    "fre_cia_aberta_outro_valor_mobiliario_2023 = read(file)\n",
    "# ?\n",
    "fre_cia_aberta_outro_valor_mobiliario_2023"
   ]
  },
  {
   "cell_type": "code",
   "execution_count": null,
   "metadata": {},
   "outputs": [],
   "source": [
    "file = \"fre_cia_aberta_participacao_sociedade_2023\"\n",
    "fre_cia_aberta_participacao_sociedade_2023 = read(file)\n",
    "# Participações em outras empresas\n",
    "fre_cia_aberta_participacao_sociedade_2023"
   ]
  },
  {
   "cell_type": "code",
   "execution_count": null,
   "metadata": {},
   "outputs": [],
   "source": [
    "file = \"fre_cia_aberta_participacao_sociedade_valorizacao_acao_2023\"\n",
    "fre_cia_aberta_participacao_sociedade_valorizacao_acao_2023 = read(file)\n",
    "# ?\n",
    "fre_cia_aberta_participacao_sociedade_valorizacao_acao_2023"
   ]
  },
  {
   "cell_type": "code",
   "execution_count": null,
   "metadata": {},
   "outputs": [],
   "source": [
    "file = \"fre_cia_aberta_posicao_acionaria_2023\"\n",
    "fre_cia_aberta_posicao_acionaria_2023 = read(file)\n",
    "# Composição acionária por acionista majoritário\n",
    "fre_cia_aberta_posicao_acionaria_2023[['CNPJ_Companhia', 'Data_Referencia', 'Versao', 'ID_Documento',\n",
    "       'ID_Acionista', 'Acionista', 'Tipo_Pessoa_Acionista',\n",
    "       'CPF_CNPJ_Acionista', 'ID_Acionista_Relacionado',\n",
    "       'Acionista_Relacionado', 'Tipo_Pessoa_Acionista_Relacionado',\n",
    "       'CPF_CNPJ_Acionista_Relacionado',\n",
    "       'Quantidade_Acao_Ordinaria_Circulacao',\n",
    "       'Percentual_Acao_Ordinaria_Circulacao',\n",
    "       'Quantidade_Acao_Preferencial_Circulacao',\n",
    "       'Percentual_Acao_Preferencial_Circulacao',\n",
    "       'Quantidade_Total_Acoes_Circulacao',\n",
    "       'Percentual_Total_Acoes_Circulacao', ]]\n",
    "# fre_cia_aberta_posicao_acionaria_2023.columns\n"
   ]
  },
  {
   "cell_type": "code",
   "execution_count": null,
   "metadata": {},
   "outputs": [],
   "source": [
    "file = \"fre_cia_aberta_relacao_familiar_2023\"\n",
    "fre_cia_aberta_relacao_familiar_2023 = read(file)\n",
    "# Parentescos\n",
    "fre_cia_aberta_relacao_familiar_2023"
   ]
  },
  {
   "cell_type": "code",
   "execution_count": null,
   "metadata": {},
   "outputs": [],
   "source": [
    "file = \"fre_cia_aberta_relacao_subordinacao_2023\"\n",
    "fre_cia_aberta_relacao_subordinacao_2023 = read(file)\n",
    "# Subordnicação \n",
    "fre_cia_aberta_relacao_subordinacao_2023"
   ]
  },
  {
   "cell_type": "code",
   "execution_count": null,
   "metadata": {},
   "outputs": [],
   "source": [
    "file = \"fre_cia_aberta_transacao_parte_relacionada_2023\"\n",
    "fre_cia_aberta_transacao_parte_relacionada_2023 = read(file)\n",
    "# Partes relacionadas\n",
    "fre_cia_aberta_transacao_parte_relacionada_2023"
   ]
  },
  {
   "cell_type": "code",
   "execution_count": null,
   "metadata": {},
   "outputs": [],
   "source": []
  },
  {
   "cell_type": "code",
   "execution_count": null,
   "metadata": {},
   "outputs": [],
   "source": []
  },
  {
   "cell_type": "code",
   "execution_count": null,
   "metadata": {},
   "outputs": [],
   "source": []
  },
  {
   "cell_type": "code",
   "execution_count": null,
   "metadata": {},
   "outputs": [],
   "source": []
  },
  {
   "cell_type": "code",
   "execution_count": null,
   "metadata": {},
   "outputs": [],
   "source": []
  },
  {
   "cell_type": "code",
   "execution_count": null,
   "metadata": {},
   "outputs": [],
   "source": []
  },
  {
   "cell_type": "code",
   "execution_count": null,
   "metadata": {},
   "outputs": [],
   "source": []
  },
  {
   "cell_type": "code",
   "execution_count": null,
   "metadata": {},
   "outputs": [],
   "source": [
    "file = \"fre_cia_aberta_2023\"\n",
    "fre_cia_aberta_2023 = read(file)\n",
    "# Link do Documento\n",
    "fre_cia_aberta_2023"
   ]
  },
  {
   "cell_type": "code",
   "execution_count": null,
   "metadata": {},
   "outputs": [],
   "source": []
  },
  {
   "cell_type": "code",
   "execution_count": null,
   "metadata": {},
   "outputs": [],
   "source": []
  },
  {
   "cell_type": "code",
   "execution_count": null,
   "metadata": {},
   "outputs": [],
   "source": []
  },
  {
   "cell_type": "code",
   "execution_count": null,
   "metadata": {},
   "outputs": [],
   "source": []
  },
  {
   "cell_type": "code",
   "execution_count": null,
   "metadata": {},
   "outputs": [],
   "source": []
  },
  {
   "cell_type": "code",
   "execution_count": null,
   "metadata": {},
   "outputs": [],
   "source": []
  },
  {
   "cell_type": "code",
   "execution_count": null,
   "metadata": {},
   "outputs": [],
   "source": [
    "mudança commit só no main branch. E com atualização"
   ]
  },
  {
   "cell_type": "code",
   "execution_count": null,
   "metadata": {},
   "outputs": [],
   "source": []
  },
  {
   "cell_type": "code",
   "execution_count": null,
   "metadata": {},
   "outputs": [],
   "source": []
  },
  {
   "cell_type": "code",
   "execution_count": null,
   "metadata": {},
   "outputs": [],
   "source": []
  },
  {
   "cell_type": "code",
   "execution_count": null,
   "metadata": {},
   "outputs": [],
   "source": []
  },
  {
   "cell_type": "code",
   "execution_count": null,
   "metadata": {},
   "outputs": [],
   "source": []
  },
  {
   "cell_type": "code",
   "execution_count": null,
   "metadata": {},
   "outputs": [],
   "source": []
  },
  {
   "cell_type": "code",
   "execution_count": null,
   "metadata": {},
   "outputs": [],
   "source": []
  },
  {
   "cell_type": "code",
   "execution_count": null,
   "metadata": {},
   "outputs": [],
   "source": []
  },
  {
   "cell_type": "code",
   "execution_count": null,
   "metadata": {},
   "outputs": [],
   "source": []
  },
  {
   "cell_type": "code",
   "execution_count": null,
   "metadata": {},
   "outputs": [],
   "source": []
  },
  {
   "cell_type": "code",
   "execution_count": null,
   "metadata": {},
   "outputs": [],
   "source": [
    "def plot_group(cias_por_setor, window):\n",
    "    for company, group_df in cias_por_setor:\n",
    "        try:\n",
    "            # Calculate the moving average for the last 4 periods\n",
    "            group_df['MA'] = group_df['VL_CONTA'].rolling(window=window).mean()\n",
    "            \n",
    "            # Calculate the rolling sum for the last 4 periods\n",
    "            group_df['Rolling_Sum'] = group_df['VL_CONTA'].rolling(window=window).sum()\n",
    "            \n",
    "            # Calculate the lifelong cumulative sum\n",
    "            group_df['Cumulative_Sum'] = group_df['VL_CONTA'].cumsum()\n",
    "            \n",
    "            # Plot raw data\n",
    "            # group_df['VL_CONTA'].plot(label='Raw Data', legend=True)\n",
    "\n",
    "            # Plot moving average\n",
    "            group_df['MA'].plot(label=f'{window} Quarters Moving Average', legend=True, linestyle='--')\n",
    "            \n",
    "            # Plot rolling sum\n",
    "            group_df['Rolling_Sum'].plot(label=f'{window} Quarters Sum', legend=True, linestyle='-.')\n",
    "            \n",
    "            # Plot lifelong cumulative sum\n",
    "            group_df['Cumulative_Sum'].plot(label='Lifelong Cumulative Sum', legend=True, linestyle='-.')\n",
    "\n",
    "            plt.title(f\"{group_df['CD_CVM'].iloc[-1]} {group_df['DENOM_CIA'].iloc[-1]}\")\n",
    "            plt.show()\n",
    "        except Exception as e:\n",
    "            print(f\"Error plotting for {company}: {e}\")\n",
    "    return True\n",
    "\n",
    "cias_por_setor = df[(df['AGRUPAMENTO'] == 'con') & (df['CD_CONTA'] == '3.11')].groupby('CD_CVM')\n",
    "plot_group(cias_por_setor, window)"
   ]
  },
  {
   "cell_type": "code",
   "execution_count": null,
   "metadata": {},
   "outputs": [],
   "source": [
    "import matplotlib.pyplot as plt\n",
    "\n",
    "cias_por_setor = df[(df['AGRUPAMENTO'] == 'con') & (df['CD_CONTA'] == '2.03')].groupby('DENOM_CIA')\n",
    "\n",
    "fig, ax = plt.subplots(figsize=(10, 6))\n",
    "\n",
    "for company, group_df in cias_por_setor:\n",
    "    try:\n",
    "        group_df[['VL_CONTA']].plot(ax=ax, label=company)\n",
    "    except:\n",
    "        print(company)\n",
    "\n",
    "ax.set_title(\"VL_CONTA by Company\")\n",
    "ax.set_ylabel(\"VL_CONTA\")\n",
    "ax.set_xlabel(\"Index\")\n",
    "ax.legend(loc=\"best\")\n",
    "\n",
    "plt.show()\n"
   ]
  },
  {
   "cell_type": "code",
   "execution_count": null,
   "metadata": {},
   "outputs": [],
   "source": []
  },
  {
   "cell_type": "code",
   "execution_count": null,
   "metadata": {},
   "outputs": [],
   "source": []
  },
  {
   "cell_type": "markdown",
   "metadata": {},
   "source": [
    "#### Intelacoes Fundamentalista"
   ]
  },
  {
   "cell_type": "code",
   "execution_count": null,
   "metadata": {},
   "outputs": [],
   "source": [
    "intelacoes = run.load_pkl(f'{b3.app_folder}intelacoes')\n",
    "intelacoes.keys()"
   ]
  },
  {
   "cell_type": "code",
   "execution_count": null,
   "metadata": {},
   "outputs": [],
   "source": [
    "df = pd.read_pickle('BENS INDUSTRIAIS_intelacoes.pkl')\n",
    "# df.to_csv('BENS INDUSTRIAIS_intelacoes.csv')"
   ]
  },
  {
   "cell_type": "code",
   "execution_count": null,
   "metadata": {},
   "outputs": [],
   "source": [
    "columns = ['Unnamed: 0', 'FILENAME', 'DEMONSTRATIVO', 'BALANCE_SHEET', 'ANO',\n",
    "       'AGRUPAMENTO', 'CNPJ_CIA', 'DT_REFER', 'VERSAO', 'DENOM_CIA', 'CD_CVM',\n",
    "       'GRUPO_DFP', 'MOEDA', 'ESCALA_MOEDA', 'DT_FIM_EXERC', 'CD_CONTA',\n",
    "       'DS_CONTA', 'VL_CONTA', 'ST_CONTA_FIXA', 'DT_INI_EXERC', 'COLUNA_DF',\n",
    "       'COMPANHIA', 'PREGAO', 'TICK', 'LISTAGEM', 'CVM', 'TICKERS', 'ISIN',\n",
    "       'CNPJ', 'ATIVIDADE', 'SETOR', 'SUBSETOR', 'SEGMENTO', 'SITE',\n",
    "       'ESCRITURADOR', 'CD_CONTA_original', 'DS_CONTA_original', 'Companhia',\n",
    "       'Trimestre', 'Ações ON', 'Ações PN', 'Ações ON em Tesouraria',\n",
    "       'Ações PN em Tesouraria', 'URL']\n",
    "cols = ['SETOR', 'SUBSETOR', 'SEGMENTO', 'CNPJ_CIA', 'DENOM_CIA', 'CD_CVM',  'PREGAO', 'TICK', 'LISTAGEM', 'TICKERS', 'DT_REFER', 'BALANCE_SHEET', 'CD_CONTA', 'DS_CONTA', 'VL_CONTA', ]\n",
    "datetime_cols = ['DT_REFER', 'DT_FIM_EXERC', 'DT_INI_EXERC', 'Trimestre']\n",
    "company_cols = ['SETOR', 'SUBSETOR', 'SEGMENTO', 'CNPJ_CIA', 'DENOM_CIA', 'CD_CVM']\n",
    "dateseries_col = ['DT_REFER']\n",
    "sheet_cols = ['BALANCE_SHEET', 'CD_CONTA', 'DS_CONTA', 'VL_CONTA']\n",
    "stocks_cols = ['Ações ON', 'Ações PN', 'Ações ON em Tesouraria', 'Ações PN em Tesouraria']\n"
   ]
  },
  {
   "cell_type": "code",
   "execution_count": null,
   "metadata": {},
   "outputs": [],
   "source": [
    "# Grouping by 'SETOR', 'SUBSETOR', and 'SEGMENTO' to count unique companies and aggregate their TICK values\n",
    "ticks_by_setor = df.groupby(['SETOR', 'SUBSETOR', 'SEGMENTO']).agg({\n",
    "    'DENOM_CIA': 'nunique',\n",
    "    'TICK': lambda x: list(set(x.dropna()))\n",
    "}).reset_index()\n",
    "\n",
    "# Renaming columns for clarity\n",
    "ticks_by_setor.rename(columns={'DENOM_CIA': 'TOTAL DE COMPANHIAS'}, inplace=True)\n",
    "\n",
    "ticks_by_setor\n"
   ]
  },
  {
   "cell_type": "code",
   "execution_count": null,
   "metadata": {},
   "outputs": [],
   "source": [
    "conta = '02.03'\n",
    "\n",
    "# Filtering the data for the account 'CD_CONTA' with value '02.03' and the latest quarter\n",
    "conta_by_setor = df[df['DT_REFER'] == df['DT_REFER'].max()]\n",
    "conta_by_setor = conta_by_setor[conta_by_setor['CD_CONTA'] == conta]\n",
    "\n",
    "# Grouping by 'SETOR', 'SUBSETOR', and 'SEGMENTO' to aggregate 'VL_CONTA' values\n",
    "conta_by_setor = conta_by_setor.groupby(['SETOR', 'SUBSETOR', 'SEGMENTO', ]).agg({\n",
    "    'VL_CONTA': ['nunique', 'sum', 'max', 'min', 'mean', 'std', 'skew', lambda x: x.kurt()]\n",
    "}).reset_index()\n",
    "\n",
    "conta_by_setor.rename(columns={'VL_CONTA': conta}, inplace=True)\n",
    "\n",
    "conta_by_setor\n"
   ]
  },
  {
   "cell_type": "code",
   "execution_count": null,
   "metadata": {},
   "outputs": [],
   "source": [
    "dfc = df\n",
    "# dfc = dfc.set_index('DT_REFER')\n",
    "company = 'WEG SA'\n",
    "quarter = '2020-12-31'\n",
    "conta = '01.01.01'"
   ]
  },
  {
   "cell_type": "code",
   "execution_count": null,
   "metadata": {},
   "outputs": [],
   "source": [
    "mask = dfc['DENOM_CIA'] != 'nothing'\n",
    "mask &= dfc['DT_REFER'] == quarter\n",
    "mask &= dfc['DENOM_CIA'] == company\n",
    "# mask &= dfc['PREGAO'] == ''\n",
    "# mask &= dfc['TICK'] == ''\n",
    "# mask &= dfc['BALANCE_SHEET'] == ''\n",
    "mask &= dfc['CD_CONTA'] == conta\n",
    "# mask &= dfc['DS_CONTA'] == ''\n",
    "\n",
    "# dfc[mask][cols]\n",
    "data = dfc[mask][['DENOM_CIA', 'DT_REFER', 'CD_CONTA', 'DS_CONTA', 'VL_CONTA']].set_index('DT_REFER')\n",
    "sheet = df[(df['DENOM_CIA'] == company) & (df['DT_REFER'] == quarter)]\n",
    "data"
   ]
  },
  {
   "cell_type": "code",
   "execution_count": null,
   "metadata": {},
   "outputs": [],
   "source": []
  },
  {
   "cell_type": "code",
   "execution_count": null,
   "metadata": {},
   "outputs": [],
   "source": []
  },
  {
   "cell_type": "code",
   "execution_count": null,
   "metadata": {},
   "outputs": [],
   "source": []
  },
  {
   "cell_type": "code",
   "execution_count": null,
   "metadata": {},
   "outputs": [],
   "source": []
  },
  {
   "cell_type": "code",
   "execution_count": null,
   "metadata": {},
   "outputs": [],
   "source": [
    "dfc = pd.concat([dfc, rows], ignore_index=True).ffill().drop_duplicates()\n",
    "m = dfc['BALANCE_SHEET'].isin(sh)\n",
    "dfc[m][cols]"
   ]
  },
  {
   "cell_type": "markdown",
   "metadata": {},
   "source": [
    "#### Fund"
   ]
  },
  {
   "cell_type": "code",
   "execution_count": null,
   "metadata": {},
   "outputs": [],
   "source": [
    "fund = load_pkl(f'{b3.app_folder}fund')\n"
   ]
  },
  {
   "cell_type": "code",
   "execution_count": null,
   "metadata": {},
   "outputs": [],
   "source": [
    "df = pd.read_pickle('BENS INDUSTRIAIS_fund.pkl')"
   ]
  },
  {
   "cell_type": "code",
   "execution_count": null,
   "metadata": {},
   "outputs": [],
   "source": [
    "df.to_csv('BENS INDUSTRIAIS_fund.csv')"
   ]
  },
  {
   "cell_type": "code",
   "execution_count": null,
   "metadata": {},
   "outputs": [],
   "source": [
    "df.columns"
   ]
  },
  {
   "cell_type": "code",
   "execution_count": null,
   "metadata": {},
   "outputs": [],
   "source": [
    "df['TICKERS'].unique().tolist()"
   ]
  },
  {
   "cell_type": "markdown",
   "metadata": {},
   "source": [
    "#### Macro Data"
   ]
  },
  {
   "cell_type": "code",
   "execution_count": null,
   "metadata": {},
   "outputs": [],
   "source": [
    "!pip install yfinance -q -U"
   ]
  },
  {
   "cell_type": "code",
   "execution_count": null,
   "metadata": {},
   "outputs": [],
   "source": [
    "import yfinance as yf"
   ]
  },
  {
   "cell_type": "code",
   "execution_count": null,
   "metadata": {},
   "outputs": [],
   "source": [
    "# Baixando Cotações do Índice Bovespa\n",
    "ibov = yf.download('^BVSP')\n",
    "df = yf.download(['WEGE3.SA','BBDC4.SA', 'PETR4.SA'], group_by='ticker')"
   ]
  },
  {
   "cell_type": "code",
   "execution_count": null,
   "metadata": {},
   "outputs": [],
   "source": [
    "print(type(df['WEGE3.SA']['Adj Close']))\n",
    "tickers = df.columns.get_level_values(0).unique().tolist()\n",
    "tickers"
   ]
  },
  {
   "cell_type": "code",
   "execution_count": null,
   "metadata": {},
   "outputs": [],
   "source": [
    "for tick in tickers:\n",
    "    df[tick]['Adj Close'].plot()"
   ]
  },
  {
   "cell_type": "code",
   "execution_count": null,
   "metadata": {},
   "outputs": [],
   "source": [
    "!pip install -q alpha_vantage\n",
    "# Importando a classe Timeseries de alpha_vantage.timeseries\n",
    "from alpha_vantage.timeseries import TimeSeries"
   ]
  },
  {
   "cell_type": "code",
   "execution_count": null,
   "metadata": {},
   "outputs": [],
   "source": [
    "ALPHAVANTAGE_API_KEY = 'KR3OMFL1CLANZUXP'\n",
    "# Criando o objeto ts\n",
    "ts = TimeSeries(key=ALPHAVANTAGE_API_KEY, output_format='pandas')"
   ]
  },
  {
   "cell_type": "code",
   "execution_count": null,
   "metadata": {},
   "outputs": [],
   "source": [
    "dados, meta_dados = ts.get_symbol_search('alphabet')\n",
    "dados"
   ]
  },
  {
   "cell_type": "code",
   "execution_count": null,
   "metadata": {},
   "outputs": [],
   "source": [
    "# Obtendo os dados semanais do IBOV usando get_weekly\n",
    "dados, meta_dados = ts.get_daily(symbol='AAPL', )\n",
    "dados['4. close']"
   ]
  },
  {
   "cell_type": "code",
   "execution_count": null,
   "metadata": {},
   "outputs": [],
   "source": [
    "meta_dados"
   ]
  },
  {
   "cell_type": "code",
   "execution_count": null,
   "metadata": {},
   "outputs": [],
   "source": [
    "! pip install quandl -q -U"
   ]
  },
  {
   "cell_type": "code",
   "execution_count": null,
   "metadata": {},
   "outputs": [],
   "source": [
    "import quandl\n",
    "mydata = quandl.get(\"FRED/GDP\")\n",
    "api = 'LpAz8JCUosdwhHqnWnA4'"
   ]
  },
  {
   "cell_type": "code",
   "execution_count": null,
   "metadata": {},
   "outputs": [],
   "source": [
    "mydata = quandl.get_table('ZACKS/FC', ticker='AAPL',)\n",
    "mydata"
   ]
  },
  {
   "cell_type": "code",
   "execution_count": null,
   "metadata": {},
   "outputs": [],
   "source": [
    "mydata.plot()"
   ]
  },
  {
   "cell_type": "code",
   "execution_count": null,
   "metadata": {},
   "outputs": [],
   "source": [
    "# pandas datareader\n",
    "import os\n",
    "import pandas_datareader as pdr\n"
   ]
  },
  {
   "cell_type": "code",
   "execution_count": null,
   "metadata": {},
   "outputs": [],
   "source": [
    "TIINGO_API_KEY = '591375a6e5852ca48f778902fec322581511c89a'\n",
    "import tiingo\n",
    "\n",
    "config = {}\n",
    "config['session'] = True\n",
    "config['api_key'] = TIINGO_API_KEY\n",
    "client = tiingo.TiingoClient(config)\n",
    "\n"
   ]
  },
  {
   "cell_type": "code",
   "execution_count": null,
   "metadata": {},
   "outputs": [],
   "source": [
    "import requests\n",
    "\n",
    "TIINGO_API_KEY = '591375a6e5852ca48f778902fec322581511c89a'\n",
    "url = 'https://api.tiingo.com/tiingo/fundamentals/definitions'\n",
    "url = 'https://api.tiingo.com/tiingo/daily/AAPL/prices?startDate=2012-1-1'\n",
    "# url = 'https://api.tiingo.com/tiingo/daily/AAPL/prices'\n",
    "\n",
    "headers = {\n",
    "    'Content-Type': 'application/json',\n",
    "    'Authorization': 'Token ' + TIINGO_API_KEY\n",
    "}\n",
    "\n",
    "response = requests.get(url, headers=headers)\n",
    "\n",
    "data = response.json()\n",
    "data = pd.DataFrame(data)\n"
   ]
  },
  {
   "cell_type": "code",
   "execution_count": null,
   "metadata": {},
   "outputs": [],
   "source": [
    "data['close'].plot()"
   ]
  },
  {
   "cell_type": "code",
   "execution_count": null,
   "metadata": {},
   "outputs": [],
   "source": [
    "df = pdr.DataReader('GE', 'yahoo')\n",
    "df"
   ]
  },
  {
   "cell_type": "markdown",
   "metadata": {},
   "source": [
    "#### Get Yahoo CSV"
   ]
  },
  {
   "cell_type": "code",
   "execution_count": null,
   "metadata": {},
   "outputs": [],
   "source": []
  },
  {
   "cell_type": "code",
   "execution_count": null,
   "metadata": {},
   "outputs": [],
   "source": []
  },
  {
   "cell_type": "code",
   "execution_count": null,
   "metadata": {},
   "outputs": [],
   "source": []
  },
  {
   "cell_type": "code",
   "execution_count": null,
   "metadata": {},
   "outputs": [],
   "source": []
  },
  {
   "cell_type": "code",
   "execution_count": null,
   "metadata": {},
   "outputs": [],
   "source": []
  },
  {
   "cell_type": "markdown",
   "metadata": {},
   "source": [
    "iterrow in fund and get same key from both dict to concat both and remove duplicates\n",
    "\n",
    "save quotes"
   ]
  },
  {
   "cell_type": "code",
   "execution_count": null,
   "metadata": {},
   "outputs": [],
   "source": []
  },
  {
   "cell_type": "markdown",
   "metadata": {},
   "source": [
    "#### Get BCB Series"
   ]
  },
  {
   "cell_type": "code",
   "execution_count": null,
   "metadata": {},
   "outputs": [],
   "source": [
    "from selenium.webdriver.common.alert import Alert\n",
    "from selenium import webdriver\n",
    "from selenium.webdriver.common.by import By\n",
    "from selenium.webdriver.support.ui import WebDriverWait\n",
    "from selenium.webdriver.support import expected_conditions as EC\n"
   ]
  },
  {
   "cell_type": "code",
   "execution_count": null,
   "metadata": {},
   "outputs": [],
   "source": [
    "chromedriver_path = \"D:\\\\Fausto Stangler\\\\Documentos\\\\Python\\\\DSH\\\\chromedriver-win64\\\\chromedriver.exe\"\n",
    "driver_wait_time = 5\n",
    "\n",
    "driver, wait = run.load_browser(chromedriver_path, driver_wait_time)\n"
   ]
  },
  {
   "cell_type": "code",
   "execution_count": null,
   "metadata": {},
   "outputs": [],
   "source": [
    "url_bcb = 'https://www3.bcb.gov.br/sgspub/'\n",
    "url_bcb = 'https://www3.bcb.gov.br/sgspub/localizarseries/localizarSeries.do?method=prepararTelaPesquisaAvancada'\n",
    "\n",
    "driver.get(url_bcb)\n",
    "\n",
    "try:\n",
    "    alert = Alert(driver)\n",
    "    alert.accept()\n",
    "except Exception as e:\n",
    "    pass\n"
   ]
  },
  {
   "cell_type": "code",
   "execution_count": null,
   "metadata": {},
   "outputs": [],
   "source": [
    "element_xpath = '/html/body/table[1]/tbody/tr/td[3]/a'\n",
    "element = wait.until(EC.presence_of_element_located((By.XPATH, element_xpath)))\n",
    "# Get elements in Português\n",
    "if 'Português' in element.text.splitlines():\n",
    "    element.click()\n",
    "# # Get elements in English\n",
    "# if 'English' in element.text.splitlines():\n",
    "#     element.click()\n",
    "\n",
    "# Click on the first element\n",
    "element = wait.until(EC.element_to_be_clickable((By.XPATH, '//*[@id=\"tabLCS\"]/tbody/tr/td[1]/table/tbody/tr[12]/td')))\n",
    "element.click()\n",
    "\n",
    "# Switch to the iframe\n",
    "iframe_id = 'iCorpo'\n",
    "wait.until(EC.frame_to_be_available_and_switch_to_it((By.ID, iframe_id)))\n",
    "\n",
    "# Click on the second element\n",
    "element = wait.until(EC.element_to_be_clickable((By.XPATH, '/html/body/center/form/table[1]/tbody/tr[5]/td[2]/input')))\n",
    "element.click()\n",
    "\n",
    "# Click on the third element\n",
    "element = wait.until(EC.element_to_be_clickable((By.XPATH, '/html/body/center/form/input[9]')))\n",
    "element.click()\n",
    "\n",
    "# Grab the number of items for pagination\n",
    "pagination_xpath = '/html/body/form/span[1]/span[1]/b'\n",
    "num_items = int(wait.until(EC.presence_of_element_located((By.XPATH, pagination_xpath))).text)\n",
    "\n",
    "# Read the table\n",
    "table_xpath = '//*[@id=\"tabelaSeries\"]'  # or '//*[@id=\"tabelaConjunto\"]'\n",
    "table_html = wait.until(EC.presence_of_element_located((By.XPATH, table_xpath))).get_attribute('outerHTML')\n",
    "df = pd.read_html(table_html)[0]\n",
    "\n",
    "# Determine the number of pages for pagination (assuming 10 items per page)\n",
    "items_per_page = len(df)  # Adjust as per actual items per page\n",
    "num_pages = -(-num_items // items_per_page)  # Ceiling division\n",
    "items_per_page, num_pages\n"
   ]
  },
  {
   "cell_type": "code",
   "execution_count": null,
   "metadata": {},
   "outputs": [],
   "source": [
    "# Loop through the pages and extract data\n",
    "start_time = run.time.time()\n",
    "for i, page_number in enumerate(range(num_pages - 1)):  # Already have data for first page\n",
    "        # Execute the JavaScript function for pagination\n",
    "    driver.execute_script(f'getPagina({page_number})')\n",
    "    \n",
    "    # Read the table on the new page\n",
    "    table_html = wait.until(EC.presence_of_element_located((By.XPATH, table_xpath))).get_attribute('outerHTML')\n",
    "    new_df = pd.read_html(table_html)[0]\n",
    "    \n",
    "    # Loop through each row of the new data\n",
    "    for _, row in new_df.iterrows():\n",
    "        # Extract the relevant parameter for JavaScript function from the row\n",
    "        series = row['Cód.']  # replace 'YourColumnName' with the actual column name\n",
    "        \n",
    "        # Execute the JavaScript function\n",
    "        driver.execute_script(f\"parent.pesquisarPorDocn('../localizarseries/localizarSeries.do?method=recuperarMetadadosPorDocn', '{series}', 'Dados básicos/Metadados');\")\n",
    "        print('grab the table xpath and save into new_df')\n",
    "        # Grab the data you need after executing the JavaScript\n",
    "        # Your code for grabbing data goes here...\n",
    "        \n",
    "        # NOTE: Be sure to implement appropriate waiting and checking for elements to ensure data is loaded before you try to grab it.\n",
    "\n",
    "    # Append the new data to the existing dataframe\n",
    "    df = pd.concat([df, new_df], ignore_index=True)\n",
    "    print(run.remaining_time(start_time, (num_pages - 1), i))"
   ]
  },
  {
   "cell_type": "code",
   "execution_count": null,
   "metadata": {},
   "outputs": [],
   "source": [
    "new_df"
   ]
  },
  {
   "cell_type": "code",
   "execution_count": null,
   "metadata": {},
   "outputs": [],
   "source": [
    "# now get each series data"
   ]
  },
  {
   "cell_type": "markdown",
   "metadata": {},
   "source": [
    "#### Integrate fund to quotes"
   ]
  },
  {
   "cell_type": "markdown",
   "metadata": {},
   "source": [
    "Integrate funds to quotes, so each TICK contains quotes and also also all financial data"
   ]
  },
  {
   "cell_type": "code",
   "execution_count": null,
   "metadata": {},
   "outputs": [],
   "source": [
    "quotes = run.load_pkl(f'{b3.app_folder}quotes')\n",
    "fund = run.load_pkl(f'{b3.app_folder}fund')\n"
   ]
  },
  {
   "cell_type": "code",
   "execution_count": null,
   "metadata": {},
   "outputs": [],
   "source": [
    "quotes.keys(), quotes['AERIS'].keys()"
   ]
  },
  {
   "cell_type": "code",
   "execution_count": null,
   "metadata": {},
   "outputs": [],
   "source": [
    "bigdata = []\n",
    "for pregao, d in quotes.items():\n",
    "    for ticker, df in d.items():\n",
    "        try:\n",
    "            df.insert(0, 'PREGAO', pregao)\n",
    "        except Exception as e:\n",
    "            df['PREGAO'] = pregao  # Update 'PREGAO' column\n",
    "        \n",
    "        try:\n",
    "            df['TICKER'] = ticker  # Update 'TICKER' column\n",
    "        except Exception as e:\n",
    "            df.insert(1, 'TICKER', ticker)\n",
    "\n",
    "        bigdata.append(df)\n",
    "bigdata = pd.concat(bigdata, ignore_index=False)\n",
    "bigdata\n"
   ]
  },
  {
   "cell_type": "code",
   "execution_count": null,
   "metadata": {},
   "outputs": [],
   "source": [
    "fund.keys()\n"
   ]
  },
  {
   "cell_type": "code",
   "execution_count": null,
   "metadata": {},
   "outputs": [],
   "source": [
    "def add_metrics(df):\n",
    "    # Ensure no division by zero for all columns\n",
    "    df.replace(0, np.nan, inplace=True)\n",
    "\n",
    "\n",
    "\n",
    "    return df\n"
   ]
  },
  {
   "cell_type": "code",
   "execution_count": null,
   "metadata": {},
   "outputs": [],
   "source": [
    "df_plitly = {}\n",
    "\n",
    "start_time = run.time.time()\n",
    "for i, (setor, df_fund) in enumerate(fund.items()):\n",
    "    # Data preprocessing\n",
    "    # Convert specific columns to object type\n",
    "    df_fund[['VERSAO', 'CD_CVM']] = df_fund[['VERSAO', 'CD_CVM']].astype('object')\n",
    "\n",
    "    # Convert 'DT_REFER' to datetime format\n",
    "    df_fund['DT_REFER'] = pd.to_datetime(df_fund['DT_REFER'])\n",
    "\n",
    "    # Pivot for CD_CONTA\n",
    "    df_cd_conta = df_fund.pivot_table(index=['DT_REFER', 'PREGAO'], \n",
    "                                    columns=['CD_CONTA', 'DS_CONTA'], \n",
    "                                    values='VL_CONTA', \n",
    "                                    aggfunc='sum').reset_index()\n",
    "\n",
    "    # Flatten the multi-level columns after pivot\n",
    "    df_cd_conta.columns = [' - '.join(col).strip(' - ') for col in df_cd_conta.columns.values]\n",
    "\n",
    "    # Extract unique combinations of DT_REFER and PREGAO without the account details and get an unique mapping between the dates, PREGAO, and the pivoted account data.\n",
    "    df_unique = df_fund.reset_index(drop=True).drop_duplicates(subset=['DT_REFER', 'PREGAO']).drop(['CD_CONTA', 'DS_CONTA', 'VL_CONTA'], axis=1)\n",
    "    df_merged = pd.merge(df_unique, df_cd_conta, on=['DT_REFER', 'PREGAO'])\n",
    "\n",
    "    # Set index and handle missing values\n",
    "    df_merged = df_merged.set_index(['DT_REFER', 'PREGAO'], drop=True)\n",
    "\n",
    "    # Group by 'PREGAO' and apply resampling\n",
    "    df_resampled = (\n",
    "        df_merged\n",
    "        .reset_index()\n",
    "        .groupby('PREGAO')\n",
    "        .apply(lambda group: group.set_index('DT_REFER').resample('D').asfreq().ffill().bfill().fillna(0))\n",
    "        .drop('PREGAO', axis=1)  # Drop the redundant 'PREGAO' column introduced by `groupby`\n",
    "    )\n",
    "\n",
    "    try:\n",
    "        bigdata = bigdata.reset_index()\n",
    "    except Exception as e:\n",
    "        pass\n",
    "    bigdata['Date'] = pd.to_datetime(bigdata['Date'])\n",
    "    \n",
    "    try:\n",
    "        df_resampled = df_resampled.reset_index()\n",
    "    except Exception as e:\n",
    "        pass\n",
    "    df_resampled['DT_REFER'] = pd.to_datetime(df_resampled['DT_REFER'])\n",
    "\n",
    "    # Step 1: Get unique PREGAO values from df_resampled\n",
    "    companies = df_resampled['PREGAO'].unique()\n",
    "\n",
    "    # Step 2: Filter bigdata\n",
    "    filtered_bigdata = bigdata[bigdata['PREGAO'].isin(companies)]\n",
    "\n",
    "    df_merged = pd.merge(filtered_bigdata, df_resampled, left_on=['Date', 'PREGAO'], right_on=['DT_REFER', 'PREGAO'], how='outer')\n",
    "\n",
    "    # Sort the dataframe by 'PREGAO' and 'Date'\n",
    "    df_merged = df_merged.sort_values(by=['PREGAO', 'Date'])\n",
    "\n",
    "    # Group by 'PREGAO', then apply the fill methods within each group\n",
    "    df_merged = df_merged.groupby('PREGAO', group_keys=False).apply(lambda group: group.ffill().bfill()).fillna(0).reset_index(drop=True)\n",
    "\n",
    "    # Fill any remaining NaN values in the entire dataframe (outside of groups)\n",
    "    df_merged = df_merged.set_index('Date', drop=True)\n",
    "\n",
    "    df_merged = df_merged.groupby('PREGAO', group_keys=False).apply(add_metrics)\n",
    "\n",
    "    df_plitly[setor] = df_merged\n",
    "\n",
    "    print(setor, run.remaining_time(start_time, len(fund), i))\n"
   ]
  },
  {
   "cell_type": "code",
   "execution_count": 3,
   "metadata": {},
   "outputs": [],
   "source": [
    "# Define the path to the folder\n",
    "company_folder = 'company'\n",
    "folder_path = os.path.join(b3.app_folder, company_folder)\n",
    "\n",
    "# Check if the folder does not exist\n",
    "if not os.path.exists(folder_path):\n",
    "    # Create the folder\n",
    "    os.makedirs(folder_path)\n"
   ]
  },
  {
   "cell_type": "code",
   "execution_count": null,
   "metadata": {},
   "outputs": [],
   "source": [
    "failed = []\n",
    "start_time = run.time.time()\n",
    "for i, (setor, df) in enumerate(df_plitly.items()):\n",
    "    companies = df['PREGAO'].unique()\n",
    "    for i2, company in enumerate(companies):\n",
    "        mask = df['PREGAO'] == company\n",
    "        df_temp = df[mask]\n",
    "        try:\n",
    "            df_temp = run.save_pkl(df_temp, f'{b3.app_folder}{company_folder}/{company}')\n",
    "        except Exception as e:\n",
    "            failed.append(company)\n",
    "    print(setor, run.remaining_time(start_time, len(df_plitly), i))\n",
    "failed"
   ]
  },
  {
   "cell_type": "code",
   "execution_count": 4,
   "metadata": {},
   "outputs": [
    {
     "data": {
      "text/plain": [
       "['level_0',\n",
       " 'index',\n",
       " 'PREGAO',\n",
       " 'Open',\n",
       " 'High',\n",
       " 'Low',\n",
       " 'Close',\n",
       " 'Adj Close',\n",
       " 'Volume',\n",
       " 'TICKER',\n",
       " 'DT_REFER',\n",
       " 'FILENAME',\n",
       " 'DEMONSTRATIVO',\n",
       " 'BALANCE_SHEET',\n",
       " 'ANO',\n",
       " 'AGRUPAMENTO',\n",
       " 'CNPJ_CIA',\n",
       " 'VERSAO',\n",
       " 'DENOM_CIA',\n",
       " 'CD_CVM',\n",
       " 'GRUPO_DFP',\n",
       " 'MOEDA',\n",
       " 'ESCALA_MOEDA',\n",
       " 'DT_FIM_EXERC',\n",
       " 'ST_CONTA_FIXA',\n",
       " 'DT_INI_EXERC',\n",
       " 'COLUNA_DF',\n",
       " 'COMPANHIA',\n",
       " 'TICK',\n",
       " 'LISTAGEM',\n",
       " 'CVM',\n",
       " 'TICKERS',\n",
       " 'ISIN',\n",
       " 'CNPJ',\n",
       " 'ATIVIDADE',\n",
       " 'SETOR',\n",
       " 'SUBSETOR',\n",
       " 'SEGMENTO',\n",
       " 'SITE',\n",
       " 'ESCRITURADOR',\n",
       " 'CD_CONTA_original',\n",
       " 'DS_CONTA_original',\n",
       " '00.01.01 - Ações ON',\n",
       " '00.01.02 - Ações ON em Tesouraria',\n",
       " '00.02.01 - Ações PN',\n",
       " '00.02.02 - Ações PN em Tesouraria',\n",
       " '01 - Ativo Total',\n",
       " '01.01 - Ativo Circulante de Curto Prazo',\n",
       " '01.01.01 - Caixa e Disponibilidades de Caixa',\n",
       " '01.01.02 - Aplicações Financeiras',\n",
       " '01.01.03 - Contas a Receber',\n",
       " '01.01.04 - Estoques',\n",
       " '01.01.05 - Ativos Biológicos',\n",
       " '01.01.06 - Tributos',\n",
       " '01.01.07 - Despesas',\n",
       " '01.01.09 - Outros Ativos Circulantes',\n",
       " '01.02 - Ativo Não Circulante de Longo Prazo',\n",
       " '01.02.01 - Ativos Financeiros',\n",
       " '01.02.01.01 - Ativos Financeiros a Valor Justo',\n",
       " '01.02.01.02 - Ativos Financeiros ao Custo Amortizado',\n",
       " '01.02.01.03 - Contas a Receber',\n",
       " '01.02.01.04 - Estoques',\n",
       " '01.02.01.05 - Ativos Biológicos',\n",
       " '01.02.01.06 - Tributos',\n",
       " '01.02.01.07 - Despesas',\n",
       " '01.02.01.09 - Outros Ativos Não Circulantes',\n",
       " '01.02.02 - Investimentos Não Capex',\n",
       " '01.02.02.01 - Propriedades - Investimentos Não Capex',\n",
       " '01.02.02.02 - Arrendamentos - Investimentos Não Capex',\n",
       " '01.02.03 - Imobilizados',\n",
       " '01.02.03.01 - Imobilizados em Operação',\n",
       " '01.02.03.02 - Imobilizados em Arrendamento',\n",
       " '01.02.03.03 - Imobilizados em Andamento',\n",
       " '01.02.04 - Intangível',\n",
       " '01.03 - Empréstimos',\n",
       " '01.04 - Tributos Diferidos',\n",
       " '01.05 - Investimentos',\n",
       " '01.05.01 - Participações em Coligadas',\n",
       " '01.05.02 - Participações em Controladas',\n",
       " '01.06 - Imobilizados',\n",
       " '01.06.01 - Propriedades - Investimentos Não Capex',\n",
       " '01.06.02 - Arrendamento - Investimentos Não Capex',\n",
       " '01.06.03 - Tangíveis - Investimentos Não Capex',\n",
       " '01.07 - Intangíveis',\n",
       " '01.09.09 - Outros Ativos',\n",
       " '02 - Passivo Total',\n",
       " '02.01 - Passivo Circulante de Curto Prazo',\n",
       " '02.01.01 - Obrigações Sociais e Trabalhistas',\n",
       " '02.01.01.01 - Obrigações Sociais',\n",
       " '02.01.01.02 - Obrigações Trabalhistas',\n",
       " '02.01.01.09 - Outras Obrigações',\n",
       " '02.01.02 - Fornecedores',\n",
       " '02.01.03 - Obrigações Fiscais',\n",
       " '02.01.03.01 - Obrigações Fiscais Federais',\n",
       " '02.01.03.02 - Obrigações Fiscais Estaduais',\n",
       " '02.01.03.03 - Obrigações Fiscais Municipais',\n",
       " '02.01.03.09 - Outras Obrigações Fiscais',\n",
       " '02.01.04 - Empréstimos, Financiamentos e Debêntures',\n",
       " '02.01.04.01 - Empréstimos e Financiamentos',\n",
       " '02.01.04.01.01 - Empréstimos e Financiamentos em Moeda Nacional',\n",
       " '02.01.04.01.02 - Empréstimos e Financiamentos em Moeda Estrangeira',\n",
       " '02.01.04.02 - Debêntures',\n",
       " '02.01.04.03 - Arrendamentos',\n",
       " '02.01.04.09 - Outros empréstimos, financiamentos e debêntures',\n",
       " '02.01.05 - Outras Obrigações',\n",
       " '02.01.05.01 - Passivos com Partes Relacionadas',\n",
       " '02.01.05.09 - Outros',\n",
       " '02.01.06 - Provisões',\n",
       " '02.01.06.01 - Provisões Específicas',\n",
       " '02.01.06.01.01 - Provisões Fiscais',\n",
       " '02.01.06.01.02 - Provisões Trabalhistas e Previdenciárias',\n",
       " '02.01.06.01.03 - Provisões para Benefícios a Empregados',\n",
       " '02.01.06.01.04 - Provisões Judiciais Cíveis',\n",
       " '02.01.06.01.05 - Outras Provisões Específicas',\n",
       " '02.01.06.02 - Provisões Outras',\n",
       " '02.01.06.02.01 - Provisões para Garantias',\n",
       " '02.01.06.02.02 - Provisões para Reestruturação',\n",
       " '02.01.06.02.03 - Provisões para Passivos Ambientais e de Desativação',\n",
       " '02.01.07 - Passivos sobre Ativos Não-Correntes a Venda e Descontinuados',\n",
       " '02.01.07.01 - Passivos sobre Ativos Não-Correntes a Venda',\n",
       " '02.01.07.02 - Passivos sobre Ativos de Operações Descontinuadas',\n",
       " '02.01.09 - Outros Passivos',\n",
       " '02.02 - Passivo Não Circulante de Longo Prazo',\n",
       " '02.02.01 - Empréstimos e Financiamentos de Longo Prazo',\n",
       " '02.02.01.01 - Empréstimos e Financiamentos',\n",
       " '02.02.01.01.01 - Empréstimos e Financiamentos em Moeda Nacional',\n",
       " '02.02.01.01.02 - Empréstimos e Financiamentos em Moeda Estrangeira',\n",
       " '02.02.01.02 - Debêntures',\n",
       " '02.02.01.03 - Arrendamentos',\n",
       " '02.02.02 - Outras Obrigações',\n",
       " '02.02.02.01 - Com Partes Relacionadas',\n",
       " '02.02.02.02 - Outras Obrigações',\n",
       " '02.02.02.09 - Outros empréstimos, financiamentos e debêntures',\n",
       " '02.02.03 - Tributos Diferidos',\n",
       " '02.02.03.01 - Imposto de Renda e Contribuição Social',\n",
       " '02.02.03.02 - Outros tributos diferidos',\n",
       " '02.02.04 - Provisões',\n",
       " '02.02.04.01 - Provisões Específicas',\n",
       " '02.02.04.01.01 - Provisões Fiscais',\n",
       " '02.02.04.01.02 - Provisões Trabalhistas e Previdenciárias',\n",
       " '02.02.04.01.03 - Provisões para Benefícios a Empregados',\n",
       " '02.02.04.01.04 - Provisões Judiciais Cíveis',\n",
       " '02.02.04.02 - Outras Provisões',\n",
       " '02.02.04.02.01 - Provisões para Garantias',\n",
       " '02.02.04.02.02 - Provisões para Reestruturação',\n",
       " '02.02.04.02.03 - Provisões para Passivos Ambientais e de Desativação',\n",
       " '02.02.05 - Passivos sobre Ativos Não-Correntes a Venda e Descontinuados',\n",
       " '02.02.05.01 - Passivos sobre Ativos Não-Correntes a Venda',\n",
       " '02.02.05.02 - Passivos sobre Ativos de Operações Descontinuadas',\n",
       " '02.02.06 - Lucros e Receitas a Apropriar',\n",
       " '02.02.06.01 - Lucros a Apropriar',\n",
       " '02.02.06.02 - Receitas a Apropriar',\n",
       " '02.02.06.03 - Subvenções de Investimento a Apropriar',\n",
       " '02.03 - Patrimônio Líquido',\n",
       " '02.03.01 - Capital Social',\n",
       " '02.03.02 - Reservas de Capital',\n",
       " '02.03.03 - Reservas de Reavaliação',\n",
       " '02.03.04 - Reservas de Lucros',\n",
       " '02.03.05 - Lucros ou Prejuízos Acumulados',\n",
       " '02.03.06 - Ajustes de Avaliação Patrimonial',\n",
       " '02.03.07 - Ajustes Acumulados de Conversão',\n",
       " '02.03.08 - Outros Resultados Abrangentes',\n",
       " '03.01 - Receita Bruta',\n",
       " '03.02 - Custo de Produção',\n",
       " '03.03 - Resultado Bruto (Receita Líquida)',\n",
       " '03.04 - Despesas Operacionais',\n",
       " '03.04.01 - Despesas com Vendas',\n",
       " '03.04.02 - Despesas Gerais e Administrativas',\n",
       " '03.04.09 - Outras despesas, receitas ou equivalências',\n",
       " '03.05 - LAJIR EBIT Resultado Antes do Resultado Financeiro e dos Tributos',\n",
       " '03.06 - Resultado Financeiro (Não Operacional)',\n",
       " '03.07 - Resultado Antes dos Tributos sobre o Lucro',\n",
       " '03.08 - Impostos IRPJ e CSLL',\n",
       " '03.09 - Resultado Líquido das Operações Continuadas',\n",
       " '03.10 - Resultado Líquido das Operações Descontinuadas',\n",
       " '03.11 - Lucro Líquido',\n",
       " '06.01 - Caixa das Operações',\n",
       " '06.01.01 - Caixa das Operações',\n",
       " '06.01.02 - Variações de Ativos e Passivos',\n",
       " '06.01.09 - Outros Caixas Operacionais',\n",
       " '06.02 - Caixa de Investimentos CAPEX',\n",
       " '06.02.01 - Investimentos',\n",
       " '06.02.02 - Imobilizado e Intangível',\n",
       " '06.02.03 - Aplicações Financeiras',\n",
       " '06.02.04 - Coligadas e Controladas',\n",
       " '06.02.05 - Juros sobre Capital Próprio e Dividendos',\n",
       " '06.02.09 - Outros Caixas de Investimento',\n",
       " '06.03 - Caixa de Financiamento',\n",
       " '06.03.01 - Capital',\n",
       " '06.03.02 - Ações e Acionistas',\n",
       " '06.03.03 - Debêntures, empréstimos e financiamentos',\n",
       " '06.03.04 - Credores',\n",
       " '06.03.06 - Juros JCP e Dividendos',\n",
       " '06.03.09 - Outros Caixas de Financiamento',\n",
       " '06.04 - Caixa da Variação Cambial',\n",
       " '06.05 - Variação do Caixa',\n",
       " '06.05.01 - Saldo Inicial do Caixa',\n",
       " '06.05.02 - Saldo Final do Caixa',\n",
       " '07.01 - Receitas',\n",
       " '07.01.01 - Vendas',\n",
       " '07.01.02 - Outras Receitas',\n",
       " '07.01.03 - Ativos Próprios',\n",
       " '07.01.04 - Reversão de Créditos Podres',\n",
       " '07.02 - Custos dos Insumos',\n",
       " '07.02.01 - Custo de Mercadorias',\n",
       " '07.02.02 - Custo de Materiais, Energia e Terceiros',\n",
       " '07.02.03 - Valores Ativos',\n",
       " '07.02.04 - Outros',\n",
       " '07.03 - Valor Adicionado Bruto',\n",
       " '07.04 - Retenções',\n",
       " '07.04.01 - Depreciação e Amortização',\n",
       " '07.04.02 - Outras retenções',\n",
       " '07.05 - Valor Adicionado Líquido',\n",
       " '07.06 - Valor Adicionado em Transferência',\n",
       " '07.06.01 - Resultado de Equivalência Patrimonial',\n",
       " '07.06.02 - Receitas Financeiras',\n",
       " '07.06.03 - Outros',\n",
       " '07.07 - Valor Adicionado Total a Distribuir',\n",
       " '07.08 - Distribuição do Valor Adicionado',\n",
       " '07.08.01 - Pessoal',\n",
       " '07.08.01.01 - Remuneração Direta',\n",
       " '07.08.01.02 - Benefícios',\n",
       " '07.08.01.03 - FGTS',\n",
       " '07.08.01.04 - Outros',\n",
       " '07.08.02 - Impostos, Taxas e Contribuições',\n",
       " '07.08.02.01 - Federais',\n",
       " '07.08.02.02 - Estaduais',\n",
       " '07.08.02.03 - Municipais',\n",
       " '07.08.03 - Remuneração de Capital de Terceiros',\n",
       " '07.08.03.01 - Juros Pagos',\n",
       " '07.08.03.02 - Aluguéis',\n",
       " '07.08.04 - Remuneração de Capital Próprio',\n",
       " '07.08.04.01 - Juros sobre o Capital Próprio',\n",
       " '07.08.04.02 - Dividendos',\n",
       " '07.08.04.03 - Lucros Retidos',\n",
       " '07.08.05 - Outros',\n",
       " '11.01.01 - Capital de Giro (Ativos Circulantes - Passivos Circulantes)',\n",
       " '11.01.02 - Liquidez (Ativos Circulantes por Passivos Circulantes)',\n",
       " '11.01.03 - Ativos Circulantes de Curto Prazo por Ativos',\n",
       " '11.01.04 - Ativos Não Circulantes de Longo Prazo por Ativos',\n",
       " '11.02 - Passivos por Ativos',\n",
       " '11.02.01 - Passivos Circulantes de Curto Prazo por Ativos',\n",
       " '11.02.02 - Passivos Não Circulantes de Longo Prazo por Ativos',\n",
       " '11.02.03 - Passivos Circulantes de Curto Prazo por Passivos',\n",
       " '11.02.04 - Passivos Não Circulantes de Longo Prazo por Passivos',\n",
       " '11.03 - Patrimônio Líquido por Ativos',\n",
       " '11.03.01 - Equity Multiplier (Ativos por Patrimônio Líquido)',\n",
       " '11.03.02 - Passivos por Patrimônio Líquido',\n",
       " '11.03.02.01 - Passivos Circulantes de Curto Prazo por Patrimônio Líquido',\n",
       " '11.03.02.02 - Passivos Não Circulantes de Longo Prazo por Patrimônio Líquido',\n",
       " '11.03.03 - Soma das Reservas do Patrimônio Líquido',\n",
       " '11.03.04 - Patrimônio Imobilizado',\n",
       " '11.03.05 - Remuneração do Capital Total(Terceiros + Próprio)',\n",
       " '11.04 - Capital Social por Patrimônio Líquido',\n",
       " '11.04.01 - Reservas do Patrimônio',\n",
       " '11.04.02 - Reservas por Patrimônio',\n",
       " '12.01.01 - Caixa',\n",
       " '12.01.02 - Dívida Bruta',\n",
       " '12.01.02.01 - Dívida Bruta Circulante de Curto Prazo',\n",
       " '12.01.02.02 - Dívida Bruta Não Circulante de Longo Prazo Prazo',\n",
       " '12.01.02.03 - Dívida Bruta em Moeda Nacional',\n",
       " '12.01.02.04 - Dívida Bruta em Moeda Estrangeira',\n",
       " '12.01.03 - Dívida Líquida',\n",
       " '12.02.01 - Dívida Bruta por Patrimônio Líquido',\n",
       " '12.02.02 - Endividamento Financeiro',\n",
       " '12.03.01 - Contas a Receber Não Circulantes de Curto Prazo por Faturamento',\n",
       " '12.03.01 - Patrimônio Imobilizado em Capex, Investimentos Não Capex e Intangível Não Capex',\n",
       " '12.03.02 - Contas a Receber Circulantes de Longo Prazo Prazo por Faturamento',\n",
       " '12.03.02 - Patrimônio Imobilizado por Patrimônio',\n",
       " '12.04.01 - Dívida Líquida por EBITDA',\n",
       " '13.01 - LAJIDA EBITDA Resultado Antes do Resultado Financeiro e dos Tributos mais Depreciação e Amortização',\n",
       " '13.03 - Contas por Faturamento',\n",
       " '13.04 - Estoques por Faturamento',\n",
       " '13.04.01 - Estoques Não Circulantes de Curto Prazo por Faturamento',\n",
       " '13.04.02 - Estoques Circulantes de Longo Prazo por Faturamento',\n",
       " '13.05 - Ativos Biológicos por Faturamento',\n",
       " '13.05.01 - Ativos Biológicos Não Circulantes de Curto Prazo por Faturamento',\n",
       " '13.05.02 - Ativos Biológicos Circulantes de Longo Prazo por Faturamento',\n",
       " '13.06 - Tributos por Faturamento',\n",
       " '13.06.01 - Tributos Não Circulantes de Curto Prazo por Faturamento',\n",
       " '13.06.02 - Tributos Circulantes de Longo Prazo por Faturamento',\n",
       " '13.07 - Despesas por Faturamento',\n",
       " '13.07.01 - Despesas Não Circulantes de Curto Prazo por Faturamento',\n",
       " '13.07.02 - Despesas Circulantes de Longo Prazo por Faturamento',\n",
       " '13.09 - Outros por Faturamento',\n",
       " '13.09.01 - Outros Ativos Não Circulantes de Curto Prazo por Faturamento',\n",
       " '13.09.02 - Outros Ativos Não Circulantes de Longo Prazo por Faturamento',\n",
       " '14.01.01 - Receita por Ativos',\n",
       " '14.01.02 - Receita por Patrimônio',\n",
       " '14.02.01 - Coeficiente de Retorno (Resultado por Ativos)',\n",
       " '14.03 - Capital Investido',\n",
       " '14.03.01 - ROIC (Retorno por Capital Investido)',\n",
       " '14.04.01 - ROE (Resultado por Patrimônio)',\n",
       " '14.05.01 - ROAS (EBIT por Ativos)',\n",
       " '15.01 - Remuneração de Capital',\n",
       " '15.01.01 - Remuneração de Capital de Terceiros por Remuneração de Capital',\n",
       " '15.01.01.01 - Juros Pagos por Remuneração de Capital de Terceiros',\n",
       " '15.01.01.02 - Aluguéis por Remuneração de Capital de Terceiros',\n",
       " '15.01.02 - Remuneração de Capital Próprio por Remuneração de Capital',\n",
       " '15.01.02.01 - Juros Pagos por Remuneração de Capital Próprio',\n",
       " '15.01.02.02 - Dividendos por Remuneração de Capital Próprio',\n",
       " '15.01.02.03 - Lucros Retidos por Remuneração de Capital Próprio',\n",
       " '15.02 - Remuneração de Capital por EBIT',\n",
       " '15.02.01 - Impostos por EBIT',\n",
       " '16.01 - Margem Bruta (Resultado Bruto (Receita Líquida) por Receita Bruto)',\n",
       " '16.02 - Margem Operacional (Receitas Operacionais por Receita Bruta)',\n",
       " '16.02.01 - Força de Vendas (Despesas com Vendas por Despesas Operacionais)',\n",
       " '16.02.02 - Peso Administrativo (Despesas com Administração por Despesas Operacionais)',\n",
       " '16.03 - Margem EBITDA (EBITDA por Resultado Bruto (Receita Líquida)',\n",
       " '16.03.01 - Margem EBIT (EBIT por Resultado Bruto (Receita Líquida)',\n",
       " '16.03.01 - Margem EBIT (EBIT por Resultado Bruto (Receita Líquida))',\n",
       " '16.03.02 - Margem de Depreciação por Resultado Bruto (Receita Líquida)',\n",
       " '16.04 - Margem Não Operacional (Resultado Não Operacional por Resultado Bruto (Receita Líquida))',\n",
       " '16.05 - Margem Líquida (Lucro Líquido por Receita Bruta)',\n",
       " '17.01 - Caixa Livre',\n",
       " '17.02 - Caixa Total',\n",
       " '17.03 - Caixa de Investimentos',\n",
       " '17.03.01 - Caixa de Investimentos por Caixa das Operações',\n",
       " '17.03.02 - Caixa de Investimentos por EBIT',\n",
       " '17.04 - Caixa Imobilizado',\n",
       " '17.05 - FCFF simplificado (Caixa Livre para a Firma)',\n",
       " '17.06 - FCFE simplificado (Caixa Livre para os Acionistas)',\n",
       " '18.01 - Margem de Vendas por Valor Agregado',\n",
       " '18.02 - Custo dos Insumos por Valor Agregado',\n",
       " '18.03 - Valor Adicionado Bruto por Valor Agregado',\n",
       " '18.04 - Retenções por Valor Agregado',\n",
       " '18.05 - Valor Adicionado Líquido por Valor Agregado',\n",
       " '18.06 - Valor Adicionado em Transferência por Valor Agregado',\n",
       " '18.07 - Recursos Humanos por Valor Agregado',\n",
       " '18.07.01 - Remuneração Direta (Recursos Humanos) por Valor Agregado',\n",
       " '18.07.02 - Benefícios (Recursos Humanos) por Valor Agregado',\n",
       " '18.07.03 - FGTS (Recursos Humanos) por Valor Agregado',\n",
       " '18.08 - Impostos por Valor Agregado',\n",
       " '18.09 - Remuneração de Capital de Terceiros por Valor Agregado',\n",
       " '18.09.01 - Juros Pagos a Terceiros por Valor Agregado',\n",
       " '18.09.02 - Aluguéis Pagos a Terceiros por Valor Agregado',\n",
       " '18.10 - Remuneração de Capital Próprio por Valor Agregado',\n",
       " '18.10.01 - Juros Sobre Capital Próprio por Valor Agregado',\n",
       " '18.10.02 - Dividendos por Valor Agregado',\n",
       " '18.10.02 - Lucros Retidos por Valor Agregado',\n",
       " '18.11.01 - Alíquota de Impostos (Impostos, Taxas e Contribuições por Receita Bruta)',\n",
       " '18.11.02 - Taxa de Juros Pagos (Remuneração de Capital de Terceiros por Receita Bruta',\n",
       " '18.11.03 - Taxa de Proventos Gerados (Remuneração de Capital Próprio por Receita Bruta']"
      ]
     },
     "execution_count": 4,
     "metadata": {},
     "output_type": "execute_result"
    }
   ],
   "source": [
    "df = run.load_pkl(f'{b3.app_folder}{company_folder}/MAGAZ LUIZA')\n",
    "df.columns.to_list()"
   ]
  },
  {
   "cell_type": "code",
   "execution_count": 11,
   "metadata": {},
   "outputs": [
    {
     "name": "stdout",
     "output_type": "stream",
     "text": [
      "Os dados estão disponíveis de 31/12/2010 até 30/06/2023\n"
     ]
    }
   ],
   "source": []
  },
  {
   "cell_type": "code",
   "execution_count": null,
   "metadata": {},
   "outputs": [],
   "source": []
  },
  {
   "cell_type": "code",
   "execution_count": null,
   "metadata": {},
   "outputs": [],
   "source": []
  },
  {
   "cell_type": "code",
   "execution_count": null,
   "metadata": {},
   "outputs": [],
   "source": []
  },
  {
   "cell_type": "code",
   "execution_count": null,
   "metadata": {},
   "outputs": [],
   "source": []
  },
  {
   "cell_type": "code",
   "execution_count": null,
   "metadata": {},
   "outputs": [],
   "source": [
    "companies"
   ]
  },
  {
   "cell_type": "code",
   "execution_count": null,
   "metadata": {},
   "outputs": [],
   "source": [
    "company = companies[0]\n",
    "company = 'WEG'\n",
    "df = df_merged[df_merged['PREGAO'] == company]\n"
   ]
  },
  {
   "cell_type": "code",
   "execution_count": null,
   "metadata": {},
   "outputs": [],
   "source": [
    "setor, subsetor, segmento = df[['SETOR', 'SUBSETOR', 'SEGMENTO']].iloc[0]\n",
    "setor, subsetor, segmento"
   ]
  },
  {
   "cell_type": "code",
   "execution_count": null,
   "metadata": {},
   "outputs": [],
   "source": [
    "m_cia = df_merged['PREGAO'] != company\n",
    "m_segmento = df_merged['SEGMENTO'] == segmento\n",
    "m_subsetor = df_merged['SUBSETOR'] == subsetor\n",
    "m_setor = df_merged['SETOR'] == setor\n",
    "\n",
    "cias_segmento = [cia for cia in df_merged[m_cia & m_segmento]['PREGAO'].unique().tolist()]\n",
    "cias_subsetor = [cia for cia in df_merged[m_cia & m_subsetor]['PREGAO'].unique().tolist() if cia not in cias_segmento]\n",
    "cias_setor = [cia for cia in df_merged[m_cia & m_setor]['PREGAO'].unique().tolist() if cia not in cias_subsetor and cia not in cias_segmento]\n",
    "cias_segmento, cias_subsetor, cias_setor\n"
   ]
  },
  {
   "cell_type": "code",
   "execution_count": null,
   "metadata": {},
   "outputs": [],
   "source": [
    "tickers = np.sort(df['TICKER'].unique())\n",
    "df_ticker = []\n",
    "for ticker in tickers:\n",
    "    df_ticker.append(df[df['TICKER'] == ticker])\n",
    "df = df_ticker[0]"
   ]
  },
  {
   "cell_type": "code",
   "execution_count": null,
   "metadata": {},
   "outputs": [],
   "source": [
    "df_merged.to_csv('dash_df_merged.csv')\n",
    "df.to_csv('dash_df.csv')"
   ]
  },
  {
   "cell_type": "code",
   "execution_count": null,
   "metadata": {},
   "outputs": [],
   "source": [
    "df_merged = run.save_pkl(df_merged, 'dash_df_merged')\n",
    "df = run.save_pkl(df, 'dash_df')\n"
   ]
  },
  {
   "cell_type": "markdown",
   "metadata": {},
   "source": [
    "#### Plotly"
   ]
  },
  {
   "cell_type": "code",
   "execution_count": null,
   "metadata": {},
   "outputs": [],
   "source": [
    "line = '13.09.02 - Outros Ativos Não Circulantes de Longo Prazo por Faturamento'\n",
    "data = {\n",
    "    'title': [f'{item} - {plot}', 'Reais (R$)', 'Porcentagem (%)'], \n",
    "    'left': [item], \n",
    "    'right': [cagr(item, years), ofs(item, years)], \n",
    "}\n",
    "options = {\n",
    "    'left': {'shape': 'area', 'mode': 'standalone', 'normalization': False, 'mma': [years, 2], },\n",
    "    'right': {'shape': 'ine', 'mode': 'standalone', 'normalization': False, 'outliers': False, }, \n",
    "}\n",
    "fig = plot_tweak(df_ticker[0], data, options)\n",
    "# figs[company][item][plot] = fig\n",
    "fig.show()\n"
   ]
  },
  {
   "cell_type": "code",
   "execution_count": null,
   "metadata": {},
   "outputs": [],
   "source": [
    "def plot_dual_axis(df, data):\n",
    "    '''\n",
    "    data: Dicionário contendo chaves 'left' e 'right', com as colunas correspondentes.\n",
    "               Exemplo: {'left': [col1, col2], 'right': [col3, col4]}\n",
    "    df: DataFrame contendo os dados.\n",
    "    '''\n",
    "    fig = make_subplots(specs=[[{\"secondary_y\": True}]])\n",
    "\n",
    "    # Determine y-axis ranges\n",
    "    factor = 1.50\n",
    "    left_min = df[data['left']].min().min() if df[data['left']].min().min() < 0 else df[data['left']].min().min() * -1\n",
    "    left_min *= factor\n",
    "    left_max_abs = max(abs(df[data['left']].min().min()), abs(df[data['left']].max().max())) * factor\n",
    "\n",
    "    right_min = df[data['right']].min().min() if df[data['right']].min().min() < 0 else df[data['right']].min().min() * -1\n",
    "    right_min *= factor\n",
    "    right_max_abs = max(abs(df[data['right']].min().min()), abs(df[data['right']].max().max())) * factor\n",
    "\n",
    "    # Find the zero alignment factor\n",
    "    zero_factor = abs(left_min) / left_max_abs\n",
    "\n",
    "    # Adjust the right y-axis ranges to align the zeros\n",
    "    right_min_adj = -right_max_abs * zero_factor\n",
    "    right_max_adj = right_max_abs * (1 - zero_factor)\n",
    "\n",
    "    # Adicione os dados do eixo esquerdo\n",
    "    for column in data['right']:\n",
    "        fig.add_trace(\n",
    "            go.Scatter(x=df.index, y=df[column], mode='lines', name=column.split(' - ')[1]),\n",
    "            secondary_y=True\n",
    "        )\n",
    "\n",
    "    # Adicione os dados do eixo direito\n",
    "    fill_mode = 'tozeroy'\n",
    "    for column in data['left']:\n",
    "        fig.add_trace(\n",
    "            go.Scatter(x=df.index, y=df[column], fill=fill_mode, name=column.split(' - ')[1]),\n",
    "            secondary_y=False\n",
    "        )\n",
    "        fill_mode = 'tonexty'\n",
    "\n",
    "    fig.update_layout(\n",
    "        title_text=f'{company} - {data[\"title\"][0]}',\n",
    "        xaxis_title='Data',\n",
    "        yaxis_title=data['title'][1],\n",
    "        yaxis2_title=data['title'][2],\n",
    "        yaxis_range=[left_min, left_max_abs],\n",
    "        yaxis2_range=[right_min_adj, right_max_adj]\n",
    "    )\n",
    "\n",
    "    return fig\n"
   ]
  },
  {
   "cell_type": "code",
   "execution_count": null,
   "metadata": {},
   "outputs": [],
   "source": [
    "def plot_stacked_area(df, data):\n",
    "    '''\n",
    "    df: DataFrame containing the data.\n",
    "    data: Dictionary containing the columns to be plotted.\n",
    "    '''\n",
    "    fig = go.Figure()\n",
    "\n",
    "    # Helper function to get data from column name or series\n",
    "    def get_data(item):\n",
    "        if isinstance(item, str):\n",
    "            return df[item]\n",
    "        return item\n",
    "\n",
    "    # For 'left' data\n",
    "    for item in data['left']:\n",
    "        data_values = get_data(item)\n",
    "        name = item.split(' - ')[1] if isinstance(item, str) else item.name\n",
    "        fig.add_trace(\n",
    "            go.Scatter(\n",
    "                x=df.index,\n",
    "                y=data_values,\n",
    "                name=name,\n",
    "                fill='tonexty', \n",
    "                stackgroup='left',\n",
    "                # legendgroup='left',\n",
    "                showlegend=True\n",
    "            )\n",
    "        )\n",
    "\n",
    "    # For 'right' data\n",
    "    for item in data['right']:\n",
    "        data_values = get_data(item)\n",
    "        name = item.split(' - ')[1] if isinstance(item, str) else item.name\n",
    "        fig.add_trace(\n",
    "            go.Scatter(\n",
    "                x=df.index,\n",
    "                y=data_values,\n",
    "                name=name,\n",
    "                fill='tonexty', \n",
    "                stackgroup='right',\n",
    "                # legendgroup='right',\n",
    "                showlegend=True,\n",
    "                yaxis='y2'\n",
    "            )\n",
    "        )\n",
    "\n",
    "    fig.update_layout(\n",
    "        title_text=f'{company} - {data[\"title\"][0]}',\n",
    "        xaxis_title='Data',\n",
    "        yaxis_title=data['title'][1],\n",
    "        yaxis2=dict(title=data['title'][2], overlaying='y', side='right')\n",
    "    )\n",
    "\n",
    "    return fig\n"
   ]
  },
  {
   "cell_type": "code",
   "execution_count": null,
   "metadata": {},
   "outputs": [],
   "source": [
    "def plot_100_stacked_area(df, data):\n",
    "    '''\n",
    "    df: DataFrame containing the data.\n",
    "    data: Dictionary containing the columns to be plotted.\n",
    "    '''\n",
    "    fig = go.Figure()\n",
    "\n",
    "    # Helper function to get data from column name or series\n",
    "    def get_data(item):\n",
    "        if isinstance(item, str):\n",
    "            return df[item]\n",
    "        return item\n",
    "\n",
    "    # Function to normalize data\n",
    "    def normalize_data(columns):\n",
    "        temp_df = df[columns].copy()\n",
    "        temp_df['total'] = temp_df.sum(axis=1)\n",
    "        for column in columns:\n",
    "            temp_df[column] = temp_df.apply(lambda row: row[column] / row['total'] * 100 if row['total'] != 0 else 0, axis=1)\n",
    "        return temp_df\n",
    "\n",
    "    left_normalized = normalize_data(data['left'])\n",
    "    right_normalized = normalize_data(data['right'])\n",
    "\n",
    "    # Plot 'left' data\n",
    "    for column in data['left']:\n",
    "        fig.add_trace(\n",
    "            go.Scatter(\n",
    "                x=df.index,\n",
    "                y=left_normalized[column],\n",
    "                name=column.split(' - ')[1],\n",
    "                fill='tonexty',\n",
    "                stackgroup='left',\n",
    "                legendgroup='left',\n",
    "            )\n",
    "        )\n",
    "\n",
    "    # Plot 'right' data on secondary y-axis\n",
    "    for column in data['right']:\n",
    "        fig.add_trace(\n",
    "            go.Scatter(\n",
    "                x=df.index,\n",
    "                y=right_normalized[column],\n",
    "                name=column.split(' - ')[1],\n",
    "                fill='tonexty',\n",
    "                stackgroup='right',\n",
    "                legendgroup='right',\n",
    "                yaxis='y2'\n",
    "            )\n",
    "        )\n",
    "\n",
    "    fig.update_layout(\n",
    "        title_text=f'{company} - {data[\"title\"][0]}',\n",
    "        xaxis_title='Data',\n",
    "        yaxis_title=data['title'][1],\n",
    "        yaxis2=dict(title=data['title'][2], overlaying='y', side='right')\n",
    "    )\n",
    "\n",
    "    return fig\n"
   ]
  },
  {
   "cell_type": "code",
   "execution_count": null,
   "metadata": {},
   "outputs": [],
   "source": [
    "def plot_lines(df, data):\n",
    "    '''\n",
    "    data: Dicionário contendo chaves 'left' e 'title'.\n",
    "               Exemplo: {'left': [col1, col2], 'title': 'Equity Multiplier'}\n",
    "    df: DataFrame contendo os dados.\n",
    "    '''\n",
    "    fig = go.Figure()\n",
    "\n",
    "    # Adicione os dados do eixo esquerdo\n",
    "    for column in data['left']:\n",
    "        fig.add_trace(\n",
    "            go.Scatter(x=df.index, y=df[column], fill='none', name=column.split(' - ')[1])\n",
    "        )\n",
    "\n",
    "    fig.update_layout(\n",
    "        title_text=f'{company} - {data[\"title\"][0]}',\n",
    "        xaxis_title='Data',\n",
    "        yaxis_title=data['title'][1],\n",
    "    )\n",
    "\n",
    "    return fig"
   ]
  },
  {
   "cell_type": "code",
   "execution_count": null,
   "metadata": {},
   "outputs": [],
   "source": [
    "def plot_basics(df, col, window):\n",
    "    figs = {}\n",
    "    if df[col].sum() != 0:\n",
    "\n",
    "        year_average = df[col].rolling(window=365).mean()\n",
    "\n",
    "        # Calculate rolling mean and standard deviation\n",
    "        rolling_average = df[col].rolling(window=window).mean()\n",
    "        rolling_std = df[col].rolling(window=window).std()\n",
    "\n",
    "        # Create a single line plot\n",
    "        title = f'A - Linha do Tempo'\n",
    "        fig_line = px.line(df, x=df.index, y=col, title=f'{company} - {col} - {title}',\n",
    "                            labels={'value': 'Valor (R$)', 'variable': f'{title}'})\n",
    "        fig_line.add_scatter(x=df.index, y=year_average, mode='lines', line=dict(color='blue'), name='Média Anual')\n",
    "        figs[title] = fig_line\n",
    "        # fig_line.show()\n",
    "\n",
    "        # Create a moving average plot with ±2 standard deviations\n",
    "        title = f'B - Média Móvel e ±2 Desvios Padrão'\n",
    "        fig_mma_std = px.area(df, x=df.index, y=col, title=f'{company} - {col} - {title}',\n",
    "                            labels={'value': 'Valor (R$)', 'variable': f'{title}'})\n",
    "        fig_mma_std.add_scatter(x=df.index, y=year_average, mode='lines', line=dict(color='blue'), name='Média Anual')\n",
    "        fig_mma_std.add_scatter(x=df.index, y=rolling_average, mode='lines', line=dict(color='green'), name='Média Móvel')\n",
    "        fig_mma_std.add_scatter(x=df.index, y=rolling_average + 2 * rolling_std, mode='lines', line=dict(color='green', dash='dash'), name='Média Móvel + 2 Desvios Padrão')\n",
    "        fig_mma_std.add_scatter(x=df.index, y=rolling_average - 2 * rolling_std, mode='lines', line=dict(color='green', dash='dash'), name='Média Móvel - 2 Desvios Padrão')\n",
    "        figs[title] = fig_mma_std\n",
    "        # fig_mma_std.show()\n",
    "\n",
    "    sub_cols = [c for c in df.columns if c.startswith(col.split(' - ')[0] + '.') and c.count('.') == col.count('.') + 1]\n",
    "    if sub_cols:\n",
    "        # Create a multi line plot\n",
    "        title =  f'C - Distribuição Individual'\n",
    "        fig_multiline = px.line(df, x=df.index, y=sub_cols, title=f'{company} - {col} - {title}',\n",
    "                            labels={'value': 'Valor (R$)', 'variable': f'{title}'})\n",
    "        figs[title] = fig_multiline\n",
    "        # fig_area.show()\n",
    "\n",
    "        # Create a cumulative distribution plot\n",
    "        title =  f'D - Distribuição Acumulada'\n",
    "        fig_area = px.area(df, x=df.index, y=sub_cols, title=f'{company} - {col} - {title}',\n",
    "                            labels={'value': 'Valor (R$)', 'variable': f'{title}'})\n",
    "        figs[title] = fig_area\n",
    "        # fig_area.show()\n",
    "\n",
    "        # Create a proportional distribution plot\n",
    "        title = f'E - Distribuição Proporcional'\n",
    "        fig_area_100_stacked = px.area(df, x=df.index, y=sub_cols, title=f'{company} - {col} - {title}',\n",
    "                            labels={'value': 'Porcentagem (%)', 'variable': f'{title}'},\n",
    "                            groupnorm='percent')\n",
    "        figs[title] = fig_area_100_stacked\n",
    "        # fig_area_100_stacked.show()\n",
    "\n",
    "    return figs\n"
   ]
  },
  {
   "cell_type": "code",
   "execution_count": null,
   "metadata": {},
   "outputs": [],
   "source": [
    "def save_figs(figs, base_dir='./company/'):\n",
    "    \"\"\"\n",
    "    Save figures to the specified directory.\n",
    "\n",
    "    Parameters:\n",
    "    - col_figs: Dictionary of figures to save\n",
    "    - col: Column for which figures were generated\n",
    "    - company: Company for which figures were generated\n",
    "    - base_dir: Base directory where the figures will be saved\n",
    "    \"\"\"\n",
    "    for company, col in figs.items():\n",
    "        path = os.path.join(base_dir, company)\n",
    "        \n",
    "        # Create company directory if it doesn't exist\n",
    "        if not os.path.exists(path):\n",
    "            os.makedirs(path)\n",
    "\n",
    "        for col, plots in col.items():\n",
    "            for title, plot in plots.items():\n",
    "                try:\n",
    "                    file_name = f'{company} - {col} - {title}.png'\n",
    "                    file_path = os.path.join(path, file_name)\n",
    "                    plot.write_image(file_path)\n",
    "                    # plot.show()\n",
    "                    print(file_name)\n",
    "                except Exception as e:\n",
    "                    print(e)\n",
    "    return figs\n"
   ]
  },
  {
   "cell_type": "code",
   "execution_count": null,
   "metadata": {},
   "outputs": [],
   "source": [
    "years = 3\n",
    "figs = {}\n",
    "figs[company] = {}\n",
    "df = df_ticker[0]\n",
    "for item in df.columns:\n",
    "    figs[company][item] = {}\n",
    "    print(item)\n",
    "    try:\n",
    "        if df[item].sum() != 0:\n",
    "            plot = 'Valores, Média, CAGR e OFS'\n",
    "            data = {\n",
    "                'title': [f'{item} - {plot}', 'Reais (R$)', 'Porcentagem (%)'], \n",
    "                'left': [item], \n",
    "                'right': [cagr(item, years), ofs(item, years)], \n",
    "            }\n",
    "            options = {\n",
    "                'left': {'shape': 'area', 'mode': 'standalone', 'normalization': False, 'mma': [years, 2], },\n",
    "                'right': {'shape': 'ine', 'mode': 'standalone', 'normalization': False, 'outliers': False, }, \n",
    "            }\n",
    "            fig = plot_tweak(df_ticker[0], data, options)\n",
    "            figs[company][item][plot] = fig\n",
    "            # fig.show()\n",
    "\n",
    "            sub_cols = [column for column in df.columns if column.startswith(item.split(' - ')[0] + '.') and column.count('.') == item.count('.') + 1]\n",
    "            if sub_cols:\n",
    "                plot = 'Composição Cumulativa'\n",
    "                data = {\n",
    "                    'title': [f'{item} - {plot}', 'Reais (R$)', 'Porcentagem (%)'], \n",
    "                    'left': sub_cols, \n",
    "                    'right': [], \n",
    "                }\n",
    "                options = {\n",
    "                    'left': {'shape': 'area', 'mode': 'cumulative', 'normalization': False, },\n",
    "                    'right': {'shape': 'line', 'mode': 'standalone', 'normalization': False, }, \n",
    "                }\n",
    "                fig = plot_tweak(df_ticker[0], data, options)\n",
    "                figs[company][item][plot] = fig\n",
    "                # fig.show()\n",
    "\n",
    "                plot = 'Composição Individual'\n",
    "                data = {\n",
    "                    'title': [f'{item} - {plot}', 'Reais (R$)', 'Porcentagem (%)'], \n",
    "                    'left': sub_cols, \n",
    "                    'right': [], \n",
    "                }\n",
    "                options = {\n",
    "                    'left': {'shape': 'line', 'mode': 'standalone', 'normalization': False, },\n",
    "                    'right': {'shape': 'line', 'mode': 'standalone', 'normalization': False, }, \n",
    "                }\n",
    "                fig = plot_tweak(df_ticker[0], data, options)\n",
    "                figs[company][item][plot] = fig\n",
    "                # fig.show()\n",
    "\n",
    "                plot = 'Composição Relativa'\n",
    "                data = {\n",
    "                    'title': [f'{item} - {plot}', 'Reais (R$)', 'Porcentagem (%)'], \n",
    "                    'left': sub_cols, \n",
    "                    'right': [], \n",
    "                }\n",
    "                options = {\n",
    "                    'left': {'shape': 'line', 'mode': 'standalone', 'normalization': True, },\n",
    "                    'right': {'shape': 'line', 'mode': 'standalone', 'normalization': False, }, \n",
    "                }\n",
    "                fig = plot_tweak(df_ticker[0], data, options)\n",
    "                figs[company][item][plot] = fig\n",
    "                # fig.show()\n",
    "\n",
    "    except Exception as e:\n",
    "        pass\n"
   ]
  },
  {
   "cell_type": "code",
   "execution_count": null,
   "metadata": {},
   "outputs": [],
   "source": [
    "lines = {\n",
    "    'Equity Multiplier': {\n",
    "        'data': {\n",
    "            'title': ['Reais (R$)', 'Porcentagem (%)'],\n",
    "            'left': ['01 - Ativo Total', '02.03 - Patrimônio Líquido'],\n",
    "            'right': ['11.03.01 - Equity Multiplier (Ativos por Patrimônio Líquido)']\n",
    "        },\n",
    "        'options': {\n",
    "            'left': {'shape': 'area', 'mode': 'cumulative', 'normalization': True, 'range': 'flexible'},\n",
    "            'right': {'shape': 'line', 'mode': 'standalone', 'normalization': False}\n",
    "        }\n",
    "    },\n",
    "    'Proporção dos Ativos': {\n",
    "        'data': {\n",
    "            'title': ['Reais (R$)', 'Porcentagem (%)'],\n",
    "            'left': ['11.01.03 - Ativos Circulantes de Curto Prazo por Ativos', '11.01.04 - Ativos Não Circulantes de Longo Prazo por Ativos'],\n",
    "            'right': []\n",
    "        },\n",
    "        'options': {\n",
    "            'left': {'shape': 'area', 'mode': 'cumulative', 'normalization': True, 'range': 'flexible'},\n",
    "            'right': {'shape': 'line', 'mode': 'standalone', 'normalization': True}\n",
    "        }\n",
    "    }\n",
    "}\n"
   ]
  },
  {
   "cell_type": "code",
   "execution_count": null,
   "metadata": {},
   "outputs": [],
   "source": [
    "lines = {}\n",
    "lines['Proporção dos Ativos'] = {'data': {'title': ['Reais (R$)', 'Porcentagem (%)'], 'left': ['11.01.03 - Ativos Circulantes de Curto Prazo por Ativos', '11.01.04 - Ativos Não Circulantes de Longo Prazo por Ativos'], 'right': []}, 'options': {'left': {'shape': 'area', 'mode': 'cumulative', 'normalization': True, 'range': 'flexible'}, 'right': {'shape': 'line', 'mode': 'standalone', 'normalization': True}}}\n",
    "lines['Proporção dos Ativos']['data']['title']"
   ]
  },
  {
   "cell_type": "code",
   "execution_count": null,
   "metadata": {},
   "outputs": [],
   "source": [
    "title = 'Equity Multiplier'\n",
    "data = {\n",
    "    'title': [title, 'Reais (R$)', 'Porcentagem (%)'], \n",
    "    'left': ['01 - Ativo Total', '02.03 - Patrimônio Líquido'], \n",
    "    'right': [ '11.03.01 - Equity Multiplier (Ativos por Patrimônio Líquido)',], \n",
    "}\n",
    "options = {\n",
    "    'left': {'shape': 'area', 'mode': 'cumulative', 'normalization': True, 'range': 'flexible', },\n",
    "    'right': {'shape': 'ine', 'mode': 'standalone', 'normalization': False, }, \n",
    "}\n",
    "fig = plot_tweak(df_ticker[0], data, options)\n",
    "# figs[company]['others'][title] = fig\n",
    "fig.show()\n"
   ]
  },
  {
   "cell_type": "code",
   "execution_count": null,
   "metadata": {},
   "outputs": [],
   "source": [
    "title = 'Proporção dos Ativos'\n",
    "data = {\n",
    "    'title': [title, 'Reais (R$)', 'Porcentagem (%)'], \n",
    "    'left': [ '11.01.03 - Ativos Circulantes de Curto Prazo por Ativos', '11.01.04 - Ativos Não Circulantes de Longo Prazo por Ativos',], \n",
    "    'right': [], \n",
    "}\n",
    "options = {\n",
    "    'left': {'shape': 'area', 'mode': 'cumulative', 'normalization': True, 'range': 'flexible', },\n",
    "    'right': {'shape': 'ine', 'mode': 'standalone', 'normalization': True, }, \n",
    "}\n",
    "fig = plot_tweak(df_ticker[0], data, options)\n",
    "# figs[company]['others'][title] = fig\n",
    "fig.show()\n"
   ]
  },
  {
   "cell_type": "code",
   "execution_count": null,
   "metadata": {},
   "outputs": [],
   "source": [
    "title = 'Proporção dos Passivos'\n",
    "data = {\n",
    "    'title': [title, 'Reais (R$)', 'Porcentagem (%)'], \n",
    "    'left': [ '11.02.01 - Passivos Circulantes de Curto Prazo por Ativos', '11.02.02 - Passivos Não Circulantes de Longo Prazo por Ativos', '11.03 - Patrimônio Líquido por Ativos'], \n",
    "    'right': [], \n",
    "}\n",
    "options = {\n",
    "    'left': {'shape': 'area', 'mode': 'cumulative', 'normalization': True, 'range': 'flexible', },\n",
    "    'right': {'shape': 'ine', 'mode': 'standalone', 'normalization': False, }, \n",
    "}\n",
    "fig = plot_tweak(df_ticker[0], data, options)\n",
    "# figs[company]['others'][title] = fig\n",
    "fig.show()\n"
   ]
  },
  {
   "cell_type": "code",
   "execution_count": null,
   "metadata": {},
   "outputs": [],
   "source": [
    "title = 'Passivos por Patrimônio Líquido'\n",
    "data = {\n",
    "    'title': [title, 'Reais (R$)', 'Porcentagem (%)'], \n",
    "    'left': [ '11.03.02.01 - Passivos Circulantes de Curto Prazo por Patrimônio Líquido',  '11.03.02.02 - Passivos Não Circulantes de Longo Prazo por Patrimônio Líquido',], \n",
    "    'right': [], \n",
    "}\n",
    "options = {\n",
    "    'left': {'shape': 'area', 'mode': 'cumulative', 'normalization': True, 'range': 'flexible', },\n",
    "    'right': {'shape': 'ine', 'mode': 'standalone', 'normalization': False, 'outliers': True, }, \n",
    "}\n",
    "fig = plot_tweak(df_ticker[0], data, options)\n",
    "# figs[company]['others'][title] = fig\n",
    "fig.show()\n"
   ]
  },
  {
   "cell_type": "code",
   "execution_count": null,
   "metadata": {},
   "outputs": [],
   "source": [
    "title = 'Ativos e Liquidez'\n",
    "data = {\n",
    "    'title': [title, 'Reais (R$)', 'Porcentagem (%)'], \n",
    "    'left': ['01.01 - Ativo Circulante de Curto Prazo', '02.01 - Passivo Circulante de Curto Prazo'], \n",
    "    'right': ['11.01.02 - Liquidez (Ativos Circulantes por Passivos Circulantes)', ], \n",
    "}\n",
    "options = {\n",
    "    'left': {'shape': 'area', 'mode': 'standalone', 'normalization': False, },\n",
    "    'right': {'shape': 'ine', 'mode': 'standalone', 'normalization': False, 'mma': [3,2]}, \n",
    "}\n",
    "fig = plot_tweak(df_ticker[0], data, options)\n",
    "# figs[company]['others'][title] = fig\n",
    "fig.show()\n"
   ]
  },
  {
   "cell_type": "code",
   "execution_count": null,
   "metadata": {},
   "outputs": [],
   "source": [
    "title = 'Ativos e Prazos'\n",
    "data = {\n",
    "    'title': [title, 'Reais (R$)', 'Porcentagem (%)'], \n",
    "    'left': [df['01.01 - Ativo Circulante de Curto Prazo'], df['01.02 - Ativo Não Circulante de Longo Prazo']], \n",
    "    'right': ['11.01.03 - Ativos Circulantes de Curto Prazo por Ativos', '11.01.04 - Ativos Não Circulantes de Longo Prazo por Ativos', ], \n",
    "}\n",
    "options = {\n",
    "    'left': {'shape': 'area', 'mode': 'standalone', 'normalization': False, },\n",
    "    'right': {'shape': 'line', 'mode': 'standalone', 'normalization': True, },\n",
    "}\n",
    "fig = plot_tweak(df_ticker[0], data, options)\n",
    "# figs[company]['others'][title] = fig\n",
    "fig.show()\n"
   ]
  },
  {
   "cell_type": "code",
   "execution_count": null,
   "metadata": {},
   "outputs": [],
   "source": [
    "title = 'Capital de Giro'\n",
    "trace = (df['01.02 - Ativo Não Circulante de Longo Prazo']/df['02.02 - Passivo Não Circulante de Longo Prazo'])\n",
    "trace.name = 'Liquide de Longo Prazo (Ativos Não Circulantes por Passivos Não Circulantes)'\n",
    "data = {\n",
    "    'title': [title, 'Reais (R$)', 'Porcentagem (%)'], \n",
    "    'left': ['11.01.02 - Liquidez (Ativos Circulantes por Passivos Circulantes)', trace], \n",
    "    'right': ['11.01.01 - Capital de Giro (Ativos Circulantes - Passivos Circulantes)'], \n",
    "}\n",
    "options = {\n",
    "    'left': {'shape': 'line', 'mode': 'standalone', 'normalization': False, 'range': 'flexible', },\n",
    "    'right': {'shape': 'area', 'mode': 'standalone', 'normalization': False, 'range': 'flexible', },\n",
    "}\n",
    "fig = plot_tweak(df_ticker[0], data, options)\n",
    "# figs[company]['others'][title] = fig\n",
    "fig.show()\n"
   ]
  },
  {
   "cell_type": "code",
   "execution_count": null,
   "metadata": {},
   "outputs": [],
   "source": [
    "title = 'Contas a Receber e Faturamento'\n",
    "data = {\n",
    "    'title': [title, 'Reais (R$)', 'Porcentagem (%)'], \n",
    "    'left': ['01.01.03 - Contas a Receber', '01.02.01.03 - Contas a Receber'], \n",
    "    'right': ['13.03 - Contas por Faturamento'], \n",
    "}\n",
    "options = {\n",
    "    'left': {'shape': 'line', 'mode': 'standalone', 'normalization': False, },\n",
    "    'right': {'shape': 'line', 'mode': 'standalone', 'normalization': False, 'mma': [3,2], },\n",
    "}\n",
    "fig = plot_tweak(df_ticker[0], data, options)\n",
    "# figs[company]['others'][title] = fig\n",
    "fig.show()\n"
   ]
  },
  {
   "cell_type": "code",
   "execution_count": null,
   "metadata": {},
   "outputs": [],
   "source": [
    "title = 'Estoques e Faturamento'\n",
    "data = {\n",
    "    'title': [title, 'Reais (R$)', 'Porcentagem (%)'], \n",
    "    'left': ['01.01.04 - Estoques', '01.02.01.04 - Estoques'], \n",
    "    'right': ['13.04 - Estoques por Faturamento'], \n",
    "}\n",
    "options = {\n",
    "    'left': {'shape': 'area', 'mode': 'standalone', 'normalization': False, 'range': 'flexible', },\n",
    "    'right': {'shape': 'line', 'mode': 'standalone', 'normalization': False, 'mma': [3,2], 'range': 'flexible', },\n",
    "}\n",
    "fig = plot_tweak(df_ticker[0], data, options)\n",
    "# figs[company]['others'][title] = fig\n",
    "fig.show()\n"
   ]
  },
  {
   "cell_type": "code",
   "execution_count": null,
   "metadata": {},
   "outputs": [],
   "source": [
    "title = 'Ativos Biológicos e Faturamento'\n",
    "data = {\n",
    "    'title': [title, 'Reais (R$)', 'Porcentagem (%)'], \n",
    "    'left': ['01.01.05 - Ativos Biológicos', '01.02.01.05 - Ativos Biológicos'], \n",
    "    'right': ['13.05 - Ativos Biológicos por Faturamento'], \n",
    "}\n",
    "options = {\n",
    "    'left': {'shape': 'area', 'mode': 'standalone', 'normalization': False, },\n",
    "    'right': {'shape': 'line', 'mode': 'standalone', 'normalization': False, 'mma': [3,2]},\n",
    "}\n",
    "fig = plot_tweak(df_ticker[0], data, options)\n",
    "# figs[company]['others'][title] = fig\n",
    "fig.show()\n"
   ]
  },
  {
   "cell_type": "code",
   "execution_count": null,
   "metadata": {},
   "outputs": [],
   "source": [
    "title = 'Despesas e Faturamento'\n",
    "data = {\n",
    "    'title': [title, 'Reais (R$)', 'Porcentagem (%)'], \n",
    "    'left': ['01.01.07 - Despesas', '01.02.01.07 - Despesas'], \n",
    "    'right': ['13.07 - Despesas por Faturamento'], \n",
    "}\n",
    "options = {\n",
    "    'left': {'shape': 'area', 'mode': 'standalone', 'normalization': False, },\n",
    "    'right': {'shape': 'line', 'mode': 'standalone', 'normalization': False, 'mma': [3,2]},\n",
    "}\n",
    "fig = plot_tweak(df_ticker[0], data, options)\n",
    "# figs[company]['others'][title] = fig\n",
    "fig.show()\n"
   ]
  },
  {
   "cell_type": "code",
   "execution_count": null,
   "metadata": {},
   "outputs": [],
   "source": [
    "title = 'Tributos e Faturamento'\n",
    "data = {\n",
    "    'title': [title, 'Reais (R$)', 'Porcentagem (%)'], \n",
    "    'left': ['01.01.06 - Tributos', '01.02.01.06 - Tributos'], \n",
    "    'right': ['13.06 - Tributos por Faturamento'], \n",
    "}\n",
    "options = {\n",
    "    'left': {'shape': 'area', 'mode': 'standalone', 'normalization': False, },\n",
    "    'right': {'shape': 'line', 'mode': 'standalone', 'normalization': False, 'mma': [3,2]},\n",
    "}\n",
    "fig = plot_tweak(df_ticker[0], data, options)\n",
    "# figs[company]['others'][title] = fig\n",
    "fig.show()\n"
   ]
  },
  {
   "cell_type": "code",
   "execution_count": null,
   "metadata": {},
   "outputs": [],
   "source": [
    "title = 'Capex Ativos Imobilizados e Intangíveis'\n",
    "data = {\n",
    "    'title': [title, 'Reais (R$)', 'Porcentagem (%)'], \n",
    "    'left': ['01.02.03 - Imobilizados', '01.02.04 - Intangível', '01.02.02 - Investimentos Não Capex'], \n",
    "    'right': ['01.02.03 - Imobilizados', '01.02.04 - Intangível', '01.02.02 - Investimentos Não Capex'], \n",
    "}\n",
    "options = {\n",
    "    'left': {'shape': 'area', 'mode': 'cumulative', 'normalization': False, },\n",
    "    'right': {'shape': 'line', 'mode': 'standalone', 'normalization': True, },\n",
    "}\n",
    "fig = plot_tweak(df_ticker[0], data, options)\n",
    "# figs[company]['others'][title] = fig\n",
    "fig.show()\n"
   ]
  },
  {
   "cell_type": "code",
   "execution_count": null,
   "metadata": {},
   "outputs": [],
   "source": [
    "title = 'Imobilização do Patrimônio'\n",
    "trace = (df['11.03.04 - Patrimônio Imobilizado']/df['02.03 - Patrimônio Líquido'])\n",
    "trace.name = 'Patrimônio Imobilizado por Patrimônio Líquido'\n",
    "data = {\n",
    "    'title': [title, 'Reais (R$)', 'Porcentagem (%)'], \n",
    "    'left': ['11.03.04 - Patrimônio Imobilizado', '02.03 - Patrimônio Líquido'], \n",
    "    'right': [trace], \n",
    "}\n",
    "options = {\n",
    "    'left': {'shape': 'area', 'mode': 'standalone', 'normalization': False, },\n",
    "    'right': {'shape': 'line', 'mode': 'cumulative', 'normalization': False, 'mma': [3,2]},\n",
    "}\n",
    "fig = plot_tweak(df_ticker[0], data, options)\n",
    "# figs[company]['others'][title] = fig\n",
    "fig.show()\n"
   ]
  },
  {
   "cell_type": "code",
   "execution_count": null,
   "metadata": {},
   "outputs": [],
   "source": [
    "title = 'Prazo da Dívida'\n",
    "trace = df['12.01.02.01 - Dívida Bruta Circulante de Curto Prazo']/df['12.01.02 - Dívida Bruta']\n",
    "trace.name = 'Dívida de Curto Prazo por Dívida '\n",
    "data = {\n",
    "    'title': [title, 'Reais (R$)', 'Porcentagem (%)'], \n",
    "    'left': ['12.01.02.01 - Dívida Bruta Circulante de Curto Prazo', '12.01.02.02 - Dívida Bruta Não Circulante de Longo Prazo Prazo'], \n",
    "    'right': [trace], \n",
    "}\n",
    "options = {\n",
    "    'left': {'shape': 'area', 'mode': 'cumulative', 'normalization': False, },\n",
    "    'right': {'shape': 'line', 'mode': 'standalone', 'normalization': False,'mma': [3,2]},\n",
    "}\n",
    "fig = plot_tweak(df_ticker[0], data, options)\n",
    "# figs[company]['others'][title] = fig\n",
    "fig.show()\n"
   ]
  },
  {
   "cell_type": "code",
   "execution_count": null,
   "metadata": {},
   "outputs": [],
   "source": [
    "title = 'Jurisdição da Dívida'\n",
    "trace = df['12.01.02.03 - Dívida Bruta em Moeda Nacional']/(df['12.01.02.03 - Dívida Bruta em Moeda Nacional']+df['12.01.02.04 - Dívida Bruta em Moeda Estrangeira'])\n",
    "trace.name = 'Nacionalização da Dívida'\n",
    "data = {\n",
    "    'title': [title, 'Reais (R$)', 'Porcentagem (%)'], \n",
    "    'left': ['12.01.02.03 - Dívida Bruta em Moeda Nacional', '12.01.02.04 - Dívida Bruta em Moeda Estrangeira'], \n",
    "    'right': [trace], \n",
    "}\n",
    "options = {\n",
    "    'left': {'shape': 'area', 'mode': 'cumulative', 'normalization': False, },\n",
    "    'right': {'shape': 'line', 'mode': 'standalone', 'normalization': False,'mma': [3,2], },\n",
    "}\n",
    "fig = plot_tweak(df_ticker[0], data, options)\n",
    "# figs[company]['others'][title] = fig\n",
    "fig.show()\n"
   ]
  },
  {
   "cell_type": "code",
   "execution_count": null,
   "metadata": {},
   "outputs": [],
   "source": [
    "title = 'Dívida de Curto Prazo por Ativo de Curto Prazo'\n",
    "trace = df['12.01.02.01 - Dívida Bruta Circulante de Curto Prazo']/df['01.01 - Ativo Circulante de Curto Prazo']\n",
    "trace.name = 'Dívida de Curto Prazo por Ativo de Curto Prazo'\n",
    "data = {\n",
    "    'title': [title, 'Reais (R$)', 'Porcentagem (%)'], \n",
    "    'left': ['02.01.04.01.01 - Empréstimos e Financiamentos em Moeda Nacional', '02.01.04.01.02 - Empréstimos e Financiamentos em Moeda Estrangeira', '02.01.04.02 - Debêntures', '02.01.04.03 - Arrendamentos', '02.01.04.09 - Outros empréstimos, financiamentos e debêntures', ], \n",
    "    'left_01': ['01.01 - Ativo Circulante de Curto Prazo'], \n",
    "    'right': [trace], \n",
    "}\n",
    "options = {\n",
    "    'left': {'shape': 'area', 'mode': 'cumulative', 'normalization': False, },\n",
    "    'left_01': {'shape': 'line', 'mode': 'standalone', 'normalization': False, },\n",
    "    'right': {'shape': 'line', 'mode': 'standalone', 'normalization': False, 'mma': [3, 2]},\n",
    "}\n",
    "fig = plot_tweak(df_ticker[0], data, options)\n",
    "# figs[company]['others'][title] = fig\n",
    "fig.show()\n"
   ]
  },
  {
   "cell_type": "code",
   "execution_count": null,
   "metadata": {},
   "outputs": [],
   "source": [
    "title = 'Dívida de Longo Prazo por Ativo de Longo Prazo'\n",
    "trace = df['12.01.02.02 - Dívida Bruta Não Circulante de Longo Prazo Prazo']/df['01.02 - Ativo Não Circulante de Longo Prazo']\n",
    "trace.name = 'Dívida de Longo Prazo por Ativo de Longo Prazo'\n",
    "data = {\n",
    "    'title': [title, 'Reais (R$)', 'Porcentagem (%)'], \n",
    "    'left': ['02.02.01.01.01 - Empréstimos e Financiamentos em Moeda Nacional', '02.02.01.01.02 - Empréstimos e Financiamentos em Moeda Estrangeira', '02.02.01.02 - Debêntures', '02.02.01.03 - Arrendamentos', '02.02.02.09 - Outros empréstimos, financiamentos e debêntures', ], \n",
    "    'left_01': ['01.02 - Ativo Não Circulante de Longo Prazo'], \n",
    "    'right': [trace], \n",
    "}\n",
    "options = {\n",
    "    'left': {'shape': 'area', 'mode': 'cumulative', 'normalization': False, 'range': 'flexible'},\n",
    "    'left_01': {'shape': 'line', 'mode': 'standalone', 'normalization': False, 'range': 'flexible'},\n",
    "    'right': {'shape': 'line', 'mode': 'standalone', 'normalization': False, 'mma': [3, 2], 'range': 'flexible'},\n",
    "}\n",
    "fig = plot_tweak(df_ticker[0], data, options)\n",
    "# figs[company]['others'][title] = fig\n",
    "fig.show()\n"
   ]
  },
  {
   "cell_type": "code",
   "execution_count": null,
   "metadata": {},
   "outputs": [],
   "source": [
    "title = 'Dívida por Patrimônio Líquido'\n",
    "data = {\n",
    "    'title': [title, 'Reais (R$)', 'Porcentagem (%)'], \n",
    "    'left': ['12.01.02.01 - Dívida Bruta Circulante de Curto Prazo', '12.01.02.02 - Dívida Bruta Não Circulante de Longo Prazo Prazo', ], \n",
    "    'left_01': ['02.03 - Patrimônio Líquido'], \n",
    "    'right': ['12.02.01 - Dívida Bruta por Patrimônio Líquido'], \n",
    "}\n",
    "options = {\n",
    "    'left': {'shape': 'area', 'mode': 'cumulative', 'normalization': False, },\n",
    "    'left_01': {'shape': 'line', 'mode': 'standalone', 'normalization': False, },\n",
    "    'right': {'shape': 'line', 'mode': 'standalone', 'normalization': False, 'mma': [3,2], },\n",
    "}\n",
    "fig = plot_tweak(df_ticker[0], data, options)\n",
    "# figs[company]['others'][title] = fig\n",
    "fig.show()\n"
   ]
  },
  {
   "cell_type": "code",
   "execution_count": null,
   "metadata": {},
   "outputs": [],
   "source": [
    "title = 'Dívida Líquida'\n",
    "data = {\n",
    "    'title': [title, 'Reais (R$)', 'Porcentagem (%)'], \n",
    "    'left': [df['12.01.02 - Dívida Bruta'], ], \n",
    "    'left_01': [df['01.01.01 - Caixa e Disponibilidades de Caixa']*-1], \n",
    "    'left_02': [df['12.01.03 - Dívida Líquida']], \n",
    "}\n",
    "options = {\n",
    "    'left': {'shape': 'area', 'mode': 'cumulative', 'normalization': False, 'range': 'flexible'},\n",
    "    'left_01': {'shape': 'area', 'mode': 'cumulative', 'normalization': False, 'range': 'flexible'},\n",
    "    'left_02': {'shape': 'line', 'mode': 'standalone', 'normalization': False, 'range': 'flexible'},\n",
    "}\n",
    "fig = plot_tweak(df_ticker[0], data, options)\n",
    "# figs[company]['others'][title] = fig\n",
    "fig.show()\n"
   ]
  },
  {
   "cell_type": "code",
   "execution_count": null,
   "metadata": {},
   "outputs": [],
   "source": [
    "title = 'Dívida Líquida por EBITDA'\n",
    "data = {\n",
    "    'title': [title, 'Reais (R$)', 'Porcentagem (%)'], \n",
    "    'left': [df['12.04.01 - Dívida Líquida por EBITDA']*-1, ], \n",
    "    'left_01': ['12.02.01 - Dívida Bruta por Patrimônio Líquido'],\n",
    "    'right': ['12.01.02 - Dívida Bruta', '02.03 - Patrimônio Líquido'], \n",
    "    # 'right': [ofs('12.04.01 - Dívida Líquida por EBITDA', 3), ]\n",
    "}\n",
    "options = {\n",
    "    'left': {'shape': 'line', 'mode': 'cumulative', 'normalization': False, 'range': 'half'},\n",
    "    'left_01': {'shape': 'line', 'mode': 'cumulative', 'normalization': False, 'range': 'half'},\n",
    "    'right': {'shape': 'line', 'mode': 'standalone', 'normalization': False, 'outliers': False, 'range': 'flexible'},\n",
    "}\n",
    "fig = plot_tweak(df_ticker[0], data, options)\n",
    "# figs[company]['others'][title] = fig\n",
    "fig.show()\n"
   ]
  },
  {
   "cell_type": "code",
   "execution_count": null,
   "metadata": {},
   "outputs": [],
   "source": [
    "title = 'Endividamento Financeiro'\n",
    "data = {\n",
    "    'title': [title, 'Reais (R$)', 'Porcentagem (%)'], \n",
    "    'left': [df['02.03 - Patrimônio Líquido'], df['12.01.02 - Dívida Bruta'], ], \n",
    "    'right': ['12.02.02 - Endividamento Financeiro'], \n",
    "}\n",
    "options = {\n",
    "    'left': {'shape': 'area', 'mode': 'standalone', 'normalization': False, },\n",
    "    'right': {'shape': 'line', 'mode': 'cumulative', 'normalization': False, 'mma': [3, 2]},\n",
    "}\n",
    "fig = plot_tweak(df_ticker[0], data, options)\n",
    "# figs[company]['others'][title] = fig\n",
    "fig.show()\n"
   ]
  },
  {
   "cell_type": "code",
   "execution_count": null,
   "metadata": {},
   "outputs": [],
   "source": [
    "title = 'Serviço da Dívida'\n",
    "trace = df['12.01.03 - Dívida Líquida']/df['03.11 - Lucro Líquido']\n",
    "trace.name = 'Serviço da Dívida'\n",
    "data = {\n",
    "    'title': [title, 'Reais (R$)', 'Porcentagem (%)'], \n",
    "    'left': ['12.01.03 - Dívida Líquida', '03.11 - Lucro Líquido'], \n",
    "    'right': [trace], \n",
    "}\n",
    "options = {\n",
    "    'left': {'shape': 'area', 'mode': 'standalone', 'normalization': False, },\n",
    "    'right': {'shape': 'line', 'mode': 'standalone', 'normalization': False, 'mma': [3, 2], },\n",
    "}\n",
    "fig = plot_tweak(df_ticker[0], data, options)\n",
    "# figs[company]['others'][title] = fig\n",
    "fig.show()\n"
   ]
  },
  {
   "cell_type": "code",
   "execution_count": null,
   "metadata": {},
   "outputs": [],
   "source": [
    "title = 'Índice de Cobertura'\n",
    "trace = df['07.08.03.01 - Juros Pagos']/df['03.05 - LAJIR EBIT Resultado Antes do Resultado Financeiro e dos Tributos']\n",
    "trace.name = 'Juros por EBIT'\n",
    "data = {\n",
    "    'title': [title, 'Reais (R$)', 'Porcentagem (%)'], \n",
    "    'left': ['07.08.03.01 - Juros Pagos', '03.05 - LAJIR EBIT Resultado Antes do Resultado Financeiro e dos Tributos', ], \n",
    "    'right': [trace], \n",
    "}\n",
    "options = {\n",
    "    'left': {'shape': 'area', 'mode': 'standalone', 'normalization': False, },\n",
    "    'right': {'shape': 'line', 'mode': 'standalone', 'normalization': False, 'mma': [3, 2], },\n",
    "}\n",
    "fig = plot_tweak(df_ticker[0], data, options)\n",
    "# figs[company]['others'][title] = fig\n",
    "fig.show()\n"
   ]
  },
  {
   "cell_type": "code",
   "execution_count": null,
   "metadata": {},
   "outputs": [],
   "source": [
    "title = 'Composição do Patrimônio Líquido'\n",
    "data = {\n",
    "    'title': [title, 'Reais (R$)', 'Porcentagem (%)'], \n",
    "    'left': ['02.03.01 - Capital Social', '02.03.02 - Reservas de Capital', '02.03.03 - Reservas de Reavaliação', '02.03.04 - Reservas de Lucros', '02.03.05 - Lucros ou Prejuízos Acumulados', '02.03.06 - Ajustes de Avaliação Patrimonial', '02.03.07 - Ajustes Acumulados de Conversão', '02.03.08 - Outros Resultados Abrangentes', ], \n",
    "}\n",
    "options = {\n",
    "    'left': {'shape': 'area', 'mode': 'cumulative', 'normalization': False, 'range': 'flexible', },\n",
    "}\n",
    "fig = plot_tweak(df_ticker[0], data, options)\n",
    "# figs[company]['others'][title] = fig\n",
    "fig.show()\n"
   ]
  },
  {
   "cell_type": "code",
   "execution_count": null,
   "metadata": {},
   "outputs": [],
   "source": [
    "title = 'Composição do Patrimônio Líquido'\n",
    "data = {\n",
    "    'title': [title, 'Reais (R$)', 'Porcentagem (%)'], \n",
    "    'left': ['02.03.01 - Capital Social', '02.03.02 - Reservas de Capital', '02.03.03 - Reservas de Reavaliação', '02.03.04 - Reservas de Lucros', '02.03.05 - Lucros ou Prejuízos Acumulados', '02.03.06 - Ajustes de Avaliação Patrimonial', '02.03.07 - Ajustes Acumulados de Conversão', '02.03.08 - Outros Resultados Abrangentes', ], \n",
    "}\n",
    "options = {\n",
    "    'left': {'shape': 'line', 'mode': 'standalone', 'normalization': False, },\n",
    "}\n",
    "fig = plot_tweak(df_ticker[0], data, options)\n",
    "# figs[company]['others'][title] = fig\n",
    "fig.show()\n",
    "\n"
   ]
  },
  {
   "cell_type": "code",
   "execution_count": null,
   "metadata": {},
   "outputs": [],
   "source": [
    "title = 'Margem Bruta'\n",
    "data = {\n",
    "    'title': [title, 'Reais (R$)', 'Porcentagem (%)'], \n",
    "    'left_1': [df['03.02 - Custo de Produção']*-1, df['03.03 - Resultado Bruto (Receita Líquida)'], ], \n",
    "    'right': [df['16.01 - Margem Bruta (Resultado Bruto (Receita Líquida) por Receita Bruto)'] * 100, ]\n",
    "}\n",
    "options = {\n",
    "    'left_1': {'shape': 'area', 'mode': 'cumulative', 'normalization': False, },\n",
    "    'right': {'shape': 'line', 'mode': 'standalone', 'normalization': False, 'mma': [3, 2], },\n",
    "}\n",
    "fig = plot_tweak(df_ticker[0], data, options)\n",
    "# figs[company]['others'][title] = fig\n",
    "fig.show()\n",
    "\n"
   ]
  },
  {
   "cell_type": "code",
   "execution_count": null,
   "metadata": {},
   "outputs": [],
   "source": [
    "title = 'Margem Operacional'\n",
    "data = {\n",
    "    'title': [title, 'Reais (R$)', 'Porcentagem (%)'], \n",
    "    'left_1': [df['03.01 - Receita Bruta'], df['03.04 - Despesas Operacionais']*-1, ], \n",
    "    'right': [df['16.02 - Margem Operacional (Receitas Operacionais por Receita Bruta)'] * -100,]\n",
    "}\n",
    "options = {\n",
    "    'left_1': {'shape': 'area', 'mode': 'cumulative', 'normalization': False, 'range': 'flexible', },\n",
    "    'right': {'shape': 'line', 'mode': 'standalone', 'normalization': False, 'mma': [3, 2], },\n",
    "}\n",
    "fig = plot_tweak(df_ticker[0], data, options)\n",
    "# figs[company]['others'][title] = fig\n",
    "fig.show()\n",
    "\n"
   ]
  },
  {
   "cell_type": "code",
   "execution_count": null,
   "metadata": {},
   "outputs": [],
   "source": [
    "title = 'Margem EBIT'\n",
    "data = {\n",
    "    'title': [title, 'Reais (R$)', 'Porcentagem (%)'], \n",
    "    'left_1': [df['03.04 - Despesas Operacionais']*-1, df['03.05 - LAJIR EBIT Resultado Antes do Resultado Financeiro e dos Tributos'], ], \n",
    "    'right': [df['16.03.01 - Margem EBIT (EBIT por Resultado Bruto (Receita Líquida)'] * 100,]\n",
    "}\n",
    "options = {\n",
    "    'left_1': {'shape': 'area', 'mode': 'cumulative', 'normalization': False,},\n",
    "    'right': {'shape': 'line', 'mode': 'standalone', 'normalization': False, 'mma': [3, 2], 'range': 'flexible', },\n",
    "}\n",
    "fig = plot_tweak(df_ticker[0], data, options)\n",
    "# figs[company]['others'][title] = fig\n",
    "fig.show()\n",
    "\n"
   ]
  },
  {
   "cell_type": "code",
   "execution_count": null,
   "metadata": {},
   "outputs": [],
   "source": [
    "title = 'Margem de Depreciação'\n",
    "data = {\n",
    "    'title': [title, 'Reais (R$)', 'Porcentagem (%)'], \n",
    "    'left_1': [df['03.01 - Receita Bruta'], df['07.04.01 - Depreciação e Amortização'] * -1, ], \n",
    "    'right': [df['16.03.02 - Margem de Depreciação por Resultado Bruto (Receita Líquida)'] * -100,]\n",
    "}\n",
    "options = {\n",
    "    'left_1': {'shape': 'area', 'mode': 'cumulative', 'normalization': False,},\n",
    "    'right': {'shape': 'line', 'mode': 'standalone', 'normalization': False, 'mma': [3, 2], 'range': 'flexible', },\n",
    "}\n",
    "fig = plot_tweak(df_ticker[0], data, options)\n",
    "# figs[company]['others'][title] = fig\n",
    "fig.show()\n",
    "\n"
   ]
  },
  {
   "cell_type": "code",
   "execution_count": null,
   "metadata": {},
   "outputs": [],
   "source": [
    "title = 'Margem EBITDA'\n",
    "data = {\n",
    "    'title': [title, 'Reais (R$)', 'Porcentagem (%)'], \n",
    "    'left_1': [df['03.05 - LAJIR EBIT Resultado Antes do Resultado Financeiro e dos Tributos'], df['13.01 - LAJIDA EBITDA Resultado Antes do Resultado Financeiro e dos Tributos mais Depreciação e Amortização'], df['07.04.01 - Depreciação e Amortização'] * -1], \n",
    "    'right': [df['16.03 - Margem EBITDA (EBITDA por Resultado Bruto (Receita Líquida)'] * 100, df['16.03.02 - Margem de Depreciação por Resultado Bruto (Receita Líquida)'] * 100, ]\n",
    "}\n",
    "options = {\n",
    "    'left_1': {'shape': 'area', 'mode': 'cumulative', 'normalization': False,},\n",
    "    'right': {'shape': 'line', 'mode': 'standalone', 'normalization': False, 'mma': [3, 2], 'range': 'flexible', },\n",
    "}\n",
    "fig = plot_tweak(df_ticker[0], data, options)\n",
    "# figs[company]['others'][title] = fig\n",
    "fig.show()\n",
    "\n",
    "\n"
   ]
  },
  {
   "cell_type": "code",
   "execution_count": null,
   "metadata": {},
   "outputs": [],
   "source": [
    "title = 'Resultado Financeiro'\n",
    "trace = df['03.06 - Resultado Financeiro (Não Operacional)']/df['03.05 - LAJIR EBIT Resultado Antes do Resultado Financeiro e dos Tributos']\n",
    "trace.name = 'Margem Financeira'\n",
    "data = {\n",
    "    'title': [title, 'Reais (R$)', 'Porcentagem (%)'], \n",
    "    'left_1': [df['03.05 - LAJIR EBIT Resultado Antes do Resultado Financeiro e dos Tributos'], df['03.06 - Resultado Financeiro (Não Operacional)']], \n",
    "    'right': [trace * 100, ]\n",
    "}\n",
    "options = {\n",
    "    'left_1': {'shape': 'area', 'mode': 'cumulative', 'normalization': False,},\n",
    "    'right': {'shape': 'line', 'mode': 'standalone', 'normalization': False, 'mma': [3, 2], 'range': 'flexible', },\n",
    "}\n",
    "fig = plot_tweak(df_ticker[0], data, options)\n",
    "# figs[company]['others'][title] = fig\n",
    "fig.show()\n",
    "\n",
    "\n"
   ]
  },
  {
   "cell_type": "code",
   "execution_count": null,
   "metadata": {},
   "outputs": [],
   "source": [
    "title = 'Margem Líquida'\n",
    "data = {\n",
    "    'title': [title, 'Reais (R$)', 'Porcentagem (%)'], \n",
    "    'left': [df['03.01 - Receita Bruta']], \n",
    "    'left_1': [df['03.02 - Custo de Produção'] * -1, df['03.04 - Despesas Operacionais'] * -1, df['03.06 - Resultado Financeiro (Não Operacional)'], df['03.08 - Impostos IRPJ e CSLL'] * -1, df['03.11 - Lucro Líquido']], \n",
    "    'right': [df['16.05 - Margem Líquida (Lucro Líquido por Receita Bruta)'] * 100, ]\n",
    "}\n",
    "options = {\n",
    "    'left': {'shape': 'line', 'mode': 'standalone', 'normalization': False,'range': 'flexible', },\n",
    "    'left_1': {'shape': 'area', 'mode': 'cumulative', 'normalization': False,'range': 'flexible', },\n",
    "    'right': {'shape': 'line', 'mode': 'standalone', 'normalization': False, 'mma': [3, 2], 'range': 'half', },\n",
    "}\n",
    "fig = plot_tweak(df_ticker[0], data, options)\n",
    "# figs[company]['others'][title] = fig\n",
    "fig.show()\n",
    "\n",
    "\n"
   ]
  },
  {
   "cell_type": "code",
   "execution_count": null,
   "metadata": {},
   "outputs": [],
   "source": [
    "title = 'Resultado e Margem Líquida'\n",
    "data = {\n",
    "    'title': [title, 'Reais (R$)', 'Porcentagem (%)'], \n",
    "    'left': [df['03.01 - Receita Bruta']], \n",
    "    'left_1': [df['03.11 - Lucro Líquido']], \n",
    "    'right': [df['16.05 - Margem Líquida (Lucro Líquido por Receita Bruta)'] * 100, ]\n",
    "}\n",
    "options = {\n",
    "    'left': {'shape': 'line', 'mode': 'standalone', 'normalization': False,'range': 'flexible', },\n",
    "    'left_1': {'shape': 'area', 'mode': 'cumulative', 'normalization': False,'range': 'flexible', },\n",
    "    'right': {'shape': 'line', 'mode': 'standalone', 'normalization': False, 'mma': [3, 2], 'range': 'half', },\n",
    "}\n",
    "fig = plot_tweak(df_ticker[0], data, options)\n",
    "# figs[company]['others'][title] = fig\n",
    "fig.show()\n",
    "\n",
    "\n"
   ]
  },
  {
   "cell_type": "code",
   "execution_count": null,
   "metadata": {},
   "outputs": [],
   "source": [
    "title = 'Patrimônio e Resultado (ROE)'\n",
    "data = {\n",
    "    'title': [title, 'Reais (R$)', 'Porcentagem (%)'], \n",
    "    'left': [df['02.03 - Patrimônio Líquido']], \n",
    "    'left_1': [df['03.11 - Lucro Líquido']], \n",
    "    'right': [df['14.04.01 - ROE (Resultado por Patrimônio)'] * 100, ]\n",
    "}\n",
    "options = {\n",
    "    'left': {'shape': 'area', 'mode': 'standalone', 'normalization': False, },\n",
    "    'left_1': {'shape': 'area', 'mode': 'cumulative', 'normalization': False, },\n",
    "    'right': {'shape': 'line', 'mode': 'standalone', 'normalization': False, 'mma': [3, 2], 'range': 'flexible'},\n",
    "}\n",
    "fig = plot_tweak(df_ticker[0], data, options)\n",
    "# figs[company]['others'][title] = fig\n",
    "fig.show()\n",
    "\n",
    "\n"
   ]
  },
  {
   "cell_type": "code",
   "execution_count": null,
   "metadata": {},
   "outputs": [],
   "source": [
    "title = 'Capital Investido e Resultado (ROIC)'\n",
    "data = {\n",
    "    'title': [title, 'Reais (R$)', 'Porcentagem (%)'], \n",
    "    'left': [df['14.03 - Capital Investido']], \n",
    "    'left_1': [df['03.05 - LAJIR EBIT Resultado Antes do Resultado Financeiro e dos Tributos']], \n",
    "    'right': [df['14.03.01 - ROIC (Retorno por Capital Investido)'] * 100, ]\n",
    "}\n",
    "options = {\n",
    "    'left': {'shape': 'area', 'mode': 'standalone', 'normalization': False, },\n",
    "    'left_1': {'shape': 'area', 'mode': 'cumulative', 'normalization': False, },\n",
    "    'right': {'shape': 'line', 'mode': 'standalone', 'normalization': False, 'mma': [3, 2], 'range': 'flexible'},\n",
    "}\n",
    "fig = plot_tweak(df_ticker[0], data, options)\n",
    "# figs[company]['others'][title] = fig\n",
    "fig.show()\n",
    "\n",
    "\n"
   ]
  },
  {
   "cell_type": "code",
   "execution_count": null,
   "metadata": {},
   "outputs": [],
   "source": [
    "title = 'Ativos e Resultado (ROAS)'\n",
    "data = {\n",
    "    'title': [title, 'Reais (R$)', 'Porcentagem (%)'], \n",
    "    'left': [df['01 - Ativo Total']], \n",
    "    'left_1': [df['03.05 - LAJIR EBIT Resultado Antes do Resultado Financeiro e dos Tributos']], \n",
    "    'right': [df['14.05.01 - ROAS (EBIT por Ativos)'], ]\n",
    "}\n",
    "options = {\n",
    "    'left': {'shape': 'area', 'mode': 'standalone', 'normalization': False, },\n",
    "    'left_1': {'shape': 'area', 'mode': 'cumulative', 'normalization': False, },\n",
    "    'right': {'shape': 'line', 'mode': 'standalone', 'normalization': False, 'mma': [3, 2], 'range': 'flexible'},\n",
    "}\n",
    "fig = plot_tweak(df_ticker[0], data, options)\n",
    "# figs[company]['others'][title] = fig\n",
    "fig.show()\n",
    "\n",
    "\n"
   ]
  },
  {
   "cell_type": "code",
   "execution_count": null,
   "metadata": {},
   "outputs": [],
   "source": [
    "title = 'Ativos e Resultado (Coeficiente de Retorno)'\n",
    "trace = df['03.11 - Lucro Líquido'] / df['01 - Ativo Total']\n",
    "trace.name = 'Coeficiente de Retorno'\n",
    "data = {\n",
    "    'title': [title, 'Reais (R$)', 'Porcentagem (%)'], \n",
    "    'left': [df['01 - Ativo Total']], \n",
    "    'left_1': [df['03.11 - Lucro Líquido']], \n",
    "    'right': [trace * 100, ]\n",
    "}\n",
    "options = {\n",
    "    'left': {'shape': 'area', 'mode': 'standalone', 'normalization': False, },\n",
    "    'left_1': {'shape': 'area', 'mode': 'cumulative', 'normalization': False, },\n",
    "    'right': {'shape': 'line', 'mode': 'standalone', 'normalization': False, 'mma': [3, 2], 'range': 'flexible'},\n",
    "}\n",
    "fig = plot_tweak(df_ticker[0], data, options)\n",
    "# figs[company]['others'][title] = fig\n",
    "fig.show()\n"
   ]
  },
  {
   "cell_type": "code",
   "execution_count": null,
   "metadata": {},
   "outputs": [],
   "source": [
    "title = 'ROE, ROIC, ROAS e Coeficiente de Retorno'\n",
    "trace = df['03.11 - Lucro Líquido'] / df['01 - Ativo Total']\n",
    "trace.name = 'Coeficiente de Retorno'\n",
    "data = {\n",
    "    'title': [title, 'Porcentagem (%)', 'Reais (R$)', ], \n",
    "    # 'left': [df['01 - Ativo Total']], \n",
    "    # 'left_1': [df['03.11 - Lucro Líquido']], \n",
    "    'right': [df['14.04.01 - ROE (Resultado por Patrimônio)'] * 100, df['14.03.01 - ROIC (Retorno por Capital Investido)'] * 100, df['14.05.01 - ROAS (EBIT por Ativos)'] * 100, trace * 100, ]\n",
    "}\n",
    "\n",
    "options = {\n",
    "    'left': {'shape': 'area', 'mode': 'standalone', 'normalization': False, 'range': 'half'},\n",
    "    'left_1': {'shape': 'area', 'mode': 'cumulative', 'normalization': False, },\n",
    "    'right': {'shape': 'line', 'mode': 'standalone', 'normalization': False, 'range': 'half'},\n",
    "}\n",
    "fig = plot_tweak(df_ticker[0], data, options)\n",
    "# figs[company]['others'][title] = fig\n",
    "fig.show()\n"
   ]
  },
  {
   "cell_type": "code",
   "execution_count": null,
   "metadata": {},
   "outputs": [],
   "source": [
    "title = 'Price'\n",
    "if df.TICKER[0][-1] == '3':\n",
    "    acoes = df['00.01.01 - Ações ON']\n",
    "else:\n",
    "    acoes = df['00.02.01 - Ações PN']\n",
    "\n",
    "trace = df['Adj Close'] / df['00.01.01 - Ações ON']\n",
    "trace.name = 'Preço por Ação'\n",
    "data = {\n",
    "    'title': [title, 'Porcentagem (%)', 'Reais (R$)', ], \n",
    "    'left': [df['Adj Close']], \n",
    "    'left_1': [df['03.11 - Lucro Líquido']], \n",
    "    'left_2': [acoes], \n",
    "}\n",
    "options = {\n",
    "    'left': {'shape': 'line', 'mode': 'standalone', 'normalization': True, 'range': 'flexible'},\n",
    "    'left_1': {'shape': 'line', 'mode': 'standalone', 'normalization': True, 'range': 'flexible'},\n",
    "    'left_2': {'shape': 'line', 'mode': 'standalone', 'normalization': True, 'range': 'flexible'},\n",
    "}\n",
    "fig = plot_tweak(df_ticker[0], data, options)\n",
    "# figs[company]['others'][title] = fig\n",
    "fig.show()\n"
   ]
  },
  {
   "cell_type": "code",
   "execution_count": null,
   "metadata": {},
   "outputs": [],
   "source": []
  },
  {
   "cell_type": "code",
   "execution_count": null,
   "metadata": {},
   "outputs": [],
   "source": []
  },
  {
   "cell_type": "code",
   "execution_count": null,
   "metadata": {},
   "outputs": [],
   "source": []
  },
  {
   "cell_type": "code",
   "execution_count": null,
   "metadata": {},
   "outputs": [],
   "source": [
    "figs = save_figs(figs)"
   ]
  },
  {
   "cell_type": "code",
   "execution_count": null,
   "metadata": {},
   "outputs": [],
   "source": [
    "def my_decorator(func):\n",
    "    print(\"Code outside the wrapper, this is run once during decoration\")\n",
    "    \n",
    "    def wrapper(*args, **kwargs):\n",
    "        print(\"Code inside the wrapper, this is run every time the decorated function is called\")\n",
    "        return func(*args, **kwargs)\n",
    "    \n",
    "    return wrapper\n",
    "\n",
    "@my_decorator\n",
    "def my_function():\n",
    "    print(\"This is the decorated function\")\n",
    "\n",
    "print(\"Calling my_function\")\n",
    "my_function()\n",
    "print(\"Calling my_function again\")\n",
    "my_function()\n"
   ]
  },
  {
   "cell_type": "markdown",
   "metadata": {},
   "source": [
    "## DASHBOARD"
   ]
  },
  {
   "cell_type": "code",
   "execution_count": null,
   "metadata": {},
   "outputs": [],
   "source": [
    "from jupyter_dash import JupyterDash\n",
    "import dash\n",
    "from dash import dcc\n",
    "from dash import html\n",
    "from dash.dependencies import Input, Output\n",
    "import dash_bootstrap_components as dbc\n",
    "from dash_bootstrap_templates import ThemeSwitchAIO\n",
    "from dash import dash_table\n",
    "\n",
    "import pandas as pd\n"
   ]
  },
  {
   "cell_type": "code",
   "execution_count": null,
   "metadata": {},
   "outputs": [],
   "source": [
    "df_merged = run.load_pkl('dash_df_merged')\n",
    "df = run.load_pkl('dash_df')"
   ]
  },
  {
   "cell_type": "code",
   "execution_count": null,
   "metadata": {},
   "outputs": [],
   "source": [
    "quotes = run.load_pkl(f'{b3.app_folder}quotes')\n",
    "fund = run.load_pkl(f'{b3.app_folder}fund')\n"
   ]
  },
  {
   "cell_type": "code",
   "execution_count": null,
   "metadata": {},
   "outputs": [],
   "source": [
    "quotes.keys(), fund.keys()"
   ]
  },
  {
   "cell_type": "code",
   "execution_count": null,
   "metadata": {},
   "outputs": [],
   "source": [
    "df_fund = pd.concat(fund.values(), ignore_index=True)\n"
   ]
  },
  {
   "cell_type": "code",
   "execution_count": null,
   "metadata": {},
   "outputs": [],
   "source": [
    "quotes = run.load_pkl(f'{b3.app_folder}quotes')\n",
    "fund = run.load_pkl(f'{b3.app_folder}fund')\n",
    "df_fund = pd.concat(fund.values(), ignore_index=True)\n",
    "df_fund = run.save_pkl(df_fund, f'{b3.app_folder}df_fund')\n"
   ]
  },
  {
   "cell_type": "code",
   "execution_count": null,
   "metadata": {},
   "outputs": [],
   "source": [
    "# df_fund = run.load_pkl(f'{b3.app_folder}df_fund')\n",
    "df_fund = run.load_pkl(f'df_fund')\n"
   ]
  },
  {
   "cell_type": "code",
   "execution_count": null,
   "metadata": {},
   "outputs": [],
   "source": [
    "df_fund.info()"
   ]
  },
  {
   "cell_type": "code",
   "execution_count": null,
   "metadata": {},
   "outputs": [],
   "source": [
    "df_fund['SETOR'].unique()\n",
    "mask_setor = df_fund['SETOR'] == 'BENS INDUSTRIAIS'\n",
    "df_fund[mask_setor]['SUBSETOR'].unique()"
   ]
  },
  {
   "cell_type": "code",
   "execution_count": null,
   "metadata": {},
   "outputs": [],
   "source": [
    "company = df_merged['PREGAO'].iloc[0]\n",
    "company = 'WEG'\n",
    "setor, subsetor, segmento = df[['SETOR', 'SUBSETOR', 'SEGMENTO']].iloc[0]\n",
    "\n",
    "m_cia = df_merged['PREGAO'] != company\n",
    "m_segmento = df_merged['SEGMENTO'] == segmento\n",
    "m_subsetor = df_merged['SUBSETOR'] == subsetor\n",
    "m_setor = df_merged['SETOR'] == setor\n",
    "\n",
    "cias_segmento = [cia for cia in df_merged[m_cia & m_segmento]['PREGAO'].unique().tolist()]\n",
    "cias_subsetor = [cia for cia in df_merged[m_cia & m_subsetor]['PREGAO'].unique().tolist() if cia not in cias_segmento]\n",
    "cias_setor = [cia for cia in df_merged[m_cia & m_setor]['PREGAO'].unique().tolist() if cia not in cias_subsetor and cia not in cias_segmento]\n",
    "\n",
    "setor, subsetor, segmento"
   ]
  },
  {
   "cell_type": "code",
   "execution_count": null,
   "metadata": {},
   "outputs": [],
   "source": [
    "print(df['SETOR'].unique())\n"
   ]
  },
  {
   "cell_type": "code",
   "execution_count": null,
   "metadata": {},
   "outputs": [],
   "source": [
    "awsome = [\"https://use.fontawesome.com/releases/v5.10.2/css/all.css\"]\n",
    "# app = dash.Dash(__name__, external_stylesheets=awsome)\n",
    "app = JupyterDash(__name__, external_stylesheets=[dbc.themes.BOOTSTRAP, awsome])\n",
    "app2 = JupyterDash(__name__, external_stylesheets=[dbc.themes.BOOTSTRAP, awsome])\n",
    "\n",
    "# Initialize setup\n",
    "tab_card = {'height': '100%'}\n",
    "main_config = {\n",
    "    'hover_mode': 'x unified', \n",
    "    'legend': \n",
    "        {\n",
    "        'yanchor': 'top',\n",
    "        'y': 0.9, \n",
    "        'xanchor': 'left', \n",
    "        'x': 0.1, \n",
    "        'title': {'text': None, }, \n",
    "        'font': {'color': 'white', }, \n",
    "        'bgcolor': 'rgba(0,0,0,0.5)', \n",
    "        }, \n",
    "    'margin': {'l':10, 'r':10, 't':10, 'b':10}, \n",
    "}\n",
    "graph_config = {\n",
    "    'displayModeBar': False, \n",
    "    'showTips': False, \n",
    "}\n",
    "template_theme_1 = 'flatly'\n",
    "template_theme_2 = 'darkly'\n",
    "url_theme_1 = dbc.themes.FLATLY\n",
    "url_theme_2 = dbc.themes.DARKLY\n"
   ]
  },
  {
   "cell_type": "code",
   "execution_count": null,
   "metadata": {},
   "outputs": [],
   "source": [
    "# Define the layout of the app\n",
    "app.layout = dbc.Container(children=[\n",
    "    dbc.Row([ # Row 1\n",
    "        dbc.Col([ # Row 1, Col 1\n",
    "            dbc.Card([\n",
    "                dbc.CardBody([\n",
    "                    dbc.Row([ # Row 1, Col 1, Card 1 / Row 1\n",
    "                        dbc.Col([ # Row 1, Col 1, Card 1 / Row 1, Col 1\n",
    "                            html.Legend('Sobre')\n",
    "                        ], sm=8), \n",
    "                        dbc.Col([ # Row 1, Col 1, Card 1 / Row 1, Col 2\n",
    "                            html.I(className='fa fa-balance-scale', style={'font-size': '300%'})\n",
    "                        ] , sm=4, align='center'), \n",
    "                    ], style={'margin-top': '10px', }), \n",
    "                    dbc.Row([ # Row 1, Col 1, Card 1 / Row 2\n",
    "                        dbc.Col([ # Row 1, Col 1, Card 1 / Row 2, Col 1\n",
    "                            ThemeSwitchAIO(aio_id='theme', themes=[url_theme_1, url_theme_2]), \n",
    "                            html.Legend('MLGS'), \n",
    "                        ]), \n",
    "                    ], style={'margin-top': '10px', }), \n",
    "                    dbc.Row([\n",
    "                        dbc.Button('Site da B3', href='https://www.google.com', target='b3')\n",
    "                    ]), \n",
    "                ], style=tab_card), \n",
    "            ]), \n",
    "        ], sm=12, lg=3), \n",
    "        dbc.Col([ # Row 1, Col 2\n",
    "            dbc.Card([\n",
    "                dbc.CardBody([\n",
    "                    dbc.Row([ # Row 1, Col 1, Card 2 / Row 2\n",
    "                        html.Legend(f'Companhia {company}'), \n",
    "                    ]), \n",
    "                    dbc.Row([ # Row 1, Col 1, Card 2 / Row 1\n",
    "                        dbc.Col([# Row 1, Col 1, Card 2 / Row 1, Col 1\n",
    "                            html.Legend(f'Setor {setor}: Companhias {\", \".join(cias_setor)}'), \n",
    "                        ]), \n",
    "                        dbc.Col([# Row 1, Col 1, Card 2 / Row 1, Col 2\n",
    "                            html.Legend(f'SubSetor {subsetor}: Companhias {\", \".join(cias_subsetor)}'), \n",
    "                        ]), \n",
    "                        dbc.Col([# Row 1, Col 1, Card 2 / Row 1, Col 3\n",
    "                            html.Legend(f'Segmento {segmento}: Companhias {\", \".join(cias_segmento)}'), \n",
    "                        ]), \n",
    "                    ]), \n",
    "                ]), \n",
    "            ]), \n",
    "        ]), \n",
    "    ], className='g-2 my-auto', style={'matgin-top': '7px'}, ), \n",
    "], fluid=True, style={'height': '100vh'})\n",
    "\n",
    "# Run the app\n",
    "app.run_server(mode='external')\n",
    "\n"
   ]
  },
  {
   "cell_type": "code",
   "execution_count": null,
   "metadata": {},
   "outputs": [],
   "source": [
    "# App layout\n",
    "app.layout = dbc.Container([\n",
    "    # Row 1\n",
    "    dbc.Row([\n",
    "        # Row 1, Col 1\n",
    "        dbc.Col(\n",
    "            dbc.Card(\n",
    "                dbc.CardBody([\n",
    "                    dbc.Row([ # Card Row 1\n",
    "                        dbc.Row(html.H2('Análise Fundamentalista')),\n",
    "                        dbc.Col(html.I(className='fa fa-balance-scale', style={'font-size': '300%'}), width=4, align='center'),\n",
    "                    ], style={'margin-top': '10px'}),\n",
    "                    dbc.Row([ # Card Row 2\n",
    "                        dbc.Col([\n",
    "                            ThemeSwitchAIO(aio_id='theme', themes=[url_theme_1, url_theme_2]), \n",
    "                        ]),\n",
    "                    ], style={'margin-top': '10px'}),\n",
    "                    dbc.Row([\n",
    "                        dbc.Col([\n",
    "                            dcc.Dropdown(\n",
    "                                id='setor-dropdown',\n",
    "                                options=[{'label': i, 'value': i} for i in df_fund['SETOR'].unique()],\n",
    "                                value=None,  # No default value\n",
    "                                multi=False,\n",
    "                                placeholder=\"Select a SETOR\"\n",
    "                            ),\n",
    "                        ]),\n",
    "                        dbc.Col([\n",
    "                            dcc.Dropdown(\n",
    "                                id='subsetor-dropdown',\n",
    "                                multi=False,\n",
    "                                placeholder=\"Select a SUBSETOR\"\n",
    "                            ),\n",
    "                        ]),\n",
    "                        dbc.Col([\n",
    "                            dcc.Dropdown(\n",
    "                                id='segmento-dropdown',\n",
    "                                multi=False,\n",
    "                                placeholder=\"Select a SEGMENTO\"\n",
    "                            ),\n",
    "                        ]),\n",
    "                    ]),\n",
    "                ]),\n",
    "            ),\n",
    "            width=3  # 1/4 of the width\n",
    "        ),\n",
    "        # Row 1, Col 2\n",
    "        dbc.Col(\n",
    "            [\n",
    "                # Row 1, Col 2 / Row 1\n",
    "                dbc.Row(html.H2(f'{company} {df[\"LISTAGEM\"].iloc[0]}')),\n",
    "                # Row 1, Col 2 / Row 2\n",
    "                dbc.Row([\n",
    "                    html.P([\n",
    "                        f\"{df['ATIVIDADE'].iloc[0]}\",\n",
    "                    ]), \n",
    "                    html.P([\n",
    "                        f\"{df['ESCRITURADOR'].iloc[0]}\", \" / \", \n",
    "                        html.A(f\"{df['CNPJ'].iloc[0]}\", href=f\"https://www.google.com/search?q={df['CNPJ'].iloc[0]}\", target='_blank'), \n",
    "                    ]), \n",
    "                ]),\n",
    "                # Row 2\n",
    "                dbc.Row([\n",
    "                    dbc.Col([\n",
    "                        html.Span('Setor'), html.Br(),\n",
    "                        html.Strong(f'{setor}'), html.Br(),\n",
    "                        html.P(f'{\", \".join(cias_setor)}')\n",
    "                    ]),\n",
    "                    dbc.Col([\n",
    "                        html.Span('SubSetor'), html.Br(),\n",
    "                        html.Strong(f'{subsetor}'), html.Br(),\n",
    "                        html.P(f'{\", \".join(cias_subsetor)}')\n",
    "                    ]),\n",
    "                    dbc.Col([\n",
    "                        html.Span('Segmento'), html.Br(),\n",
    "                        html.Strong(f'{segmento}'), html.Br(),\n",
    "                        html.P(f'{\", \".join(cias_segmento)}')\n",
    "                    ]),\n",
    "                ]),\n",
    "            ],\n",
    "            width=9  # 3/4 of the width\n",
    "        ),\n",
    "    ]),\n",
    "\n",
    "    # Row with 1 column\n",
    "    dbc.Row([\n",
    "        # Column 1\n",
    "        dbc.Col(\n",
    "            dbc.Card(\n",
    "                dbc.CardBody([\n",
    "                    # Table to display companies\n",
    "                    dbc.Row([\n",
    "                        dbc.Col([\n",
    "                            dash_table.DataTable(\n",
    "                                id='company-table',\n",
    "                                columns=[\n",
    "                                    {\"name\": \"PREGAO\", \"id\": \"PREGAO\"},\n",
    "                                    {\"name\": \"TICKER\", \"id\": \"TICKER\"}\n",
    "                                ]\n",
    "                            )\n",
    "                        ])\n",
    "                    ])\n",
    "                ])\n",
    "            ),\n",
    "            width=12  # Full width\n",
    "        ),\n",
    "    ], style={'margin-top': '20px'}),\n",
    "\n",
    "\n",
    "\n",
    "\n",
    "    # Row with 1 column\n",
    "    dbc.Row([\n",
    "        # Column 1\n",
    "        dbc.Col(\n",
    "            dbc.Card(\n",
    "                dbc.CardBody([\n",
    "                    html.H5('Title Col 1', className='card-title'),\n",
    "                    html.P('Content for column 1...', className='card-text')\n",
    "                ])\n",
    "            ),\n",
    "            width=12  # Full width\n",
    "        ),\n",
    "    ], style={'margin-top': '20px'}),\n",
    "\n",
    "    # Row with 2 columns\n",
    "    dbc.Row([\n",
    "        # Column 1\n",
    "        dbc.Col(\n",
    "            dbc.Card(\n",
    "                dbc.CardBody([\n",
    "                    html.H5('Title Col 1', className='card-title'),\n",
    "                    html.P('Content for column 1...', className='card-text')\n",
    "                ])\n",
    "            ),\n",
    "            width=6  # Half of the width\n",
    "        ),\n",
    "        # Column 2\n",
    "        dbc.Col(\n",
    "            dbc.Card(\n",
    "                dbc.CardBody([\n",
    "                    html.H5('Title Col 2', className='card-title'),\n",
    "                    html.P('Content for column 2...', className='card-text')\n",
    "                ])\n",
    "            ),\n",
    "            width=6  # Half of the width\n",
    "        ),\n",
    "    ], style={'margin-top': '20px'}),\n",
    "\n",
    "    # Row with 3 columns\n",
    "    dbc.Row([\n",
    "        # Row 2, Col 1\n",
    "        dbc.Col(\n",
    "            dbc.Card(\n",
    "                dbc.CardBody([\n",
    "                    html.H5('Title Col 1', className='card-title'),\n",
    "                    html.P('Content for column 1...', className='card-text')\n",
    "                ])\n",
    "            ),\n",
    "            width=4  # 1/3 of the width\n",
    "        ),\n",
    "        # Row 2, Col 2\n",
    "        dbc.Col(\n",
    "            dbc.Card(\n",
    "                dbc.CardBody([\n",
    "                    html.H5('Title Col 2', className='card-title'),\n",
    "                    html.P('Content for column 2...', className='card-text')\n",
    "                ])\n",
    "            ),\n",
    "            width=4  # 1/3 of the width\n",
    "        ),\n",
    "        # Row 2, Col 3\n",
    "        dbc.Col(\n",
    "            dbc.Card(\n",
    "                dbc.CardBody([\n",
    "                    html.H5('Title Col 3', className='card-title'),\n",
    "                    html.P('Content for column 3...', className='card-text')\n",
    "                ])\n",
    "            ),\n",
    "            width=4  # 1/3 of the width\n",
    "        ),\n",
    "    ], style={'margin-top': '20px'}),  # Added margin for better visual separation of the rows\n",
    "\n",
    "    # Row with 4 columns\n",
    "    dbc.Row([\n",
    "        # Column 1\n",
    "        dbc.Col(\n",
    "            dbc.Card(\n",
    "                dbc.CardBody([\n",
    "                    html.H5('Title Col 1', className='card-title'),\n",
    "                    html.P('Content for column 1...', className='card-text')\n",
    "                ])\n",
    "            ),\n",
    "            width=3  # 1/4 of the width\n",
    "        ),\n",
    "        # Column 2\n",
    "        dbc.Col(\n",
    "            dbc.Card(\n",
    "                dbc.CardBody([\n",
    "                    html.H5('Title Col 2', className='card-title'),\n",
    "                    html.P('Content for column 2...', className='card-text')\n",
    "                ])\n",
    "            ),\n",
    "            width=3  # 1/4 of the width\n",
    "        ),\n",
    "        # Column 3\n",
    "        dbc.Col(\n",
    "            dbc.Card(\n",
    "                dbc.CardBody([\n",
    "                    html.H5('Title Col 3', className='card-title'),\n",
    "                    html.P('Content for column 3...', className='card-text')\n",
    "                ])\n",
    "            ),\n",
    "            width=3  # 1/4 of the width\n",
    "        ),\n",
    "        # Column 4\n",
    "        dbc.Col(\n",
    "            dbc.Card(\n",
    "                dbc.CardBody([\n",
    "                    html.H5('Title Col 4', className='card-title'),\n",
    "                    html.P('Content for column 4...', className='card-text')\n",
    "                ])\n",
    "            ),\n",
    "            width=3  # 1/4 of the width\n",
    "        ),\n",
    "    ], style={'margin-top': '20px'}),\n",
    "\n",
    "    # Row with 5 columns\n",
    "    dbc.Row([\n",
    "        # Column 1\n",
    "        dbc.Col(\n",
    "            dbc.Card(\n",
    "                dbc.CardBody([\n",
    "                    html.H5('Title Col 1', className='card-title'),\n",
    "                    html.P('Content for column 1...', className='card-text')\n",
    "                ])\n",
    "            ),\n",
    "        ),\n",
    "        # Column 2\n",
    "        dbc.Col(\n",
    "            dbc.Card(\n",
    "                dbc.CardBody([\n",
    "                    html.H5('Title Col 2', className='card-title'),\n",
    "                    html.P('Content for column 2...', className='card-text')\n",
    "                ])\n",
    "            ),\n",
    "        ),\n",
    "        # Column 3\n",
    "        dbc.Col(\n",
    "            dbc.Card(\n",
    "                dbc.CardBody([\n",
    "                    html.H5('Title Col 3', className='card-title'),\n",
    "                    html.P('Content for column 3...', className='card-text')\n",
    "                ])\n",
    "            ),\n",
    "        ),\n",
    "        # Column 4\n",
    "        dbc.Col(\n",
    "            dbc.Card(\n",
    "                dbc.CardBody([\n",
    "                    html.H5('Title Col 4', className='card-title'),\n",
    "                    html.P('Content for column 4...', className='card-text')\n",
    "                ])\n",
    "            ),\n",
    "        ),\n",
    "        # Column 5\n",
    "        dbc.Col(\n",
    "            dbc.Card(\n",
    "                dbc.CardBody([\n",
    "                    html.H5('Title Col 5', className='card-title'),\n",
    "                    html.P('Content for column 5...', className='card-text')\n",
    "                ])\n",
    "            ),\n",
    "        ),\n",
    "    ], style={'margin-top': '20px'}),\n",
    "\n",
    "    # Row with 6 columns\n",
    "    dbc.Row([\n",
    "        # Column 1\n",
    "        dbc.Col(\n",
    "            dbc.Card(\n",
    "                dbc.CardBody([\n",
    "                    html.H5('Title Col 1', className='card-title'),\n",
    "                    html.P('Content for column 1...', className='card-text')\n",
    "                ])\n",
    "            ),\n",
    "            width=2  # 1/6 of the width\n",
    "        ),\n",
    "        # Column 2\n",
    "        dbc.Col(\n",
    "            dbc.Card(\n",
    "                dbc.CardBody([\n",
    "                    html.H5('Title Col 2', className='card-title'),\n",
    "                    html.P('Content for column 2...', className='card-text')\n",
    "                ])\n",
    "            ),\n",
    "            width=2  # 1/6 of the width\n",
    "        ),\n",
    "        # Column 3\n",
    "        dbc.Col(\n",
    "            dbc.Card(\n",
    "                dbc.CardBody([\n",
    "                    html.H5('Title Col 3', className='card-title'),\n",
    "                    html.P('Content for column 3...', className='card-text')\n",
    "                ])\n",
    "            ),\n",
    "            width=2  # 1/6 of the width\n",
    "        ),\n",
    "        # Column 4\n",
    "        dbc.Col(\n",
    "            dbc.Card(\n",
    "                dbc.CardBody([\n",
    "                    html.H5('Title Col 4', className='card-title'),\n",
    "                    html.P('Content for column 4...', className='card-text')\n",
    "                ])\n",
    "            ),\n",
    "            width=2  # 1/6 of the width\n",
    "        ),\n",
    "        # Column 5\n",
    "        dbc.Col(\n",
    "            dbc.Card(\n",
    "                dbc.CardBody([\n",
    "                    html.H5('Title Col 5', className='card-title'),\n",
    "                    html.P('Content for column 5...', className='card-text')\n",
    "                ])\n",
    "            ),\n",
    "            width=2  # 1/6 of the width\n",
    "        ),\n",
    "        # Column 6\n",
    "        dbc.Col(\n",
    "            dbc.Card(\n",
    "                dbc.CardBody([\n",
    "                    html.H5('Title Col 6', className='card-title'),\n",
    "                    html.P('Content for column 6...', className='card-text')\n",
    "                ])\n",
    "            ),\n",
    "            width=2  # 1/6 of the width\n",
    "        ),\n",
    "    ], style={'margin-top': '20px'}),\n",
    "\n",
    "], fluid=True)\n",
    "\n",
    "\n",
    "# Update SUBSETOR options based on SETOR\n",
    "@app.callback(\n",
    "    Output('subsetor-dropdown', 'options'),\n",
    "    Input('setor-dropdown', 'value')\n",
    ")\n",
    "def update_subsetor_options(selected_setor):\n",
    "    try:  # Add error handling\n",
    "        if selected_setor:\n",
    "            mask = df_fund['SETOR'] == selected_setor\n",
    "            options = [{'label': i, 'value': i} for i in df_fund[mask]['SUBSETOR'].unique()]\n",
    "        else:\n",
    "            options = []\n",
    "        return options\n",
    "    except Exception as e:\n",
    "        print(f\"Error: {str(e)}\")  # Log error\n",
    "        return []  # Return empty options in case of error\n",
    "\n",
    "\n",
    "# Update SEGMENTO options based on SUBSETOR\n",
    "@app.callback(\n",
    "    Output('segmento-dropdown', 'options'),\n",
    "    Input('subsetor-dropdown', 'value')\n",
    ")\n",
    "def update_segmento_options(selected_subsetor):\n",
    "    try:\n",
    "        if selected_subsetor:\n",
    "            mask = df_fund['SUBSETOR'] == selected_subsetor\n",
    "            options = [{'label': i, 'value': i} for i in df_fund[mask]['SEGMENTO'].unique()]\n",
    "        else:\n",
    "            options = []\n",
    "        return options\n",
    "    except Exception as e:\n",
    "        print(f\"Error: {str(e)}\")\n",
    "        return []\n",
    "\n",
    "\n",
    "# Update company table based on SETOR, SUBSETOR, and SEGMENTO\n",
    "@app.callback(\n",
    "    Output('company-table', 'data'),\n",
    "    [\n",
    "        Input('setor-dropdown', 'value'),\n",
    "        Input('subsetor-dropdown', 'value'),\n",
    "        Input('segmento-dropdown', 'value'),\n",
    "    ]\n",
    ")\n",
    "def update_table(selected_setor, selected_subsetor, selected_segmento):\n",
    "    try:\n",
    "        mask = ((df_fund['SETOR'] == selected_setor) if selected_setor else True) & \\\n",
    "               ((df_fund['SUBSETOR'] == selected_subsetor) if selected_subsetor else True) & \\\n",
    "               ((df_fund['SEGMENTO'] == selected_segmento) if selected_segmento else True)\n",
    "        data = df_fund[mask][[\"PREGAO\", \"TICKER\"]].to_dict('records')  # Only show specified columns\n",
    "        return data\n",
    "    except Exception as e:\n",
    "        print(f\"Error: {str(e)}\")\n",
    "        return []\n",
    "\n",
    "\n",
    "# Run the app\n",
    "app.run_server(mode='external')\n"
   ]
  },
  {
   "cell_type": "code",
   "execution_count": null,
   "metadata": {},
   "outputs": [],
   "source": [
    "# Function to create the fundamental analysis card\n",
    "def fundamental_analysis_card():\n",
    "    return dbc.Card(\n",
    "        dbc.CardBody([\n",
    "            dbc.Row([ \n",
    "                dbc.Col(html.H2('Análise Fundamentalista'), width=8),\n",
    "                dbc.Col(html.I(className='fa fa-balance-scale', style={'font-size': '300%'}), width=4, align='center'),\n",
    "            ], style={'margin-top': '10px'}),\n",
    "            dbc.Row([\n",
    "                dbc.Col([\n",
    "                    ThemeSwitchAIO(aio_id='theme', themes=[\"url_theme_1\", \"url_theme_2\"]), \n",
    "                ]),\n",
    "            ], style={'margin-top': '10px'}),\n",
    "            dbc.Row([\n",
    "                dbc.Col([\n",
    "                    dbc.Button(f'MAIS INFO SOBRE', href=f\"#\", target='_blank'), \n",
    "                ]),\n",
    "            ], style={'margin-top': '10px'}),\n",
    "        ])\n",
    "    )\n"
   ]
  },
  {
   "cell_type": "code",
   "execution_count": null,
   "metadata": {},
   "outputs": [],
   "source": [
    "# Function to create the setor and subsetor dropdown selectors\n",
    "def selectors():\n",
    "    return dbc.Row([\n",
    "        dbc.Col([\n",
    "            dcc.Dropdown(\n",
    "                id='setor-dropdown',\n",
    "                options=[{'label': i, 'value': i} for i in df_fund['SETOR'].unique()],\n",
    "                value=None,  \n",
    "                multi=False,\n",
    "                placeholder=\"Select a SETOR\"\n",
    "            ),\n",
    "        ]),\n",
    "        dbc.Col([\n",
    "            dcc.Dropdown(\n",
    "                id='subsetor-dropdown',\n",
    "                multi=False,\n",
    "                placeholder=\"Select a SUBSETOR\"\n",
    "            ),\n",
    "        ]),\n",
    "        dbc.Col([\n",
    "            dcc.Dropdown(\n",
    "                id='segmento-dropdown',\n",
    "                multi=False,\n",
    "                placeholder=\"Select a SEGMENTO\"\n",
    "            ),\n",
    "        ]),\n",
    "    ])\n"
   ]
  },
  {
   "cell_type": "code",
   "execution_count": null,
   "metadata": {},
   "outputs": [],
   "source": [
    "def content_creator(content_dict):\n",
    "    \"\"\"\n",
    "    Create a list of Dash HTML components.\n",
    "\n",
    "    Parameters:\n",
    "        content_dict (dict): A dictionary containing 'title' and 'content' keys.\n",
    "        'content' can be a string or a list of strings, each of which is rendered as a new paragraph.\n",
    "    \n",
    "    Returns:\n",
    "        list: A list containing Dash HTML components.\n",
    "    \"\"\"\n",
    "    # Ensure content is a list using a ternary expression\n",
    "    content = content_dict['content'] if isinstance(content_dict['content'], list) else [content_dict['content']]\n",
    "    \n",
    "    # Create a paragraph for each item in content\n",
    "    paragraphs = [html.P(item, className='card-text') for item in content]\n",
    "    \n",
    "    # Concatenate title and paragraphs and return\n",
    "    return [html.H5(content_dict['title'], className='card-title')] + paragraphs\n"
   ]
  },
  {
   "cell_type": "code",
   "execution_count": null,
   "metadata": {},
   "outputs": [],
   "source": [
    "def row_2_left(col1_content, col2_content):\n",
    "    return dbc.Row([\n",
    "        dbc.Col(\n",
    "            dbc.Card(\n",
    "                dbc.CardBody(col1_content)\n",
    "            ),\n",
    "            width=3\n",
    "        ),\n",
    "        dbc.Col(\n",
    "            dbc.Card(\n",
    "                dbc.CardBody(col2_content)\n",
    "            ),\n",
    "            width=9\n",
    "        ),\n",
    "    ], style={'margin-top': '20px'})\n",
    "\n"
   ]
  },
  {
   "cell_type": "code",
   "execution_count": null,
   "metadata": {},
   "outputs": [],
   "source": [
    "# Function to create the company information card\n",
    "def company_info_card(company, df, setor, cias_setor, subsetor, cias_subsetor, segmento, cias_segmento):\n",
    "    return dbc.Card(\n",
    "        dbc.CardBody([\n",
    "            dbc.Row(html.H2(f'{company} {df[\"LISTAGEM\"].iloc[0]}')),\n",
    "            dbc.Row([\n",
    "                html.P([\n",
    "                    f\"{df['ATIVIDADE'].iloc[0]}\",\n",
    "                ]), \n",
    "                html.P([\n",
    "                    f\"{df['ESCRITURADOR'].iloc[0]}\", \" / \", \n",
    "                    html.A(f\"{df['CNPJ'].iloc[0]}\", href=f\"https://www.google.com/search?q={df['CNPJ'].iloc[0]}\", target='_blank'), \n",
    "                ]), \n",
    "            ]),\n",
    "            dbc.Row([\n",
    "                dbc.Col([\n",
    "                    html.Span('Setor'), html.Br(),\n",
    "                    html.Strong(f'{setor}'), html.Br(),\n",
    "                    html.P(f'{\", \".join(cias_setor)}')\n",
    "                ]),\n",
    "                dbc.Col([\n",
    "                    html.Span('SubSetor'), html.Br(),\n",
    "                    html.Strong(f'{subsetor}'), html.Br(),\n",
    "                    html.P(f'{\", \".join(cias_subsetor)}')\n",
    "                ]),\n",
    "                dbc.Col([\n",
    "                    html.Span('Segmento'), html.Br(),\n",
    "                    html.Strong(f'{segmento}'), html.Br(),\n",
    "                    html.P(f'{\", \".join(cias_segmento)}')\n",
    "                ]),\n",
    "            ]),\n",
    "        ])\n",
    "    )\n"
   ]
  },
  {
   "cell_type": "code",
   "execution_count": null,
   "metadata": {},
   "outputs": [],
   "source": [
    "# Example usage:\n",
    "content_1_1 = {\n",
    "    'title': 'Análise Fundamentalista',\n",
    "    'content': [\n",
    "        'Dark/Light Theme', \n",
    "        'Select 1', \n",
    "        'Select 2', \n",
    "        'Select 3', \n",
    "        ]\n",
    "}\n",
    "\n",
    "content_1_2 = {\n",
    "    'title': f'{company}',\n",
    "    'content': [\n",
    "    f\"{df['ATIVIDADE'].iloc[0]}\", \n",
    "    f\"{setor} > {subsetor} > {segmento}\", \n",
    "\n",
    "    ]\n",
    "}\n"
   ]
  },
  {
   "cell_type": "code",
   "execution_count": null,
   "metadata": {},
   "outputs": [],
   "source": [
    "def card(content):\n",
    "    # Check if header exists and create CardHeader if it does\n",
    "    header = dbc.CardHeader(content['header']) if 'header' in content else None\n",
    "    \n",
    "    # Check if body exists and create CardBody if it does\n",
    "    body = dbc.CardBody(content['body']) if 'body' in content else None\n",
    "    \n",
    "    # Check if footer exists and create CardFooter if it does\n",
    "    footer = dbc.CardFooter(content['footer']) if 'footer' in content else None\n",
    "    \n",
    "    # Return dbc.Card with available components\n",
    "    return dbc.Card([component for component in [header, body, footer] if component is not None])\n"
   ]
  },
  {
   "cell_type": "code",
   "execution_count": null,
   "metadata": {},
   "outputs": [],
   "source": [
    "example = {\n",
    "    'header': [\n",
    "        html.H2('Header', className='card-title'),\n",
    "    ], \n",
    "    'body': [\n",
    "        html.H5('Subheader', className='card-title'),\n",
    "        html.P('Some paragraph text'),\n",
    "        html.P('Another paragraph'),\n",
    "        dbc.Button('Click me', color='primary'),\n",
    "    ], \n",
    "    'footer': [\n",
    "        html.A('Go to Google', href='https://www.google.com', target='_blank'), \n",
    "    ], \n",
    "}\n",
    "example_2 = {\n",
    "    # 'header': [\n",
    "    #     html.H2('Header', className='card-title'),\n",
    "    # ], \n",
    "    'body': [\n",
    "        html.H5('Subheader', className='card-title'),\n",
    "        html.P('Some paragraph text'),\n",
    "        html.P('Another paragraph'),\n",
    "        dbc.Button('Click me', color='primary'),\n",
    "    ], \n",
    "    # 'footer': [\n",
    "    #     html.A('Go to Google', href='https://www.google.com', target='_blank'), \n",
    "    # ], \n",
    "}"
   ]
  },
  {
   "cell_type": "code",
   "execution_count": null,
   "metadata": {},
   "outputs": [],
   "source": [
    "# App layout\n",
    "app.layout = dbc.Container([\n",
    "    card(example), \n",
    "    card(example), \n",
    "], fluid=True)\n",
    "\n",
    "# Run the app\n",
    "app.run_server(mode='external')\n"
   ]
  },
  {
   "cell_type": "code",
   "execution_count": null,
   "metadata": {},
   "outputs": [],
   "source": [
    "# App layout\n",
    "app2.layout = dbc.Container([\n",
    "    # Example Row 1 with 1 column\n",
    "    dbc.Row([\n",
    "        dbc.Col(card(example), width=12)\n",
    "    ], style={'margin-top': '20px'}),\n",
    "    \n",
    "    # Example Row 2 with 2 columns\n",
    "    dbc.Row([\n",
    "        dbc.Col(card(example), width=6),\n",
    "        dbc.Col(card(example_2), width=6),\n",
    "    ], style={'margin-top': '20px'}),\n",
    "    \n",
    "    # Example Row 3 with 3 columns\n",
    "    dbc.Row([\n",
    "        dbc.Col(card(example), width=4),\n",
    "        dbc.Col(card(example), width=4),\n",
    "        dbc.Col(card(example_2), width=4),\n",
    "    ], style={'margin-top': '20px'}),\n",
    "    \n",
    "    # Example Row 4 with 4 columns\n",
    "    dbc.Row([\n",
    "        dbc.Col(card(example), width=3),\n",
    "        dbc.Col(card(example), width=3),\n",
    "        dbc.Col(card(example), width=3),\n",
    "        dbc.Col(card(example_2), width=3),\n",
    "    ], style={'margin-top': '20px'}),\n",
    "    \n",
    "    # Example Row 5 with 5 columns\n",
    "    dbc.Row([\n",
    "        dbc.Col(card(example),),\n",
    "        dbc.Col(card(example),),\n",
    "        dbc.Col(card(example),),\n",
    "        dbc.Col(card(example),),\n",
    "        dbc.Col(card(example_2),),\n",
    "    ], style={'margin-top': '20px'}),\n",
    "\n",
    "    # Example Row 6 with 6 columns\n",
    "    dbc.Row([\n",
    "        dbc.Col(card(example), width=2),\n",
    "        dbc.Col(card(example), width=2),\n",
    "        dbc.Col(card(example), width=2),\n",
    "        dbc.Col(card(example), width=2),\n",
    "        dbc.Col(card(example), width=2),\n",
    "        dbc.Col(card(example_2), width=2),\n",
    "    ], style={'margin-top': '20px'}),\n",
    "], fluid=True)\n",
    "\n",
    "# Run the app\n",
    "app2.run_server(mode='external')\n"
   ]
  },
  {
   "cell_type": "code",
   "execution_count": null,
   "metadata": {},
   "outputs": [],
   "source": [
    "app.layout = dbc.Container([\n",
    "   # Row with 1 column\n",
    "    dbc.Row([\n",
    "        # Column 1\n",
    "        dbc.Col(\n",
    "            card(example), \n",
    "            width=12  # Full width\n",
    "        ),\n",
    "    ], style={'margin-top': '20px'}),\n",
    "\n",
    "\n",
    "\n",
    "\n",
    "    # Row with 1 column\n",
    "    dbc.Row([\n",
    "        # Column 1\n",
    "        dbc.Col(\n",
    "            dbc.Card(\n",
    "                dbc.CardBody([\n",
    "                    html.H5('Title Col 1', className='card-title'),\n",
    "                    html.P('Content for column 1...', className='card-text')\n",
    "                ])\n",
    "            ),\n",
    "            width=12  # Full width\n",
    "        ),\n",
    "    ], style={'margin-top': '20px'}),\n",
    "\n",
    "    # Row with 2 columns\n",
    "    dbc.Row([\n",
    "        # Column 1\n",
    "        dbc.Col(\n",
    "            dbc.Card(\n",
    "                dbc.CardBody([\n",
    "                    html.H5('Title Col 1', className='card-title'),\n",
    "                    html.P('Content for column 1...', className='card-text')\n",
    "                ])\n",
    "            ),\n",
    "            width=6  # Half of the width\n",
    "        ),\n",
    "        # Column 2\n",
    "        dbc.Col(\n",
    "            dbc.Card(\n",
    "                dbc.CardBody([\n",
    "                    html.H5('Title Col 2', className='card-title'),\n",
    "                    html.P('Content for column 2...', className='card-text')\n",
    "                ])\n",
    "            ),\n",
    "            width=6  # Half of the width\n",
    "        ),\n",
    "    ], style={'margin-top': '20px'}),\n",
    "\n",
    "    # Row with 3 columns\n",
    "    dbc.Row([\n",
    "        # Row 2, Col 1\n",
    "        dbc.Col(\n",
    "            dbc.Card(\n",
    "                dbc.CardBody([\n",
    "                    html.H5('Title Col 1', className='card-title'),\n",
    "                    html.P('Content for column 1...', className='card-text')\n",
    "                ])\n",
    "            ),\n",
    "            width=4  # 1/3 of the width\n",
    "        ),\n",
    "        # Row 2, Col 2\n",
    "        dbc.Col(\n",
    "            dbc.Card(\n",
    "                dbc.CardBody([\n",
    "                    html.H5('Title Col 2', className='card-title'),\n",
    "                    html.P('Content for column 2...', className='card-text')\n",
    "                ])\n",
    "            ),\n",
    "            width=4  # 1/3 of the width\n",
    "        ),\n",
    "        # Row 2, Col 3\n",
    "        dbc.Col(\n",
    "            dbc.Card(\n",
    "                dbc.CardBody([\n",
    "                    html.H5('Title Col 3', className='card-title'),\n",
    "                    html.P('Content for column 3...', className='card-text')\n",
    "                ])\n",
    "            ),\n",
    "            width=4  # 1/3 of the width\n",
    "        ),\n",
    "    ], style={'margin-top': '20px'}),  # Added margin for better visual separation of the rows\n",
    "\n",
    "    # Row with 4 columns\n",
    "    dbc.Row([\n",
    "        # Column 1\n",
    "        dbc.Col(\n",
    "            dbc.Card(\n",
    "                dbc.CardBody([\n",
    "                    html.H5('Title Col 1', className='card-title'),\n",
    "                    html.P('Content for column 1...', className='card-text')\n",
    "                ])\n",
    "            ),\n",
    "            width=3  # 1/4 of the width\n",
    "        ),\n",
    "        # Column 2\n",
    "        dbc.Col(\n",
    "            dbc.Card(\n",
    "                dbc.CardBody([\n",
    "                    html.H5('Title Col 2', className='card-title'),\n",
    "                    html.P('Content for column 2...', className='card-text')\n",
    "                ])\n",
    "            ),\n",
    "            width=3  # 1/4 of the width\n",
    "        ),\n",
    "        # Column 3\n",
    "        dbc.Col(\n",
    "            dbc.Card(\n",
    "                dbc.CardBody([\n",
    "                    html.H5('Title Col 3', className='card-title'),\n",
    "                    html.P('Content for column 3...', className='card-text')\n",
    "                ])\n",
    "            ),\n",
    "            width=3  # 1/4 of the width\n",
    "        ),\n",
    "        # Column 4\n",
    "        dbc.Col(\n",
    "            dbc.Card(\n",
    "                dbc.CardBody([\n",
    "                    html.H5('Title Col 4', className='card-title'),\n",
    "                    html.P('Content for column 4...', className='card-text')\n",
    "                ])\n",
    "            ),\n",
    "            width=3  # 1/4 of the width\n",
    "        ),\n",
    "    ], style={'margin-top': '20px'}),\n",
    "\n",
    "    # Row with 5 columns\n",
    "    dbc.Row([\n",
    "        # Column 1\n",
    "        dbc.Col(\n",
    "            dbc.Card(\n",
    "                dbc.CardBody([\n",
    "                    html.H5('Title Col 1', className='card-title'),\n",
    "                    html.P('Content for column 1...', className='card-text')\n",
    "                ])\n",
    "            ),\n",
    "        ),\n",
    "        # Column 2\n",
    "        dbc.Col(\n",
    "            dbc.Card(\n",
    "                dbc.CardBody([\n",
    "                    html.H5('Title Col 2', className='card-title'),\n",
    "                    html.P('Content for column 2...', className='card-text')\n",
    "                ])\n",
    "            ),\n",
    "        ),\n",
    "        # Column 3\n",
    "        dbc.Col(\n",
    "            dbc.Card(\n",
    "                dbc.CardBody([\n",
    "                    html.H5('Title Col 3', className='card-title'),\n",
    "                    html.P('Content for column 3...', className='card-text')\n",
    "                ])\n",
    "            ),\n",
    "        ),\n",
    "        # Column 4\n",
    "        dbc.Col(\n",
    "            dbc.Card(\n",
    "                dbc.CardBody([\n",
    "                    html.H5('Title Col 4', className='card-title'),\n",
    "                    html.P('Content for column 4...', className='card-text')\n",
    "                ])\n",
    "            ),\n",
    "        ),\n",
    "        # Column 5\n",
    "        dbc.Col(\n",
    "            dbc.Card(\n",
    "                dbc.CardBody([\n",
    "                    html.H5('Title Col 5', className='card-title'),\n",
    "                    html.P('Content for column 5...', className='card-text')\n",
    "                ])\n",
    "            ),\n",
    "        ),\n",
    "    ], style={'margin-top': '20px'}),\n",
    "\n",
    "    # Row with 6 columns\n",
    "    dbc.Row([\n",
    "        # Column 1\n",
    "        dbc.Col(\n",
    "            dbc.Card(\n",
    "                dbc.CardBody([\n",
    "                    html.H5('Title Col 1', className='card-title'),\n",
    "                    html.P('Content for column 1...', className='card-text')\n",
    "                ])\n",
    "            ),\n",
    "            width=2  # 1/6 of the width\n",
    "        ),\n",
    "        # Column 2\n",
    "        dbc.Col(\n",
    "            dbc.Card(\n",
    "                dbc.CardBody([\n",
    "                    html.H5('Title Col 2', className='card-title'),\n",
    "                    html.P('Content for column 2...', className='card-text')\n",
    "                ])\n",
    "            ),\n",
    "            width=2  # 1/6 of the width\n",
    "        ),\n",
    "        # Column 3\n",
    "        dbc.Col(\n",
    "            dbc.Card(\n",
    "                dbc.CardBody([\n",
    "                    html.H5('Title Col 3', className='card-title'),\n",
    "                    html.P('Content for column 3...', className='card-text')\n",
    "                ])\n",
    "            ),\n",
    "            width=2  # 1/6 of the width\n",
    "        ),\n",
    "        # Column 4\n",
    "        dbc.Col(\n",
    "            dbc.Card(\n",
    "                dbc.CardBody([\n",
    "                    html.H5('Title Col 4', className='card-title'),\n",
    "                    html.P('Content for column 4...', className='card-text')\n",
    "                ])\n",
    "            ),\n",
    "            width=2  # 1/6 of the width\n",
    "        ),\n",
    "        # Column 5\n",
    "        dbc.Col(\n",
    "            dbc.Card(\n",
    "                dbc.CardBody([\n",
    "                    html.H5('Title Col 5', className='card-title'),\n",
    "                    html.P('Content for column 5...', className='card-text')\n",
    "                ])\n",
    "            ),\n",
    "            width=2  # 1/6 of the width\n",
    "        ),\n",
    "        # Column 6\n",
    "        dbc.Col(\n",
    "            dbc.Card(\n",
    "                dbc.CardBody([\n",
    "                    html.H5('Title Col 6', className='card-title'),\n",
    "                    html.P('Content for column 6...', className='card-text')\n",
    "                ])\n",
    "            ),\n",
    "            width=2  # 1/6 of the width\n",
    "        ),\n",
    "    ], style={'margin-top': '20px'}),\n",
    "\n",
    "], fluid=True)\n",
    "\n"
   ]
  },
  {
   "cell_type": "markdown",
   "metadata": {},
   "source": [
    "## Playgroung"
   ]
  },
  {
   "cell_type": "code",
   "execution_count": 177,
   "metadata": {},
   "outputs": [],
   "source": [
    "import credentials.keys\n",
    "import requests\n",
    "from lxml import html\n",
    "import re\n",
    "import plotly.express as px\n",
    "import random\n"
   ]
  },
  {
   "cell_type": "code",
   "execution_count": 120,
   "metadata": {},
   "outputs": [],
   "source": [
    "def get_info(response):\n",
    "    # Parse the HTML snippet\n",
    "    tree = html.fromstring(response.text)\n",
    "    \n",
    "    # Dictionary to store the extracted information\n",
    "    info = {\n",
    "        \"CNPJ\": \"\",\n",
    "        \"Razão Social\": \"\",\n",
    "        \"Nome Fantasia\": \"\",\n",
    "        \"Data da Abertura\": \"\",\n",
    "        \"Porte\": \"\",\n",
    "        \"Natureza Jurídica\": \"\",\n",
    "        \"Opção pelo MEI\": \"\",\n",
    "        \"Opção pelo Simples\": \"\",\n",
    "        \"Capital Social\": \"\",\n",
    "        \"Tipo\": \"\",\n",
    "        \"Situação\": \"\",\n",
    "        \"Logradouro\": \"\",\n",
    "        \"Bairro\": \"\",\n",
    "        \"CEP\": \"\",\n",
    "        \"Município\": \"\",\n",
    "        \"Estado\": \"\"\n",
    "    }\n",
    "    \n",
    "    # Extract information from <p> elements\n",
    "    p_elements = tree.xpath('//p')\n",
    "    for p in p_elements:\n",
    "        text_content = p.text_content()\n",
    "        \n",
    "        # Example to extract \"CNPJ\"\n",
    "        if 'CNPJ:' in text_content:\n",
    "            cnpj = re.search(r'\\d{2}\\.\\d{3}\\.\\d{3}/\\d{4}-\\d{2}', text_content)\n",
    "            if cnpj:\n",
    "                info['CNPJ'] = cnpj.group(0)\n",
    "        \n",
    "        # Similarly, you can add conditions to extract other pieces of information\n",
    "        # Example to extract \"Razão Social\"\n",
    "        if 'Razão Social:' in text_content:\n",
    "            razao_social = p.xpath('.//b[@class=\"copy\"]/text()')\n",
    "            if razao_social:\n",
    "                info['Razão Social'] = razao_social[0]\n",
    "        \n",
    "        if 'Nome Fantasia:' in text_content:\n",
    "            nome_fantasia = p.xpath('.//b[@class=\"copy\"]/text()')\n",
    "            if nome_fantasia:\n",
    "                info['Nome Fantasia'] = nome_fantasia[0]\n",
    "        \n",
    "        # Extract \"Data da Abertura\"\n",
    "        if 'Data da Abertura:' in text_content:\n",
    "            data_abertura = re.search(r'\\d{2}/\\d{2}/\\d{4}', text_content)\n",
    "            if data_abertura:\n",
    "                info['Data da Abertura'] = data_abertura.group(0)\n",
    "        \n",
    "        # Extract \"Porte\"\n",
    "        if 'Porte:' in text_content:\n",
    "            porte = text_content.split(':')[-1].strip()\n",
    "            info['Porte'] = porte\n",
    "        \n",
    "        # Extract \"Natureza Jurídica\"\n",
    "        if 'Natureza Jurídica:' in text_content:\n",
    "            natureza_juridica = p.xpath('.//b[@class=\"copy\"]/text()')\n",
    "            if natureza_juridica:\n",
    "                info['Natureza Jurídica'] = natureza_juridica[0]\n",
    "        \n",
    "        # Extract \"Opção pelo MEI\"\n",
    "        if 'Opção pelo MEI:' in text_content:\n",
    "            opcao_mei = text_content.split(':')[-1].strip()\n",
    "            info['Opção pelo MEI'] = opcao_mei\n",
    "        \n",
    "        # Extract \"Opção pelo Simples\"\n",
    "        if 'Opção pelo Simples:' in text_content:\n",
    "            opcao_simples = text_content.split(':')[-1].strip()\n",
    "            info['Opção pelo Simples'] = opcao_simples\n",
    "        \n",
    "        # Extract \"Capital Social\"\n",
    "        if 'Capital Social:' in text_content:\n",
    "            capital_social_str = p.xpath('.//b[@class=\"copy\"]/text()')\n",
    "            if capital_social_str:\n",
    "                # Extract numbers, ignore R$ and commas, replace decimal separator\n",
    "                capital_social_num = re.sub(r'[^\\d,]', '', capital_social_str[0]).replace(',', '.')\n",
    "                info['Capital Social'] = float(capital_social_num)\n",
    "    \n",
    "            # Extract \"Tipo\"\n",
    "        if 'Tipo:' in text_content:\n",
    "            tipo = p.xpath('.//b[@class=\"copy\"]/text()')\n",
    "            if tipo:\n",
    "                info['Tipo'] = tipo[0]\n",
    "        \n",
    "        # Extract \"Situação\"\n",
    "        if 'Situação:' in text_content:\n",
    "            situacao = p.xpath('.//b[@class=\"copy\"]/text()')\n",
    "            if situacao:\n",
    "                info['Situação'] = situacao[0]\n",
    "\n",
    "        # Extract \"Logradouro\"\n",
    "        if 'Logradouro:' in text_content:\n",
    "            logradouro = p.xpath('.//b[@class=\"copy\"]/text()')\n",
    "            if logradouro:\n",
    "                info['Logradouro'] = logradouro[0]\n",
    "\n",
    "        # Extract \"Bairro\"\n",
    "        if 'Bairro:' in text_content:\n",
    "            bairro = p.xpath('.//b[@class=\"copy\"]/text()')\n",
    "            if bairro:\n",
    "                info['Bairro'] = bairro[0]\n",
    "\n",
    "        # Extract \"CEP\"\n",
    "        if 'CEP:' in text_content:\n",
    "            cep = re.search(r'\\d{5}-\\d{3}', text_content)\n",
    "            if cep:\n",
    "                info['CEP'] = cep.group(0)\n",
    "        \n",
    "        # Extract \"Município\"\n",
    "        if 'Município:' in text_content:\n",
    "            municipio = text_content.split(':')[-1].strip()\n",
    "            info['Município'] = municipio\n",
    "        \n",
    "        # Extract \"Estado\"\n",
    "        if 'Estado:' in text_content:\n",
    "            estado = text_content.split(':')[-1].strip()\n",
    "            info['Estado'] = estado\n",
    "\n",
    "    # Return the extracted information\n",
    "    return info\n"
   ]
  },
  {
   "cell_type": "code",
   "execution_count": 124,
   "metadata": {},
   "outputs": [],
   "source": [
    "def get_branches(response):\n",
    "    \"\"\"\n",
    "    Extract and clean CNPJ numbers from an HTTP response object.\n",
    "\n",
    "    Args:\n",
    "    - response: requests.Response, HTTP response containing the CNPJ data.\n",
    "\n",
    "    Returns:\n",
    "    - list of str, Cleaned CNPJ numbers.\n",
    "    \"\"\"\n",
    "    xpath = '/html/body/div[1]/div/div/div[2]/div[1]'\n",
    "\n",
    "    tree = html.fromstring(response.content)\n",
    "    data = tree.xpath(xpath)\n",
    "    # Check if data was found\n",
    "    branches = []\n",
    "    if data:\n",
    "        branches = [el.text_content().strip() for el in data[0].xpath('.//a')]\n",
    "\n",
    "        # get only CNPJ info\n",
    "        cnpj_pattern = re.compile(r'\\d{2}\\.\\d{3}\\.\\d{3}/\\d{4}-\\d{2}')\n",
    "        \n",
    "        # Extract CNPJs using the regex pattern\n",
    "        branches = [re.search(cnpj_pattern, item).group(0) for item in branches if re.search(cnpj_pattern, item)]\n",
    "        \n",
    "        # Remove punctuation from CNPJs\n",
    "        branches = [''.join(re.findall(r'\\d', cnpj)) for cnpj in branches]\n",
    "        branches = list(set(branches))\n",
    "        branches = sorted(branches)\n",
    "\n",
    "    return branches\n"
   ]
  },
  {
   "cell_type": "code",
   "execution_count": 186,
   "metadata": {},
   "outputs": [],
   "source": [
    "api_key=credentials.keys.google_geocode_maps\n",
    "\n",
    "company_list = ['47960950000121']"
   ]
  },
  {
   "cell_type": "code",
   "execution_count": 194,
   "metadata": {},
   "outputs": [],
   "source": [
    "USER_AGENTS = [\n",
    "    \"Mozilla/5.0 (Windows NT 10.0; Win64; x64) AppleWebKit/537.36 (KHTML, like Gecko) Chrome/58.0.3029.110 Safari/537.3\",\n",
    "    \"Mozilla/5.0 (Windows NT 6.1; WOW64; rv:54.0) Gecko/20100101 Firefox/54.0\",\n",
    "    \"Mozilla/5.0 (Windows NT 6.1; WOW64; Trident/7.0; AS; rv:11.0) like Gecko\",\n",
    "    \"Mozilla/5.0 (Windows NT 5.1; rv:36.0) Gecko/20100101 Firefox/36.0\",\n",
    "    \"Mozilla/5.0 (Windows NT 10.0; Win64; x64) AppleWebKit/537.36 (KHTML, like Gecko) Chrome/87.0.4280.88 Safari/537.36\",\n",
    "    \"Mozilla/5.0 (Macintosh; Intel Mac OS X 10_15_5) AppleWebKit/605.1.15 (KHTML, like Gecko) Version/13.1.1 Safari/605.1.15\",\n",
    "    \"Mozilla/5.0 (Windows NT 10.0; Win64; x64; rv:77.0) Gecko/20100101 Firefox/77.0\",\n",
    "    \"Mozilla/5.0 (Macintosh; Intel Mac OS X 10_15_5) AppleWebKit/537.36 (KHTML, like Gecko) Chrome/83.0.4103.97 Safari/537.36\",\n",
    "    \"Mozilla/5.0 (Windows NT 10.0; Win64; x64) AppleWebKit/537.36 (KHTML, like Gecko) Edge/83.0.478.37\",\n",
    "    \"Mozilla/5.0 (X11; Ubuntu; Linux x86_64; rv:77.0) Gecko/20100101 Firefox/77.0\",\n",
    "    \"Mozilla/5.0 (iPhone; CPU iPhone OS 13_5_1 like Mac OS X) AppleWebKit/605.1.15 (KHTML, like Gecko) Version/13.1.1 Mobile/15E148 Safari/604.1\",\n",
    "    \"Mozilla/5.0 (iPad; CPU OS 13_5_1 like Mac OS X) AppleWebKit/605.1.15 (KHTML, like Gecko) Version/13.1.1 Mobile/15E148 Safari/604.1\",\n",
    "    \"Mozilla/5.0 (Macintosh; Intel Mac OS X 10_15_5) AppleWebKit/537.36 (KHTML, like Gecko) Chrome/83.0.4103.61 Safari/537.36\",\n",
    "    \"Mozilla/5.0 (Macintosh; Intel Mac OS X 10_15) AppleWebKit/605.1.15 (KHTML, like Gecko) Version/13.0.4 Safari/605.1.15\",\n",
    "    \"Mozilla/5.0 (Windows NT 10.0; Win64; x64; rv:74.0) Gecko/20100101 Firefox/74.0\",\n",
    "    \"Mozilla/5.0 (Windows NT 6.1; Win64; x64) AppleWebKit/537.36 (KHTML, like Gecko) Chrome/58.0.3029.110 Safari/537.36\",\n",
    "    \"Mozilla/5.0 (Windows NT 10.0; Win64; x64) AppleWebKit/537.36 (KHTML, like Gecko) Chrome/55.0.2883.87 Safari/537.36\",\n",
    "    \"Mozilla/5.0 (Windows NT 6.1; Win64; x64; rv:57.0) Gecko/20100101 Firefox/57.0\",\n",
    "    \"Mozilla/5.0 (Windows NT 6.1) AppleWebKit/537.36 (KHTML, like Gecko) Chrome/41.0.2228.0 Safari/537.36\",\n",
    "    \"Mozilla/5.0 (Windows NT 6.3; Win64; x64) AppleWebKit/537.36 (KHTML, like Gecko) Chrome/60.0.3112.113 Safari/537.36\",\n",
    "    \"Mozilla/5.0 (Windows NT 10.0; Win64; x64) AppleWebKit/537.36 (KHTML, like Gecko) Firefox/53.0\",\n",
    "    \"Mozilla/5.0 (Windows NT 6.1; WOW64; Trident/7.0; AS; rv:11.0) like Gecko\",\n",
    "    \"Mozilla/5.0 (Windows NT 6.1; WOW64) AppleWebKit/537.36 (KHTML, like Gecko) Chrome/52.0.2743.116 Safari/537.36\",\n",
    "    \"Mozilla/5.0 (X11; Ubuntu; Linux x86_64; rv:55.0) Gecko/20100101 Firefox/55.0\",\n",
    "    \"Mozilla/5.0 (Windows NT 6.1; Win64; x64) AppleWebKit/537.36 (KHTML, like Gecko) Chrome/64.0.3282.140 Safari/537.36 Edge/17.17134\"\n",
    "]\n"
   ]
  },
  {
   "cell_type": "code",
   "execution_count": 203,
   "metadata": {},
   "outputs": [],
   "source": [
    "start_time = run.time.time()\n",
    "for c, cnpj in enumerate(company_list):\n",
    "    company = {}\n",
    "    url = f'https://cnpj.biz/{cnpj}'\n",
    "\n",
    "    # Define headers to mimic a request from a browser\n",
    "    headers = {\n",
    "        \"User-Agent\": random.choice(USER_AGENTS)\n",
    "    }\n",
    "\n",
    "    response = requests.get(url, headers=headers)\n",
    "    if response.status_code == 200:\n",
    "        company[cnpj] = {}\n",
    "        branches = get_branches(response)\n",
    "        start_time_2 = run.time.time()\n",
    "        for i, branch in enumerate(branches):\n",
    "            url = f'https://cnpj.biz/{branch}'\n",
    "            # Define headers to mimic a request from a browser\n",
    "            headers = {\n",
    "                \"User-Agent\": \"Mozilla/5.0 (Windows NT 10.0; Win64; x64) AppleWebKit/537.36 (KHTML, like Gecko) Chrome/58.0.3029.110 Safari/537.3\"\n",
    "            }\n",
    "            response = requests.get(url, headers=headers)\n",
    "            if response.status_code == 200:\n",
    "                company[cnpj][branch] = get_info(response)\n",
    "                print(branch, run.remaining_time(start_time_2, len(branches), i))\n",
    "            else:\n",
    "                print(f'{branch} erro {response.status_code}')\n",
    "            # Sleep for 5 seconds every 50 companies\n",
    "            if i % 50 == 0 and i > 0:\n",
    "                print('...preventive waiting')\n",
    "                run.time.sleep(5)\n",
    "        print(cnpj, run.remaining_time(start_time, len(company_list), c))\n",
    "    else:\n",
    "        print(f'{cnpj} erro {response.status_code}')"
   ]
  },
  {
   "cell_type": "code",
   "execution_count": 196,
   "metadata": {},
   "outputs": [],
   "source": [
    "df = pd.DataFrame(filiais).T"
   ]
  },
  {
   "cell_type": "code",
   "execution_count": 198,
   "metadata": {},
   "outputs": [
    {
     "data": {
      "text/html": [
       "<div>\n",
       "<style scoped>\n",
       "    .dataframe tbody tr th:only-of-type {\n",
       "        vertical-align: middle;\n",
       "    }\n",
       "\n",
       "    .dataframe tbody tr th {\n",
       "        vertical-align: top;\n",
       "    }\n",
       "\n",
       "    .dataframe thead th {\n",
       "        text-align: right;\n",
       "    }\n",
       "</style>\n",
       "<table border=\"1\" class=\"dataframe\">\n",
       "  <thead>\n",
       "    <tr style=\"text-align: right;\">\n",
       "      <th></th>\n",
       "      <th>CNPJ</th>\n",
       "      <th>Razão Social</th>\n",
       "      <th>Nome Fantasia</th>\n",
       "      <th>Data da Abertura</th>\n",
       "      <th>Porte</th>\n",
       "      <th>Natureza Jurídica</th>\n",
       "      <th>Opção pelo MEI</th>\n",
       "      <th>Opção pelo Simples</th>\n",
       "      <th>Capital Social</th>\n",
       "      <th>Tipo</th>\n",
       "      <th>Situação</th>\n",
       "      <th>Logradouro</th>\n",
       "      <th>Bairro</th>\n",
       "      <th>CEP</th>\n",
       "      <th>Município</th>\n",
       "      <th>Estado</th>\n",
       "    </tr>\n",
       "  </thead>\n",
       "  <tbody>\n",
       "    <tr>\n",
       "      <th>47956099000163</th>\n",
       "      <td>47.956.099/0001-63</td>\n",
       "      <td>Confeccoes Rajik LTDA</td>\n",
       "      <td></td>\n",
       "      <td>28/11/1981</td>\n",
       "      <td>Micro Empresa</td>\n",
       "      <td>Sociedade Empresária Limitada</td>\n",
       "      <td>Não</td>\n",
       "      <td>Não</td>\n",
       "      <td>400000.0</td>\n",
       "      <td>Matriz</td>\n",
       "      <td>Baixada</td>\n",
       "      <td></td>\n",
       "      <td></td>\n",
       "      <td></td>\n",
       "      <td>Campinas</td>\n",
       "      <td>São Paulo</td>\n",
       "    </tr>\n",
       "    <tr>\n",
       "      <th>47958327000134</th>\n",
       "      <td>47.958.327/0001-34</td>\n",
       "      <td>Lamar Ind e Com de Moveis Para Escritorio LTDA</td>\n",
       "      <td></td>\n",
       "      <td>01/12/1981</td>\n",
       "      <td>Micro Empresa</td>\n",
       "      <td>Sociedade Empresária Limitada</td>\n",
       "      <td>Não</td>\n",
       "      <td>Não</td>\n",
       "      <td>10000.0</td>\n",
       "      <td>Matriz</td>\n",
       "      <td>Inapta</td>\n",
       "      <td></td>\n",
       "      <td></td>\n",
       "      <td></td>\n",
       "      <td>São Paulo</td>\n",
       "      <td>São Paulo</td>\n",
       "    </tr>\n",
       "    <tr>\n",
       "      <th>47958855000193</th>\n",
       "      <td>47.958.855/0001-93</td>\n",
       "      <td>Msm-Produtos Para Calcados LTDA</td>\n",
       "      <td></td>\n",
       "      <td>28/03/1966</td>\n",
       "      <td>Sem Enquadramento</td>\n",
       "      <td>Sociedade Empresária Limitada</td>\n",
       "      <td>Não</td>\n",
       "      <td>Não</td>\n",
       "      <td>14694778.5</td>\n",
       "      <td>Matriz</td>\n",
       "      <td>Ativa</td>\n",
       "      <td>Avenida Rio Branco, 520</td>\n",
       "      <td>Estacao</td>\n",
       "      <td>14405-080</td>\n",
       "      <td>Franca</td>\n",
       "      <td>São Paulo</td>\n",
       "    </tr>\n",
       "    <tr>\n",
       "      <th>47959697000196</th>\n",
       "      <td>47.959.697/0001-96</td>\n",
       "      <td>Amazonas Industria e Comercio LTDA</td>\n",
       "      <td>Amazonas</td>\n",
       "      <td>30/03/1966</td>\n",
       "      <td>Sem Enquadramento</td>\n",
       "      <td>Sociedade Empresária Limitada</td>\n",
       "      <td>Não</td>\n",
       "      <td>Não</td>\n",
       "      <td>145526355.0</td>\n",
       "      <td>Matriz</td>\n",
       "      <td>Ativa</td>\n",
       "      <td>Avenida Rio Branco 745, 745</td>\n",
       "      <td>Vila Santos Dumont</td>\n",
       "      <td>14405-901</td>\n",
       "      <td>Franca</td>\n",
       "      <td>São Paulo</td>\n",
       "    </tr>\n",
       "    <tr>\n",
       "      <th>47960950000202</th>\n",
       "      <td>47.960.950/0002-02</td>\n",
       "      <td>Magazine Luiza S/A</td>\n",
       "      <td>Magazine Luiza</td>\n",
       "      <td>18/08/1983</td>\n",
       "      <td>Sem Enquadramento</td>\n",
       "      <td>Sociedade Anônima Aberta</td>\n",
       "      <td>Não</td>\n",
       "      <td>Não</td>\n",
       "      <td>12552162483.75</td>\n",
       "      <td>Filial</td>\n",
       "      <td>Ativa</td>\n",
       "      <td>Avenida Sao Carlos, 1428</td>\n",
       "      <td>Centro</td>\n",
       "      <td>13560-011</td>\n",
       "      <td>São Carlos</td>\n",
       "      <td>São Paulo</td>\n",
       "    </tr>\n",
       "    <tr>\n",
       "      <th>...</th>\n",
       "      <td>...</td>\n",
       "      <td>...</td>\n",
       "      <td>...</td>\n",
       "      <td>...</td>\n",
       "      <td>...</td>\n",
       "      <td>...</td>\n",
       "      <td>...</td>\n",
       "      <td>...</td>\n",
       "      <td>...</td>\n",
       "      <td>...</td>\n",
       "      <td>...</td>\n",
       "      <td>...</td>\n",
       "      <td>...</td>\n",
       "      <td>...</td>\n",
       "      <td>...</td>\n",
       "      <td>...</td>\n",
       "    </tr>\n",
       "    <tr>\n",
       "      <th>47960950113163</th>\n",
       "      <td>47.960.950/1131-63</td>\n",
       "      <td>Magazine Luiza S/A</td>\n",
       "      <td>Magazine Luiza S/A</td>\n",
       "      <td>08/08/2018</td>\n",
       "      <td>Sem Enquadramento</td>\n",
       "      <td>Sociedade Anônima Aberta</td>\n",
       "      <td>Não</td>\n",
       "      <td>Não</td>\n",
       "      <td>12552162483.75</td>\n",
       "      <td>Filial</td>\n",
       "      <td>Ativa</td>\n",
       "      <td>Rua Sete de Setembro, 345</td>\n",
       "      <td>Centro</td>\n",
       "      <td>13490-000</td>\n",
       "      <td>Cordeirópolis</td>\n",
       "      <td>São Paulo</td>\n",
       "    </tr>\n",
       "    <tr>\n",
       "      <th>47960950113406</th>\n",
       "      <td>47.960.950/1134-06</td>\n",
       "      <td>Magazine Luiza S/A</td>\n",
       "      <td>Magazine Luiza S/A</td>\n",
       "      <td>21/08/2018</td>\n",
       "      <td>Sem Enquadramento</td>\n",
       "      <td>Sociedade Anônima Aberta</td>\n",
       "      <td>Não</td>\n",
       "      <td>Não</td>\n",
       "      <td>12552162483.75</td>\n",
       "      <td>Filial</td>\n",
       "      <td>Ativa</td>\n",
       "      <td>Rua Armando Steck, 408</td>\n",
       "      <td>Jardim Niero I</td>\n",
       "      <td>13290-000</td>\n",
       "      <td>Louveira</td>\n",
       "      <td>São Paulo</td>\n",
       "    </tr>\n",
       "    <tr>\n",
       "      <th>47960950113597</th>\n",
       "      <td>47.960.950/1135-97</td>\n",
       "      <td>Magazine Luiza S/A</td>\n",
       "      <td>Magazine Luiza S/A</td>\n",
       "      <td>21/08/2018</td>\n",
       "      <td>Sem Enquadramento</td>\n",
       "      <td>Sociedade Anônima Aberta</td>\n",
       "      <td>Não</td>\n",
       "      <td>Não</td>\n",
       "      <td>12552162483.75</td>\n",
       "      <td>Filial</td>\n",
       "      <td>Ativa</td>\n",
       "      <td>Rua Prudente de Moraes, 409</td>\n",
       "      <td>Centro</td>\n",
       "      <td>13390-000</td>\n",
       "      <td>Rio das Pedras</td>\n",
       "      <td>São Paulo</td>\n",
       "    </tr>\n",
       "    <tr>\n",
       "      <th>47960950113830</th>\n",
       "      <td>47.960.950/1138-30</td>\n",
       "      <td>Magazine Luiza S/A</td>\n",
       "      <td>Magazine Luiza S/A</td>\n",
       "      <td>28/08/2018</td>\n",
       "      <td>Sem Enquadramento</td>\n",
       "      <td>Sociedade Anônima Aberta</td>\n",
       "      <td>Não</td>\n",
       "      <td>Não</td>\n",
       "      <td>12552162483.75</td>\n",
       "      <td>Filial</td>\n",
       "      <td>Ativa</td>\n",
       "      <td>Praca Presidente Kennedy, 51A</td>\n",
       "      <td>Centro</td>\n",
       "      <td>18520-000</td>\n",
       "      <td>Cerquilho</td>\n",
       "      <td>São Paulo</td>\n",
       "    </tr>\n",
       "    <tr>\n",
       "      <th>47960950114054</th>\n",
       "      <td>47.960.950/1140-54</td>\n",
       "      <td>Magazine Luiza S/A</td>\n",
       "      <td>Magazine Luiza S/A</td>\n",
       "      <td>29/08/2018</td>\n",
       "      <td>Sem Enquadramento</td>\n",
       "      <td>Sociedade Anônima Aberta</td>\n",
       "      <td>Não</td>\n",
       "      <td>Não</td>\n",
       "      <td>12552162483.75</td>\n",
       "      <td>Filial</td>\n",
       "      <td>Ativa</td>\n",
       "      <td>Rua 43, S/N</td>\n",
       "      <td>Parque Estrela Dalva Vi Pedregal</td>\n",
       "      <td>72860-445</td>\n",
       "      <td>Novo Gama</td>\n",
       "      <td>Goiás</td>\n",
       "    </tr>\n",
       "  </tbody>\n",
       "</table>\n",
       "<p>965 rows × 16 columns</p>\n",
       "</div>"
      ],
      "text/plain": [
       "                              CNPJ  \\\n",
       "47956099000163  47.956.099/0001-63   \n",
       "47958327000134  47.958.327/0001-34   \n",
       "47958855000193  47.958.855/0001-93   \n",
       "47959697000196  47.959.697/0001-96   \n",
       "47960950000202  47.960.950/0002-02   \n",
       "...                            ...   \n",
       "47960950113163  47.960.950/1131-63   \n",
       "47960950113406  47.960.950/1134-06   \n",
       "47960950113597  47.960.950/1135-97   \n",
       "47960950113830  47.960.950/1138-30   \n",
       "47960950114054  47.960.950/1140-54   \n",
       "\n",
       "                                                  Razão Social  \\\n",
       "47956099000163                           Confeccoes Rajik LTDA   \n",
       "47958327000134  Lamar Ind e Com de Moveis Para Escritorio LTDA   \n",
       "47958855000193                 Msm-Produtos Para Calcados LTDA   \n",
       "47959697000196              Amazonas Industria e Comercio LTDA   \n",
       "47960950000202                              Magazine Luiza S/A   \n",
       "...                                                        ...   \n",
       "47960950113163                              Magazine Luiza S/A   \n",
       "47960950113406                              Magazine Luiza S/A   \n",
       "47960950113597                              Magazine Luiza S/A   \n",
       "47960950113830                              Magazine Luiza S/A   \n",
       "47960950114054                              Magazine Luiza S/A   \n",
       "\n",
       "                     Nome Fantasia Data da Abertura              Porte  \\\n",
       "47956099000163                           28/11/1981      Micro Empresa   \n",
       "47958327000134                           01/12/1981      Micro Empresa   \n",
       "47958855000193                           28/03/1966  Sem Enquadramento   \n",
       "47959697000196            Amazonas       30/03/1966  Sem Enquadramento   \n",
       "47960950000202      Magazine Luiza       18/08/1983  Sem Enquadramento   \n",
       "...                            ...              ...                ...   \n",
       "47960950113163  Magazine Luiza S/A       08/08/2018  Sem Enquadramento   \n",
       "47960950113406  Magazine Luiza S/A       21/08/2018  Sem Enquadramento   \n",
       "47960950113597  Magazine Luiza S/A       21/08/2018  Sem Enquadramento   \n",
       "47960950113830  Magazine Luiza S/A       28/08/2018  Sem Enquadramento   \n",
       "47960950114054  Magazine Luiza S/A       29/08/2018  Sem Enquadramento   \n",
       "\n",
       "                            Natureza Jurídica Opção pelo MEI  \\\n",
       "47956099000163  Sociedade Empresária Limitada            Não   \n",
       "47958327000134  Sociedade Empresária Limitada            Não   \n",
       "47958855000193  Sociedade Empresária Limitada            Não   \n",
       "47959697000196  Sociedade Empresária Limitada            Não   \n",
       "47960950000202       Sociedade Anônima Aberta            Não   \n",
       "...                                       ...            ...   \n",
       "47960950113163       Sociedade Anônima Aberta            Não   \n",
       "47960950113406       Sociedade Anônima Aberta            Não   \n",
       "47960950113597       Sociedade Anônima Aberta            Não   \n",
       "47960950113830       Sociedade Anônima Aberta            Não   \n",
       "47960950114054       Sociedade Anônima Aberta            Não   \n",
       "\n",
       "               Opção pelo Simples  Capital Social    Tipo Situação  \\\n",
       "47956099000163                Não        400000.0  Matriz  Baixada   \n",
       "47958327000134                Não         10000.0  Matriz   Inapta   \n",
       "47958855000193                Não      14694778.5  Matriz    Ativa   \n",
       "47959697000196                Não     145526355.0  Matriz    Ativa   \n",
       "47960950000202                Não  12552162483.75  Filial    Ativa   \n",
       "...                           ...             ...     ...      ...   \n",
       "47960950113163                Não  12552162483.75  Filial    Ativa   \n",
       "47960950113406                Não  12552162483.75  Filial    Ativa   \n",
       "47960950113597                Não  12552162483.75  Filial    Ativa   \n",
       "47960950113830                Não  12552162483.75  Filial    Ativa   \n",
       "47960950114054                Não  12552162483.75  Filial    Ativa   \n",
       "\n",
       "                                   Logradouro  \\\n",
       "47956099000163                                  \n",
       "47958327000134                                  \n",
       "47958855000193        Avenida Rio Branco, 520   \n",
       "47959697000196    Avenida Rio Branco 745, 745   \n",
       "47960950000202       Avenida Sao Carlos, 1428   \n",
       "...                                       ...   \n",
       "47960950113163      Rua Sete de Setembro, 345   \n",
       "47960950113406         Rua Armando Steck, 408   \n",
       "47960950113597    Rua Prudente de Moraes, 409   \n",
       "47960950113830  Praca Presidente Kennedy, 51A   \n",
       "47960950114054                    Rua 43, S/N   \n",
       "\n",
       "                                          Bairro        CEP       Município  \\\n",
       "47956099000163                                                     Campinas   \n",
       "47958327000134                                                    São Paulo   \n",
       "47958855000193                           Estacao  14405-080          Franca   \n",
       "47959697000196                Vila Santos Dumont  14405-901          Franca   \n",
       "47960950000202                            Centro  13560-011      São Carlos   \n",
       "...                                          ...        ...             ...   \n",
       "47960950113163                            Centro  13490-000   Cordeirópolis   \n",
       "47960950113406                    Jardim Niero I  13290-000        Louveira   \n",
       "47960950113597                            Centro  13390-000  Rio das Pedras   \n",
       "47960950113830                            Centro  18520-000       Cerquilho   \n",
       "47960950114054  Parque Estrela Dalva Vi Pedregal  72860-445       Novo Gama   \n",
       "\n",
       "                   Estado  \n",
       "47956099000163  São Paulo  \n",
       "47958327000134  São Paulo  \n",
       "47958855000193  São Paulo  \n",
       "47959697000196  São Paulo  \n",
       "47960950000202  São Paulo  \n",
       "...                   ...  \n",
       "47960950113163  São Paulo  \n",
       "47960950113406  São Paulo  \n",
       "47960950113597  São Paulo  \n",
       "47960950113830  São Paulo  \n",
       "47960950114054      Goiás  \n",
       "\n",
       "[965 rows x 16 columns]"
      ]
     },
     "execution_count": 198,
     "metadata": {},
     "output_type": "execute_result"
    }
   ],
   "source": [
    "df[df['CNPJ'] != '']"
   ]
  },
  {
   "cell_type": "code",
   "execution_count": 176,
   "metadata": {},
   "outputs": [
    {
     "data": {
      "text/plain": [
       "403"
      ]
     },
     "execution_count": 176,
     "metadata": {},
     "output_type": "execute_result"
    }
   ],
   "source": []
  },
  {
   "cell_type": "code",
   "execution_count": 174,
   "metadata": {},
   "outputs": [
    {
     "data": {
      "text/plain": [
       "{'CNPJ': '',\n",
       " 'Razão Social': '',\n",
       " 'Nome Fantasia': '',\n",
       " 'Data da Abertura': '',\n",
       " 'Porte': '',\n",
       " 'Natureza Jurídica': '',\n",
       " 'Opção pelo MEI': '',\n",
       " 'Opção pelo Simples': '',\n",
       " 'Capital Social': '',\n",
       " 'Tipo': '',\n",
       " 'Situação': '',\n",
       " 'Logradouro': '',\n",
       " 'Bairro': '',\n",
       " 'CEP': '',\n",
       " 'Município': '',\n",
       " 'Estado': ''}"
      ]
     },
     "execution_count": 174,
     "metadata": {},
     "output_type": "execute_result"
    }
   ],
   "source": [
    "t = get_info(response)\n",
    "t"
   ]
  },
  {
   "cell_type": "code",
   "execution_count": null,
   "metadata": {},
   "outputs": [],
   "source": []
  },
  {
   "cell_type": "code",
   "execution_count": null,
   "metadata": {},
   "outputs": [],
   "source": []
  },
  {
   "cell_type": "code",
   "execution_count": null,
   "metadata": {},
   "outputs": [],
   "source": []
  },
  {
   "cell_type": "code",
   "execution_count": null,
   "metadata": {},
   "outputs": [],
   "source": []
  },
  {
   "cell_type": "code",
   "execution_count": 148,
   "metadata": {},
   "outputs": [
    {
     "data": {
      "text/html": [
       "<div>\n",
       "<style scoped>\n",
       "    .dataframe tbody tr th:only-of-type {\n",
       "        vertical-align: middle;\n",
       "    }\n",
       "\n",
       "    .dataframe tbody tr th {\n",
       "        vertical-align: top;\n",
       "    }\n",
       "\n",
       "    .dataframe thead th {\n",
       "        text-align: right;\n",
       "    }\n",
       "</style>\n",
       "<table border=\"1\" class=\"dataframe\">\n",
       "  <thead>\n",
       "    <tr style=\"text-align: right;\">\n",
       "      <th></th>\n",
       "      <th>CNPJ</th>\n",
       "      <th>Razão Social</th>\n",
       "      <th>Nome Fantasia</th>\n",
       "      <th>Data da Abertura</th>\n",
       "      <th>Porte</th>\n",
       "      <th>Natureza Jurídica</th>\n",
       "      <th>Opção pelo MEI</th>\n",
       "      <th>Opção pelo Simples</th>\n",
       "      <th>Capital Social</th>\n",
       "      <th>Tipo</th>\n",
       "      <th>Situação</th>\n",
       "      <th>Logradouro</th>\n",
       "      <th>Bairro</th>\n",
       "      <th>CEP</th>\n",
       "      <th>Município</th>\n",
       "      <th>Estado</th>\n",
       "    </tr>\n",
       "  </thead>\n",
       "  <tbody>\n",
       "    <tr>\n",
       "      <th>47956099000163</th>\n",
       "      <td>47.956.099/0001-63</td>\n",
       "      <td>Confeccoes Rajik LTDA</td>\n",
       "      <td></td>\n",
       "      <td>28/11/1981</td>\n",
       "      <td>Micro Empresa</td>\n",
       "      <td>Sociedade Empresária Limitada</td>\n",
       "      <td>Não</td>\n",
       "      <td>Não</td>\n",
       "      <td>400000.0</td>\n",
       "      <td>Matriz</td>\n",
       "      <td>Baixada</td>\n",
       "      <td></td>\n",
       "      <td></td>\n",
       "      <td></td>\n",
       "      <td>Campinas</td>\n",
       "      <td>São Paulo</td>\n",
       "    </tr>\n",
       "    <tr>\n",
       "      <th>47958327000134</th>\n",
       "      <td>47.958.327/0001-34</td>\n",
       "      <td>Lamar Ind e Com de Moveis Para Escritorio LTDA</td>\n",
       "      <td></td>\n",
       "      <td>01/12/1981</td>\n",
       "      <td>Micro Empresa</td>\n",
       "      <td>Sociedade Empresária Limitada</td>\n",
       "      <td>Não</td>\n",
       "      <td>Não</td>\n",
       "      <td>10000.0</td>\n",
       "      <td>Matriz</td>\n",
       "      <td>Inapta</td>\n",
       "      <td></td>\n",
       "      <td></td>\n",
       "      <td></td>\n",
       "      <td>São Paulo</td>\n",
       "      <td>São Paulo</td>\n",
       "    </tr>\n",
       "    <tr>\n",
       "      <th>47958855000193</th>\n",
       "      <td>47.958.855/0001-93</td>\n",
       "      <td>Msm-Produtos Para Calcados LTDA</td>\n",
       "      <td></td>\n",
       "      <td>28/03/1966</td>\n",
       "      <td>Sem Enquadramento</td>\n",
       "      <td>Sociedade Empresária Limitada</td>\n",
       "      <td>Não</td>\n",
       "      <td>Não</td>\n",
       "      <td>14694778.5</td>\n",
       "      <td>Matriz</td>\n",
       "      <td>Ativa</td>\n",
       "      <td>Avenida Rio Branco, 520</td>\n",
       "      <td>Estacao</td>\n",
       "      <td>14405-080</td>\n",
       "      <td>Franca</td>\n",
       "      <td>São Paulo</td>\n",
       "    </tr>\n",
       "    <tr>\n",
       "      <th>47959697000196</th>\n",
       "      <td>47.959.697/0001-96</td>\n",
       "      <td>Amazonas Industria e Comercio LTDA</td>\n",
       "      <td>Amazonas</td>\n",
       "      <td>30/03/1966</td>\n",
       "      <td>Sem Enquadramento</td>\n",
       "      <td>Sociedade Empresária Limitada</td>\n",
       "      <td>Não</td>\n",
       "      <td>Não</td>\n",
       "      <td>145526355.0</td>\n",
       "      <td>Matriz</td>\n",
       "      <td>Ativa</td>\n",
       "      <td>Avenida Rio Branco 745, 745</td>\n",
       "      <td>Vila Santos Dumont</td>\n",
       "      <td>14405-901</td>\n",
       "      <td>Franca</td>\n",
       "      <td>São Paulo</td>\n",
       "    </tr>\n",
       "    <tr>\n",
       "      <th>47960950000202</th>\n",
       "      <td>47.960.950/0002-02</td>\n",
       "      <td>Magazine Luiza S/A</td>\n",
       "      <td>Magazine Luiza</td>\n",
       "      <td>18/08/1983</td>\n",
       "      <td>Sem Enquadramento</td>\n",
       "      <td>Sociedade Anônima Aberta</td>\n",
       "      <td>Não</td>\n",
       "      <td>Não</td>\n",
       "      <td>12552162483.75</td>\n",
       "      <td>Filial</td>\n",
       "      <td>Ativa</td>\n",
       "      <td>Avenida Sao Carlos, 1428</td>\n",
       "      <td>Centro</td>\n",
       "      <td>13560-011</td>\n",
       "      <td>São Carlos</td>\n",
       "      <td>São Paulo</td>\n",
       "    </tr>\n",
       "    <tr>\n",
       "      <th>...</th>\n",
       "      <td>...</td>\n",
       "      <td>...</td>\n",
       "      <td>...</td>\n",
       "      <td>...</td>\n",
       "      <td>...</td>\n",
       "      <td>...</td>\n",
       "      <td>...</td>\n",
       "      <td>...</td>\n",
       "      <td>...</td>\n",
       "      <td>...</td>\n",
       "      <td>...</td>\n",
       "      <td>...</td>\n",
       "      <td>...</td>\n",
       "      <td>...</td>\n",
       "      <td>...</td>\n",
       "      <td>...</td>\n",
       "    </tr>\n",
       "    <tr>\n",
       "      <th>47960950190230</th>\n",
       "      <td></td>\n",
       "      <td></td>\n",
       "      <td></td>\n",
       "      <td></td>\n",
       "      <td></td>\n",
       "      <td></td>\n",
       "      <td></td>\n",
       "      <td></td>\n",
       "      <td></td>\n",
       "      <td></td>\n",
       "      <td></td>\n",
       "      <td></td>\n",
       "      <td></td>\n",
       "      <td></td>\n",
       "      <td></td>\n",
       "      <td></td>\n",
       "    </tr>\n",
       "    <tr>\n",
       "      <th>47960950190311</th>\n",
       "      <td></td>\n",
       "      <td></td>\n",
       "      <td></td>\n",
       "      <td></td>\n",
       "      <td></td>\n",
       "      <td></td>\n",
       "      <td></td>\n",
       "      <td></td>\n",
       "      <td></td>\n",
       "      <td></td>\n",
       "      <td></td>\n",
       "      <td></td>\n",
       "      <td></td>\n",
       "      <td></td>\n",
       "      <td></td>\n",
       "      <td></td>\n",
       "    </tr>\n",
       "    <tr>\n",
       "      <th>47960950190583</th>\n",
       "      <td></td>\n",
       "      <td></td>\n",
       "      <td></td>\n",
       "      <td></td>\n",
       "      <td></td>\n",
       "      <td></td>\n",
       "      <td></td>\n",
       "      <td></td>\n",
       "      <td></td>\n",
       "      <td></td>\n",
       "      <td></td>\n",
       "      <td></td>\n",
       "      <td></td>\n",
       "      <td></td>\n",
       "      <td></td>\n",
       "      <td></td>\n",
       "    </tr>\n",
       "    <tr>\n",
       "      <th>47960950190664</th>\n",
       "      <td></td>\n",
       "      <td></td>\n",
       "      <td></td>\n",
       "      <td></td>\n",
       "      <td></td>\n",
       "      <td></td>\n",
       "      <td></td>\n",
       "      <td></td>\n",
       "      <td></td>\n",
       "      <td></td>\n",
       "      <td></td>\n",
       "      <td></td>\n",
       "      <td></td>\n",
       "      <td></td>\n",
       "      <td></td>\n",
       "      <td></td>\n",
       "    </tr>\n",
       "    <tr>\n",
       "      <th>47960950190745</th>\n",
       "      <td></td>\n",
       "      <td></td>\n",
       "      <td></td>\n",
       "      <td></td>\n",
       "      <td></td>\n",
       "      <td></td>\n",
       "      <td></td>\n",
       "      <td></td>\n",
       "      <td></td>\n",
       "      <td></td>\n",
       "      <td></td>\n",
       "      <td></td>\n",
       "      <td></td>\n",
       "      <td></td>\n",
       "      <td></td>\n",
       "      <td></td>\n",
       "    </tr>\n",
       "  </tbody>\n",
       "</table>\n",
       "<p>1726 rows × 16 columns</p>\n",
       "</div>"
      ],
      "text/plain": [
       "                              CNPJ  \\\n",
       "47956099000163  47.956.099/0001-63   \n",
       "47958327000134  47.958.327/0001-34   \n",
       "47958855000193  47.958.855/0001-93   \n",
       "47959697000196  47.959.697/0001-96   \n",
       "47960950000202  47.960.950/0002-02   \n",
       "...                            ...   \n",
       "47960950190230                       \n",
       "47960950190311                       \n",
       "47960950190583                       \n",
       "47960950190664                       \n",
       "47960950190745                       \n",
       "\n",
       "                                                  Razão Social  \\\n",
       "47956099000163                           Confeccoes Rajik LTDA   \n",
       "47958327000134  Lamar Ind e Com de Moveis Para Escritorio LTDA   \n",
       "47958855000193                 Msm-Produtos Para Calcados LTDA   \n",
       "47959697000196              Amazonas Industria e Comercio LTDA   \n",
       "47960950000202                              Magazine Luiza S/A   \n",
       "...                                                        ...   \n",
       "47960950190230                                                   \n",
       "47960950190311                                                   \n",
       "47960950190583                                                   \n",
       "47960950190664                                                   \n",
       "47960950190745                                                   \n",
       "\n",
       "                 Nome Fantasia Data da Abertura              Porte  \\\n",
       "47956099000163                       28/11/1981      Micro Empresa   \n",
       "47958327000134                       01/12/1981      Micro Empresa   \n",
       "47958855000193                       28/03/1966  Sem Enquadramento   \n",
       "47959697000196        Amazonas       30/03/1966  Sem Enquadramento   \n",
       "47960950000202  Magazine Luiza       18/08/1983  Sem Enquadramento   \n",
       "...                        ...              ...                ...   \n",
       "47960950190230                                                       \n",
       "47960950190311                                                       \n",
       "47960950190583                                                       \n",
       "47960950190664                                                       \n",
       "47960950190745                                                       \n",
       "\n",
       "                            Natureza Jurídica Opção pelo MEI  \\\n",
       "47956099000163  Sociedade Empresária Limitada            Não   \n",
       "47958327000134  Sociedade Empresária Limitada            Não   \n",
       "47958855000193  Sociedade Empresária Limitada            Não   \n",
       "47959697000196  Sociedade Empresária Limitada            Não   \n",
       "47960950000202       Sociedade Anônima Aberta            Não   \n",
       "...                                       ...            ...   \n",
       "47960950190230                                                 \n",
       "47960950190311                                                 \n",
       "47960950190583                                                 \n",
       "47960950190664                                                 \n",
       "47960950190745                                                 \n",
       "\n",
       "               Opção pelo Simples  Capital Social    Tipo Situação  \\\n",
       "47956099000163                Não        400000.0  Matriz  Baixada   \n",
       "47958327000134                Não         10000.0  Matriz   Inapta   \n",
       "47958855000193                Não      14694778.5  Matriz    Ativa   \n",
       "47959697000196                Não     145526355.0  Matriz    Ativa   \n",
       "47960950000202                Não  12552162483.75  Filial    Ativa   \n",
       "...                           ...             ...     ...      ...   \n",
       "47960950190230                                                       \n",
       "47960950190311                                                       \n",
       "47960950190583                                                       \n",
       "47960950190664                                                       \n",
       "47960950190745                                                       \n",
       "\n",
       "                                 Logradouro              Bairro        CEP  \\\n",
       "47956099000163                                                               \n",
       "47958327000134                                                               \n",
       "47958855000193      Avenida Rio Branco, 520             Estacao  14405-080   \n",
       "47959697000196  Avenida Rio Branco 745, 745  Vila Santos Dumont  14405-901   \n",
       "47960950000202     Avenida Sao Carlos, 1428              Centro  13560-011   \n",
       "...                                     ...                 ...        ...   \n",
       "47960950190230                                                               \n",
       "47960950190311                                                               \n",
       "47960950190583                                                               \n",
       "47960950190664                                                               \n",
       "47960950190745                                                               \n",
       "\n",
       "                 Município     Estado  \n",
       "47956099000163    Campinas  São Paulo  \n",
       "47958327000134   São Paulo  São Paulo  \n",
       "47958855000193      Franca  São Paulo  \n",
       "47959697000196      Franca  São Paulo  \n",
       "47960950000202  São Carlos  São Paulo  \n",
       "...                    ...        ...  \n",
       "47960950190230                         \n",
       "47960950190311                         \n",
       "47960950190583                         \n",
       "47960950190664                         \n",
       "47960950190745                         \n",
       "\n",
       "[1726 rows x 16 columns]"
      ]
     },
     "execution_count": 148,
     "metadata": {},
     "output_type": "execute_result"
    }
   ],
   "source": [
    "df = pd.DataFrame(company['47960950000121']).T\n",
    "df"
   ]
  },
  {
   "cell_type": "code",
   "execution_count": null,
   "metadata": {},
   "outputs": [],
   "source": []
  },
  {
   "cell_type": "code",
   "execution_count": 61,
   "metadata": {},
   "outputs": [
    {
     "data": {
      "application/vnd.plotly.v1+json": {
       "config": {
        "plotlyServerURL": "https://plot.ly"
       },
       "data": [
        {
         "customdata": [
          [
           "Baixada",
           "FAZENDA FAZENDA CASTELLO N° S N",
           "FRANCA",
           "SP",
           "47.960.950/0003-93"
          ],
          [
           "Baixada",
           "RUA DOM PEDRO II N° 741",
           "SAO CARLOS",
           "SP",
           "47.960.950/0007-17"
          ],
          [
           "Baixada",
           "AVENIDA VINTE E UM N° 592",
           "BARRETOS",
           "SP",
           "47.960.950/0008-06"
          ],
          [
           "Baixada",
           "VIA WASHINGTON LUIZ N° 2005",
           "BARRETOS",
           "SP",
           "47.960.950/0009-89"
          ],
          [
           "Baixada",
           "RUA PRES OLEGARIO MACIEL N° 187",
           "ARAXA",
           "MG",
           "47.960.950/0013-65"
          ],
          [
           "Baixada",
           "RUA MONSENHOR ROSA N° 1054",
           "FRANCA",
           "SP",
           "47.960.950/0015-27"
          ],
          [
           "Baixada",
           "RUA VERISSIMO N° 844",
           "UBERABA",
           "MG",
           "47.960.950/0018-70"
          ],
          [
           "Baixada",
           "AVENIDA FLORIANO PEIXOTO N° 2128",
           "UBERLANDIA",
           "MG",
           "47.960.950/0022-56"
          ],
          [
           "Baixada",
           "RUA SAO SEBASTIAO N° 366",
           "RIBEIRAO PRETO",
           "SP",
           "47.960.950/0026-80"
          ],
          [
           "Baixada",
           "RUA CEL LUIZ DA CUNHA N° 93",
           "RIBEIRAO PRETO",
           "SP",
           "47.960.950/0027-60"
          ],
          [
           "Baixada",
           "RUA PRUDENTE DE MORAIS N° 1391",
           "MATAO",
           "SP",
           "47.960.950/0028-41"
          ],
          [
           "Baixada",
           "RUA CINCO N° 1040",
           "RIO CLARO",
           "SP",
           "47.960.950/0031-47"
          ],
          [
           "Baixada",
           "RUA 9 DE JULHO N° 559",
           "ARARAQUARA",
           "SP",
           "47.960.950/0032-28"
          ],
          [
           "Baixada",
           "RUA 9 DE JULHO N° 675",
           "ARARAQUARA",
           "SP",
           "47.960.950/0033-09"
          ],
          [
           "Baixada",
           "RUA BATISTA DE CARVALHO N° 7 4",
           "BAURU",
           "SP",
           "47.960.950/0037-32"
          ],
          [
           "Baixada",
           "RUA VOLUNTARIOS DA FRANCA N° 1311",
           "FRANCA",
           "SP",
           "47.960.950/0040-38"
          ],
          [
           "Baixada",
           "RUA CAPITAO JOSE MARIA N° 1380",
           "SAO JOSE DO RIO PRETO",
           "SP",
           "47.960.950/0041-19"
          ]
         ],
         "hovertemplate": "<b>%{hovertext}</b><br><br>Latitude=%{lat}<br>Longitude=%{lon}<br>Status=%{customdata[0]}<br>Street=%{customdata[1]}<br>City=%{customdata[2]}<br>State=%{customdata[3]}<br>CNPJ=%{customdata[4]}<extra></extra>",
         "hovertext": [
          "Magazine Luiza SA (Filial 3)",
          "Magazine Luiza SA (Filial 7)",
          "Magazine Luiza SA (Filial 8)",
          "Magazine Luiza SA (Filial 9)",
          "Magazine Luiza SA (Filial 13)",
          "Magazine Luiza SA (Filial 15)",
          "Magazine Luiza SA (Filial 18)",
          "Magazine Luiza SA (Filial 22)",
          "Magazine Luiza SA (Filial 26)",
          "Magazine Luiza SA (Filial 27)",
          "Magazine Luiza SA (Filial 28)",
          "Magazine Luiza SA (Filial 31)",
          "Magazine Luiza SA (Filial 32)",
          "Magazine Luiza SA (Filial 33)",
          "Magazine Luiza SA (Filial 37)",
          "Magazine Luiza SA (Filial 40)",
          "Magazine Luiza SA (Filial 41)"
         ],
         "lat": [
          -21.2922457,
          -22.0201713,
          -20.5578574,
          -22.461082,
          -19.5922239,
          -20.5365943,
          -19.7616294,
          -18.9069995,
          -21.175177,
          -21.171336,
          -21.6031087,
          -22.4015386,
          -21.7933001,
          -21.7923246,
          -22.3223928,
          -20.5364327,
          -20.8304947
         ],
         "legendgroup": "",
         "lon": [
          -50.3428431,
          -47.8878411,
          -48.5691002,
          -47.5374325,
          -46.938132,
          -47.400854,
          -47.9397654,
          -48.2671988,
          -47.8112129,
          -47.81300239999999,
          -48.3602138,
          -47.55432159999999,
          -48.1746866,
          -48.1749164,
          -49.0714909,
          -47.4026283,
          -49.37464199999999
         ],
         "marker": {
          "color": "fuchsia"
         },
         "mode": "markers",
         "name": "",
         "showlegend": false,
         "subplot": "mapbox",
         "type": "scattermapbox"
        }
       ],
       "layout": {
        "height": 300,
        "legend": {
         "tracegroupgap": 0
        },
        "mapbox": {
         "center": {
          "lat": -21.103229923529412,
          "lon": -48.154134235294116
         },
         "domain": {
          "x": [
           0,
           1
          ],
          "y": [
           0,
           1
          ]
         },
         "style": "open-street-map",
         "zoom": 3
        },
        "margin": {
         "b": 0,
         "l": 0,
         "r": 0,
         "t": 0
        },
        "template": {
         "data": {
          "bar": [
           {
            "error_x": {
             "color": "#2a3f5f"
            },
            "error_y": {
             "color": "#2a3f5f"
            },
            "marker": {
             "line": {
              "color": "#E5ECF6",
              "width": 0.5
             },
             "pattern": {
              "fillmode": "overlay",
              "size": 10,
              "solidity": 0.2
             }
            },
            "type": "bar"
           }
          ],
          "barpolar": [
           {
            "marker": {
             "line": {
              "color": "#E5ECF6",
              "width": 0.5
             },
             "pattern": {
              "fillmode": "overlay",
              "size": 10,
              "solidity": 0.2
             }
            },
            "type": "barpolar"
           }
          ],
          "carpet": [
           {
            "aaxis": {
             "endlinecolor": "#2a3f5f",
             "gridcolor": "white",
             "linecolor": "white",
             "minorgridcolor": "white",
             "startlinecolor": "#2a3f5f"
            },
            "baxis": {
             "endlinecolor": "#2a3f5f",
             "gridcolor": "white",
             "linecolor": "white",
             "minorgridcolor": "white",
             "startlinecolor": "#2a3f5f"
            },
            "type": "carpet"
           }
          ],
          "choropleth": [
           {
            "colorbar": {
             "outlinewidth": 0,
             "ticks": ""
            },
            "type": "choropleth"
           }
          ],
          "contour": [
           {
            "colorbar": {
             "outlinewidth": 0,
             "ticks": ""
            },
            "colorscale": [
             [
              0,
              "#0d0887"
             ],
             [
              0.1111111111111111,
              "#46039f"
             ],
             [
              0.2222222222222222,
              "#7201a8"
             ],
             [
              0.3333333333333333,
              "#9c179e"
             ],
             [
              0.4444444444444444,
              "#bd3786"
             ],
             [
              0.5555555555555556,
              "#d8576b"
             ],
             [
              0.6666666666666666,
              "#ed7953"
             ],
             [
              0.7777777777777778,
              "#fb9f3a"
             ],
             [
              0.8888888888888888,
              "#fdca26"
             ],
             [
              1,
              "#f0f921"
             ]
            ],
            "type": "contour"
           }
          ],
          "contourcarpet": [
           {
            "colorbar": {
             "outlinewidth": 0,
             "ticks": ""
            },
            "type": "contourcarpet"
           }
          ],
          "heatmap": [
           {
            "colorbar": {
             "outlinewidth": 0,
             "ticks": ""
            },
            "colorscale": [
             [
              0,
              "#0d0887"
             ],
             [
              0.1111111111111111,
              "#46039f"
             ],
             [
              0.2222222222222222,
              "#7201a8"
             ],
             [
              0.3333333333333333,
              "#9c179e"
             ],
             [
              0.4444444444444444,
              "#bd3786"
             ],
             [
              0.5555555555555556,
              "#d8576b"
             ],
             [
              0.6666666666666666,
              "#ed7953"
             ],
             [
              0.7777777777777778,
              "#fb9f3a"
             ],
             [
              0.8888888888888888,
              "#fdca26"
             ],
             [
              1,
              "#f0f921"
             ]
            ],
            "type": "heatmap"
           }
          ],
          "heatmapgl": [
           {
            "colorbar": {
             "outlinewidth": 0,
             "ticks": ""
            },
            "colorscale": [
             [
              0,
              "#0d0887"
             ],
             [
              0.1111111111111111,
              "#46039f"
             ],
             [
              0.2222222222222222,
              "#7201a8"
             ],
             [
              0.3333333333333333,
              "#9c179e"
             ],
             [
              0.4444444444444444,
              "#bd3786"
             ],
             [
              0.5555555555555556,
              "#d8576b"
             ],
             [
              0.6666666666666666,
              "#ed7953"
             ],
             [
              0.7777777777777778,
              "#fb9f3a"
             ],
             [
              0.8888888888888888,
              "#fdca26"
             ],
             [
              1,
              "#f0f921"
             ]
            ],
            "type": "heatmapgl"
           }
          ],
          "histogram": [
           {
            "marker": {
             "pattern": {
              "fillmode": "overlay",
              "size": 10,
              "solidity": 0.2
             }
            },
            "type": "histogram"
           }
          ],
          "histogram2d": [
           {
            "colorbar": {
             "outlinewidth": 0,
             "ticks": ""
            },
            "colorscale": [
             [
              0,
              "#0d0887"
             ],
             [
              0.1111111111111111,
              "#46039f"
             ],
             [
              0.2222222222222222,
              "#7201a8"
             ],
             [
              0.3333333333333333,
              "#9c179e"
             ],
             [
              0.4444444444444444,
              "#bd3786"
             ],
             [
              0.5555555555555556,
              "#d8576b"
             ],
             [
              0.6666666666666666,
              "#ed7953"
             ],
             [
              0.7777777777777778,
              "#fb9f3a"
             ],
             [
              0.8888888888888888,
              "#fdca26"
             ],
             [
              1,
              "#f0f921"
             ]
            ],
            "type": "histogram2d"
           }
          ],
          "histogram2dcontour": [
           {
            "colorbar": {
             "outlinewidth": 0,
             "ticks": ""
            },
            "colorscale": [
             [
              0,
              "#0d0887"
             ],
             [
              0.1111111111111111,
              "#46039f"
             ],
             [
              0.2222222222222222,
              "#7201a8"
             ],
             [
              0.3333333333333333,
              "#9c179e"
             ],
             [
              0.4444444444444444,
              "#bd3786"
             ],
             [
              0.5555555555555556,
              "#d8576b"
             ],
             [
              0.6666666666666666,
              "#ed7953"
             ],
             [
              0.7777777777777778,
              "#fb9f3a"
             ],
             [
              0.8888888888888888,
              "#fdca26"
             ],
             [
              1,
              "#f0f921"
             ]
            ],
            "type": "histogram2dcontour"
           }
          ],
          "mesh3d": [
           {
            "colorbar": {
             "outlinewidth": 0,
             "ticks": ""
            },
            "type": "mesh3d"
           }
          ],
          "parcoords": [
           {
            "line": {
             "colorbar": {
              "outlinewidth": 0,
              "ticks": ""
             }
            },
            "type": "parcoords"
           }
          ],
          "pie": [
           {
            "automargin": true,
            "type": "pie"
           }
          ],
          "scatter": [
           {
            "fillpattern": {
             "fillmode": "overlay",
             "size": 10,
             "solidity": 0.2
            },
            "type": "scatter"
           }
          ],
          "scatter3d": [
           {
            "line": {
             "colorbar": {
              "outlinewidth": 0,
              "ticks": ""
             }
            },
            "marker": {
             "colorbar": {
              "outlinewidth": 0,
              "ticks": ""
             }
            },
            "type": "scatter3d"
           }
          ],
          "scattercarpet": [
           {
            "marker": {
             "colorbar": {
              "outlinewidth": 0,
              "ticks": ""
             }
            },
            "type": "scattercarpet"
           }
          ],
          "scattergeo": [
           {
            "marker": {
             "colorbar": {
              "outlinewidth": 0,
              "ticks": ""
             }
            },
            "type": "scattergeo"
           }
          ],
          "scattergl": [
           {
            "marker": {
             "colorbar": {
              "outlinewidth": 0,
              "ticks": ""
             }
            },
            "type": "scattergl"
           }
          ],
          "scattermapbox": [
           {
            "marker": {
             "colorbar": {
              "outlinewidth": 0,
              "ticks": ""
             }
            },
            "type": "scattermapbox"
           }
          ],
          "scatterpolar": [
           {
            "marker": {
             "colorbar": {
              "outlinewidth": 0,
              "ticks": ""
             }
            },
            "type": "scatterpolar"
           }
          ],
          "scatterpolargl": [
           {
            "marker": {
             "colorbar": {
              "outlinewidth": 0,
              "ticks": ""
             }
            },
            "type": "scatterpolargl"
           }
          ],
          "scatterternary": [
           {
            "marker": {
             "colorbar": {
              "outlinewidth": 0,
              "ticks": ""
             }
            },
            "type": "scatterternary"
           }
          ],
          "surface": [
           {
            "colorbar": {
             "outlinewidth": 0,
             "ticks": ""
            },
            "colorscale": [
             [
              0,
              "#0d0887"
             ],
             [
              0.1111111111111111,
              "#46039f"
             ],
             [
              0.2222222222222222,
              "#7201a8"
             ],
             [
              0.3333333333333333,
              "#9c179e"
             ],
             [
              0.4444444444444444,
              "#bd3786"
             ],
             [
              0.5555555555555556,
              "#d8576b"
             ],
             [
              0.6666666666666666,
              "#ed7953"
             ],
             [
              0.7777777777777778,
              "#fb9f3a"
             ],
             [
              0.8888888888888888,
              "#fdca26"
             ],
             [
              1,
              "#f0f921"
             ]
            ],
            "type": "surface"
           }
          ],
          "table": [
           {
            "cells": {
             "fill": {
              "color": "#EBF0F8"
             },
             "line": {
              "color": "white"
             }
            },
            "header": {
             "fill": {
              "color": "#C8D4E3"
             },
             "line": {
              "color": "white"
             }
            },
            "type": "table"
           }
          ]
         },
         "layout": {
          "annotationdefaults": {
           "arrowcolor": "#2a3f5f",
           "arrowhead": 0,
           "arrowwidth": 1
          },
          "autotypenumbers": "strict",
          "coloraxis": {
           "colorbar": {
            "outlinewidth": 0,
            "ticks": ""
           }
          },
          "colorscale": {
           "diverging": [
            [
             0,
             "#8e0152"
            ],
            [
             0.1,
             "#c51b7d"
            ],
            [
             0.2,
             "#de77ae"
            ],
            [
             0.3,
             "#f1b6da"
            ],
            [
             0.4,
             "#fde0ef"
            ],
            [
             0.5,
             "#f7f7f7"
            ],
            [
             0.6,
             "#e6f5d0"
            ],
            [
             0.7,
             "#b8e186"
            ],
            [
             0.8,
             "#7fbc41"
            ],
            [
             0.9,
             "#4d9221"
            ],
            [
             1,
             "#276419"
            ]
           ],
           "sequential": [
            [
             0,
             "#0d0887"
            ],
            [
             0.1111111111111111,
             "#46039f"
            ],
            [
             0.2222222222222222,
             "#7201a8"
            ],
            [
             0.3333333333333333,
             "#9c179e"
            ],
            [
             0.4444444444444444,
             "#bd3786"
            ],
            [
             0.5555555555555556,
             "#d8576b"
            ],
            [
             0.6666666666666666,
             "#ed7953"
            ],
            [
             0.7777777777777778,
             "#fb9f3a"
            ],
            [
             0.8888888888888888,
             "#fdca26"
            ],
            [
             1,
             "#f0f921"
            ]
           ],
           "sequentialminus": [
            [
             0,
             "#0d0887"
            ],
            [
             0.1111111111111111,
             "#46039f"
            ],
            [
             0.2222222222222222,
             "#7201a8"
            ],
            [
             0.3333333333333333,
             "#9c179e"
            ],
            [
             0.4444444444444444,
             "#bd3786"
            ],
            [
             0.5555555555555556,
             "#d8576b"
            ],
            [
             0.6666666666666666,
             "#ed7953"
            ],
            [
             0.7777777777777778,
             "#fb9f3a"
            ],
            [
             0.8888888888888888,
             "#fdca26"
            ],
            [
             1,
             "#f0f921"
            ]
           ]
          },
          "colorway": [
           "#636efa",
           "#EF553B",
           "#00cc96",
           "#ab63fa",
           "#FFA15A",
           "#19d3f3",
           "#FF6692",
           "#B6E880",
           "#FF97FF",
           "#FECB52"
          ],
          "font": {
           "color": "#2a3f5f"
          },
          "geo": {
           "bgcolor": "white",
           "lakecolor": "white",
           "landcolor": "#E5ECF6",
           "showlakes": true,
           "showland": true,
           "subunitcolor": "white"
          },
          "hoverlabel": {
           "align": "left"
          },
          "hovermode": "closest",
          "mapbox": {
           "style": "light"
          },
          "paper_bgcolor": "white",
          "plot_bgcolor": "#E5ECF6",
          "polar": {
           "angularaxis": {
            "gridcolor": "white",
            "linecolor": "white",
            "ticks": ""
           },
           "bgcolor": "#E5ECF6",
           "radialaxis": {
            "gridcolor": "white",
            "linecolor": "white",
            "ticks": ""
           }
          },
          "scene": {
           "xaxis": {
            "backgroundcolor": "#E5ECF6",
            "gridcolor": "white",
            "gridwidth": 2,
            "linecolor": "white",
            "showbackground": true,
            "ticks": "",
            "zerolinecolor": "white"
           },
           "yaxis": {
            "backgroundcolor": "#E5ECF6",
            "gridcolor": "white",
            "gridwidth": 2,
            "linecolor": "white",
            "showbackground": true,
            "ticks": "",
            "zerolinecolor": "white"
           },
           "zaxis": {
            "backgroundcolor": "#E5ECF6",
            "gridcolor": "white",
            "gridwidth": 2,
            "linecolor": "white",
            "showbackground": true,
            "ticks": "",
            "zerolinecolor": "white"
           }
          },
          "shapedefaults": {
           "line": {
            "color": "#2a3f5f"
           }
          },
          "ternary": {
           "aaxis": {
            "gridcolor": "white",
            "linecolor": "white",
            "ticks": ""
           },
           "baxis": {
            "gridcolor": "white",
            "linecolor": "white",
            "ticks": ""
           },
           "bgcolor": "#E5ECF6",
           "caxis": {
            "gridcolor": "white",
            "linecolor": "white",
            "ticks": ""
           }
          },
          "title": {
           "x": 0.05
          },
          "xaxis": {
           "automargin": true,
           "gridcolor": "white",
           "linecolor": "white",
           "ticks": "",
           "title": {
            "standoff": 15
           },
           "zerolinecolor": "white",
           "zerolinewidth": 2
          },
          "yaxis": {
           "automargin": true,
           "gridcolor": "white",
           "linecolor": "white",
           "ticks": "",
           "title": {
            "standoff": 15
           },
           "zerolinecolor": "white",
           "zerolinewidth": 2
          }
         }
        }
       }
      }
     },
     "metadata": {},
     "output_type": "display_data"
    }
   ],
   "source": [
    "fig = px.scatter_mapbox(baixadas, lat='Latitude', lon='Longitude', \n",
    "                        hover_name='Branch_Name', \n",
    "                        hover_data=['Status', 'Street', 'City', 'State', 'CNPJ'],\n",
    "                        color_discrete_sequence=[\"fuchsia\"], zoom=3, height=300)\n",
    "\n",
    "fig.update_layout(mapbox_style=\"open-street-map\")\n",
    "fig.update_layout(margin={\"r\":0,\"t\":0,\"l\":0,\"b\":0})\n",
    "fig.show()"
   ]
  },
  {
   "cell_type": "code",
   "execution_count": null,
   "metadata": {},
   "outputs": [],
   "source": []
  }
 ],
 "metadata": {
  "kernelspec": {
   "display_name": ".venv",
   "language": "python",
   "name": "python3"
  },
  "language_info": {
   "codemirror_mode": {
    "name": "ipython",
    "version": 3
   },
   "file_extension": ".py",
   "mimetype": "text/x-python",
   "name": "python",
   "nbconvert_exporter": "python",
   "pygments_lexer": "ipython3",
   "version": "3.10.6"
  },
  "orig_nbformat": 4
 },
 "nbformat": 4,
 "nbformat_minor": 2
}
