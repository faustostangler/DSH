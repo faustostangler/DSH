{
 "cells": [
  {
   "cell_type": "markdown",
   "metadata": {},
   "source": [
    "## Imports and Defs"
   ]
  },
  {
   "cell_type": "code",
   "execution_count": 225,
   "metadata": {},
   "outputs": [],
   "source": [
    "import assets.helper as b3\n",
    "import assets.functions as run\n",
    "\n",
    "import pandas as pd\n",
    "import plotly.express as px\n",
    "import os\n",
    "import plotly.io as pio\n",
    "import plotly.graph_objects as go\n"
   ]
  },
  {
   "cell_type": "markdown",
   "metadata": {},
   "source": [
    "## Content"
   ]
  },
  {
   "cell_type": "markdown",
   "metadata": {},
   "source": [
    "#### Merge Mix and Match all"
   ]
  },
  {
   "cell_type": "code",
   "execution_count": null,
   "metadata": {},
   "outputs": [],
   "source": [
    "try:\n",
    "    math = run.load_pkl(f'{b3.app_folder}math')\n",
    "except Exception as e:\n",
    "    math = run.get_math()\n",
    "    math = run.save_pkl(math, f'{b3.app_folder}math')\n"
   ]
  },
  {
   "cell_type": "code",
   "execution_count": null,
   "metadata": {},
   "outputs": [],
   "source": [
    "\n",
    "try:\n",
    "    setorial = run.load_pkl(f'{b3.app_folder}setorial')\n",
    "except Exception as e:\n",
    "    setorial = run.get_classificacao_setorial(setorial='')\n",
    "    setorial = run.save_pkl(setorial, f'{b3.app_folder}setorial')\n",
    "# setorial.head(3)"
   ]
  },
  {
   "cell_type": "code",
   "execution_count": null,
   "metadata": {},
   "outputs": [],
   "source": [
    "\n",
    "try:\n",
    "    b3_cvm = run.load_pkl(f'{b3.app_folder}b3_cvm')\n",
    "except Exception as e:\n",
    "    b3_cvm = run.b3_grab(b3.search_url)\n",
    "    b3_cvm = run.save_pkl(b3_cvm, f'{b3.app_folder}b3_cvm')\n"
   ]
  },
  {
   "cell_type": "code",
   "execution_count": null,
   "metadata": {},
   "outputs": [],
   "source": [
    "# SETOR: O setor econômico mais amplo ao qual a empresa pertence.\n",
    "# SUBSETOR: Uma categorização mais específica dentro do setor mais amplo.\n",
    "# SEGMENTO: Uma classificação ainda mais granular do negócio da empresa.\n",
    "# DENOM_CIA: Esta é a denominação ou nome da empresa.\n",
    "# COMPANHIA: Nome ou denominação oficial da empresa listada.\n",
    "# PREGAO: Refere-se ao nome pelo qual a empresa é conhecida no pregão da bolsa de valores.\n",
    "# LISTAGEM: Categoria ou segmento de listagem da empresa na bolsa de valores, que pode indicar o nível de governança corporativa ou outros critérios.\n",
    "# TICK: Abreviação ou símbolo da empresa usada no mercado de ações.\n",
    "# TICKERS: Símbolos de negociação da empresa em diferentes mercados ou plataformas.\n",
    "# CD_CVM: Este poderia ser um código ou identificador único relacionado à empresa, possivelmente relacionado à Comissão de Valores Mobiliários do Brasil (CVM).\n",
    "# CVM: Código ou identificador relacionado à empresa na Comissão de Valores Mobiliários, o órgão regulador do mercado de capitais no Brasil.\n",
    "# ISIN: Número de Identificação Internacional de Valores Mobiliários – um identificador único para valores mobiliários.\n",
    "# CNPJ_CIA: Este é o número do Cadastro Nacional da Pessoa Jurídica (CNPJ) da empresa, um identificador único para empresas no Brasil.\n",
    "# CNPJ: Cadastro Nacional da Pessoa Jurídica – é o número de identificação das empresas brasileiras.\n",
    "# SITE: Site oficial ou página relevante da empresa.\n",
    "# ATIVIDADE: Descreve a principal atividade de negócios da empresa.\n",
    "\n",
    "# ANO: Este é o ano ao qual os dados se referem.\n",
    "# DT_REFER: Esta é a data de referência para a entrada de dados.\n",
    "# DT_FIM_EXERC: Esta é a data final para o exercício ou período de relato financeiro.\n",
    "# DT_INI_EXERC: Esta poderia ser a data inicial para o exercício ou período de relato financeiro.\n",
    "\n",
    "# AGRUPAMENTO: Isso descreve o nível de agregação dos dados. Por exemplo, 'con' pode indicar dados consolidados.\n",
    "# BALANCE_SHEET: Isso indica a seção específica da demonstração financeira, como Balanço Patrimonial ('BPA').\n",
    "# GRUPO_DFP: Isso representa o tipo de grupo de demonstração financeira. Por exemplo, 'DF Consolidado - Balanço Patrimonial Ativo' sugere que é um balanço patrimonial consolidado focado em ativos.\n",
    "# CD_CONTA: Este poderia ser um código ou identificador único relacionado a uma conta específica ou item de linha na demonstração financeira.\n",
    "# DS_CONTA: Descreve a conta específica ou item de linha na demonstração financeira, como 'Ativo Total'.\n",
    "\n",
    "# VL_CONTA: Representa o valor associado à conta específica ou item de linha.\n",
    "# MOEDA: Isso indica a moeda na qual os valores são representados. 'REAL' sugere Real Brasileiro.\n",
    "# ESCALA_MOEDA: Isso fornece a escala ou unidade para os valores monetários. 'MIL' pode indicar que os valores estão em milhares.\n",
    "\n",
    "# ST_CONTA_FIXA: Pode indicar o status ou tipo de conta. O significado de valores como 'S' dependeria do contexto dos dados.\n",
    "# COLUNA_DF: O propósito desta coluna não é imediatamente claro a partir da amostra. Pode representar algum tipo de classificação ou categorização relacionada aos dados financeiros.\n",
    "\n",
    "# ESCRITURADOR: Entidade ou empresa responsável por registrar ou gerenciar os valores mobiliários da empresa.\n",
    "# ACIONISTAS: Informações ou identificadores relacionados aos acionistas da empresa.\n",
    "\n",
    "# FILENAME: Este é o arquivo de onde os dados são originados. Ele fornece o nome do arquivo que contém a respectiva entrada de dados.\n",
    "# DEMONSTRATIVO: Este representa o tipo de demonstração financeira. Pode indicar se os dados são de um relatório intermediário (como 'itr') ou de outro tipo de relatório financeiro.\n",
    "# VERSAO: Isso pode representar a versão ou iteração dos dados/relatórios financeiros.\n",
    "\n",
    "columns = [\n",
    "    'SETOR_x',\n",
    "    'SUBSETOR_x',\n",
    "    'SEGMENTO_x',\n",
    "    'DENOM_CIA',\n",
    "        # 'COMPANHIA',\n",
    "    'PREGAO',\n",
    "    'LISTAGEM',\n",
    "    'TICK',\n",
    "    'TICKERS',\n",
    "    'CD_CVM',\n",
    "        # 'CVM',\n",
    "        # 'ISIN',\n",
    "    'CNPJ_CIA',\n",
    "        # 'CNPJ',\n",
    "    'SITE',\n",
    "    'ATIVIDADE',\n",
    "        # 'ANO',\n",
    "    'DT_REFER',\n",
    "        # 'DT_FIM_EXERC',\n",
    "        # 'DT_INI_EXERC',\n",
    "    'AGRUPAMENTO',\n",
    "    'BALANCE_SHEET',\n",
    "    # 'GRUPO_DFP',\n",
    "    'CD_CONTA',\n",
    "    'DS_CONTA',\n",
    "    'VL_CONTA',\n",
    "    # 'MOEDA',\n",
    "    # 'ESCALA_MOEDA',\n",
    "    # 'ST_CONTA_FIXA',\n",
    "    # 'COLUNA_DF',\n",
    "    'ESCRITURADOR',\n",
    "    'ACIONISTAS', \n",
    "    # 'FILENAME', \n",
    "    # 'DEMONSTRATIVO', \n",
    "    # 'VERSAO',\n",
    "]\n"
   ]
  },
  {
   "cell_type": "code",
   "execution_count": null,
   "metadata": {},
   "outputs": [],
   "source": [
    "b3_cvm.keys()"
   ]
  },
  {
   "cell_type": "code",
   "execution_count": null,
   "metadata": {},
   "outputs": [],
   "source": [
    "columns = ['FILENAME', 'DEMONSTRATIVO', 'BALANCE_SHEET', 'ANO', 'AGRUPAMENTO',\n",
    "       'CNPJ_CIA', 'DT_REFER', 'VERSAO', 'DENOM_CIA', 'CD_CVM', 'GRUPO_DFP',\n",
    "       'MOEDA', 'ESCALA_MOEDA', 'DT_FIM_EXERC', 'CD_CONTA', 'DS_CONTA',\n",
    "       'VL_CONTA', 'ST_CONTA_FIXA', 'DT_INI_EXERC', 'COLUNA_DF', 'COMPANHIA',\n",
    "       'PREGAO', 'TICK', 'LISTAGEM', 'TICKERS', 'ISIN', \n",
    "       'ATIVIDADE', 'SETOR', 'SUBSETOR', 'SEGMENTO', 'SITE', 'ESCRITURADOR',]\n",
    "df = b3_cvm['CONSUMO CICLICO'][columns].set_index('DT_REFER')\n",
    "df = convert_columns(df)\n",
    "df['DENOM_CIA'].unique()"
   ]
  },
  {
   "cell_type": "markdown",
   "metadata": {},
   "source": [
    "#### Acoes\n"
   ]
  },
  {
   "cell_type": "code",
   "execution_count": null,
   "metadata": {},
   "outputs": [],
   "source": [
    "acoes = run.load_pkl(f'{b3.app_folder}acoes')\n",
    "# Process the data and return the result\n",
    "acoes['Trimestre'] = pd.to_datetime(acoes['Trimestre'], errors='coerce', dayfirst=True)\n",
    "acoes['BALANCE_SHEET'] = 'STK'\n",
    "column_mapping = {\n",
    "    'Ações ON': '00.01.01',\n",
    "    'Ações PN': '00.02.01',\n",
    "    'Ações ON em Tesouraria': '00.01.02',\n",
    "    'Ações PN em Tesouraria': '00.02.02'\n",
    "}\n",
    "acoes = acoes.rename(columns={\"Companhia\": \"DENOM_CIA\", \"Trimestre\": \"DT_REFER\"})\n",
    "\n",
    "acoes = acoes.melt(id_vars=['DENOM_CIA', 'DT_REFER', 'BALANCE_SHEET'], \n",
    "                        value_vars=['Ações ON', 'Ações PN', 'Ações ON em Tesouraria', 'Ações PN em Tesouraria'],\n",
    "                        var_name='DS_CONTA', value_name='VL_CONTA').sort_values(by=['DENOM_CIA', 'DT_REFER', 'DS_CONTA'])\n",
    "\n",
    "acoes['CD_CONTA'] = acoes['DS_CONTA'].map(column_mapping)\n"
   ]
  },
  {
   "cell_type": "code",
   "execution_count": null,
   "metadata": {},
   "outputs": [],
   "source": [
    "intel_b3 = run.load_pkl(f'{b3.app_folder}intel_b3')\n",
    "df = intel_b3['BENS INDUSTRIAIS']\n"
   ]
  },
  {
   "cell_type": "code",
   "execution_count": null,
   "metadata": {},
   "outputs": [],
   "source": []
  },
  {
   "cell_type": "code",
   "execution_count": null,
   "metadata": {},
   "outputs": [],
   "source": [
    "company = 'ARMAC LOCACAO LOGISTICA E SERVICOS SA'\n",
    "quarter = '2019-12-31'\n",
    "mc = acoes['DENOM_CIA'] == company\n",
    "mc &= acoes['DT_REFER'] == quarter\n",
    "acoesc = acoes[mc]\n",
    "\n",
    "mc = df['DENOM_CIA'] == company\n",
    "mc &= df['DT_REFER'] == quarter\n",
    "dfc = df[mc]\n",
    "\n",
    "df_ffill = pd.concat([dfc, acoesc], ignore_index=True).ffill()"
   ]
  },
  {
   "cell_type": "code",
   "execution_count": null,
   "metadata": {},
   "outputs": [],
   "source": [
    "def process_stock_data(group):\n",
    "    company, quarter = group.name\n",
    "    \n",
    "    # Filter acoes based on company and quarter\n",
    "    mc = acoes['DENOM_CIA'] == company\n",
    "    mc &= acoes['DT_REFER'] == quarter\n",
    "    acoesc = acoes[mc]\n",
    "\n",
    "    # Concatenate and ffill\n",
    "    return pd.concat([group, acoesc], ignore_index=True).ffill()\n",
    "\n",
    "result_df\n"
   ]
  },
  {
   "cell_type": "code",
   "execution_count": null,
   "metadata": {},
   "outputs": [],
   "source": []
  },
  {
   "cell_type": "code",
   "execution_count": null,
   "metadata": {},
   "outputs": [],
   "source": [
    "\n",
    "df_ffill"
   ]
  },
  {
   "cell_type": "code",
   "execution_count": null,
   "metadata": {},
   "outputs": [],
   "source": [
    "intelacoes = {}\n",
    "for setor, df in intel_b3.items():\n",
    "    print(setor)\n",
    "    df_concat = pd.concat([df.set_index(['DENOM_CIA', 'DT_REFER']), acoes.set_index(['DENOM_CIA', 'DT_REFER'])], axis=0, sort=False).reset_index()\n",
    "    filled_df = df_concat.groupby(['DENOM_CIA', 'DT_REFER'], group_keys=False).apply(lambda group: group.ffill().bfill()).reset_index()\n",
    "    intelacoes[setor] = filled_df\n"
   ]
  },
  {
   "cell_type": "code",
   "execution_count": null,
   "metadata": {},
   "outputs": [],
   "source": [
    "# Concatenate them vertically\n",
    "df_concat = pd.concat([df.set_index(['DENOM_CIA', 'DT_REFER']), acoes.set_index(['DENOM_CIA', 'DT_REFER'])], axis=0, sort=False).reset_index()"
   ]
  },
  {
   "cell_type": "code",
   "execution_count": null,
   "metadata": {},
   "outputs": [],
   "source": [
    "filled_df = df_concat.groupby(['DENOM_CIA', 'DT_REFER'], group_keys=False).apply(lambda group: group.ffill().bfill()).reset_index()\n"
   ]
  },
  {
   "cell_type": "code",
   "execution_count": null,
   "metadata": {},
   "outputs": [],
   "source": [
    "m = filled_df['DENOM_CIA'] == 'ARMAC LOCACAO LOGISTICA E SERVICOS SA'\n",
    "m &= filled_df['DT_REFER'] == '2019-12-31'\n",
    "m &= filled_df['BALANCE_SHEET'] == 'STK'\n",
    "\n",
    "filled_df[m][cols]"
   ]
  },
  {
   "cell_type": "code",
   "execution_count": null,
   "metadata": {},
   "outputs": [],
   "source": []
  },
  {
   "cell_type": "code",
   "execution_count": null,
   "metadata": {},
   "outputs": [],
   "source": []
  },
  {
   "cell_type": "code",
   "execution_count": null,
   "metadata": {},
   "outputs": [],
   "source": []
  },
  {
   "cell_type": "code",
   "execution_count": null,
   "metadata": {},
   "outputs": [],
   "source": []
  },
  {
   "cell_type": "markdown",
   "metadata": {},
   "source": [
    "#### Intel\n"
   ]
  },
  {
   "cell_type": "code",
   "execution_count": null,
   "metadata": {},
   "outputs": [],
   "source": []
  },
  {
   "cell_type": "code",
   "execution_count": null,
   "metadata": {},
   "outputs": [],
   "source": [
    "b3_cvm = run.load_pkl(f'{b3.app_folder}b3_cvm')\n"
   ]
  },
  {
   "cell_type": "code",
   "execution_count": null,
   "metadata": {},
   "outputs": [],
   "source": [
    "column_types = {'index': 'int',\n",
    " 'FILENAME': 'category',\n",
    " 'DEMONSTRATIVO': 'category',\n",
    " 'BALANCE_SHEET': 'category',\n",
    " 'ANO': 'category',\n",
    " 'AGRUPAMENTO': 'category',\n",
    " 'CNPJ_CIA': 'category',\n",
    " 'DT_REFER': 'object',\n",
    " 'VERSAO': 'category',\n",
    " 'DENOM_CIA': 'category',\n",
    " 'CD_CVM': 'category',\n",
    " 'GRUPO_DFP': 'category',\n",
    " 'MOEDA': 'category',\n",
    " 'ESCALA_MOEDA': 'category',\n",
    " 'DT_FIM_EXERC': 'object',\n",
    " 'CD_CONTA': 'category',\n",
    " 'DS_CONTA': 'category',\n",
    " 'VL_CONTA': 'float',\n",
    " 'ST_CONTA_FIXA': 'category',\n",
    " 'DT_INI_EXERC': 'object',\n",
    " 'COLUNA_DF': 'category',\n",
    " 'COMPANHIA': 'category',\n",
    " 'PREGAO': 'category',\n",
    " 'TICK': 'category',\n",
    " 'LISTAGEM': 'category',\n",
    " 'CVM': 'category',\n",
    " 'TICKERS': 'category',\n",
    " 'ISIN': 'category',\n",
    " 'CNPJ': 'category',\n",
    " 'ATIVIDADE': 'category',\n",
    " 'SETOR': 'category',\n",
    " 'SUBSETOR': 'category',\n",
    " 'SEGMENTO': 'category',\n",
    " 'SITE': 'category',\n",
    " 'ESCRITURADOR': 'category',\n",
    " 'CD_CONTA_original': 'category',\n",
    " 'DS_CONTA_original': 'category'}\n",
    "date_columns = ['DT_REFER', 'DT_FIM_EXERC', 'DT_INI_EXERC']\n"
   ]
  },
  {
   "cell_type": "code",
   "execution_count": null,
   "metadata": {},
   "outputs": [],
   "source": [
    "df = pd.read_csv('BENS INDUSTRIAIS_intel.csv', dtype=column_types, index_col='Unnamed: 0', parse_dates=True)\n",
    "# df = pd.read_csv('COMUNICACOES_df.csv')\n",
    "# df_typed = pd.read_csv(f)\n"
   ]
  },
  {
   "cell_type": "code",
   "execution_count": null,
   "metadata": {},
   "outputs": [],
   "source": [
    "# Criando um dicionário onde as chaves são os nomes das colunas e os valores são os valores únicos para cada coluna\n",
    "col_dict = {col: df[col].unique().tolist() for col in df.columns}\n",
    "df.columns"
   ]
  },
  {
   "cell_type": "code",
   "execution_count": null,
   "metadata": {},
   "outputs": [],
   "source": [
    "col_dict['BALANCE_SHEET']"
   ]
  },
  {
   "cell_type": "code",
   "execution_count": null,
   "metadata": {},
   "outputs": [],
   "source": [
    "df = df[['CNPJ_CIA', 'DENOM_CIA', 'DT_REFER', 'CD_CONTA', 'DS_CONTA', 'VL_CONTA', 'SETOR', 'SUBSETOR', 'SEGMENTO', 'DT_INI_EXERC', 'ATIVIDADE', 'SITE', 'ESCRITURADOR', 'FILENAME', 'DEMONSTRATIVO', 'BALANCE_SHEET', 'ANO', 'AGRUPAMENTO', 'VERSAO', 'GRUPO_DFP', 'MOEDA', 'ESCALA_MOEDA', 'ST_CONTA_FIXA', 'COLUNA_DF', 'COMPANHIA', 'TICKERS', 'CVM', 'ISIN', 'DT_FIM_EXERC', ]]\n",
    "# 'PREGAO', 'TICK', 'CD_CVM', 'LISTAGEM', # 'CD_CONTA_original', 'DS_CONTA_original', \n",
    "df"
   ]
  },
  {
   "cell_type": "code",
   "execution_count": null,
   "metadata": {},
   "outputs": [],
   "source": [
    "formulas_old = [\n",
    "    # Relações Entre Ativos e Passivos\n",
    "    ('_020302_reservas_de_capital', '_020303_reservas_de_reavaliacao', '_020304_reservas_de_lucros'),\n",
    "    # Dívida\n",
    "    ('_0201040101_emprestimos_e_financiamentos_em_moeda_nacional', '_0201040102_emprestimos_e_financiamentos_em_moeda_estrangeira', '_02010402_debentures', '_02010403_arrendamentos', '_02010409_outros_emprestimos_financiamentos_e_debentures'),\n",
    "    ('_0202010101_emprestimos_e_financiamentos_em_moeda_nacional', '_0202010102_emprestimos_e_financiamentos_em_moeda_estrangeira', '_02020102_debentures', '_02020103_arrendamentos', '_02020209_outros_emprestimos_financiamentos_e_debentures'),\n",
    "    ('_0201040102_emprestimos_e_financiamentos_em_moeda_estrangeira', '_0202010102_emprestimos_e_financiamentos_em_moeda_estrangeira'),\n",
    "    ('_010101_caixa_e_disponibilidades_de_caixa',),\n",
    "    ('_010202_investimentos_nao_capex', '_010203_imobilizados', '_010204_intangivel'),\n",
    "    ('_0305_lajir_ebit_resultado_antes_do_resultado_financeiro_e_dos_tributos', '_070401_depreciacao_e_amortizacao'),\n",
    "    # Resultados Fundamentalistas\n",
    "    ('_0203_patrimonio_liquido',),\n",
    "    ('_010101_caixa_e_disponibilidades_de_caixa',),\n",
    "    ('_070803_remuneracao_de_capital_de_terceiros', '_070804_remuneracao_de_capital_proprio'),\n",
    "    # Análise do Fluxo de Caixa\n",
    "    ('_0601_caixa_das_operacoes', '_0602_caixa_de_investimentos_capex'),\n",
    "    ('_0603_caixa_de_financiamento',),\n",
    "    ('_060201_investimentos', '_060202_imobilizado_e_intangivel'),\n",
    "]\n",
    "\n",
    "def de_transform_corrected(key):\n",
    "    # Strip the leading underscore and split at the first underscore\n",
    "    parts = key[1:].split('_', 1)\n",
    "\n",
    "    # Adjust code by inserting periods every two characters\n",
    "    code = '.'.join([parts[0][i:i+2] for i in range(0, len(parts[0]), 2)])\n",
    "    \n",
    "    # Adjust description capitalization\n",
    "    description = ' '.join([word.capitalize() if word not in ['e', 'de', 'do', 'dos', 'da', 'das', 'em'] else word.lower() for word in parts[1].split('_')])\n",
    "    \n",
    "    return code, description\n",
    "\n",
    "# De-transform the formulas using the corrected function\n",
    "formulas = []\n",
    "for group in formulas_old:\n",
    "    new_group = []\n",
    "    for key in group:\n",
    "        new_group.append(de_transform_corrected(key))\n",
    "    formulas.append(tuple(new_group))\n",
    "\n",
    "formulas\n"
   ]
  },
  {
   "cell_type": "code",
   "execution_count": null,
   "metadata": {},
   "outputs": [],
   "source": [
    "balance_sheet = df.groupby(['CNPJ_CIA', 'DT_REFER'], group_keys=True)\n",
    "balance_sheet.groups.keys()\n",
    "df_ = balance_sheet.get_group(('00.242.184/0001-04', '2019-12-31'))\n"
   ]
  },
  {
   "cell_type": "code",
   "execution_count": null,
   "metadata": {},
   "outputs": [],
   "source": [
    "# (, 'Emprestimos e Financiamentos em Moeda Estrangeira'),\n",
    "m = df['CD_CONTA'] == '07.08.04'\n",
    "df[m]"
   ]
  },
  {
   "cell_type": "code",
   "execution_count": null,
   "metadata": {},
   "outputs": [],
   "source": []
  },
  {
   "cell_type": "code",
   "execution_count": null,
   "metadata": {},
   "outputs": [],
   "source": []
  },
  {
   "cell_type": "code",
   "execution_count": null,
   "metadata": {},
   "outputs": [],
   "source": []
  },
  {
   "cell_type": "code",
   "execution_count": null,
   "metadata": {},
   "outputs": [],
   "source": []
  },
  {
   "cell_type": "markdown",
   "metadata": {},
   "source": [
    "##### Dados Abertos"
   ]
  },
  {
   "cell_type": "code",
   "execution_count": null,
   "metadata": {},
   "outputs": [],
   "source": []
  },
  {
   "cell_type": "code",
   "execution_count": null,
   "metadata": {},
   "outputs": [],
   "source": [
    "def read(file):\n",
    "    path = \"C:\\\\Users\\\\faust\\\\OneDrive\\\\Área de Trabalho\\\\dados abertos\\\\\"\n",
    "    df = pd.read_csv(path+file+\".csv\", sep=';', encoding='latin1')\n",
    "    return df.head(25)\n",
    "\n"
   ]
  },
  {
   "cell_type": "code",
   "execution_count": null,
   "metadata": {},
   "outputs": [],
   "source": [
    "file = \"fca_cia_aberta_2010\"\n",
    "fca_cia_aberta_2010 = read(file)\n",
    "# link para o NSD do formulário cadastral\n",
    "fca_cia_aberta_2010"
   ]
  },
  {
   "cell_type": "code",
   "execution_count": null,
   "metadata": {},
   "outputs": [],
   "source": [
    "file = \"fca_cia_aberta_auditor_2010\"\n",
    "fca_cia_aberta_auditor_2010 = read(file)\n",
    "# informações dos auditores CNPJ e CPF, datas dos auditores CPF\n",
    "fca_cia_aberta_auditor_2010"
   ]
  },
  {
   "cell_type": "code",
   "execution_count": null,
   "metadata": {},
   "outputs": [],
   "source": [
    "file = \"fca_cia_aberta_canal_divulgacao_2010\"\n",
    "fca_cia_aberta_canal_divulgacao_2010 = read(file)\n",
    "# Onde as DRE são divulgadas\n",
    "fca_cia_aberta_canal_divulgacao_2010"
   ]
  },
  {
   "cell_type": "code",
   "execution_count": null,
   "metadata": {},
   "outputs": [],
   "source": [
    "file = \"fca_cia_aberta_departamento_acionistas_2010\"\n",
    "fca_cia_aberta_departamento_acionistas_2010 = read(file)\n",
    "# Endereços dos DRI\n",
    "fca_cia_aberta_departamento_acionistas_2010"
   ]
  },
  {
   "cell_type": "code",
   "execution_count": null,
   "metadata": {},
   "outputs": [],
   "source": [
    "file = \"fca_cia_aberta_dri_2010\"\n",
    "fca_cia_aberta_dri_2010 = read(file)\n",
    "# NOMES e endereços dos DRI\n",
    "fca_cia_aberta_dri_2010"
   ]
  },
  {
   "cell_type": "code",
   "execution_count": null,
   "metadata": {},
   "outputs": [],
   "source": [
    "file = \"fca_cia_aberta_endereco_2010\"\n",
    "fca_cia_aberta_endereco_2010 = read(file)\n",
    "# Endereço completo do DRI\n",
    "fca_cia_aberta_endereco_2010"
   ]
  },
  {
   "cell_type": "code",
   "execution_count": null,
   "metadata": {},
   "outputs": [],
   "source": [
    "file = \"fca_cia_aberta_geral_2010\"\n",
    "fca_cia_aberta_geral_2010 = read(file)\n",
    "# Cadastro CVM, Atividade, Descrição e Controle Acionário\n",
    "fca_cia_aberta_geral_2010"
   ]
  },
  {
   "cell_type": "code",
   "execution_count": null,
   "metadata": {},
   "outputs": [],
   "source": [
    "file = \"fca_cia_aberta_pais_estrangeiro_negociacao_2010\"\n",
    "fca_cia_aberta_pais_estrangeiro_negociacao_2010 = read(file)\n",
    "# País estrangeiro... ?\n",
    "fca_cia_aberta_pais_estrangeiro_negociacao_2010"
   ]
  },
  {
   "cell_type": "code",
   "execution_count": null,
   "metadata": {},
   "outputs": [],
   "source": [
    "file = \"fca_cia_aberta_valor_mobiliario_2010\"\n",
    "fca_cia_aberta_valor_mobiliario_2010 = read(file)\n",
    "# Valor mobiliário, Mercado e Segmento\n",
    "fca_cia_aberta_valor_mobiliario_2010"
   ]
  },
  {
   "cell_type": "code",
   "execution_count": null,
   "metadata": {},
   "outputs": [],
   "source": [
    "file = \"fre_cia_aberta_2023\"\n",
    "fre_cia_aberta_2023 = read(file)\n",
    "# Link do Documento\n",
    "fre_cia_aberta_2023"
   ]
  },
  {
   "cell_type": "code",
   "execution_count": null,
   "metadata": {},
   "outputs": [],
   "source": [
    "file = \"fre_cia_aberta_acao_entregue_2023\"\n",
    "fre_cia_aberta_acao_entregue_2023 = read(file)\n",
    "# Remuneração da Diretoria\n",
    "fre_cia_aberta_acao_entregue_2023"
   ]
  },
  {
   "cell_type": "code",
   "execution_count": null,
   "metadata": {},
   "outputs": [],
   "source": [
    "file = \"fre_cia_aberta_administrador_declaracao_genero_2023\"\n",
    "fre_cia_aberta_administrador_declaracao_genero_2023 = read(file)\n",
    "# Gênero dos administradores\n",
    "fre_cia_aberta_administrador_declaracao_genero_2023"
   ]
  },
  {
   "cell_type": "code",
   "execution_count": null,
   "metadata": {},
   "outputs": [],
   "source": [
    "file = \"fre_cia_aberta_administrador_declaracao_raca_2023\"\n",
    "fre_cia_aberta_administrador_declaracao_raca_2023 = read(file)\n",
    "# Raça dos administradores\n",
    "fre_cia_aberta_administrador_declaracao_raca_2023"
   ]
  },
  {
   "cell_type": "code",
   "execution_count": null,
   "metadata": {},
   "outputs": [],
   "source": [
    "file = \"fre_cia_aberta_administrador_membro_conselho_fiscal_2023\"\n",
    "fre_cia_aberta_administrador_membro_conselho_fiscal_2023 = read(file)\n",
    "# Membros do Conselho Fiscal\n",
    "fre_cia_aberta_administrador_membro_conselho_fiscal_2023"
   ]
  },
  {
   "cell_type": "code",
   "execution_count": null,
   "metadata": {},
   "outputs": [],
   "source": [
    "file = \"fre_cia_aberta_ativo_imobilizado_2023\"\n",
    "fre_cia_aberta_ativo_imobilizado_2023 = read(file)\n",
    "# Ativos e Propriedades por empresa\n",
    "fre_cia_aberta_ativo_imobilizado_2023"
   ]
  },
  {
   "cell_type": "code",
   "execution_count": null,
   "metadata": {},
   "outputs": [],
   "source": [
    "file = \"fre_cia_aberta_ativo_intangivel_2023\"\n",
    "fre_cia_aberta_ativo_intangivel_2023 = read(file)\n",
    "# Ativos e Propriedades por empresa\n",
    "fre_cia_aberta_ativo_intangivel_2023"
   ]
  },
  {
   "cell_type": "code",
   "execution_count": null,
   "metadata": {},
   "outputs": [],
   "source": [
    "file = \"fre_cia_aberta_auditor_2023\"\n",
    "fre_cia_aberta_auditor_2023 = read(file)\n",
    "# Remuneração por auditor\n",
    "fre_cia_aberta_auditor_2023"
   ]
  },
  {
   "cell_type": "code",
   "execution_count": null,
   "metadata": {},
   "outputs": [],
   "source": [
    "file = \"fre_cia_aberta_auditor_responsavel_2023\"\n",
    "fre_cia_aberta_auditor_responsavel_2023 = read(file)\n",
    "# Endereço do Auditor\n",
    "fre_cia_aberta_auditor_responsavel_2023"
   ]
  },
  {
   "cell_type": "code",
   "execution_count": null,
   "metadata": {},
   "outputs": [],
   "source": [
    "file = \"fre_cia_aberta_capital_social_2023\"\n",
    "fre_cia_aberta_capital_social_2023 = read(file)\n",
    "# Modificações no Capital Social e Ações\n",
    "fre_cia_aberta_capital_social_2023"
   ]
  },
  {
   "cell_type": "code",
   "execution_count": null,
   "metadata": {},
   "outputs": [],
   "source": [
    "file = \"fre_cia_aberta_capital_social_aumento_2023\"\n",
    "fre_cia_aberta_capital_social_aumento_2023 = read(file)\n",
    "# Idem\n",
    "fre_cia_aberta_capital_social_aumento_2023"
   ]
  },
  {
   "cell_type": "code",
   "execution_count": null,
   "metadata": {},
   "outputs": [],
   "source": [
    "file = \"fre_cia_aberta_capital_social_aumento_classe_acao_2023\"\n",
    "fre_cia_aberta_capital_social_aumento_classe_acao_2023 = read(file)\n",
    "# Em branco\n",
    "fre_cia_aberta_capital_social_aumento_classe_acao_2023"
   ]
  },
  {
   "cell_type": "code",
   "execution_count": null,
   "metadata": {},
   "outputs": [],
   "source": [
    "file = \"fre_cia_aberta_capital_social_classe_acao_2023\"\n",
    "fre_cia_aberta_capital_social_classe_acao_2023 = read(file)\n",
    "# Preferencial Classe A, B e C\n",
    "fre_cia_aberta_capital_social_classe_acao_2023"
   ]
  },
  {
   "cell_type": "code",
   "execution_count": null,
   "metadata": {},
   "outputs": [],
   "source": [
    "file = \"fre_cia_aberta_capital_social_desdobramento_2023\"\n",
    "fre_cia_aberta_capital_social_desdobramento_2023 = read(file)\n",
    "# Desdobramentos de Ações\n",
    "fre_cia_aberta_capital_social_desdobramento_2023"
   ]
  },
  {
   "cell_type": "code",
   "execution_count": null,
   "metadata": {},
   "outputs": [],
   "source": [
    "file = \"fre_cia_aberta_capital_social_desdobramento_classe_acao_2023\"\n",
    "fre_cia_aberta_capital_social_desdobramento_classe_acao_2023 = read(file)\n",
    "# em branco\n",
    "fre_cia_aberta_capital_social_desdobramento_classe_acao_2023"
   ]
  },
  {
   "cell_type": "code",
   "execution_count": null,
   "metadata": {},
   "outputs": [],
   "source": [
    "file = \"fre_cia_aberta_capital_social_reducao_2023\"\n",
    "fre_cia_aberta_capital_social_reducao_2023 = read(file)\n",
    "# Redução de capital\n",
    "fre_cia_aberta_capital_social_reducao_2023"
   ]
  },
  {
   "cell_type": "code",
   "execution_count": null,
   "metadata": {},
   "outputs": [],
   "source": [
    "file = \"fre_cia_aberta_capital_social_titulo_conversivel_2023\"\n",
    "fre_cia_aberta_capital_social_titulo_conversivel_2023 = read(file)\n",
    "# Redução de capital\n",
    "fre_cia_aberta_capital_social_titulo_conversivel_2023"
   ]
  },
  {
   "cell_type": "code",
   "execution_count": null,
   "metadata": {},
   "outputs": [],
   "source": [
    "file = \"fre_cia_aberta_direito_acao_2023\"\n",
    "fre_cia_aberta_direito_acao_2023 = read(file)\n",
    "# ?\n",
    "fre_cia_aberta_direito_acao_2023"
   ]
  },
  {
   "cell_type": "code",
   "execution_count": null,
   "metadata": {},
   "outputs": [],
   "source": [
    "file = \"fre_cia_aberta_historico_emissor_2023\"\n",
    "fre_cia_aberta_historico_emissor_2023 = read(file)\n",
    "# Constituição do emissor e local\n",
    "fre_cia_aberta_historico_emissor_2023"
   ]
  },
  {
   "cell_type": "code",
   "execution_count": null,
   "metadata": {},
   "outputs": [],
   "source": [
    "file = \"fre_cia_aberta_informacao_financeira_2023\"\n",
    "fre_cia_aberta_informacao_financeira_2023 = read(file)\n",
    "# DRE Resumido\n",
    "fre_cia_aberta_informacao_financeira_2023"
   ]
  },
  {
   "cell_type": "code",
   "execution_count": null,
   "metadata": {},
   "outputs": [],
   "source": [
    "file = \"fre_cia_aberta_membro_comite_2023\"\n",
    "fre_cia_aberta_membro_comite_2023 = read(file)\n",
    "# CPF e Remuneração\n",
    "fre_cia_aberta_membro_comite_2023"
   ]
  },
  {
   "cell_type": "code",
   "execution_count": null,
   "metadata": {},
   "outputs": [],
   "source": [
    "file = \"fre_cia_aberta_obrigacao_2023\"\n",
    "fre_cia_aberta_obrigacao_2023 = read(file)\n",
    "# Obrigações e Dívidas\n",
    "fre_cia_aberta_obrigacao_2023"
   ]
  },
  {
   "cell_type": "code",
   "execution_count": null,
   "metadata": {},
   "outputs": [],
   "source": [
    "file = \"fre_cia_aberta_outro_valor_mobiliario_2023\"\n",
    "fre_cia_aberta_outro_valor_mobiliario_2023 = read(file)\n",
    "# ?\n",
    "fre_cia_aberta_outro_valor_mobiliario_2023"
   ]
  },
  {
   "cell_type": "code",
   "execution_count": null,
   "metadata": {},
   "outputs": [],
   "source": [
    "file = \"fre_cia_aberta_participacao_sociedade_2023\"\n",
    "fre_cia_aberta_participacao_sociedade_2023 = read(file)\n",
    "# Participações em outras empresas\n",
    "fre_cia_aberta_participacao_sociedade_2023"
   ]
  },
  {
   "cell_type": "code",
   "execution_count": null,
   "metadata": {},
   "outputs": [],
   "source": [
    "file = \"fre_cia_aberta_participacao_sociedade_valorizacao_acao_2023\"\n",
    "fre_cia_aberta_participacao_sociedade_valorizacao_acao_2023 = read(file)\n",
    "# ?\n",
    "fre_cia_aberta_participacao_sociedade_valorizacao_acao_2023"
   ]
  },
  {
   "cell_type": "code",
   "execution_count": null,
   "metadata": {},
   "outputs": [],
   "source": [
    "file = \"fre_cia_aberta_posicao_acionaria_2023\"\n",
    "fre_cia_aberta_posicao_acionaria_2023 = read(file)\n",
    "# Composição acionária por acionista majoritário\n",
    "fre_cia_aberta_posicao_acionaria_2023[['CNPJ_Companhia', 'Data_Referencia', 'Versao', 'ID_Documento',\n",
    "       'ID_Acionista', 'Acionista', 'Tipo_Pessoa_Acionista',\n",
    "       'CPF_CNPJ_Acionista', 'ID_Acionista_Relacionado',\n",
    "       'Acionista_Relacionado', 'Tipo_Pessoa_Acionista_Relacionado',\n",
    "       'CPF_CNPJ_Acionista_Relacionado',\n",
    "       'Quantidade_Acao_Ordinaria_Circulacao',\n",
    "       'Percentual_Acao_Ordinaria_Circulacao',\n",
    "       'Quantidade_Acao_Preferencial_Circulacao',\n",
    "       'Percentual_Acao_Preferencial_Circulacao',\n",
    "       'Quantidade_Total_Acoes_Circulacao',\n",
    "       'Percentual_Total_Acoes_Circulacao', ]]\n",
    "# fre_cia_aberta_posicao_acionaria_2023.columns\n"
   ]
  },
  {
   "cell_type": "code",
   "execution_count": null,
   "metadata": {},
   "outputs": [],
   "source": [
    "file = \"fre_cia_aberta_relacao_familiar_2023\"\n",
    "fre_cia_aberta_relacao_familiar_2023 = read(file)\n",
    "# Parentescos\n",
    "fre_cia_aberta_relacao_familiar_2023"
   ]
  },
  {
   "cell_type": "code",
   "execution_count": null,
   "metadata": {},
   "outputs": [],
   "source": [
    "file = \"fre_cia_aberta_relacao_subordinacao_2023\"\n",
    "fre_cia_aberta_relacao_subordinacao_2023 = read(file)\n",
    "# Subordnicação \n",
    "fre_cia_aberta_relacao_subordinacao_2023"
   ]
  },
  {
   "cell_type": "code",
   "execution_count": null,
   "metadata": {},
   "outputs": [],
   "source": [
    "file = \"fre_cia_aberta_transacao_parte_relacionada_2023\"\n",
    "fre_cia_aberta_transacao_parte_relacionada_2023 = read(file)\n",
    "# Partes relacionadas\n",
    "fre_cia_aberta_transacao_parte_relacionada_2023"
   ]
  },
  {
   "cell_type": "code",
   "execution_count": null,
   "metadata": {},
   "outputs": [],
   "source": []
  },
  {
   "cell_type": "code",
   "execution_count": null,
   "metadata": {},
   "outputs": [],
   "source": []
  },
  {
   "cell_type": "code",
   "execution_count": null,
   "metadata": {},
   "outputs": [],
   "source": []
  },
  {
   "cell_type": "code",
   "execution_count": null,
   "metadata": {},
   "outputs": [],
   "source": []
  },
  {
   "cell_type": "code",
   "execution_count": null,
   "metadata": {},
   "outputs": [],
   "source": []
  },
  {
   "cell_type": "code",
   "execution_count": null,
   "metadata": {},
   "outputs": [],
   "source": []
  },
  {
   "cell_type": "code",
   "execution_count": null,
   "metadata": {},
   "outputs": [],
   "source": []
  },
  {
   "cell_type": "code",
   "execution_count": null,
   "metadata": {},
   "outputs": [],
   "source": [
    "file = \"fre_cia_aberta_2023\"\n",
    "fre_cia_aberta_2023 = read(file)\n",
    "# Link do Documento\n",
    "fre_cia_aberta_2023"
   ]
  },
  {
   "cell_type": "code",
   "execution_count": null,
   "metadata": {},
   "outputs": [],
   "source": []
  },
  {
   "cell_type": "code",
   "execution_count": null,
   "metadata": {},
   "outputs": [],
   "source": []
  },
  {
   "cell_type": "code",
   "execution_count": null,
   "metadata": {},
   "outputs": [],
   "source": []
  },
  {
   "cell_type": "code",
   "execution_count": null,
   "metadata": {},
   "outputs": [],
   "source": []
  },
  {
   "cell_type": "code",
   "execution_count": null,
   "metadata": {},
   "outputs": [],
   "source": []
  },
  {
   "cell_type": "code",
   "execution_count": null,
   "metadata": {},
   "outputs": [],
   "source": []
  },
  {
   "cell_type": "code",
   "execution_count": null,
   "metadata": {},
   "outputs": [],
   "source": []
  },
  {
   "cell_type": "code",
   "execution_count": null,
   "metadata": {},
   "outputs": [],
   "source": []
  },
  {
   "cell_type": "code",
   "execution_count": null,
   "metadata": {},
   "outputs": [],
   "source": []
  },
  {
   "cell_type": "code",
   "execution_count": null,
   "metadata": {},
   "outputs": [],
   "source": []
  },
  {
   "cell_type": "code",
   "execution_count": null,
   "metadata": {},
   "outputs": [],
   "source": []
  },
  {
   "cell_type": "code",
   "execution_count": null,
   "metadata": {},
   "outputs": [],
   "source": []
  },
  {
   "cell_type": "code",
   "execution_count": null,
   "metadata": {},
   "outputs": [],
   "source": []
  },
  {
   "cell_type": "code",
   "execution_count": null,
   "metadata": {},
   "outputs": [],
   "source": []
  },
  {
   "cell_type": "code",
   "execution_count": null,
   "metadata": {},
   "outputs": [],
   "source": []
  },
  {
   "cell_type": "code",
   "execution_count": null,
   "metadata": {},
   "outputs": [],
   "source": []
  },
  {
   "cell_type": "code",
   "execution_count": null,
   "metadata": {},
   "outputs": [],
   "source": []
  },
  {
   "cell_type": "code",
   "execution_count": null,
   "metadata": {},
   "outputs": [],
   "source": [
    "def plot_group(cias_por_setor, window):\n",
    "    for company, group_df in cias_por_setor:\n",
    "        try:\n",
    "            # Calculate the moving average for the last 4 periods\n",
    "            group_df['MA'] = group_df['VL_CONTA'].rolling(window=window).mean()\n",
    "            \n",
    "            # Calculate the rolling sum for the last 4 periods\n",
    "            group_df['Rolling_Sum'] = group_df['VL_CONTA'].rolling(window=window).sum()\n",
    "            \n",
    "            # Calculate the lifelong cumulative sum\n",
    "            group_df['Cumulative_Sum'] = group_df['VL_CONTA'].cumsum()\n",
    "            \n",
    "            # Plot raw data\n",
    "            # group_df['VL_CONTA'].plot(label='Raw Data', legend=True)\n",
    "\n",
    "            # Plot moving average\n",
    "            group_df['MA'].plot(label=f'{window} Quarters Moving Average', legend=True, linestyle='--')\n",
    "            \n",
    "            # Plot rolling sum\n",
    "            group_df['Rolling_Sum'].plot(label=f'{window} Quarters Sum', legend=True, linestyle='-.')\n",
    "            \n",
    "            # Plot lifelong cumulative sum\n",
    "            group_df['Cumulative_Sum'].plot(label='Lifelong Cumulative Sum', legend=True, linestyle='-.')\n",
    "\n",
    "            plt.title(f\"{group_df['CD_CVM'].iloc[-1]} {group_df['DENOM_CIA'].iloc[-1]}\")\n",
    "            plt.show()\n",
    "        except Exception as e:\n",
    "            print(f\"Error plotting for {company}: {e}\")\n",
    "    return True\n",
    "\n",
    "cias_por_setor = df[(df['AGRUPAMENTO'] == 'con') & (df['CD_CONTA'] == '3.11')].groupby('CD_CVM')\n",
    "plot_group(cias_por_setor, window)"
   ]
  },
  {
   "cell_type": "code",
   "execution_count": null,
   "metadata": {},
   "outputs": [],
   "source": [
    "import matplotlib.pyplot as plt\n",
    "\n",
    "cias_por_setor = df[(df['AGRUPAMENTO'] == 'con') & (df['CD_CONTA'] == '2.03')].groupby('DENOM_CIA')\n",
    "\n",
    "fig, ax = plt.subplots(figsize=(10, 6))\n",
    "\n",
    "for company, group_df in cias_por_setor:\n",
    "    try:\n",
    "        group_df[['VL_CONTA']].plot(ax=ax, label=company)\n",
    "    except:\n",
    "        print(company)\n",
    "\n",
    "ax.set_title(\"VL_CONTA by Company\")\n",
    "ax.set_ylabel(\"VL_CONTA\")\n",
    "ax.set_xlabel(\"Index\")\n",
    "ax.legend(loc=\"best\")\n",
    "\n",
    "plt.show()\n"
   ]
  },
  {
   "cell_type": "code",
   "execution_count": null,
   "metadata": {},
   "outputs": [],
   "source": []
  },
  {
   "cell_type": "code",
   "execution_count": null,
   "metadata": {},
   "outputs": [],
   "source": []
  },
  {
   "cell_type": "markdown",
   "metadata": {},
   "source": [
    "#### Intelacoes Fundamentalista"
   ]
  },
  {
   "cell_type": "code",
   "execution_count": null,
   "metadata": {},
   "outputs": [],
   "source": [
    "intelacoes = run.load_pkl(f'{b3.app_folder}intelacoes')\n",
    "intelacoes.keys()"
   ]
  },
  {
   "cell_type": "code",
   "execution_count": null,
   "metadata": {},
   "outputs": [],
   "source": [
    "df = pd.read_pickle('BENS INDUSTRIAIS_intelacoes.pkl')\n",
    "# df.to_csv('BENS INDUSTRIAIS_intelacoes.csv')"
   ]
  },
  {
   "cell_type": "code",
   "execution_count": null,
   "metadata": {},
   "outputs": [],
   "source": [
    "columns = ['Unnamed: 0', 'FILENAME', 'DEMONSTRATIVO', 'BALANCE_SHEET', 'ANO',\n",
    "       'AGRUPAMENTO', 'CNPJ_CIA', 'DT_REFER', 'VERSAO', 'DENOM_CIA', 'CD_CVM',\n",
    "       'GRUPO_DFP', 'MOEDA', 'ESCALA_MOEDA', 'DT_FIM_EXERC', 'CD_CONTA',\n",
    "       'DS_CONTA', 'VL_CONTA', 'ST_CONTA_FIXA', 'DT_INI_EXERC', 'COLUNA_DF',\n",
    "       'COMPANHIA', 'PREGAO', 'TICK', 'LISTAGEM', 'CVM', 'TICKERS', 'ISIN',\n",
    "       'CNPJ', 'ATIVIDADE', 'SETOR', 'SUBSETOR', 'SEGMENTO', 'SITE',\n",
    "       'ESCRITURADOR', 'CD_CONTA_original', 'DS_CONTA_original', 'Companhia',\n",
    "       'Trimestre', 'Ações ON', 'Ações PN', 'Ações ON em Tesouraria',\n",
    "       'Ações PN em Tesouraria', 'URL']\n",
    "cols = ['SETOR', 'SUBSETOR', 'SEGMENTO', 'CNPJ_CIA', 'DENOM_CIA', 'CD_CVM',  'PREGAO', 'TICK', 'LISTAGEM', 'TICKERS', 'DT_REFER', 'BALANCE_SHEET', 'CD_CONTA', 'DS_CONTA', 'VL_CONTA', ]\n",
    "datetime_cols = ['DT_REFER', 'DT_FIM_EXERC', 'DT_INI_EXERC', 'Trimestre']\n",
    "company_cols = ['SETOR', 'SUBSETOR', 'SEGMENTO', 'CNPJ_CIA', 'DENOM_CIA', 'CD_CVM']\n",
    "dateseries_col = ['DT_REFER']\n",
    "sheet_cols = ['BALANCE_SHEET', 'CD_CONTA', 'DS_CONTA', 'VL_CONTA']\n",
    "stocks_cols = ['Ações ON', 'Ações PN', 'Ações ON em Tesouraria', 'Ações PN em Tesouraria']\n"
   ]
  },
  {
   "cell_type": "code",
   "execution_count": null,
   "metadata": {},
   "outputs": [],
   "source": [
    "# Grouping by 'SETOR', 'SUBSETOR', and 'SEGMENTO' to count unique companies and aggregate their TICK values\n",
    "ticks_by_setor = df.groupby(['SETOR', 'SUBSETOR', 'SEGMENTO']).agg({\n",
    "    'DENOM_CIA': 'nunique',\n",
    "    'TICK': lambda x: list(set(x.dropna()))\n",
    "}).reset_index()\n",
    "\n",
    "# Renaming columns for clarity\n",
    "ticks_by_setor.rename(columns={'DENOM_CIA': 'TOTAL DE COMPANHIAS'}, inplace=True)\n",
    "\n",
    "ticks_by_setor\n"
   ]
  },
  {
   "cell_type": "code",
   "execution_count": null,
   "metadata": {},
   "outputs": [],
   "source": [
    "conta = '02.03'\n",
    "\n",
    "# Filtering the data for the account 'CD_CONTA' with value '02.03' and the latest quarter\n",
    "conta_by_setor = df[df['DT_REFER'] == df['DT_REFER'].max()]\n",
    "conta_by_setor = conta_by_setor[conta_by_setor['CD_CONTA'] == conta]\n",
    "\n",
    "# Grouping by 'SETOR', 'SUBSETOR', and 'SEGMENTO' to aggregate 'VL_CONTA' values\n",
    "conta_by_setor = conta_by_setor.groupby(['SETOR', 'SUBSETOR', 'SEGMENTO', ]).agg({\n",
    "    'VL_CONTA': ['nunique', 'sum', 'max', 'min', 'mean', 'std', 'skew', lambda x: x.kurt()]\n",
    "}).reset_index()\n",
    "\n",
    "conta_by_setor.rename(columns={'VL_CONTA': conta}, inplace=True)\n",
    "\n",
    "conta_by_setor\n"
   ]
  },
  {
   "cell_type": "code",
   "execution_count": null,
   "metadata": {},
   "outputs": [],
   "source": [
    "dfc = df\n",
    "# dfc = dfc.set_index('DT_REFER')\n",
    "company = 'WEG SA'\n",
    "quarter = '2020-12-31'\n",
    "conta = '01.01.01'"
   ]
  },
  {
   "cell_type": "code",
   "execution_count": null,
   "metadata": {},
   "outputs": [],
   "source": [
    "mask = dfc['DENOM_CIA'] != 'nothing'\n",
    "mask &= dfc['DT_REFER'] == quarter\n",
    "mask &= dfc['DENOM_CIA'] == company\n",
    "# mask &= dfc['PREGAO'] == ''\n",
    "# mask &= dfc['TICK'] == ''\n",
    "# mask &= dfc['BALANCE_SHEET'] == ''\n",
    "mask &= dfc['CD_CONTA'] == conta\n",
    "# mask &= dfc['DS_CONTA'] == ''\n",
    "\n",
    "# dfc[mask][cols]\n",
    "data = dfc[mask][['DENOM_CIA', 'DT_REFER', 'CD_CONTA', 'DS_CONTA', 'VL_CONTA']].set_index('DT_REFER')\n",
    "sheet = df[(df['DENOM_CIA'] == company) & (df['DT_REFER'] == quarter)]\n",
    "data"
   ]
  },
  {
   "cell_type": "code",
   "execution_count": null,
   "metadata": {},
   "outputs": [],
   "source": []
  },
  {
   "cell_type": "code",
   "execution_count": null,
   "metadata": {},
   "outputs": [],
   "source": []
  },
  {
   "cell_type": "code",
   "execution_count": null,
   "metadata": {},
   "outputs": [],
   "source": []
  },
  {
   "cell_type": "code",
   "execution_count": null,
   "metadata": {},
   "outputs": [],
   "source": []
  },
  {
   "cell_type": "code",
   "execution_count": null,
   "metadata": {},
   "outputs": [],
   "source": [
    "dfc = pd.concat([dfc, rows], ignore_index=True).ffill().drop_duplicates()\n",
    "m = dfc['BALANCE_SHEET'].isin(sh)\n",
    "dfc[m][cols]"
   ]
  },
  {
   "cell_type": "markdown",
   "metadata": {},
   "source": [
    "#### Fund"
   ]
  },
  {
   "cell_type": "code",
   "execution_count": null,
   "metadata": {},
   "outputs": [],
   "source": [
    "fund = load_pkl(f'{b3.app_folder}fund')\n"
   ]
  },
  {
   "cell_type": "code",
   "execution_count": null,
   "metadata": {},
   "outputs": [],
   "source": [
    "df = pd.read_pickle('BENS INDUSTRIAIS_fund.pkl')"
   ]
  },
  {
   "cell_type": "code",
   "execution_count": null,
   "metadata": {},
   "outputs": [],
   "source": [
    "df.to_csv('BENS INDUSTRIAIS_fund.csv')"
   ]
  },
  {
   "cell_type": "code",
   "execution_count": null,
   "metadata": {},
   "outputs": [],
   "source": [
    "df.columns"
   ]
  },
  {
   "cell_type": "code",
   "execution_count": null,
   "metadata": {},
   "outputs": [],
   "source": [
    "df['TICKERS'].unique().tolist()"
   ]
  },
  {
   "cell_type": "markdown",
   "metadata": {},
   "source": [
    "#### Macro Data"
   ]
  },
  {
   "cell_type": "code",
   "execution_count": null,
   "metadata": {},
   "outputs": [],
   "source": [
    "!pip install yfinance -q -U"
   ]
  },
  {
   "cell_type": "code",
   "execution_count": null,
   "metadata": {},
   "outputs": [],
   "source": [
    "import yfinance as yf"
   ]
  },
  {
   "cell_type": "code",
   "execution_count": null,
   "metadata": {},
   "outputs": [],
   "source": [
    "# Baixando Cotações do Índice Bovespa\n",
    "ibov = yf.download('^BVSP')\n",
    "df = yf.download(['WEGE3.SA','BBDC4.SA', 'PETR4.SA'], group_by='ticker')"
   ]
  },
  {
   "cell_type": "code",
   "execution_count": null,
   "metadata": {},
   "outputs": [],
   "source": [
    "print(type(df['WEGE3.SA']['Adj Close']))\n",
    "tickers = df.columns.get_level_values(0).unique().tolist()\n",
    "tickers"
   ]
  },
  {
   "cell_type": "code",
   "execution_count": null,
   "metadata": {},
   "outputs": [],
   "source": [
    "for tick in tickers:\n",
    "    df[tick]['Adj Close'].plot()"
   ]
  },
  {
   "cell_type": "code",
   "execution_count": null,
   "metadata": {},
   "outputs": [],
   "source": [
    "!pip install -q alpha_vantage\n",
    "# Importando a classe Timeseries de alpha_vantage.timeseries\n",
    "from alpha_vantage.timeseries import TimeSeries"
   ]
  },
  {
   "cell_type": "code",
   "execution_count": null,
   "metadata": {},
   "outputs": [],
   "source": [
    "ALPHAVANTAGE_API_KEY = 'KR3OMFL1CLANZUXP'\n",
    "# Criando o objeto ts\n",
    "ts = TimeSeries(key=ALPHAVANTAGE_API_KEY, output_format='pandas')"
   ]
  },
  {
   "cell_type": "code",
   "execution_count": null,
   "metadata": {},
   "outputs": [],
   "source": [
    "dados, meta_dados = ts.get_symbol_search('alphabet')\n",
    "dados"
   ]
  },
  {
   "cell_type": "code",
   "execution_count": null,
   "metadata": {},
   "outputs": [],
   "source": [
    "# Obtendo os dados semanais do IBOV usando get_weekly\n",
    "dados, meta_dados = ts.get_daily(symbol='AAPL', )\n",
    "dados['4. close']"
   ]
  },
  {
   "cell_type": "code",
   "execution_count": null,
   "metadata": {},
   "outputs": [],
   "source": [
    "meta_dados"
   ]
  },
  {
   "cell_type": "code",
   "execution_count": null,
   "metadata": {},
   "outputs": [],
   "source": [
    "! pip install quandl -q -U"
   ]
  },
  {
   "cell_type": "code",
   "execution_count": null,
   "metadata": {},
   "outputs": [],
   "source": [
    "import quandl\n",
    "mydata = quandl.get(\"FRED/GDP\")\n",
    "api = 'LpAz8JCUosdwhHqnWnA4'"
   ]
  },
  {
   "cell_type": "code",
   "execution_count": null,
   "metadata": {},
   "outputs": [],
   "source": [
    "mydata = quandl.get_table('ZACKS/FC', ticker='AAPL',)\n",
    "mydata"
   ]
  },
  {
   "cell_type": "code",
   "execution_count": null,
   "metadata": {},
   "outputs": [],
   "source": [
    "mydata.plot()"
   ]
  },
  {
   "cell_type": "code",
   "execution_count": null,
   "metadata": {},
   "outputs": [],
   "source": [
    "# pandas datareader\n",
    "import os\n",
    "import pandas_datareader as pdr\n"
   ]
  },
  {
   "cell_type": "code",
   "execution_count": null,
   "metadata": {},
   "outputs": [],
   "source": [
    "TIINGO_API_KEY = '591375a6e5852ca48f778902fec322581511c89a'\n",
    "import tiingo\n",
    "\n",
    "config = {}\n",
    "config['session'] = True\n",
    "config['api_key'] = TIINGO_API_KEY\n",
    "client = tiingo.TiingoClient(config)\n",
    "\n"
   ]
  },
  {
   "cell_type": "code",
   "execution_count": null,
   "metadata": {},
   "outputs": [],
   "source": [
    "import requests\n",
    "\n",
    "TIINGO_API_KEY = '591375a6e5852ca48f778902fec322581511c89a'\n",
    "url = 'https://api.tiingo.com/tiingo/fundamentals/definitions'\n",
    "url = 'https://api.tiingo.com/tiingo/daily/AAPL/prices?startDate=2012-1-1'\n",
    "# url = 'https://api.tiingo.com/tiingo/daily/AAPL/prices'\n",
    "\n",
    "headers = {\n",
    "    'Content-Type': 'application/json',\n",
    "    'Authorization': 'Token ' + TIINGO_API_KEY\n",
    "}\n",
    "\n",
    "response = requests.get(url, headers=headers)\n",
    "\n",
    "data = response.json()\n",
    "data = pd.DataFrame(data)\n"
   ]
  },
  {
   "cell_type": "code",
   "execution_count": null,
   "metadata": {},
   "outputs": [],
   "source": [
    "data['close'].plot()"
   ]
  },
  {
   "cell_type": "code",
   "execution_count": null,
   "metadata": {},
   "outputs": [],
   "source": [
    "df = pdr.DataReader('GE', 'yahoo')\n",
    "df"
   ]
  },
  {
   "cell_type": "markdown",
   "metadata": {},
   "source": [
    "#### Get Yahoo CSV"
   ]
  },
  {
   "cell_type": "code",
   "execution_count": null,
   "metadata": {},
   "outputs": [],
   "source": []
  },
  {
   "cell_type": "code",
   "execution_count": null,
   "metadata": {},
   "outputs": [],
   "source": []
  },
  {
   "cell_type": "code",
   "execution_count": null,
   "metadata": {},
   "outputs": [],
   "source": []
  },
  {
   "cell_type": "code",
   "execution_count": null,
   "metadata": {},
   "outputs": [],
   "source": []
  },
  {
   "cell_type": "code",
   "execution_count": null,
   "metadata": {},
   "outputs": [],
   "source": []
  },
  {
   "cell_type": "markdown",
   "metadata": {},
   "source": [
    "iterrow in fund and get same key from both dict to concat both and remove duplicates\n",
    "\n",
    "save quotes"
   ]
  },
  {
   "cell_type": "code",
   "execution_count": null,
   "metadata": {},
   "outputs": [],
   "source": []
  },
  {
   "cell_type": "markdown",
   "metadata": {},
   "source": [
    "#### Integrate fund to quotes"
   ]
  },
  {
   "cell_type": "markdown",
   "metadata": {},
   "source": [
    "Integrate funds to quotes, so each TICK contains quotes and also also all financial data"
   ]
  },
  {
   "cell_type": "code",
   "execution_count": 226,
   "metadata": {},
   "outputs": [],
   "source": [
    "quotes = run.load_pkl(f'{b3.app_folder}quotes')\n",
    "fund = run.load_pkl(f'{b3.app_folder}fund')\n"
   ]
  },
  {
   "cell_type": "code",
   "execution_count": 227,
   "metadata": {},
   "outputs": [
    {
     "data": {
      "text/plain": [
       "(dict_keys(['AERIS', 'ESTAPAR', 'ARMAC', 'ATMASA', 'AZUL', 'BARDELLA', 'CCR SA', 'ECORODOVIAS', 'ACO ALTONA', 'EMBPAR S/A', 'EMBRAER', 'ETERNIT', 'FRAS-LE', 'GPS', 'HAGA S/A', 'HIDROVIAS', 'ROMI', 'JSL', 'KEPLER WEBER', 'LOG-IN', 'MARCOPOLO', 'METALFRIO', 'RIOSULENSE', 'METISA', 'MILLS', 'MINASMAQUINA', 'NORDON MET', 'PORTOBELLO', 'PORTO VM', 'PRINER', 'RANDON PART', 'RECRUSUL', 'RUMO S.A.', 'SANTOS BRP', 'SCHULZ', 'SEQUOIA LOG', 'SONDOTECNICA', 'TAURUS ARMAS', 'TEGMA', 'TRIUNFO PART', 'TREVISA', 'VALID', 'WEG', 'WETZEL S/A', 'WILSON SONS', 'WLM IND COM', 'BRISANET', 'BRITANIA', 'DESKTOP', 'TELEBRAS', 'TELEF BRASIL', 'UNIFIQUE', 'ALLIED', 'ALPARGATAS', 'AMERICANAS', 'ANIMA', 'AREZZO CO', 'BAHEMA', 'BAHIAPCH', 'BIC MONARK', 'ZAMP S.A.', 'CEA MODAS', 'CEABS', 'CAMBUCI', 'CEDRO', 'COTEMINAS', 'SANTANENSE', 'COGNA ON', 'TENDA', 'TENDA ATACAD', 'FICA', 'CRUZEIRO EDU', 'CURY S/A', 'CYRELA REALT', 'DIRECIONAL', 'DOHLER', 'DOTZ SA', 'EVEN', 'EZTEC', 'GRENDENE', 'GRUPO SOMA', 'GRUPO SBF', 'GUARARAPES', 'GUARUPART', 'HELBOR', 'HERCULES', 'HOTEIS OTHON', 'IMC S/A', 'IOCHP-MAXION', 'JHSF PART', 'JOAO FORTES', 'KARSTEN', 'LAVVI', 'LOCALIZA', 'QUERO-QUERO', 'LOJAS RENNER', 'MAGAZ LUIZA', 'METAL LEVE', 'ESTRELA', 'LOJAS MARISA', 'MELNICK', 'MITRE REALTY', 'MOBLY', 'MOURA DUBEUX', 'MOVIDA', 'ESPACOLASER', 'MRV', 'MUNDIAL', 'PDG REALT', 'PETZ', 'PETTENATI', 'PLANOEPLANO', 'PLASCAR PART', 'VESTE', 'RNI', 'ROSSI RESID', 'SPTURIS', 'SARAIVA LIVR', 'SER EDUCA', 'SMART FIT', 'SPRINGS', 'TIME FOR FUN', 'TECHNOS', 'TECNISA', 'TEKA', 'TEX RENAUX', 'TRACK FIELD', 'TRISUL', 'UNICASA', 'VAMOS', 'VIA', 'VIVARA S.A.', 'VIVER', 'VULCABRAS', 'WHIRLPOOL', 'YDUQS PART', 'AGROGALAXY', 'AMBEV S/A', 'CARREFOUR BR', 'BOA SAFRA', 'BOMBRIL', 'BRASILAGRO', 'BRF SA', 'CAMIL', 'EXCELSIOR', 'GRUPO MATEUS', 'JBS', 'JOSAPAR', 'MARFRIG', 'M.DIASBRANCO', 'MINERVA', 'MINUPAR', 'GRUPO NATURA', 'POMIFRUTAS', 'RAIZEN', 'SAO MARTINHO', 'ASSAI', 'SLC AGRICOLA', 'TERRASANTAPA', '3TENTOS', 'ALFA HOLDING', 'ALPER S.A.', 'APERAM', 'B3', 'BANCO BMG', 'BANESTES', 'BBSEGURIDADE', 'ALFA INVEST', 'AMAZONIA', 'BRADESCO', 'BTGP BANCO', 'BANESE', 'BANRISUL', 'MERC INVEST', 'MERCANTIL', 'NORD BRASIL', 'SANTANDER BR', 'BR PARTNERS', 'BR PROPERT', 'NEXPE', 'BRB BANCO', 'CAIXA SEGURI', 'PAR AL BAHIA', 'SEG AL BAHIA', 'CIELO', 'CLEARSALE', 'ALFA CONSORC', 'COR RIBEIRO', 'CORREDOR LOG', 'MERC FINANC', 'MERCANTII', 'MERCATO EXPR', 'MERCEDESBENZ', 'CSU DIGITAL', 'SYN PROP TEC', 'DMFINANCEIRA', 'ALFA FINANC', 'G2D INVEST', 'GENERALSHOPP', 'GP INVEST', 'HBR REALTY', 'INTER CO', 'IRBBRASIL RE', 'LOG COM PROP', 'LOPES BRASIL', 'MONT ARANHA', 'MULTIPLAN', 'MULTITERMINA', 'PORTO SEGURO', 'PPLA', 'SAO CARLOS', 'SIMPAR', 'WIZ CO', 'AURA 360', 'AURATUS', 'BRADESPAR', 'BRASKEM', 'FERBASA', 'MELHOR SP', 'SID NACIONAL', 'CBA', 'CSNMINERACAO', 'DEXCO', 'DEXXOS PAR', 'EUCATEX', 'FER HERINGER', 'GERDAU', 'IRANI', 'KLABIN S/A', 'MANGELS INDL', 'GERDAU MET', 'NUTRIPLANT', 'PANATLANTICA', 'PARANAPANEMA', 'SANSUY', 'SUZANO S.A.', 'TEKNO', 'CRISTAL', 'UNIPAR', 'USIMINAS', 'VITTIA', 'ATOMPAR', 'CEMEPE', 'INVEST BEMGE', 'POLPAR', '3R PETROLEUM', 'COSAN', 'ENAUTA PART', 'OCEANPACT', 'OSX BRASIL', 'PETRORIO', 'VIBRA', 'PET MANGUINH', 'ULTRAPAR', 'ALLIAR', 'BAUMER', 'BLAU', 'VIVEO', 'D1000VFARMA', 'DIMED', 'FLEURY', 'MATER DEI', 'HYPERA', 'KORA SAUDE', 'ODONTOPREV', 'ONCOCLINICAS', 'ONCOMED', 'OUROFINO S/A', 'PROFARMA', 'QUALICORP', 'QUALICORSEG', 'QUALITY SOFT', 'RAIADROGASIL', 'REDE D OR', 'BEMOBI TECH', 'ENJOEI', 'GETNINJAS', 'INFRACOMM', 'INTELBRAS', 'WDC NETWORKS', 'LOCAWEB', 'MELIUZ', 'MULTILASER', 'NEOGRID', 'PADTEC', 'POSITIVO TEC', 'SINQIA', 'TRADEMASTER', 'TRADIMAQ', 'TOTVS', 'WESTWING', 'AES BRASIL', 'AFLUENTE T', 'ALUPAR', 'AMBIPAR', 'AUREN', 'ELETROBRAS', 'EBRASIL', 'ELETROPAR', 'ELETROMIDIA', 'ELETROPAULO', 'ELETRORIVERS', 'ELETROZEMA', 'CELESC', 'CASAN', 'CELGPAR', 'CEG', 'CEB', 'CEMIG', 'COELCE', 'CEEE-D', 'COPEL', 'SABESP', 'SANEPAR', 'CPFL ENERGIA', 'ELEKTRO', 'EMAE', 'ENEVA', 'EQUATORIAL', 'EQTL PARA', 'LIGHT S/A', 'NEOENERGIA', 'OMEGAENERGIA', 'ORIZON', 'REDE ENERGIA', 'REDE INTEGRA', 'RENOVA', 'GER PARANAP']),\n",
       " dict_keys(['AERI3']))"
      ]
     },
     "execution_count": 227,
     "metadata": {},
     "output_type": "execute_result"
    }
   ],
   "source": [
    "quotes.keys(), quotes['AERIS'].keys()"
   ]
  },
  {
   "cell_type": "code",
   "execution_count": 228,
   "metadata": {},
   "outputs": [
    {
     "data": {
      "text/html": [
       "<div>\n",
       "<style scoped>\n",
       "    .dataframe tbody tr th:only-of-type {\n",
       "        vertical-align: middle;\n",
       "    }\n",
       "\n",
       "    .dataframe tbody tr th {\n",
       "        vertical-align: top;\n",
       "    }\n",
       "\n",
       "    .dataframe thead th {\n",
       "        text-align: right;\n",
       "    }\n",
       "</style>\n",
       "<table border=\"1\" class=\"dataframe\">\n",
       "  <thead>\n",
       "    <tr style=\"text-align: right;\">\n",
       "      <th></th>\n",
       "      <th>PREGAO</th>\n",
       "      <th>Open</th>\n",
       "      <th>High</th>\n",
       "      <th>Low</th>\n",
       "      <th>Close</th>\n",
       "      <th>Adj Close</th>\n",
       "      <th>Volume</th>\n",
       "      <th>TICKER</th>\n",
       "    </tr>\n",
       "    <tr>\n",
       "      <th>Date</th>\n",
       "      <th></th>\n",
       "      <th></th>\n",
       "      <th></th>\n",
       "      <th></th>\n",
       "      <th></th>\n",
       "      <th></th>\n",
       "      <th></th>\n",
       "      <th></th>\n",
       "    </tr>\n",
       "  </thead>\n",
       "  <tbody>\n",
       "    <tr>\n",
       "      <th>2020-11-12</th>\n",
       "      <td>AERIS</td>\n",
       "      <td>6.72</td>\n",
       "      <td>7.090000</td>\n",
       "      <td>6.050000</td>\n",
       "      <td>6.100000</td>\n",
       "      <td>6.078847</td>\n",
       "      <td>10719500.0</td>\n",
       "      <td>AERI3</td>\n",
       "    </tr>\n",
       "    <tr>\n",
       "      <th>2020-11-13</th>\n",
       "      <td>AERIS</td>\n",
       "      <td>6.09</td>\n",
       "      <td>6.480000</td>\n",
       "      <td>6.070000</td>\n",
       "      <td>6.420000</td>\n",
       "      <td>6.397738</td>\n",
       "      <td>2830900.0</td>\n",
       "      <td>AERI3</td>\n",
       "    </tr>\n",
       "    <tr>\n",
       "      <th>2020-11-16</th>\n",
       "      <td>AERIS</td>\n",
       "      <td>6.53</td>\n",
       "      <td>6.980000</td>\n",
       "      <td>6.530000</td>\n",
       "      <td>6.800000</td>\n",
       "      <td>6.77642</td>\n",
       "      <td>5568700.0</td>\n",
       "      <td>AERI3</td>\n",
       "    </tr>\n",
       "    <tr>\n",
       "      <th>2020-11-17</th>\n",
       "      <td>AERIS</td>\n",
       "      <td>6.90</td>\n",
       "      <td>7.050000</td>\n",
       "      <td>6.720000</td>\n",
       "      <td>6.730000</td>\n",
       "      <td>6.706663</td>\n",
       "      <td>3922900.0</td>\n",
       "      <td>AERI3</td>\n",
       "    </tr>\n",
       "    <tr>\n",
       "      <th>2020-11-18</th>\n",
       "      <td>AERIS</td>\n",
       "      <td>6.84</td>\n",
       "      <td>6.860000</td>\n",
       "      <td>6.540000</td>\n",
       "      <td>6.730000</td>\n",
       "      <td>6.706663</td>\n",
       "      <td>1352500.0</td>\n",
       "      <td>AERI3</td>\n",
       "    </tr>\n",
       "    <tr>\n",
       "      <th>...</th>\n",
       "      <td>...</td>\n",
       "      <td>...</td>\n",
       "      <td>...</td>\n",
       "      <td>...</td>\n",
       "      <td>...</td>\n",
       "      <td>...</td>\n",
       "      <td>...</td>\n",
       "      <td>...</td>\n",
       "    </tr>\n",
       "    <tr>\n",
       "      <th>2023-09-19</th>\n",
       "      <td>GER PARANAP</td>\n",
       "      <td>25.76</td>\n",
       "      <td>26.540001</td>\n",
       "      <td>25.370001</td>\n",
       "      <td>25.370001</td>\n",
       "      <td>25.370001</td>\n",
       "      <td>2500.0</td>\n",
       "      <td>GEPA4</td>\n",
       "    </tr>\n",
       "    <tr>\n",
       "      <th>2023-09-20</th>\n",
       "      <td>GER PARANAP</td>\n",
       "      <td>25.50</td>\n",
       "      <td>25.500000</td>\n",
       "      <td>25.370001</td>\n",
       "      <td>25.370001</td>\n",
       "      <td>25.370001</td>\n",
       "      <td>1100.0</td>\n",
       "      <td>GEPA4</td>\n",
       "    </tr>\n",
       "    <tr>\n",
       "      <th>2023-09-21</th>\n",
       "      <td>GER PARANAP</td>\n",
       "      <td>25.35</td>\n",
       "      <td>25.350000</td>\n",
       "      <td>25.010000</td>\n",
       "      <td>25.010000</td>\n",
       "      <td>25.01</td>\n",
       "      <td>600.0</td>\n",
       "      <td>GEPA4</td>\n",
       "    </tr>\n",
       "    <tr>\n",
       "      <th>2023-09-22</th>\n",
       "      <td>GER PARANAP</td>\n",
       "      <td>25.25</td>\n",
       "      <td>25.250000</td>\n",
       "      <td>25.250000</td>\n",
       "      <td>25.250000</td>\n",
       "      <td>25.25</td>\n",
       "      <td>100.0</td>\n",
       "      <td>GEPA4</td>\n",
       "    </tr>\n",
       "    <tr>\n",
       "      <th>2023-09-25</th>\n",
       "      <td>GER PARANAP</td>\n",
       "      <td>25.40</td>\n",
       "      <td>25.400000</td>\n",
       "      <td>25.400000</td>\n",
       "      <td>25.400000</td>\n",
       "      <td>25.4</td>\n",
       "      <td>100.0</td>\n",
       "      <td>GEPA4</td>\n",
       "    </tr>\n",
       "  </tbody>\n",
       "</table>\n",
       "<p>1766549 rows × 8 columns</p>\n",
       "</div>"
      ],
      "text/plain": [
       "                 PREGAO   Open       High        Low      Close  Adj Close  \\\n",
       "Date                                                                         \n",
       "2020-11-12        AERIS   6.72   7.090000   6.050000   6.100000   6.078847   \n",
       "2020-11-13        AERIS   6.09   6.480000   6.070000   6.420000   6.397738   \n",
       "2020-11-16        AERIS   6.53   6.980000   6.530000   6.800000    6.77642   \n",
       "2020-11-17        AERIS   6.90   7.050000   6.720000   6.730000   6.706663   \n",
       "2020-11-18        AERIS   6.84   6.860000   6.540000   6.730000   6.706663   \n",
       "...                 ...    ...        ...        ...        ...        ...   \n",
       "2023-09-19  GER PARANAP  25.76  26.540001  25.370001  25.370001  25.370001   \n",
       "2023-09-20  GER PARANAP  25.50  25.500000  25.370001  25.370001  25.370001   \n",
       "2023-09-21  GER PARANAP  25.35  25.350000  25.010000  25.010000      25.01   \n",
       "2023-09-22  GER PARANAP  25.25  25.250000  25.250000  25.250000      25.25   \n",
       "2023-09-25  GER PARANAP  25.40  25.400000  25.400000  25.400000       25.4   \n",
       "\n",
       "                Volume TICKER  \n",
       "Date                           \n",
       "2020-11-12  10719500.0  AERI3  \n",
       "2020-11-13   2830900.0  AERI3  \n",
       "2020-11-16   5568700.0  AERI3  \n",
       "2020-11-17   3922900.0  AERI3  \n",
       "2020-11-18   1352500.0  AERI3  \n",
       "...                ...    ...  \n",
       "2023-09-19      2500.0  GEPA4  \n",
       "2023-09-20      1100.0  GEPA4  \n",
       "2023-09-21       600.0  GEPA4  \n",
       "2023-09-22       100.0  GEPA4  \n",
       "2023-09-25       100.0  GEPA4  \n",
       "\n",
       "[1766549 rows x 8 columns]"
      ]
     },
     "execution_count": 228,
     "metadata": {},
     "output_type": "execute_result"
    }
   ],
   "source": [
    "bigdata = []\n",
    "for pregao, d in quotes.items():\n",
    "    for ticker, df in d.items():\n",
    "        try:\n",
    "            df.insert(0, 'PREGAO', pregao)\n",
    "        except Exception as e:\n",
    "            df['PREGAO'] = pregao  # Update 'PREGAO' column\n",
    "        \n",
    "        try:\n",
    "            df['TICKER'] = ticker  # Update 'TICKER' column\n",
    "        except Exception as e:\n",
    "            df.insert(1, 'TICKER', ticker)\n",
    "\n",
    "        bigdata.append(df)\n",
    "bigdata = pd.concat(bigdata, ignore_index=False)\n",
    "bigdata\n"
   ]
  },
  {
   "cell_type": "code",
   "execution_count": 229,
   "metadata": {},
   "outputs": [
    {
     "data": {
      "text/plain": [
       "dict_keys(['BENS INDUSTRIAIS', 'COMUNICACOES', 'CONSUMO CICLICO', 'CONSUMO NAO CICLICO', 'FINANCEIRO', 'MATERIAIS BASICOS', 'NAO CLASSIFICADOS', 'Nenhum', 'OUTROS', 'PETROLEO GAS E BIOCOMBUSTIVEIS', 'SAUDE', 'TECNOLOGIA DA INFORMACAO', 'UTILIDADE PUBLICA'])"
      ]
     },
     "execution_count": 229,
     "metadata": {},
     "output_type": "execute_result"
    }
   ],
   "source": [
    "fund.keys()\n"
   ]
  },
  {
   "cell_type": "code",
   "execution_count": 230,
   "metadata": {},
   "outputs": [],
   "source": [
    "# Load data subset\n",
    "df_fund = fund['BENS INDUSTRIAIS']\n",
    "\n",
    "# Data preprocessing\n",
    "# Convert specific columns to object type\n",
    "df_fund[['VERSAO', 'CD_CVM']] = df_fund[['VERSAO', 'CD_CVM']].astype('object')\n",
    "\n",
    "# Convert 'DT_REFER' to datetime format\n",
    "df_fund['DT_REFER'] = pd.to_datetime(df_fund['DT_REFER'])\n",
    "\n",
    "# Pivot for CD_CONTA\n",
    "df_cd_conta = df_fund.pivot_table(index=['DT_REFER', 'PREGAO'], \n",
    "                                  columns=['CD_CONTA', 'DS_CONTA'], \n",
    "                                  values='VL_CONTA', \n",
    "                                  aggfunc='sum').reset_index()\n",
    "\n",
    "# Flatten the multi-level columns after pivot\n",
    "df_cd_conta.columns = [' - '.join(col).strip(' - ') for col in df_cd_conta.columns.values]\n",
    "\n",
    "# Extract unique combinations of DT_REFER and PREGAO without the account details and get an unique mapping between the dates, PREGAO, and the pivoted account data.\n",
    "df_unique = df_fund.reset_index(drop=True).drop_duplicates(subset=['DT_REFER', 'PREGAO']).drop(['CD_CONTA', 'DS_CONTA', 'VL_CONTA'], axis=1)\n",
    "df_merged = pd.merge(df_unique, df_cd_conta, on=['DT_REFER', 'PREGAO'])\n",
    "\n",
    "# Set index and handle missing values\n",
    "df_merged = df_merged.set_index(['DT_REFER', 'PREGAO'], drop=True)\n",
    "\n",
    "# Group by 'PREGAO' and apply resampling\n",
    "df_resampled = (\n",
    "    df_merged\n",
    "    .reset_index()\n",
    "    .groupby('PREGAO')\n",
    "    .apply(lambda group: group.set_index('DT_REFER').resample('D').asfreq().ffill().bfill().fillna(0))\n",
    "    .drop('PREGAO', axis=1)  # Drop the redundant 'PREGAO' column introduced by `groupby`\n",
    ")"
   ]
  },
  {
   "cell_type": "code",
   "execution_count": 231,
   "metadata": {},
   "outputs": [],
   "source": [
    "bigdata = bigdata.reset_index()\n",
    "bigdata['Date'] = pd.to_datetime(bigdata['Date'])\n",
    "df_resampled = df_resampled.reset_index()\n",
    "df_resampled['DT_REFER'] = pd.to_datetime(df_resampled['DT_REFER'])\n"
   ]
  },
  {
   "cell_type": "code",
   "execution_count": 402,
   "metadata": {},
   "outputs": [],
   "source": [
    "# Step 1: Get unique PREGAO values from df_resampled\n",
    "unique_pregao = df_resampled['PREGAO'].unique()\n",
    "\n",
    "# Step 2: Filter bigdata\n",
    "filtered_bigdata = bigdata[bigdata['PREGAO'].isin(unique_pregao)]\n",
    "\n",
    "df_merged = pd.merge(filtered_bigdata, df_resampled, left_on=['Date', 'PREGAO'], right_on=['DT_REFER', 'PREGAO'], how='outer')\n",
    "\n",
    "# Sort the dataframe by 'PREGAO' and 'Date'\n",
    "df_merged = df_merged.sort_values(by=['PREGAO', 'Date'])\n",
    "\n",
    "# Group by 'PREGAO', then apply the fill methods within each group\n",
    "df_merged = df_merged.groupby('PREGAO', group_keys=False).apply(lambda group: group.ffill().bfill()).reset_index(drop=True)\n",
    "\n",
    "# Fill any remaining NaN values in the entire dataframe (outside of groups)\n",
    "df_merged = df_merged.fillna(0).set_index('Date', drop=True)\n"
   ]
  },
  {
   "cell_type": "code",
   "execution_count": 403,
   "metadata": {},
   "outputs": [],
   "source": [
    "def generate_figs(df, col, window):\n",
    "    figs = {}\n",
    "    if df[col].sum() != 0:\n",
    "\n",
    "        year_average = df[col].rolling(window=365).mean()\n",
    "\n",
    "        # Calculate rolling mean and standard deviation\n",
    "        rolling_mean = df[col].rolling(window=window).mean()\n",
    "        rolling_std = df[col].rolling(window=window).std()\n",
    "\n",
    "        # Create a single line plot\n",
    "        title = f'A - Linha do Tempo'\n",
    "        fig_line = px.line(df, x=df.index, y=col, title=f'{company} - {col} - {title}',\n",
    "                            labels={'value': 'Valor (R$)', 'variable': f'{title}'})\n",
    "        fig_line.add_scatter(x=df.index, y=year_average, mode='lines', line=dict(color='blue'), name='Média Anual')\n",
    "        figs[title] = fig_line\n",
    "        # fig_line.show()\n",
    "\n",
    "        # Create a moving average plot with ±2 standard deviations\n",
    "        title = f'B - Média Móvel e ±2 Desvios Padrão'\n",
    "        fig_mma_std = px.area(df, x=df.index, y=col, title=f'{company} - {col} - {title}',\n",
    "                            labels={'value': 'Valor (R$)', 'variable': f'{title}'})\n",
    "        fig_mma_std.add_scatter(x=df.index, y=year_average, mode='lines', line=dict(color='blue'), name='Média Anual')\n",
    "        fig_mma_std.add_scatter(x=df.index, y=rolling_mean, mode='lines', line=dict(color='green'), name='Média Móvel')\n",
    "        fig_mma_std.add_scatter(x=df.index, y=rolling_mean + 2 * rolling_std, mode='lines', line=dict(color='green', dash='dash'), name='Média Móvel + 2 Desvios Padrão')\n",
    "        fig_mma_std.add_scatter(x=df.index, y=rolling_mean - 2 * rolling_std, mode='lines', line=dict(color='green', dash='dash'), name='Média Móvel - 2 Desvios Padrão')\n",
    "        figs[title] = fig_mma_std\n",
    "        # fig_mma_std.show()\n",
    "\n",
    "    sub_cols = [c for c in df.columns if c.startswith(col.split(' - ')[0] + '.') and c.count('.') == col.count('.') + 1]\n",
    "    if sub_cols:\n",
    "        # Create a multi line plot\n",
    "        title =  f'C - Distribuição Individual'\n",
    "        fig_multiline = px.line(df, x=df.index, y=sub_cols, title=f'{company} - {col} - {title}',\n",
    "                            labels={'value': 'Valor (R$)', 'variable': f'{title}'})\n",
    "        figs[title] = fig_multiline\n",
    "        # fig_area.show()\n",
    "\n",
    "        # Create a cumulative distribution plot\n",
    "        title =  f'D - Distribuição Acumulada'\n",
    "        fig_area = px.area(df, x=df.index, y=sub_cols, title=f'{company} - {col} - {title}',\n",
    "                            labels={'value': 'Valor (R$)', 'variable': f'{title}'})\n",
    "        figs[title] = fig_area\n",
    "        # fig_area.show()\n",
    "\n",
    "        # Create a proportional distribution plot\n",
    "        title = f'E - Distribuição Proporcional'\n",
    "        fig_area_100_stacked = px.area(df, x=df.index, y=sub_cols, title=f'{company} - {col} - {title}',\n",
    "                            labels={'value': 'Porcentagem (%)', 'variable': f'{title}'},\n",
    "                            groupnorm='percent')\n",
    "        figs[title] = fig_area_100_stacked\n",
    "        # fig_area_100_stacked.show()\n",
    "\n",
    "    return figs\n"
   ]
  },
  {
   "cell_type": "code",
   "execution_count": 409,
   "metadata": {},
   "outputs": [],
   "source": [
    "companies = df_merged['PREGAO'].unique()\n",
    "all_figs = {}\n",
    "\n",
    "start_time_c = run.time.time()\n",
    "for i, company in enumerate(companies):\n",
    "    df = df_merged[df_merged['PREGAO'] == company]\n",
    "    \n",
    "    df_cols = df_merged.columns.tolist()\n",
    "    # Display the structure of the balance sheet from the numbered columns\n",
    "    structure = {\n",
    "        \"01\": [col for col in df_cols if col.startswith('01')], \n",
    "        \"02\": [col for col in df_cols if col.startswith('02')], \n",
    "        \"03\": [col for col in df_cols if col.startswith('03')], \n",
    "        \"04\": [col for col in df_cols if col.startswith('04')], \n",
    "        \"05\": [col for col in df_cols if col.startswith('05')], \n",
    "        \"06\": [col for col in df_cols if col.startswith('06')], \n",
    "        \"07\": [col for col in df_cols if col.startswith('07')], \n",
    "        \"Other\": [col for col in df_cols if not col[0].isdigit()], \n",
    "        \"OHLC\": ['Open', 'High', 'Low', 'Close', 'Adj Close', 'Volume', ], \n",
    "    }\n",
    "\n",
    "\n",
    "    company_dir = f\"./company/{company}\"\n",
    "    window = 365 * 5\n",
    "    all_figs[company] = {}\n",
    "\n",
    "    start_time = run.time.time()\n",
    "    sheets = ['01', '02', '03', '04', '05', '06', '07']\n",
    "    sheets = ['01', '02', '03', '04', '05', '06', '07']\n",
    "    cols = [col for sheet in sheets for col in structure[sheet]]\n",
    "\n",
    "    for c, col in enumerate(cols):\n",
    "        all_figs[company][col] = generate_figs(df, col, window)\n",
    "        print(company, col, run.remaining_time(start_time, len(cols), c))\n",
    "        # break\n",
    "\n",
    "    print(company, len(df), run.remaining_time(start_time_c, len(companies), i))\n"
   ]
  },
  {
   "cell_type": "code",
   "execution_count": 408,
   "metadata": {},
   "outputs": [
    {
     "name": "stdout",
     "output_type": "stream",
     "text": [
      "ACO ALTONA 01 - Ativo Total 100.00% 1+0, 9.912916s per item, Remaining: 0h 00m 00s\n",
      "\n",
      "ACO ALTONA 1.37% 1+72, 9.913909s per item, Remaining: 0h 11m 53s\n",
      "AERIS 01 - Ativo Total 100.00% 1+0, 2.268280s per item, Remaining: 0h 00m 00s\n",
      "\n",
      "AERIS 2.74% 2+71, 6.091094s per item, Remaining: 0h 07m 12s\n",
      "ALL NORTE 01 - Ativo Total 100.00% 1+0, 3.524938s per item, Remaining: 0h 00m 00s\n",
      "\n",
      "ALL NORTE 4.11% 3+70, 5.236057s per item, Remaining: 0h 06m 06s\n",
      "ALL PAULISTA 01 - Ativo Total 100.00% 1+0, 3.211588s per item, Remaining: 0h 00m 00s\n",
      "\n",
      "ALL PAULISTA 5.48% 4+69, 4.729940s per item, Remaining: 0h 05m 26s\n",
      "ARMAC 01 - Ativo Total 100.00% 1+0, 2.637851s per item, Remaining: 0h 00m 00s\n",
      "\n",
      "ARMAC 6.85% 5+68, 4.311522s per item, Remaining: 0h 04m 53s\n",
      "ARTERIS 01 - Ativo Total 100.00% 1+0, 4.320382s per item, Remaining: 0h 00m 00s\n",
      "\n",
      "ARTERIS 8.22% 6+67, 4.313157s per item, Remaining: 0h 04m 48s\n",
      "ATMASA 01 - Ativo Total 100.00% 1+0, 7.192352s per item, Remaining: 0h 00m 00s\n",
      "\n",
      "ATMASA 9.59% 7+66, 4.724470s per item, Remaining: 0h 05m 11s\n",
      "AUTOBAN 01 - Ativo Total 100.00% 1+0, 3.861784s per item, Remaining: 0h 00m 00s\n",
      "\n",
      "AUTOBAN 10.96% 8+65, 4.616760s per item, Remaining: 0h 05m 00s\n",
      "AZEVEDO 01 - Ativo Total 100.00% 1+0, 3.556297s per item, Remaining: 0h 00m 00s\n",
      "\n",
      "AZEVEDO 12.33% 9+64, 4.498931s per item, Remaining: 0h 04m 47s\n",
      "AZUL 01 - Ativo Total 100.00% 1+0, 3.189211s per item, Remaining: 0h 00m 00s\n",
      "\n",
      "AZUL 13.70% 10+63, 4.368059s per item, Remaining: 0h 04m 35s\n",
      "BARDELLA 01 - Ativo Total 100.00% 1+0, 10.100448s per item, Remaining: 0h 00m 00s\n",
      "\n",
      "BARDELLA 15.07% 11+62, 4.889185s per item, Remaining: 0h 05m 03s\n",
      "BBMLOGISTICA 01 - Ativo Total 100.00% 1+0, 2.230417s per item, Remaining: 0h 00m 00s\n",
      "\n",
      "BBMLOGISTICA 16.44% 12+61, 4.667705s per item, Remaining: 0h 04m 44s\n",
      "CCR SA 01 - Ativo Total 100.00% 1+0, 6.878592s per item, Remaining: 0h 00m 00s\n",
      "\n",
      "CCR SA 17.81% 13+60, 4.837773s per item, Remaining: 0h 04m 50s\n",
      "CONC RAPOSO 01 - Ativo Total 100.00% 1+0, 3.521488s per item, Remaining: 0h 00m 00s\n",
      "\n",
      "CONC RAPOSO 19.18% 14+59, 4.743824s per item, Remaining: 0h 04m 39s\n",
      "CONC RIO TER 01 - Ativo Total 100.00% 1+0, 3.599947s per item, Remaining: 0h 00m 00s\n",
      "\n",
      "CONC RIO TER 20.55% 15+58, 4.667632s per item, Remaining: 0h 04m 30s\n",
      "DTCOM-DIRECT 01 - Ativo Total 100.00% 1+0, 3.624615s per item, Remaining: 0h 00m 00s\n",
      "\n",
      "DTCOM-DIRECT 21.92% 16+57, 4.602444s per item, Remaining: 0h 04m 22s\n",
      "ECON 01 - Ativo Total 100.00% 1+0, 3.434956s per item, Remaining: 0h 00m 00s\n",
      "\n",
      "ECON 23.29% 17+56, 4.533768s per item, Remaining: 0h 04m 13s\n",
      "ECOPISTAS 01 - Ativo Total 100.00% 1+0, 3.456768s per item, Remaining: 0h 00m 00s\n",
      "\n",
      "ECOPISTAS 24.66% 18+55, 4.474049s per item, Remaining: 0h 04m 06s\n",
      "ECORODOVIAS 01 - Ativo Total 100.00% 1+0, 4.973371s per item, Remaining: 0h 00m 00s\n",
      "\n",
      "ECORODOVIAS 26.03% 19+54, 4.500382s per item, Remaining: 0h 04m 03s\n",
      "ECOVIAS 01 - Ativo Total 100.00% 1+0, 3.651959s per item, Remaining: 0h 00m 00s\n",
      "\n",
      "ECOVIAS 27.40% 20+53, 4.457961s per item, Remaining: 0h 03m 56s\n",
      "[Errno 2] No such file or directory: 'company\\\\EMBPAR S\\\\A\\\\EMBPAR S\\\\A - 01 - Ativo Total - A - Linha do Tempo.png'\n",
      "[Errno 2] No such file or directory: 'company\\\\EMBPAR S\\\\A\\\\EMBPAR S\\\\A - 01 - Ativo Total - B - Média Móvel e ±2 Desvios Padrão.png'\n",
      "[Errno 2] No such file or directory: 'company\\\\EMBPAR S\\\\A\\\\EMBPAR S\\\\A - 01 - Ativo Total - C - Distribuição Individual.png'\n",
      "[Errno 2] No such file or directory: 'company\\\\EMBPAR S\\\\A\\\\EMBPAR S\\\\A - 01 - Ativo Total - D - Distribuição Acumulada.png'\n",
      "[Errno 2] No such file or directory: 'company\\\\EMBPAR S\\\\A\\\\EMBPAR S\\\\A - 01 - Ativo Total - E - Distribuição Proporcional.png'\n",
      "EMBPAR S/A 01 - Ativo Total 100.00% 1+0, 6.277815s per item, Remaining: 0h 00m 00s\n",
      "\n",
      "EMBPAR S/A 28.77% 21+52, 4.544670s per item, Remaining: 0h 03m 56s\n",
      "EMBRAER 01 - Ativo Total 100.00% 1+0, 6.867710s per item, Remaining: 0h 00m 00s\n",
      "\n",
      "EMBRAER 30.14% 22+51, 4.650309s per item, Remaining: 0h 03m 57s\n",
      "ESTAPAR 01 - Ativo Total 100.00% 1+0, 2.288741s per item, Remaining: 0h 00m 00s\n",
      "\n",
      "ESTAPAR 31.51% 23+50, 4.547674s per item, Remaining: 0h 03m 47s\n",
      "ETERNIT 01 - Ativo Total 100.00% 1+0, 7.408341s per item, Remaining: 0h 00m 00s\n",
      "\n",
      "ETERNIT 32.88% 24+49, 4.666911s per item, Remaining: 0h 03m 48s\n",
      "FER C ATLANT 01 - Ativo Total 100.00% 1+0, 3.300456s per item, Remaining: 0h 00m 00s\n",
      "\n",
      "FER C ATLANT 34.25% 25+48, 4.612330s per item, Remaining: 0h 03m 41s\n",
      "[Errno 2] No such file or directory: 'company\\\\FLEX S\\\\A\\\\FLEX S\\\\A - 01 - Ativo Total - A - Linha do Tempo.png'\n",
      "[Errno 2] No such file or directory: 'company\\\\FLEX S\\\\A\\\\FLEX S\\\\A - 01 - Ativo Total - B - Média Móvel e ±2 Desvios Padrão.png'\n",
      "[Errno 2] No such file or directory: 'company\\\\FLEX S\\\\A\\\\FLEX S\\\\A - 01 - Ativo Total - C - Distribuição Individual.png'\n",
      "[Errno 2] No such file or directory: 'company\\\\FLEX S\\\\A\\\\FLEX S\\\\A - 01 - Ativo Total - D - Distribuição Acumulada.png'\n",
      "[Errno 2] No such file or directory: 'company\\\\FLEX S\\\\A\\\\FLEX S\\\\A - 01 - Ativo Total - E - Distribuição Proporcional.png'\n",
      "FLEX S/A 01 - Ativo Total 100.00% 1+0, 2.223902s per item, Remaining: 0h 00m 00s\n",
      "\n",
      "FLEX S/A 35.62% 26+47, 4.520506s per item, Remaining: 0h 03m 32s\n",
      "FRAS-LE 01 - Ativo Total 100.00% 1+0, 5.541310s per item, Remaining: 0h 00m 00s\n",
      "\n",
      "FRAS-LE 36.99% 27+46, 4.558314s per item, Remaining: 0h 03m 29s\n",
      "GOL 01 - Ativo Total 100.00% 1+0, 3.282030s per item, Remaining: 0h 00m 00s\n",
      "\n",
      "GOL 38.36% 28+45, 4.512768s per item, Remaining: 0h 03m 23s\n",
      "GPS 01 - Ativo Total 100.00% 1+0, 1.460185s per item, Remaining: 0h 00m 00s\n",
      "\n",
      "GPS 39.73% 29+44, 4.407542s per item, Remaining: 0h 03m 13s\n",
      "GRUAIRPORT 01 - Ativo Total 100.00% 1+0, 2.855369s per item, Remaining: 0h 00m 00s\n",
      "\n",
      "GRUAIRPORT 41.10% 30+43, 4.355802s per item, Remaining: 0h 03m 07s\n",
      "[Errno 2] No such file or directory: 'company\\\\HAGA S\\\\A\\\\HAGA S\\\\A - 01 - Ativo Total - A - Linha do Tempo.png'\n",
      "[Errno 2] No such file or directory: 'company\\\\HAGA S\\\\A\\\\HAGA S\\\\A - 01 - Ativo Total - B - Média Móvel e ±2 Desvios Padrão.png'\n",
      "[Errno 2] No such file or directory: 'company\\\\HAGA S\\\\A\\\\HAGA S\\\\A - 01 - Ativo Total - C - Distribuição Individual.png'\n",
      "[Errno 2] No such file or directory: 'company\\\\HAGA S\\\\A\\\\HAGA S\\\\A - 01 - Ativo Total - D - Distribuição Acumulada.png'\n",
      "[Errno 2] No such file or directory: 'company\\\\HAGA S\\\\A\\\\HAGA S\\\\A - 01 - Ativo Total - E - Distribuição Proporcional.png'\n",
      "HAGA S/A 01 - Ativo Total 100.00% 1+0, 10.426760s per item, Remaining: 0h 00m 00s\n",
      "\n",
      "HAGA S/A 42.47% 31+42, 4.551672s per item, Remaining: 0h 03m 11s\n",
      "HIDROVIAS 01 - Ativo Total 100.00% 1+0, 4.592196s per item, Remaining: 0h 00m 00s\n",
      "\n",
      "HIDROVIAS 43.84% 32+41, 4.552970s per item, Remaining: 0h 03m 06s\n",
      "HMOBI S.A 01 - Ativo Total 100.00% 1+0, 1.361059s per item, Remaining: 0h 00m 00s\n",
      "\n",
      "HMOBI S.A 45.21% 33+40, 4.456306s per item, Remaining: 0h 02m 58s\n",
      "INEPAR 01 - Ativo Total 100.00% 1+0, 3.940032s per item, Remaining: 0h 00m 00s\n",
      "\n",
      "INEPAR 46.58% 34+39, 4.441151s per item, Remaining: 0h 02m 53s\n",
      "INVEPAR 01 - Ativo Total 100.00% 1+0, 3.720610s per item, Remaining: 0h 00m 00s\n",
      "\n",
      "INVEPAR 47.95% 35+38, 4.420564s per item, Remaining: 0h 02m 47s\n",
      "JSL 01 - Ativo Total 100.00% 1+0, 5.201001s per item, Remaining: 0h 00m 00s\n",
      "\n",
      "JSL 49.32% 36+37, 4.442243s per item, Remaining: 0h 02m 44s\n",
      "KEPLER WEBER 01 - Ativo Total 100.00% 1+0, 6.632683s per item, Remaining: 0h 00m 00s\n",
      "\n",
      "KEPLER WEBER 50.68% 37+36, 4.501462s per item, Remaining: 0h 02m 42s\n",
      "LOG-IN 01 - Ativo Total 100.00% 1+0, 5.273845s per item, Remaining: 0h 00m 00s\n",
      "\n",
      "LOG-IN 52.05% 38+35, 4.521788s per item, Remaining: 0h 02m 38s\n",
      "MARCOPOLO 01 - Ativo Total 100.00% 1+0, 10.763723s per item, Remaining: 0h 00m 00s\n",
      "\n",
      "MARCOPOLO 53.42% 39+34, 4.681863s per item, Remaining: 0h 02m 39s\n",
      "METALFRIO 01 - Ativo Total 100.00% 1+0, 5.377879s per item, Remaining: 0h 00m 00s\n",
      "\n",
      "METALFRIO 54.79% 40+33, 4.699289s per item, Remaining: 0h 02m 35s\n",
      "METISA 01 - Ativo Total 100.00% 1+0, 7.663260s per item, Remaining: 0h 00m 00s\n",
      "\n",
      "METISA 56.16% 41+32, 4.771605s per item, Remaining: 0h 02m 32s\n",
      "METRO-SP 01 - Ativo Total 100.00% 1+0, 1.041239s per item, Remaining: 0h 00m 00s\n",
      "\n",
      "METRO-SP 57.53% 42+31, 4.682835s per item, Remaining: 0h 02m 25s\n",
      "MILLS 01 - Ativo Total 100.00% 1+0, 5.086396s per item, Remaining: 0h 00m 00s\n",
      "\n",
      "MILLS 58.90% 43+30, 4.692220s per item, Remaining: 0h 02m 20s\n",
      "MINASMAQUINA 01 - Ativo Total 100.00% 1+0, 10.155532s per item, Remaining: 0h 00m 00s\n",
      "\n",
      "MINASMAQUINA 60.27% 44+29, 4.816409s per item, Remaining: 0h 02m 19s\n",
      "MRS LOGIST 01 - Ativo Total 100.00% 1+0, 3.547102s per item, Remaining: 0h 00m 00s\n",
      "\n",
      "MRS LOGIST 61.64% 45+28, 4.788224s per item, Remaining: 0h 02m 14s\n",
      "NORDON MET 01 - Ativo Total 100.00% 1+0, 7.872281s per item, Remaining: 0h 00m 00s\n",
      "\n",
      "NORDON MET 63.01% 46+27, 4.855291s per item, Remaining: 0h 02m 11s\n",
      "PORTO VM 01 - Ativo Total 100.00% 1+0, 4.153119s per item, Remaining: 0h 00m 00s\n",
      "\n",
      "PORTO VM 64.38% 47+26, 4.840372s per item, Remaining: 0h 02m 05s\n",
      "PORTOBELLO 01 - Ativo Total 100.00% 1+0, 6.819422s per item, Remaining: 0h 00m 00s\n",
      "\n",
      "PORTOBELLO 65.75% 48+25, 4.881622s per item, Remaining: 0h 02m 02s\n",
      "PRATICA 01 - Ativo Total 100.00% 1+0, 2.254742s per item, Remaining: 0h 00m 00s\n",
      "\n",
      "PRATICA 67.12% 49+24, 4.828033s per item, Remaining: 0h 01m 55s\n",
      "PRINER 01 - Ativo Total 100.00% 1+0, 3.472012s per item, Remaining: 0h 00m 00s\n",
      "\n",
      "PRINER 68.49% 50+23, 4.800933s per item, Remaining: 0h 01m 50s\n",
      "RANDON PART 01 - Ativo Total 100.00% 1+0, 10.970510s per item, Remaining: 0h 00m 00s\n",
      "\n",
      "RANDON PART 69.86% 51+22, 4.921925s per item, Remaining: 0h 01m 48s\n",
      "RECRUSUL 01 - Ativo Total 100.00% 1+0, 11.798133s per item, Remaining: 0h 00m 00s\n",
      "\n",
      "RECRUSUL 71.23% 52+21, 5.054160s per item, Remaining: 0h 01m 46s\n",
      "RIOSULENSE 01 - Ativo Total 100.00% 1+0, 10.189713s per item, Remaining: 0h 00m 00s\n",
      "\n",
      "RIOSULENSE 72.60% 53+20, 5.151076s per item, Remaining: 0h 01m 43s\n",
      "ROD COLINAS 01 - Ativo Total 100.00% 1+0, 2.955657s per item, Remaining: 0h 00m 00s\n",
      "\n",
      "ROD COLINAS 73.97% 54+19, 5.110439s per item, Remaining: 0h 01m 37s\n",
      "ROD TIETE 01 - Ativo Total 100.00% 1+0, 3.303710s per item, Remaining: 0h 00m 00s\n",
      "\n",
      "ROD TIETE 75.34% 55+18, 5.077589s per item, Remaining: 0h 01m 31s\n",
      "ROMI 01 - Ativo Total 100.00% 1+0, 7.337011s per item, Remaining: 0h 00m 00s\n",
      "\n",
      "ROMI 76.71% 56+17, 5.117954s per item, Remaining: 0h 01m 27s\n",
      "RT BANDEIRAS 01 - Ativo Total 100.00% 1+0, 3.259252s per item, Remaining: 0h 00m 00s\n",
      "\n",
      "RT BANDEIRAS 78.08% 57+16, 5.085363s per item, Remaining: 0h 01m 21s\n",
      "RUMO S.A. 01 - Ativo Total 100.00% 1+0, 4.690481s per item, Remaining: 0h 00m 00s\n",
      "\n",
      "RUMO S.A. 79.45% 58+15, 5.078589s per item, Remaining: 0h 01m 16s\n",
      "SALUS INFRA 01 - Ativo Total 100.00% 1+0, 2.734456s per item, Remaining: 0h 00m 00s\n",
      "\n",
      "SALUS INFRA 80.82% 59+14, 5.038875s per item, Remaining: 0h 01m 10s\n",
      "SANTOS BRP 01 - Ativo Total 100.00% 1+0, 4.966944s per item, Remaining: 0h 00m 00s\n",
      "\n",
      "SANTOS BRP 82.19% 60+13, 5.037691s per item, Remaining: 0h 01m 05s\n",
      "SCHULZ 01 - Ativo Total 100.00% 1+0, 8.376993s per item, Remaining: 0h 00m 00s\n",
      "\n",
      "SCHULZ 83.56% 61+12, 5.092434s per item, Remaining: 0h 01m 01s\n",
      "SEQUOIA LOG 01 - Ativo Total 100.00% 1+0, 2.324406s per item, Remaining: 0h 00m 00s\n",
      "\n",
      "SEQUOIA LOG 84.93% 62+11, 5.047804s per item, Remaining: 0h 00m 55s\n",
      "SONDOTECNICA 01 - Ativo Total 100.00% 1+0, 14.567715s per item, Remaining: 0h 00m 00s\n",
      "\n",
      "SONDOTECNICA 86.30% 63+10, 5.198930s per item, Remaining: 0h 00m 51s\n",
      "TAURUS ARMAS 01 - Ativo Total 100.00% 1+0, 11.517063s per item, Remaining: 0h 00m 00s\n",
      "\n",
      "TAURUS ARMAS 87.67% 64+9, 5.297667s per item, Remaining: 0h 00m 47s\n",
      "TEGMA 01 - Ativo Total 100.00% 1+0, 5.229366s per item, Remaining: 0h 00m 00s\n",
      "\n",
      "TEGMA 89.04% 65+8, 5.296631s per item, Remaining: 0h 00m 42s\n",
      "TREVISA 01 - Ativo Total 100.00% 1+0, 8.885103s per item, Remaining: 0h 00m 00s\n",
      "\n",
      "TREVISA 90.41% 66+7, 5.351017s per item, Remaining: 0h 00m 37s\n",
      "TRIUNFO PART 01 - Ativo Total 100.00% 1+0, 5.492089s per item, Remaining: 0h 00m 00s\n",
      "\n",
      "TRIUNFO PART 91.78% 67+6, 5.353149s per item, Remaining: 0h 00m 32s\n",
      "VALID 01 - Ativo Total 100.00% 1+0, 6.107495s per item, Remaining: 0h 00m 00s\n",
      "\n",
      "VALID 93.15% 68+5, 5.364257s per item, Remaining: 0h 00m 26s\n",
      "VIAOESTE 01 - Ativo Total 100.00% 1+0, 3.526904s per item, Remaining: 0h 00m 00s\n",
      "\n",
      "VIAOESTE 94.52% 69+4, 5.337628s per item, Remaining: 0h 00m 21s\n",
      "WEG 01 - Ativo Total 100.00% 1+0, 7.036516s per item, Remaining: 0h 00m 00s\n",
      "\n",
      "WEG 95.89% 70+3, 5.361927s per item, Remaining: 0h 00m 16s\n",
      "[Errno 2] No such file or directory: 'company\\\\WETZEL S\\\\A\\\\WETZEL S\\\\A - 01 - Ativo Total - A - Linha do Tempo.png'\n",
      "[Errno 2] No such file or directory: 'company\\\\WETZEL S\\\\A\\\\WETZEL S\\\\A - 01 - Ativo Total - B - Média Móvel e ±2 Desvios Padrão.png'\n",
      "[Errno 2] No such file or directory: 'company\\\\WETZEL S\\\\A\\\\WETZEL S\\\\A - 01 - Ativo Total - C - Distribuição Individual.png'\n",
      "[Errno 2] No such file or directory: 'company\\\\WETZEL S\\\\A\\\\WETZEL S\\\\A - 01 - Ativo Total - D - Distribuição Acumulada.png'\n",
      "[Errno 2] No such file or directory: 'company\\\\WETZEL S\\\\A\\\\WETZEL S\\\\A - 01 - Ativo Total - E - Distribuição Proporcional.png'\n",
      "WETZEL S/A 01 - Ativo Total 100.00% 1+0, 11.471772s per item, Remaining: 0h 00m 00s\n",
      "\n",
      "WETZEL S/A 97.26% 71+2, 5.447995s per item, Remaining: 0h 00m 10s\n",
      "WILSON SONS 01 - Ativo Total 100.00% 1+0, 1.392002s per item, Remaining: 0h 00m 00s\n",
      "\n",
      "WILSON SONS 98.63% 72+1, 5.391662s per item, Remaining: 0h 00m 05s\n",
      "WLM IND COM 01 - Ativo Total 100.00% 1+0, 7.726001s per item, Remaining: 0h 00m 00s\n",
      "\n",
      "WLM IND COM 100.00% 73+0, 5.423653s per item, Remaining: 0h 00m 00s\n"
     ]
    }
   ],
   "source": [
    "import os\n",
    "\n",
    "# Directory to store all figures\n",
    "base_dir = './company/'\n",
    "\n",
    "start_time = run.time.time()\n",
    "for i1, (company, col_figs) in enumerate(all_figs.items()):\n",
    "    path = os.path.join(base_dir, company)\n",
    "    \n",
    "    # Create company directory if it doesn't exist\n",
    "    if not os.path.exists(path):\n",
    "        os.makedirs(path)\n",
    "\n",
    "    start_time_2 = run.time.time()\n",
    "    for i2, (col, figs) in enumerate(col_figs.items()):\n",
    "        # path = os.path.join(path, col)\n",
    "        \n",
    "        # # Create column directory if it doesn't exist\n",
    "        # if not os.path.exists(path):\n",
    "        #     os.makedirs(path)\n",
    "        \n",
    "        start_time_3 = run.time.time()\n",
    "        for i3, (title, fig) in enumerate(figs.items()):\n",
    "            try:\n",
    "                file_name = f'{company} - {col} - {title}.png'\n",
    "                file_path = os.path.join(path, file_name)\n",
    "                fig.write_image(file_path)\n",
    "                # fig.show()\n",
    "                # print(company, col, title, run.remaining_time(start_time_3, len(figs), i3))\n",
    "            except Exception as e:\n",
    "                print(e)\n",
    "                pass\n",
    "\n",
    "        print(company, col, run.remaining_time(start_time_2, len(col_figs), i2))\n",
    "\n",
    "    print()\n",
    "    print(company, run.remaining_time(start_time, len(all_figs), i1))\n"
   ]
  }
 ],
 "metadata": {
  "kernelspec": {
   "display_name": ".venv",
   "language": "python",
   "name": "python3"
  },
  "language_info": {
   "codemirror_mode": {
    "name": "ipython",
    "version": 3
   },
   "file_extension": ".py",
   "mimetype": "text/x-python",
   "name": "python",
   "nbconvert_exporter": "python",
   "pygments_lexer": "ipython3",
   "version": "3.10.6"
  },
  "orig_nbformat": 4
 },
 "nbformat": 4,
 "nbformat_minor": 2
}
